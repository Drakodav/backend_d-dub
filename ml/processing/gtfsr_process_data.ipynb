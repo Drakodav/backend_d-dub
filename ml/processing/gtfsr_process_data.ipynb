{
 "metadata": {
  "language_info": {
   "codemirror_mode": {
    "name": "ipython",
    "version": 3
   },
   "file_extension": ".py",
   "mimetype": "text/x-python",
   "name": "python",
   "nbconvert_exporter": "python",
   "pygments_lexer": "ipython3",
   "version": "3.8.0-final"
  },
  "orig_nbformat": 2,
  "kernelspec": {
   "name": "denv",
   "display_name": "denv",
   "language": "python"
  }
 },
 "nbformat": 4,
 "nbformat_minor": 2,
 "cells": [
  {
   "cell_type": "code",
   "execution_count": 1,
   "metadata": {},
   "outputs": [],
   "source": [
    "%matplotlib inline\n",
    "\n",
    "import os\n",
    "import numpy as np\n",
    "import pandas as pd\n",
    "from pathlib import Path\n",
    "import matplotlib.pyplot as plt\n",
    "import seaborn as sns\n",
    "import zipfile\n",
    "from google.transit import gtfs_realtime_pb2\n",
    "from google.protobuf.json_format import Parse, MessageToJson\n",
    "import json\n",
    "import psycopg2\n",
    "import time\n",
    "from django.contrib.gis.geos import Point, fromstr, GEOSGeometry\n",
    "from datetime import datetime\n",
    "import geopandas as gpd\n",
    "import rtree\n",
    "import vaex\n",
    "import vaex.ml\n",
    "from joblib import delayed, Parallel, load, parallel_backend\n",
    "# from haversine import haversine, Unit\n",
    "\n",
    "dir = Path.cwd()\n",
    "outdir = os.path.join(dir, 'output')\n",
    "gtfs_records_zip = os.path.join(dir, 'data', 'GtfsRRecords.zip')\n",
    "gtfs_csv_zip = os.path.join(outdir, 'gtfsr_csv.zip')\n",
    "gtfs_final_csv_path = os.path.join(outdir, 'gtfsr.csv')\n",
    "gtfs_processed_csv_path = os.path.join(outdir, \"gtfsr_processed.csv\")\n",
    "scats = os.path.join(dir, 'output', 'scats_model.json')\n"
   ]
  },
  {
   "cell_type": "code",
   "execution_count": 2,
   "metadata": {},
   "outputs": [],
   "source": [
    "# connect to the PostgreSQL server\n",
    "def get_conn():\n",
    "    return psycopg2.connect(host=\"localhost\", port=\"25432\", database=\"gis\", user=\"docker\", password=\"docker\")"
   ]
  },
  {
   "cell_type": "code",
   "execution_count": 3,
   "metadata": {},
   "outputs": [
    {
     "output_type": "execute_result",
     "data": {
      "text/plain": [
       "                           trip_id  start_date start_time  stop_sequence  \\\n",
       "0        16289.4.60-123-b12-1.71.I    20210119   11:05:00             19   \n",
       "1        16289.4.60-123-b12-1.71.I    20210119   11:05:00              3   \n",
       "2        16289.4.60-123-b12-1.71.I    20210119   11:05:00              5   \n",
       "3        16289.4.60-123-b12-1.71.I    20210119   11:05:00             17   \n",
       "4        17148.4.60-40-b12-1.209.I    20210118   15:40:00             83   \n",
       "...                            ...         ...        ...            ...   \n",
       "1331935  17281.4.60-44-b12-1.244.I    20210118   09:00:00              2   \n",
       "1331936  17281.4.60-44-b12-1.244.I    20210118   09:00:00             35   \n",
       "1331937  17281.4.60-44-b12-1.244.I    20210118   09:00:00              3   \n",
       "1331938  17026.4.60-40-b12-1.209.I    20210119   16:00:00              2   \n",
       "1331939  17026.4.60-40-b12-1.209.I    20210119   16:00:00             74   \n",
       "\n",
       "         departure  arrival            timestamp       stop_id  \n",
       "0           -14640   -14640  2021-01-19 10:50:00  8220DB001278  \n",
       "1           -14640   -14640  2021-01-19 10:50:00  8220DB001493  \n",
       "2           -14580   -14580  2021-01-19 10:50:00  8220DB001494  \n",
       "3           -14580   -14580  2021-01-19 10:50:00  8220DB000272  \n",
       "4                0   -14580  2021-01-18 15:39:01  8240DB006348  \n",
       "...            ...      ...                  ...           ...  \n",
       "1331935       5460     5460  2021-01-18 10:34:03  8350DB004114  \n",
       "1331936       5460     5460  2021-01-18 11:04:05  8250DB002892  \n",
       "1331937       5520     5520  2021-01-18 11:04:05  8350DB004115  \n",
       "1331938       6660     6660  2021-01-19 18:07:16  8230DB004688  \n",
       "1331939       6660     6660  2021-01-19 18:07:16  8220DB007661  \n",
       "\n",
       "[1331940 rows x 8 columns]"
      ],
      "text/html": "<div>\n<style scoped>\n    .dataframe tbody tr th:only-of-type {\n        vertical-align: middle;\n    }\n\n    .dataframe tbody tr th {\n        vertical-align: top;\n    }\n\n    .dataframe thead th {\n        text-align: right;\n    }\n</style>\n<table border=\"1\" class=\"dataframe\">\n  <thead>\n    <tr style=\"text-align: right;\">\n      <th></th>\n      <th>trip_id</th>\n      <th>start_date</th>\n      <th>start_time</th>\n      <th>stop_sequence</th>\n      <th>departure</th>\n      <th>arrival</th>\n      <th>timestamp</th>\n      <th>stop_id</th>\n    </tr>\n  </thead>\n  <tbody>\n    <tr>\n      <th>0</th>\n      <td>16289.4.60-123-b12-1.71.I</td>\n      <td>20210119</td>\n      <td>11:05:00</td>\n      <td>19</td>\n      <td>-14640</td>\n      <td>-14640</td>\n      <td>2021-01-19 10:50:00</td>\n      <td>8220DB001278</td>\n    </tr>\n    <tr>\n      <th>1</th>\n      <td>16289.4.60-123-b12-1.71.I</td>\n      <td>20210119</td>\n      <td>11:05:00</td>\n      <td>3</td>\n      <td>-14640</td>\n      <td>-14640</td>\n      <td>2021-01-19 10:50:00</td>\n      <td>8220DB001493</td>\n    </tr>\n    <tr>\n      <th>2</th>\n      <td>16289.4.60-123-b12-1.71.I</td>\n      <td>20210119</td>\n      <td>11:05:00</td>\n      <td>5</td>\n      <td>-14580</td>\n      <td>-14580</td>\n      <td>2021-01-19 10:50:00</td>\n      <td>8220DB001494</td>\n    </tr>\n    <tr>\n      <th>3</th>\n      <td>16289.4.60-123-b12-1.71.I</td>\n      <td>20210119</td>\n      <td>11:05:00</td>\n      <td>17</td>\n      <td>-14580</td>\n      <td>-14580</td>\n      <td>2021-01-19 10:50:00</td>\n      <td>8220DB000272</td>\n    </tr>\n    <tr>\n      <th>4</th>\n      <td>17148.4.60-40-b12-1.209.I</td>\n      <td>20210118</td>\n      <td>15:40:00</td>\n      <td>83</td>\n      <td>0</td>\n      <td>-14580</td>\n      <td>2021-01-18 15:39:01</td>\n      <td>8240DB006348</td>\n    </tr>\n    <tr>\n      <th>...</th>\n      <td>...</td>\n      <td>...</td>\n      <td>...</td>\n      <td>...</td>\n      <td>...</td>\n      <td>...</td>\n      <td>...</td>\n      <td>...</td>\n    </tr>\n    <tr>\n      <th>1331935</th>\n      <td>17281.4.60-44-b12-1.244.I</td>\n      <td>20210118</td>\n      <td>09:00:00</td>\n      <td>2</td>\n      <td>5460</td>\n      <td>5460</td>\n      <td>2021-01-18 10:34:03</td>\n      <td>8350DB004114</td>\n    </tr>\n    <tr>\n      <th>1331936</th>\n      <td>17281.4.60-44-b12-1.244.I</td>\n      <td>20210118</td>\n      <td>09:00:00</td>\n      <td>35</td>\n      <td>5460</td>\n      <td>5460</td>\n      <td>2021-01-18 11:04:05</td>\n      <td>8250DB002892</td>\n    </tr>\n    <tr>\n      <th>1331937</th>\n      <td>17281.4.60-44-b12-1.244.I</td>\n      <td>20210118</td>\n      <td>09:00:00</td>\n      <td>3</td>\n      <td>5520</td>\n      <td>5520</td>\n      <td>2021-01-18 11:04:05</td>\n      <td>8350DB004115</td>\n    </tr>\n    <tr>\n      <th>1331938</th>\n      <td>17026.4.60-40-b12-1.209.I</td>\n      <td>20210119</td>\n      <td>16:00:00</td>\n      <td>2</td>\n      <td>6660</td>\n      <td>6660</td>\n      <td>2021-01-19 18:07:16</td>\n      <td>8230DB004688</td>\n    </tr>\n    <tr>\n      <th>1331939</th>\n      <td>17026.4.60-40-b12-1.209.I</td>\n      <td>20210119</td>\n      <td>16:00:00</td>\n      <td>74</td>\n      <td>6660</td>\n      <td>6660</td>\n      <td>2021-01-19 18:07:16</td>\n      <td>8220DB007661</td>\n    </tr>\n  </tbody>\n</table>\n<p>1331940 rows × 8 columns</p>\n</div>"
     },
     "metadata": {},
     "execution_count": 3
    }
   ],
   "source": [
    "df = pd.read_csv(gtfs_final_csv_path)\n",
    "df"
   ]
  },
  {
   "cell_type": "code",
   "execution_count": 3,
   "metadata": {},
   "outputs": [
    {
     "output_type": "execute_result",
     "data": {
      "text/plain": [
       "                 stop_id       lat        lon\n",
       "0           8220DB000002 -6.263723  53.352244\n",
       "1           8220DB000003 -6.263811  53.352309\n",
       "2           8220DB000004 -6.264175  53.352575\n",
       "3           8220DB000006 -6.264454  53.352749\n",
       "4           8220DB000007 -6.264570  53.352841\n",
       "...                  ...       ...        ...\n",
       "4706        8350DB007462 -6.062480  53.128801\n",
       "4707        8350DB007522 -6.118873  53.188131\n",
       "4708        8350DB007574 -6.130064  53.182348\n",
       "4709         8350GD10395 -6.170880  53.192599\n",
       "4710  gen:57102:8223:0:1 -6.239062  53.471172\n",
       "\n",
       "[4711 rows x 3 columns]"
      ],
      "text/html": "<div>\n<style scoped>\n    .dataframe tbody tr th:only-of-type {\n        vertical-align: middle;\n    }\n\n    .dataframe tbody tr th {\n        vertical-align: top;\n    }\n\n    .dataframe thead th {\n        text-align: right;\n    }\n</style>\n<table border=\"1\" class=\"dataframe\">\n  <thead>\n    <tr style=\"text-align: right;\">\n      <th></th>\n      <th>stop_id</th>\n      <th>lat</th>\n      <th>lon</th>\n    </tr>\n  </thead>\n  <tbody>\n    <tr>\n      <th>0</th>\n      <td>8220DB000002</td>\n      <td>-6.263723</td>\n      <td>53.352244</td>\n    </tr>\n    <tr>\n      <th>1</th>\n      <td>8220DB000003</td>\n      <td>-6.263811</td>\n      <td>53.352309</td>\n    </tr>\n    <tr>\n      <th>2</th>\n      <td>8220DB000004</td>\n      <td>-6.264175</td>\n      <td>53.352575</td>\n    </tr>\n    <tr>\n      <th>3</th>\n      <td>8220DB000006</td>\n      <td>-6.264454</td>\n      <td>53.352749</td>\n    </tr>\n    <tr>\n      <th>4</th>\n      <td>8220DB000007</td>\n      <td>-6.264570</td>\n      <td>53.352841</td>\n    </tr>\n    <tr>\n      <th>...</th>\n      <td>...</td>\n      <td>...</td>\n      <td>...</td>\n    </tr>\n    <tr>\n      <th>4706</th>\n      <td>8350DB007462</td>\n      <td>-6.062480</td>\n      <td>53.128801</td>\n    </tr>\n    <tr>\n      <th>4707</th>\n      <td>8350DB007522</td>\n      <td>-6.118873</td>\n      <td>53.188131</td>\n    </tr>\n    <tr>\n      <th>4708</th>\n      <td>8350DB007574</td>\n      <td>-6.130064</td>\n      <td>53.182348</td>\n    </tr>\n    <tr>\n      <th>4709</th>\n      <td>8350GD10395</td>\n      <td>-6.170880</td>\n      <td>53.192599</td>\n    </tr>\n    <tr>\n      <th>4710</th>\n      <td>gen:57102:8223:0:1</td>\n      <td>-6.239062</td>\n      <td>53.471172</td>\n    </tr>\n  </tbody>\n</table>\n<p>4711 rows × 3 columns</p>\n</div>"
     },
     "metadata": {},
     "execution_count": 3
    }
   ],
   "source": [
    "# get all the stop data and add the lat lon columns\n",
    "import geoplot\n",
    "\n",
    "def get_stops_df(conn): \n",
    "    query = \"\"\"select stop_id, point as geom from stop;\"\"\"\n",
    "\n",
    "    gdf = gpd.GeoDataFrame.from_postgis(query, conn())\n",
    "    # geoplot.pointplot(gdf)\n",
    "\n",
    "    gdf['lat'] = gdf.apply(lambda row: row['geom'].x, axis=1)\n",
    "    gdf['lon'] = gdf.apply(lambda row: row['geom'].y, axis=1)\n",
    "\n",
    "    return pd.DataFrame(gdf.drop(columns='geom'))\n",
    "stop_df = get_stops_df(get_conn)\n",
    "stop_df"
   ]
  },
  {
   "cell_type": "code",
   "execution_count": 5,
   "metadata": {},
   "outputs": [
    {
     "output_type": "execute_result",
     "data": {
      "text/plain": [
       "                     trip_id  start_date start_time  stop_sequence  departure  \\\n",
       "0  16289.4.60-123-b12-1.71.I    20210119   11:05:00             19     -14640   \n",
       "1  16287.4.60-123-b12-1.71.I    20210119   09:00:00             19      -8280   \n",
       "2  16302.4.60-123-b12-1.71.I    20210119   09:15:00             19      -5700   \n",
       "3  16316.4.60-123-b12-1.71.I    20210118   08:15:00             19      -3900   \n",
       "4   1041.1.60-122-b12-1.65.O    20210114   14:00:00             23       -660   \n",
       "\n",
       "   arrival            timestamp       stop_id     lat        lon  \n",
       "0   -14640  2021-01-19 10:50:00  8220DB001278 -6.2613  53.344237  \n",
       "1    -8280  2021-01-19 08:51:57  8220DB001278 -6.2613  53.344237  \n",
       "2    -5700  2021-01-19 09:14:50  8220DB001278 -6.2613  53.344237  \n",
       "3    -3900  2021-01-18 08:02:08  8220DB001278 -6.2613  53.344237  \n",
       "4     -660  2021-01-14 15:00:52  8220DB001278 -6.2613  53.344237  "
      ],
      "text/html": "<div>\n<style scoped>\n    .dataframe tbody tr th:only-of-type {\n        vertical-align: middle;\n    }\n\n    .dataframe tbody tr th {\n        vertical-align: top;\n    }\n\n    .dataframe thead th {\n        text-align: right;\n    }\n</style>\n<table border=\"1\" class=\"dataframe\">\n  <thead>\n    <tr style=\"text-align: right;\">\n      <th></th>\n      <th>trip_id</th>\n      <th>start_date</th>\n      <th>start_time</th>\n      <th>stop_sequence</th>\n      <th>departure</th>\n      <th>arrival</th>\n      <th>timestamp</th>\n      <th>stop_id</th>\n      <th>lat</th>\n      <th>lon</th>\n    </tr>\n  </thead>\n  <tbody>\n    <tr>\n      <th>0</th>\n      <td>16289.4.60-123-b12-1.71.I</td>\n      <td>20210119</td>\n      <td>11:05:00</td>\n      <td>19</td>\n      <td>-14640</td>\n      <td>-14640</td>\n      <td>2021-01-19 10:50:00</td>\n      <td>8220DB001278</td>\n      <td>-6.2613</td>\n      <td>53.344237</td>\n    </tr>\n    <tr>\n      <th>1</th>\n      <td>16287.4.60-123-b12-1.71.I</td>\n      <td>20210119</td>\n      <td>09:00:00</td>\n      <td>19</td>\n      <td>-8280</td>\n      <td>-8280</td>\n      <td>2021-01-19 08:51:57</td>\n      <td>8220DB001278</td>\n      <td>-6.2613</td>\n      <td>53.344237</td>\n    </tr>\n    <tr>\n      <th>2</th>\n      <td>16302.4.60-123-b12-1.71.I</td>\n      <td>20210119</td>\n      <td>09:15:00</td>\n      <td>19</td>\n      <td>-5700</td>\n      <td>-5700</td>\n      <td>2021-01-19 09:14:50</td>\n      <td>8220DB001278</td>\n      <td>-6.2613</td>\n      <td>53.344237</td>\n    </tr>\n    <tr>\n      <th>3</th>\n      <td>16316.4.60-123-b12-1.71.I</td>\n      <td>20210118</td>\n      <td>08:15:00</td>\n      <td>19</td>\n      <td>-3900</td>\n      <td>-3900</td>\n      <td>2021-01-18 08:02:08</td>\n      <td>8220DB001278</td>\n      <td>-6.2613</td>\n      <td>53.344237</td>\n    </tr>\n    <tr>\n      <th>4</th>\n      <td>1041.1.60-122-b12-1.65.O</td>\n      <td>20210114</td>\n      <td>14:00:00</td>\n      <td>23</td>\n      <td>-660</td>\n      <td>-660</td>\n      <td>2021-01-14 15:00:52</td>\n      <td>8220DB001278</td>\n      <td>-6.2613</td>\n      <td>53.344237</td>\n    </tr>\n  </tbody>\n</table>\n</div>"
     },
     "metadata": {},
     "execution_count": 5
    }
   ],
   "source": [
    "df = df.merge(stop_df, on='stop_id')\n",
    "df.head()"
   ]
  },
  {
   "cell_type": "code",
   "execution_count": 6,
   "metadata": {},
   "outputs": [
    {
     "output_type": "execute_result",
     "data": {
      "text/plain": [
       "array(['16289.4.60-123-b12-1.71.I', '16287.4.60-123-b12-1.71.I',\n",
       "       '16302.4.60-123-b12-1.71.I', ..., '2926.1.60-56A-b12-1.52.I',\n",
       "       '7046.2.60-65-b12-1.274.I', '3400.1.60-46A-b12-1.251.I'],\n",
       "      dtype=object)"
      ]
     },
     "metadata": {},
     "execution_count": 6
    }
   ],
   "source": [
    "gb_trip = df['trip_id'].unique()\n",
    "gb_trip"
   ]
  },
  {
   "cell_type": "code",
   "execution_count": 4,
   "metadata": {},
   "outputs": [
    {
     "output_type": "execute_result",
     "data": {
      "text/plain": [
       "   arrival_time  departure_time  stop_sequence  shape_dist_traveled  \\\n",
       "0         28800           28800              1                 0.00   \n",
       "1         28920           28920              2               850.70   \n",
       "2         28920           28920              3              1160.00   \n",
       "3         28980           28980              4              1359.45   \n",
       "4         29040           29040              5              1756.59   \n",
       "\n",
       "                       trip_id  \n",
       "0  7218.10455.2-104-gad-1.83.O  \n",
       "1  7218.10455.2-104-gad-1.83.O  \n",
       "2  7218.10455.2-104-gad-1.83.O  \n",
       "3  7218.10455.2-104-gad-1.83.O  \n",
       "4  7218.10455.2-104-gad-1.83.O  "
      ],
      "text/html": "<div>\n<style scoped>\n    .dataframe tbody tr th:only-of-type {\n        vertical-align: middle;\n    }\n\n    .dataframe tbody tr th {\n        vertical-align: top;\n    }\n\n    .dataframe thead th {\n        text-align: right;\n    }\n</style>\n<table border=\"1\" class=\"dataframe\">\n  <thead>\n    <tr style=\"text-align: right;\">\n      <th></th>\n      <th>arrival_time</th>\n      <th>departure_time</th>\n      <th>stop_sequence</th>\n      <th>shape_dist_traveled</th>\n      <th>trip_id</th>\n    </tr>\n  </thead>\n  <tbody>\n    <tr>\n      <th>0</th>\n      <td>28800</td>\n      <td>28800</td>\n      <td>1</td>\n      <td>0.00</td>\n      <td>7218.10455.2-104-gad-1.83.O</td>\n    </tr>\n    <tr>\n      <th>1</th>\n      <td>28920</td>\n      <td>28920</td>\n      <td>2</td>\n      <td>850.70</td>\n      <td>7218.10455.2-104-gad-1.83.O</td>\n    </tr>\n    <tr>\n      <th>2</th>\n      <td>28920</td>\n      <td>28920</td>\n      <td>3</td>\n      <td>1160.00</td>\n      <td>7218.10455.2-104-gad-1.83.O</td>\n    </tr>\n    <tr>\n      <th>3</th>\n      <td>28980</td>\n      <td>28980</td>\n      <td>4</td>\n      <td>1359.45</td>\n      <td>7218.10455.2-104-gad-1.83.O</td>\n    </tr>\n    <tr>\n      <th>4</th>\n      <td>29040</td>\n      <td>29040</td>\n      <td>5</td>\n      <td>1756.59</td>\n      <td>7218.10455.2-104-gad-1.83.O</td>\n    </tr>\n  </tbody>\n</table>\n</div>"
     },
     "metadata": {},
     "execution_count": 4
    }
   ],
   "source": [
    "# get all the stop data and add the lat lon columns\n",
    "def get_stop_time_df(trip_id, conn): \n",
    "    query = \"\"\"\n",
    "    select stop_time.arrival_time, stop_time.departure_time, \n",
    "        stop_time.stop_sequence, stop_time.shape_dist_traveled\n",
    "    from stop_time\n",
    "    join trip on trip.id = stop_time.trip_id\n",
    "    where trip.trip_id = '{}'\n",
    "    group by stop_time.id\n",
    "    order by stop_sequence\n",
    "    ;\n",
    "    \"\"\".format(trip_id).lstrip()\n",
    "    df = pd.read_sql_query(query, conn())\n",
    "    df['trip_id'] = trip_id\n",
    "    return df\n",
    "\n",
    "stop_time_df = get_stop_time_df('7218.10455.2-104-gad-1.83.O', get_conn)\n",
    "stop_time_df.head()"
   ]
  },
  {
   "cell_type": "code",
   "execution_count": 8,
   "metadata": {},
   "outputs": [],
   "source": [
    "# get a df with all the stop_time for that trip\n",
    "delayed_funcs = [delayed(get_stop_time_df)(t_id, get_conn) for t_id in gb_trip]\n",
    "parallel_pool = Parallel(n_jobs=8)\n",
    "res = parallel_pool(delayed_funcs)"
   ]
  },
  {
   "cell_type": "code",
   "execution_count": 9,
   "metadata": {},
   "outputs": [
    {
     "output_type": "execute_result",
     "data": {
      "text/plain": [
       "    arrival_time  departure_time  stop_sequence  shape_dist_traveled  \\\n",
       "0          32400           32400              1                 0.00   \n",
       "1          32453           32453              2               377.15   \n",
       "2          32482           32482              3               583.63   \n",
       "3          32497           32497              4               683.71   \n",
       "4          32542           32542              5               853.23   \n",
       "..           ...             ...            ...                  ...   \n",
       "11         22704           22704             12              3277.51   \n",
       "12         22737           22737             13              3545.63   \n",
       "13         22757           22757             14              3705.21   \n",
       "14         22806           22806             15              4098.78   \n",
       "15         22953           22953             18              5298.29   \n",
       "\n",
       "                      trip_id  \n",
       "0   16289.4.60-123-b12-1.71.I  \n",
       "1   16289.4.60-123-b12-1.71.I  \n",
       "2   16289.4.60-123-b12-1.71.I  \n",
       "3   16289.4.60-123-b12-1.71.I  \n",
       "4   16289.4.60-123-b12-1.71.I  \n",
       "..                        ...  \n",
       "11  3400.1.60-46A-b12-1.251.I  \n",
       "12  3400.1.60-46A-b12-1.251.I  \n",
       "13  3400.1.60-46A-b12-1.251.I  \n",
       "14  3400.1.60-46A-b12-1.251.I  \n",
       "15  3400.1.60-46A-b12-1.251.I  \n",
       "\n",
       "[1315888 rows x 5 columns]"
      ],
      "text/html": "<div>\n<style scoped>\n    .dataframe tbody tr th:only-of-type {\n        vertical-align: middle;\n    }\n\n    .dataframe tbody tr th {\n        vertical-align: top;\n    }\n\n    .dataframe thead th {\n        text-align: right;\n    }\n</style>\n<table border=\"1\" class=\"dataframe\">\n  <thead>\n    <tr style=\"text-align: right;\">\n      <th></th>\n      <th>arrival_time</th>\n      <th>departure_time</th>\n      <th>stop_sequence</th>\n      <th>shape_dist_traveled</th>\n      <th>trip_id</th>\n    </tr>\n  </thead>\n  <tbody>\n    <tr>\n      <th>0</th>\n      <td>32400</td>\n      <td>32400</td>\n      <td>1</td>\n      <td>0.00</td>\n      <td>16289.4.60-123-b12-1.71.I</td>\n    </tr>\n    <tr>\n      <th>1</th>\n      <td>32453</td>\n      <td>32453</td>\n      <td>2</td>\n      <td>377.15</td>\n      <td>16289.4.60-123-b12-1.71.I</td>\n    </tr>\n    <tr>\n      <th>2</th>\n      <td>32482</td>\n      <td>32482</td>\n      <td>3</td>\n      <td>583.63</td>\n      <td>16289.4.60-123-b12-1.71.I</td>\n    </tr>\n    <tr>\n      <th>3</th>\n      <td>32497</td>\n      <td>32497</td>\n      <td>4</td>\n      <td>683.71</td>\n      <td>16289.4.60-123-b12-1.71.I</td>\n    </tr>\n    <tr>\n      <th>4</th>\n      <td>32542</td>\n      <td>32542</td>\n      <td>5</td>\n      <td>853.23</td>\n      <td>16289.4.60-123-b12-1.71.I</td>\n    </tr>\n    <tr>\n      <th>...</th>\n      <td>...</td>\n      <td>...</td>\n      <td>...</td>\n      <td>...</td>\n      <td>...</td>\n    </tr>\n    <tr>\n      <th>11</th>\n      <td>22704</td>\n      <td>22704</td>\n      <td>12</td>\n      <td>3277.51</td>\n      <td>3400.1.60-46A-b12-1.251.I</td>\n    </tr>\n    <tr>\n      <th>12</th>\n      <td>22737</td>\n      <td>22737</td>\n      <td>13</td>\n      <td>3545.63</td>\n      <td>3400.1.60-46A-b12-1.251.I</td>\n    </tr>\n    <tr>\n      <th>13</th>\n      <td>22757</td>\n      <td>22757</td>\n      <td>14</td>\n      <td>3705.21</td>\n      <td>3400.1.60-46A-b12-1.251.I</td>\n    </tr>\n    <tr>\n      <th>14</th>\n      <td>22806</td>\n      <td>22806</td>\n      <td>15</td>\n      <td>4098.78</td>\n      <td>3400.1.60-46A-b12-1.251.I</td>\n    </tr>\n    <tr>\n      <th>15</th>\n      <td>22953</td>\n      <td>22953</td>\n      <td>18</td>\n      <td>5298.29</td>\n      <td>3400.1.60-46A-b12-1.251.I</td>\n    </tr>\n  </tbody>\n</table>\n<p>1315888 rows × 5 columns</p>\n</div>"
     },
     "metadata": {},
     "execution_count": 9
    }
   ],
   "source": [
    "pd.concat(res)"
   ]
  },
  {
   "cell_type": "code",
   "execution_count": 33,
   "metadata": {},
   "outputs": [
    {
     "output_type": "execute_result",
     "data": {
      "text/plain": [
       "                           trip_id  start_date start_time  stop_sequence  \\\n",
       "0        16289.4.60-123-b12-1.71.I    20210119   11:05:00             19   \n",
       "1        16287.4.60-123-b12-1.71.I    20210119   09:00:00             19   \n",
       "2        16302.4.60-123-b12-1.71.I    20210119   09:15:00             19   \n",
       "3        16316.4.60-123-b12-1.71.I    20210118   08:15:00             19   \n",
       "4         1041.1.60-122-b12-1.65.O    20210114   14:00:00             23   \n",
       "...                            ...         ...        ...            ...   \n",
       "1331935  12475.3.60-31-b12-1.161.O    20210131   23:15:00             54   \n",
       "1331936  12333.3.60-65-b12-1.272.I    20210124   22:00:00             16   \n",
       "1331937  12304.3.60-65-b12-1.269.O    20210131   21:30:00             69   \n",
       "1331938  16460.4.60-65-b12-1.271.O    20210120   18:30:00             70   \n",
       "1331939    6322.1.60-13-b12-1.26.O    20210114   18:30:00             90   \n",
       "\n",
       "         departure  arrival            timestamp       stop_id       lat  \\\n",
       "0           -14640   -14640  2021-01-19 10:50:00  8220DB001278 -6.261300   \n",
       "1            -8280    -8280  2021-01-19 08:51:57  8220DB001278 -6.261300   \n",
       "2            -5700    -5700  2021-01-19 09:14:50  8220DB001278 -6.261300   \n",
       "3            -3900    -3900  2021-01-18 08:02:08  8220DB001278 -6.261300   \n",
       "4             -660     -660  2021-01-14 15:00:52  8220DB001278 -6.261300   \n",
       "...            ...      ...                  ...           ...       ...   \n",
       "1331935        300      300  2021-01-31 23:53:38  8240DB000707 -6.058650   \n",
       "1331936        360      360  2021-01-24 22:20:43  8350DB004102 -6.515616   \n",
       "1331937        360      360  2021-01-31 22:26:53  8350DB004100 -6.515426   \n",
       "1331938        480      480  2021-01-20 19:45:43  8350DB004021 -6.518851   \n",
       "1331939       1140     1140  2021-01-14 20:12:14  8230DB007230 -6.453779   \n",
       "\n",
       "               lon  arrival_time  departure_time  shape_dist_traveled  \n",
       "0        53.344237       33569.0         33569.0              5330.51  \n",
       "1        53.344237       26392.0         26392.0              5330.51  \n",
       "2        53.344237       27292.0         27292.0              5330.51  \n",
       "3        53.344237       83167.0         83167.0              5330.51  \n",
       "4        53.344237       52649.0         52649.0              7800.24  \n",
       "...            ...           ...             ...                  ...  \n",
       "1331935  53.372490       85451.0         85451.0             17080.81  \n",
       "1331936  53.188873       79929.0         79929.0             11038.61  \n",
       "1331937  53.188736       80104.0         80104.0             28862.93  \n",
       "1331938  53.186181       59573.0         59573.0             29226.91  \n",
       "1331939  53.322376       71438.0         71438.0             35107.12  \n",
       "\n",
       "[1331940 rows x 13 columns]"
      ],
      "text/html": "<div>\n<style scoped>\n    .dataframe tbody tr th:only-of-type {\n        vertical-align: middle;\n    }\n\n    .dataframe tbody tr th {\n        vertical-align: top;\n    }\n\n    .dataframe thead th {\n        text-align: right;\n    }\n</style>\n<table border=\"1\" class=\"dataframe\">\n  <thead>\n    <tr style=\"text-align: right;\">\n      <th></th>\n      <th>trip_id</th>\n      <th>start_date</th>\n      <th>start_time</th>\n      <th>stop_sequence</th>\n      <th>departure</th>\n      <th>arrival</th>\n      <th>timestamp</th>\n      <th>stop_id</th>\n      <th>lat</th>\n      <th>lon</th>\n      <th>arrival_time</th>\n      <th>departure_time</th>\n      <th>shape_dist_traveled</th>\n    </tr>\n  </thead>\n  <tbody>\n    <tr>\n      <th>0</th>\n      <td>16289.4.60-123-b12-1.71.I</td>\n      <td>20210119</td>\n      <td>11:05:00</td>\n      <td>19</td>\n      <td>-14640</td>\n      <td>-14640</td>\n      <td>2021-01-19 10:50:00</td>\n      <td>8220DB001278</td>\n      <td>-6.261300</td>\n      <td>53.344237</td>\n      <td>33569.0</td>\n      <td>33569.0</td>\n      <td>5330.51</td>\n    </tr>\n    <tr>\n      <th>1</th>\n      <td>16287.4.60-123-b12-1.71.I</td>\n      <td>20210119</td>\n      <td>09:00:00</td>\n      <td>19</td>\n      <td>-8280</td>\n      <td>-8280</td>\n      <td>2021-01-19 08:51:57</td>\n      <td>8220DB001278</td>\n      <td>-6.261300</td>\n      <td>53.344237</td>\n      <td>26392.0</td>\n      <td>26392.0</td>\n      <td>5330.51</td>\n    </tr>\n    <tr>\n      <th>2</th>\n      <td>16302.4.60-123-b12-1.71.I</td>\n      <td>20210119</td>\n      <td>09:15:00</td>\n      <td>19</td>\n      <td>-5700</td>\n      <td>-5700</td>\n      <td>2021-01-19 09:14:50</td>\n      <td>8220DB001278</td>\n      <td>-6.261300</td>\n      <td>53.344237</td>\n      <td>27292.0</td>\n      <td>27292.0</td>\n      <td>5330.51</td>\n    </tr>\n    <tr>\n      <th>3</th>\n      <td>16316.4.60-123-b12-1.71.I</td>\n      <td>20210118</td>\n      <td>08:15:00</td>\n      <td>19</td>\n      <td>-3900</td>\n      <td>-3900</td>\n      <td>2021-01-18 08:02:08</td>\n      <td>8220DB001278</td>\n      <td>-6.261300</td>\n      <td>53.344237</td>\n      <td>83167.0</td>\n      <td>83167.0</td>\n      <td>5330.51</td>\n    </tr>\n    <tr>\n      <th>4</th>\n      <td>1041.1.60-122-b12-1.65.O</td>\n      <td>20210114</td>\n      <td>14:00:00</td>\n      <td>23</td>\n      <td>-660</td>\n      <td>-660</td>\n      <td>2021-01-14 15:00:52</td>\n      <td>8220DB001278</td>\n      <td>-6.261300</td>\n      <td>53.344237</td>\n      <td>52649.0</td>\n      <td>52649.0</td>\n      <td>7800.24</td>\n    </tr>\n    <tr>\n      <th>...</th>\n      <td>...</td>\n      <td>...</td>\n      <td>...</td>\n      <td>...</td>\n      <td>...</td>\n      <td>...</td>\n      <td>...</td>\n      <td>...</td>\n      <td>...</td>\n      <td>...</td>\n      <td>...</td>\n      <td>...</td>\n      <td>...</td>\n    </tr>\n    <tr>\n      <th>1331935</th>\n      <td>12475.3.60-31-b12-1.161.O</td>\n      <td>20210131</td>\n      <td>23:15:00</td>\n      <td>54</td>\n      <td>300</td>\n      <td>300</td>\n      <td>2021-01-31 23:53:38</td>\n      <td>8240DB000707</td>\n      <td>-6.058650</td>\n      <td>53.372490</td>\n      <td>85451.0</td>\n      <td>85451.0</td>\n      <td>17080.81</td>\n    </tr>\n    <tr>\n      <th>1331936</th>\n      <td>12333.3.60-65-b12-1.272.I</td>\n      <td>20210124</td>\n      <td>22:00:00</td>\n      <td>16</td>\n      <td>360</td>\n      <td>360</td>\n      <td>2021-01-24 22:20:43</td>\n      <td>8350DB004102</td>\n      <td>-6.515616</td>\n      <td>53.188873</td>\n      <td>79929.0</td>\n      <td>79929.0</td>\n      <td>11038.61</td>\n    </tr>\n    <tr>\n      <th>1331937</th>\n      <td>12304.3.60-65-b12-1.269.O</td>\n      <td>20210131</td>\n      <td>21:30:00</td>\n      <td>69</td>\n      <td>360</td>\n      <td>360</td>\n      <td>2021-01-31 22:26:53</td>\n      <td>8350DB004100</td>\n      <td>-6.515426</td>\n      <td>53.188736</td>\n      <td>80104.0</td>\n      <td>80104.0</td>\n      <td>28862.93</td>\n    </tr>\n    <tr>\n      <th>1331938</th>\n      <td>16460.4.60-65-b12-1.271.O</td>\n      <td>20210120</td>\n      <td>18:30:00</td>\n      <td>70</td>\n      <td>480</td>\n      <td>480</td>\n      <td>2021-01-20 19:45:43</td>\n      <td>8350DB004021</td>\n      <td>-6.518851</td>\n      <td>53.186181</td>\n      <td>59573.0</td>\n      <td>59573.0</td>\n      <td>29226.91</td>\n    </tr>\n    <tr>\n      <th>1331939</th>\n      <td>6322.1.60-13-b12-1.26.O</td>\n      <td>20210114</td>\n      <td>18:30:00</td>\n      <td>90</td>\n      <td>1140</td>\n      <td>1140</td>\n      <td>2021-01-14 20:12:14</td>\n      <td>8230DB007230</td>\n      <td>-6.453779</td>\n      <td>53.322376</td>\n      <td>71438.0</td>\n      <td>71438.0</td>\n      <td>35107.12</td>\n    </tr>\n  </tbody>\n</table>\n<p>1331940 rows × 13 columns</p>\n</div>"
     },
     "metadata": {},
     "execution_count": 33
    }
   ],
   "source": [
    "df = df.merge(pd.concat(res), left_on=['trip_id', 'stop_sequence'], right_on=['trip_id', 'stop_sequence'], how='left')\n",
    "df"
   ]
  },
  {
   "cell_type": "code",
   "execution_count": 41,
   "metadata": {},
   "outputs": [],
   "source": [
    "# start = time.time()\n",
    "# with parallel_backend('threading'):\n",
    "#     scats_model = load(scats)\n",
    "\n",
    "# print(time.time()-start)"
   ]
  },
  {
   "cell_type": "code",
   "execution_count": 17,
   "metadata": {},
   "outputs": [],
   "source": [
    "vaex.from_pandas(df).export_hdf5('./output/processing_temp.hdf5')\n",
    "del df\n",
    "import gc\n",
    "gc.collect()"
   ]
  },
  {
   "cell_type": "code",
   "execution_count": 5,
   "metadata": {},
   "outputs": [
    {
     "output_type": "stream",
     "name": "stdout",
     "text": [
      "merged stops, time: 3\n",
      "merged stop times, time: 129\n"
     ]
    }
   ],
   "source": [
    "def add_stop_data(start):\n",
    "    # read csv\n",
    "    df = pd.read_csv(gtfs_final_csv_path)\n",
    "\n",
    "    # get a list of all the stops\n",
    "    stop_df = get_stops_df(get_conn)\n",
    "\n",
    "    # merge the entity stop_id data with the stop lat lon from database\n",
    "    df = pd.merge(df, stop_df, on=[\"stop_id\"])\n",
    "    print(\"merged stops, time: {}\".format(round(time.time() - start)))\n",
    "\n",
    "    # get all the stop_times for each trip in our realtime data\n",
    "    trip_list = df[\"trip_id\"].unique()\n",
    "    delayed_funcs = [delayed(get_stop_time_df)(t_id, get_conn) for t_id in trip_list]\n",
    "\n",
    "    parallel_pool = Parallel(n_jobs=8)\n",
    "    res = parallel_pool(delayed_funcs)\n",
    "\n",
    "    # stop times for each trip dataframe\n",
    "    stop_time_trip_df = pd.concat(res)\n",
    "    df = df.merge(\n",
    "        stop_time_trip_df, left_on=[\"trip_id\", \"stop_sequence\"], right_on=[\"trip_id\", \"stop_sequence\"], how=\"left\"\n",
    "    )\n",
    "    print(\"merged stop times, time: {}\".format(round(time.time() - start)))\n",
    "\n",
    "    # convert to hdf5\n",
    "    vaex.from_pandas(df).export_hdf5(\"./output/processing_temp.hdf5\")\n",
    "add_stop_data(time.time())"
   ]
  },
  {
   "cell_type": "code",
   "execution_count": 2,
   "metadata": {},
   "outputs": [
    {
     "output_type": "execute_result",
     "data": {
      "text/html": "<table>\n<thead>\n<tr><th>#                                    </th><th>trip_id                  </th><th>start_date  </th><th>start_time  </th><th>stop_sequence  </th><th>departure  </th><th>arrival  </th><th>timestamp          </th><th>stop_id     </th><th>lat              </th><th>lon             </th><th>arrival_time  </th><th>departure_time  </th><th>shape_dist_traveled  </th></tr>\n</thead>\n<tbody>\n<tr><td><i style='opacity: 0.6'>0</i>        </td><td>16289.4.60-123-b12-1.71.I</td><td>20210119    </td><td>11:05:00    </td><td>19             </td><td>-14640     </td><td>-14640   </td><td>2021-01-19 10:50:00</td><td>8220DB001278</td><td>-6.26130011810001</td><td>53.3442366224365</td><td>33569.0       </td><td>33569.0         </td><td>5330.51              </td></tr>\n<tr><td><i style='opacity: 0.6'>1</i>        </td><td>16287.4.60-123-b12-1.71.I</td><td>20210119    </td><td>09:00:00    </td><td>19             </td><td>-8280      </td><td>-8280    </td><td>2021-01-19 08:51:57</td><td>8220DB001278</td><td>-6.26130011810001</td><td>53.3442366224365</td><td>26392.0       </td><td>26392.0         </td><td>5330.51              </td></tr>\n<tr><td><i style='opacity: 0.6'>2</i>        </td><td>16302.4.60-123-b12-1.71.I</td><td>20210119    </td><td>09:15:00    </td><td>19             </td><td>-5700      </td><td>-5700    </td><td>2021-01-19 09:14:50</td><td>8220DB001278</td><td>-6.26130011810001</td><td>53.3442366224365</td><td>27292.0       </td><td>27292.0         </td><td>5330.51              </td></tr>\n<tr><td><i style='opacity: 0.6'>3</i>        </td><td>16316.4.60-123-b12-1.71.I</td><td>20210118    </td><td>08:15:00    </td><td>19             </td><td>-3900      </td><td>-3900    </td><td>2021-01-18 08:02:08</td><td>8220DB001278</td><td>-6.26130011810001</td><td>53.3442366224365</td><td>83167.0       </td><td>83167.0         </td><td>5330.51              </td></tr>\n<tr><td><i style='opacity: 0.6'>4</i>        </td><td>1041.1.60-122-b12-1.65.O </td><td>20210114    </td><td>14:00:00    </td><td>23             </td><td>-660       </td><td>-660     </td><td>2021-01-14 15:00:52</td><td>8220DB001278</td><td>-6.26130011810001</td><td>53.3442366224365</td><td>52649.0       </td><td>52649.0         </td><td>7800.24              </td></tr>\n<tr><td>...                                  </td><td>...                      </td><td>...         </td><td>...         </td><td>...            </td><td>...        </td><td>...      </td><td>...                </td><td>...         </td><td>...              </td><td>...             </td><td>...           </td><td>...             </td><td>...                  </td></tr>\n<tr><td><i style='opacity: 0.6'>1,331,935</i></td><td>12475.3.60-31-b12-1.161.O</td><td>20210131    </td><td>23:15:00    </td><td>54             </td><td>300        </td><td>300      </td><td>2021-01-31 23:53:38</td><td>8240DB000707</td><td>-6.05864990209616</td><td>53.3724895313374</td><td>85451.0       </td><td>85451.0         </td><td>17080.81             </td></tr>\n<tr><td><i style='opacity: 0.6'>1,331,936</i></td><td>12333.3.60-65-b12-1.272.I</td><td>20210124    </td><td>22:00:00    </td><td>16             </td><td>360        </td><td>360      </td><td>2021-01-24 22:20:43</td><td>8350DB004102</td><td>-6.51561604212167</td><td>53.1888733556119</td><td>79929.0       </td><td>79929.0         </td><td>11038.61             </td></tr>\n<tr><td><i style='opacity: 0.6'>1,331,937</i></td><td>12304.3.60-65-b12-1.269.O</td><td>20210131    </td><td>21:30:00    </td><td>69             </td><td>360        </td><td>360      </td><td>2021-01-31 22:26:53</td><td>8350DB004100</td><td>-6.51542624487623</td><td>53.188736170197 </td><td>80104.0       </td><td>80104.0         </td><td>28862.93             </td></tr>\n<tr><td><i style='opacity: 0.6'>1,331,938</i></td><td>16460.4.60-65-b12-1.271.O</td><td>20210120    </td><td>18:30:00    </td><td>70             </td><td>480        </td><td>480      </td><td>2021-01-20 19:45:43</td><td>8350DB004021</td><td>-6.51885133635455</td><td>53.1861812708552</td><td>59573.0       </td><td>59573.0         </td><td>29226.91             </td></tr>\n<tr><td><i style='opacity: 0.6'>1,331,939</i></td><td>6322.1.60-13-b12-1.26.O  </td><td>20210114    </td><td>18:30:00    </td><td>90             </td><td>1140       </td><td>1140     </td><td>2021-01-14 20:12:14</td><td>8230DB007230</td><td>-6.4537789442073 </td><td>53.3223763429667</td><td>71438.0       </td><td>71438.0         </td><td>35107.12             </td></tr>\n</tbody>\n</table>",
      "text/plain": [
       "#          trip_id                    start_date    start_time    stop_sequence    departure    arrival    timestamp            stop_id       lat                lon               arrival_time    departure_time    shape_dist_traveled\n",
       "0          16289.4.60-123-b12-1.71.I  20210119      11:05:00      19               -14640       -14640     2021-01-19 10:50:00  8220DB001278  -6.26130011810001  53.3442366224365  33569.0         33569.0           5330.51\n",
       "1          16287.4.60-123-b12-1.71.I  20210119      09:00:00      19               -8280        -8280      2021-01-19 08:51:57  8220DB001278  -6.26130011810001  53.3442366224365  26392.0         26392.0           5330.51\n",
       "2          16302.4.60-123-b12-1.71.I  20210119      09:15:00      19               -5700        -5700      2021-01-19 09:14:50  8220DB001278  -6.26130011810001  53.3442366224365  27292.0         27292.0           5330.51\n",
       "3          16316.4.60-123-b12-1.71.I  20210118      08:15:00      19               -3900        -3900      2021-01-18 08:02:08  8220DB001278  -6.26130011810001  53.3442366224365  83167.0         83167.0           5330.51\n",
       "4          1041.1.60-122-b12-1.65.O   20210114      14:00:00      23               -660         -660       2021-01-14 15:00:52  8220DB001278  -6.26130011810001  53.3442366224365  52649.0         52649.0           7800.24\n",
       "...        ...                        ...           ...           ...              ...          ...        ...                  ...           ...                ...               ...             ...               ...\n",
       "1,331,935  12475.3.60-31-b12-1.161.O  20210131      23:15:00      54               300          300        2021-01-31 23:53:38  8240DB000707  -6.05864990209616  53.3724895313374  85451.0         85451.0           17080.81\n",
       "1,331,936  12333.3.60-65-b12-1.272.I  20210124      22:00:00      16               360          360        2021-01-24 22:20:43  8350DB004102  -6.51561604212167  53.1888733556119  79929.0         79929.0           11038.61\n",
       "1,331,937  12304.3.60-65-b12-1.269.O  20210131      21:30:00      69               360          360        2021-01-31 22:26:53  8350DB004100  -6.51542624487623  53.188736170197   80104.0         80104.0           28862.93\n",
       "1,331,938  16460.4.60-65-b12-1.271.O  20210120      18:30:00      70               480          480        2021-01-20 19:45:43  8350DB004021  -6.51885133635455  53.1861812708552  59573.0         59573.0           29226.91\n",
       "1,331,939  6322.1.60-13-b12-1.26.O    20210114      18:30:00      90               1140         1140       2021-01-14 20:12:14  8230DB007230  -6.4537789442073   53.3223763429667  71438.0         71438.0           35107.12"
      ]
     },
     "metadata": {},
     "execution_count": 2
    }
   ],
   "source": [
    "vx_df = vaex.open('./output/processing_temp.hdf5')\n",
    "vx_df"
   ]
  },
  {
   "cell_type": "code",
   "execution_count": 2,
   "metadata": {},
   "outputs": [],
   "source": [
    "# with parallel_backend(\"threading\"):\n",
    "scats_model = load(scats)"
   ]
  },
  {
   "cell_type": "code",
   "execution_count": 4,
   "metadata": {},
   "outputs": [
    {
     "output_type": "execute_result",
     "data": {
      "text/html": "<table>\n<thead>\n<tr><th>#                                    </th><th>trip_id                  </th><th>start_date  </th><th>start_time  </th><th>stop_sequence  </th><th>departure  </th><th>arrival  </th><th>timestamp          </th><th>stop_id     </th><th>lat              </th><th>lon             </th><th>arrival_time  </th><th>departure_time  </th><th>shape_dist_traveled  </th><th>dow  </th><th>month  </th><th>day  </th><th>hour  </th></tr>\n</thead>\n<tbody>\n<tr><td><i style='opacity: 0.6'>0</i>        </td><td>16289.4.60-123-b12-1.71.I</td><td>20210119    </td><td>11:05:00    </td><td>19             </td><td>-14640     </td><td>-14640   </td><td>2021-01-19 10:50:00</td><td>8220DB001278</td><td>-6.26130011810001</td><td>53.3442366224365</td><td>33569.0       </td><td>33569.0         </td><td>5330.51              </td><td>1    </td><td>1      </td><td>19   </td><td>11    </td></tr>\n<tr><td><i style='opacity: 0.6'>1</i>        </td><td>16287.4.60-123-b12-1.71.I</td><td>20210119    </td><td>09:00:00    </td><td>19             </td><td>-8280      </td><td>-8280    </td><td>2021-01-19 08:51:57</td><td>8220DB001278</td><td>-6.26130011810001</td><td>53.3442366224365</td><td>26392.0       </td><td>26392.0         </td><td>5330.51              </td><td>1    </td><td>1      </td><td>19   </td><td>9     </td></tr>\n<tr><td><i style='opacity: 0.6'>2</i>        </td><td>16302.4.60-123-b12-1.71.I</td><td>20210119    </td><td>09:15:00    </td><td>19             </td><td>-5700      </td><td>-5700    </td><td>2021-01-19 09:14:50</td><td>8220DB001278</td><td>-6.26130011810001</td><td>53.3442366224365</td><td>27292.0       </td><td>27292.0         </td><td>5330.51              </td><td>1    </td><td>1      </td><td>19   </td><td>9     </td></tr>\n<tr><td><i style='opacity: 0.6'>3</i>        </td><td>16316.4.60-123-b12-1.71.I</td><td>20210118    </td><td>08:15:00    </td><td>19             </td><td>-3900      </td><td>-3900    </td><td>2021-01-18 08:02:08</td><td>8220DB001278</td><td>-6.26130011810001</td><td>53.3442366224365</td><td>83167.0       </td><td>83167.0         </td><td>5330.51              </td><td>0    </td><td>1      </td><td>18   </td><td>8     </td></tr>\n<tr><td><i style='opacity: 0.6'>4</i>        </td><td>1041.1.60-122-b12-1.65.O </td><td>20210114    </td><td>14:00:00    </td><td>23             </td><td>-660       </td><td>-660     </td><td>2021-01-14 15:00:52</td><td>8220DB001278</td><td>-6.26130011810001</td><td>53.3442366224365</td><td>52649.0       </td><td>52649.0         </td><td>7800.24              </td><td>3    </td><td>1      </td><td>14   </td><td>14    </td></tr>\n<tr><td>...                                  </td><td>...                      </td><td>...         </td><td>...         </td><td>...            </td><td>...        </td><td>...      </td><td>...                </td><td>...         </td><td>...              </td><td>...             </td><td>...           </td><td>...             </td><td>...                  </td><td>...  </td><td>...    </td><td>...  </td><td>...   </td></tr>\n<tr><td><i style='opacity: 0.6'>1,331,935</i></td><td>12475.3.60-31-b12-1.161.O</td><td>20210131    </td><td>23:15:00    </td><td>54             </td><td>300        </td><td>300      </td><td>2021-01-31 23:53:38</td><td>8240DB000707</td><td>-6.05864990209616</td><td>53.3724895313374</td><td>85451.0       </td><td>85451.0         </td><td>17080.81             </td><td>6    </td><td>1      </td><td>31   </td><td>23    </td></tr>\n<tr><td><i style='opacity: 0.6'>1,331,936</i></td><td>12333.3.60-65-b12-1.272.I</td><td>20210124    </td><td>22:00:00    </td><td>16             </td><td>360        </td><td>360      </td><td>2021-01-24 22:20:43</td><td>8350DB004102</td><td>-6.51561604212167</td><td>53.1888733556119</td><td>79929.0       </td><td>79929.0         </td><td>11038.61             </td><td>6    </td><td>1      </td><td>24   </td><td>22    </td></tr>\n<tr><td><i style='opacity: 0.6'>1,331,937</i></td><td>12304.3.60-65-b12-1.269.O</td><td>20210131    </td><td>21:30:00    </td><td>69             </td><td>360        </td><td>360      </td><td>2021-01-31 22:26:53</td><td>8350DB004100</td><td>-6.51542624487623</td><td>53.188736170197 </td><td>80104.0       </td><td>80104.0         </td><td>28862.93             </td><td>6    </td><td>1      </td><td>31   </td><td>21    </td></tr>\n<tr><td><i style='opacity: 0.6'>1,331,938</i></td><td>16460.4.60-65-b12-1.271.O</td><td>20210120    </td><td>18:30:00    </td><td>70             </td><td>480        </td><td>480      </td><td>2021-01-20 19:45:43</td><td>8350DB004021</td><td>-6.51885133635455</td><td>53.1861812708552</td><td>59573.0       </td><td>59573.0         </td><td>29226.91             </td><td>2    </td><td>1      </td><td>20   </td><td>18    </td></tr>\n<tr><td><i style='opacity: 0.6'>1,331,939</i></td><td>6322.1.60-13-b12-1.26.O  </td><td>20210114    </td><td>18:30:00    </td><td>90             </td><td>1140       </td><td>1140     </td><td>2021-01-14 20:12:14</td><td>8230DB007230</td><td>-6.4537789442073 </td><td>53.3223763429667</td><td>71438.0       </td><td>71438.0         </td><td>35107.12             </td><td>3    </td><td>1      </td><td>14   </td><td>18    </td></tr>\n</tbody>\n</table>",
      "text/plain": [
       "#          trip_id                    start_date    start_time    stop_sequence    departure    arrival    timestamp            stop_id       lat                lon               arrival_time    departure_time    shape_dist_traveled    dow    month    day    hour\n",
       "0          16289.4.60-123-b12-1.71.I  20210119      11:05:00      19               -14640       -14640     2021-01-19 10:50:00  8220DB001278  -6.26130011810001  53.3442366224365  33569.0         33569.0           5330.51                1      1        19     11\n",
       "1          16287.4.60-123-b12-1.71.I  20210119      09:00:00      19               -8280        -8280      2021-01-19 08:51:57  8220DB001278  -6.26130011810001  53.3442366224365  26392.0         26392.0           5330.51                1      1        19     9\n",
       "2          16302.4.60-123-b12-1.71.I  20210119      09:15:00      19               -5700        -5700      2021-01-19 09:14:50  8220DB001278  -6.26130011810001  53.3442366224365  27292.0         27292.0           5330.51                1      1        19     9\n",
       "3          16316.4.60-123-b12-1.71.I  20210118      08:15:00      19               -3900        -3900      2021-01-18 08:02:08  8220DB001278  -6.26130011810001  53.3442366224365  83167.0         83167.0           5330.51                0      1        18     8\n",
       "4          1041.1.60-122-b12-1.65.O   20210114      14:00:00      23               -660         -660       2021-01-14 15:00:52  8220DB001278  -6.26130011810001  53.3442366224365  52649.0         52649.0           7800.24                3      1        14     14\n",
       "...        ...                        ...           ...           ...              ...          ...        ...                  ...           ...                ...               ...             ...               ...                    ...    ...      ...    ...\n",
       "1,331,935  12475.3.60-31-b12-1.161.O  20210131      23:15:00      54               300          300        2021-01-31 23:53:38  8240DB000707  -6.05864990209616  53.3724895313374  85451.0         85451.0           17080.81               6      1        31     23\n",
       "1,331,936  12333.3.60-65-b12-1.272.I  20210124      22:00:00      16               360          360        2021-01-24 22:20:43  8350DB004102  -6.51561604212167  53.1888733556119  79929.0         79929.0           11038.61               6      1        24     22\n",
       "1,331,937  12304.3.60-65-b12-1.269.O  20210131      21:30:00      69               360          360        2021-01-31 22:26:53  8350DB004100  -6.51542624487623  53.188736170197   80104.0         80104.0           28862.93               6      1        31     21\n",
       "1,331,938  16460.4.60-65-b12-1.271.O  20210120      18:30:00      70               480          480        2021-01-20 19:45:43  8350DB004021  -6.51885133635455  53.1861812708552  59573.0         59573.0           29226.91               2      1        20     18\n",
       "1,331,939  6322.1.60-13-b12-1.26.O    20210114      18:30:00      90               1140         1140       2021-01-14 20:12:14  8230DB007230  -6.4537789442073   53.3223763429667  71438.0         71438.0           35107.12               3      1        14     18"
      ]
     },
     "metadata": {},
     "execution_count": 4
    }
   ],
   "source": [
    "def predict_traffic_from_gtfsr(_df):\n",
    "    df = _df\n",
    "\n",
    "    df['dow'] = df['start_date'].apply(lambda t: datetime.strptime(str(t), '%Y%m%d').weekday())\n",
    "    df['month'] = df['start_date'].apply(lambda t: datetime.strptime(str(t), '%Y%m%d').month)\n",
    "    df['day'] = df['start_date'].apply(lambda t: datetime.strptime(str(t), '%Y%m%d').day)\n",
    "    df['hour'] = df['start_time'].apply(lambda t: datetime.strptime(t, '%H:%M:%S').hour)\n",
    "\n",
    "    pca_coord = vaex.ml.PCA(features=['lat', 'lon'], n_components=2, prefix='pca')\n",
    "    df = pca_coord.fit_transform(df)\n",
    "\n",
    "    cycl_transform_hour = vaex.ml.CycleTransformer(features=['hour'], n=24)\n",
    "    df = cycl_transform_hour.fit_transform(df)\n",
    "\n",
    "    cycl_transform_dow = vaex.ml.CycleTransformer(features=['dow'], n=7)\n",
    "    df = cycl_transform_dow.fit_transform(df)\n",
    "\n",
    "    feats = df.get_column_names(regex='pca') + \\\n",
    "        df.get_column_names(regex='.*_x') + \\\n",
    "        df.get_column_names(regex='.*_y')\n",
    "\n",
    "    # with parallel_backend(\"threading\"):\n",
    "        # scats_model = load(scats)\n",
    "        # print(\"loaded scats model, time: {}\".format(round(time.time() - start)))\n",
    "\n",
    "    # with parallel_backend(\"threading\"):\n",
    "    #     df = scats_model.transform(df)\n",
    "\n",
    "    return df[_df.column_names]\n",
    "pred_df = predict_traffic_from_gtfsr(vx_df)\n",
    "pred_df"
   ]
  },
  {
   "cell_type": "code",
   "execution_count": null,
   "metadata": {},
   "outputs": [],
   "source": []
  },
  {
   "cell_type": "code",
   "execution_count": null,
   "metadata": {},
   "outputs": [],
   "source": []
  }
 ]
}