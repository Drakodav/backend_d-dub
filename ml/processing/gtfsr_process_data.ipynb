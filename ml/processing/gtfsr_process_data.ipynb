{
 "metadata": {
  "language_info": {
   "codemirror_mode": {
    "name": "ipython",
    "version": 3
   },
   "file_extension": ".py",
   "mimetype": "text/x-python",
   "name": "python",
   "nbconvert_exporter": "python",
   "pygments_lexer": "ipython3",
   "version": "3.8.0-final"
  },
  "orig_nbformat": 2,
  "kernelspec": {
   "name": "denv",
   "display_name": "denv",
   "language": "python"
  }
 },
 "nbformat": 4,
 "nbformat_minor": 2,
 "cells": [
  {
   "cell_type": "code",
   "execution_count": 4,
   "metadata": {},
   "outputs": [],
   "source": [
    "%matplotlib inline\n",
    "\n",
    "import os\n",
    "import numpy as np\n",
    "import pandas as pd\n",
    "from pathlib import Path\n",
    "import matplotlib.pyplot as plt\n",
    "import seaborn as sns\n",
    "import zipfile\n",
    "from google.transit import gtfs_realtime_pb2\n",
    "from google.protobuf.json_format import Parse, MessageToJson\n",
    "import json\n",
    "import psycopg2\n",
    "import time\n",
    "from django.contrib.gis.geos import Point, fromstr, GEOSGeometry\n",
    "from datetime import datetime, timedelta\n",
    "import geopandas as gpd\n",
    "import rtree\n",
    "import vaex\n",
    "import vaex.ml\n",
    "from joblib import delayed, Parallel, load, parallel_backend\n",
    "# from haversine import haversine, Unit\n",
    "\n",
    "dir = Path.cwd()\n",
    "outdir = os.path.join(dir, 'output')\n",
    "gtfs_records_zip = os.path.join(dir, 'data', 'GtfsRRecords.zip')\n",
    "gtfs_csv_zip = os.path.join(outdir, 'gtfsr_csv.zip')\n",
    "gtfs_final_csv_path = os.path.join(outdir, 'gtfsr.csv')\n",
    "gtfs_processed_csv_path = os.path.join(outdir, \"gtfsr_processed.csv\")\n",
    "scats = os.path.join(dir, 'output', 'scats_model.json')\n"
   ]
  },
  {
   "cell_type": "code",
   "execution_count": 5,
   "metadata": {},
   "outputs": [],
   "source": [
    "# connect to the PostgreSQL server\n",
    "def get_conn():\n",
    "    return psycopg2.connect(host=\"localhost\", port=\"25432\", database=\"gis\", user=\"docker\", password=\"docker\")"
   ]
  },
  {
   "cell_type": "code",
   "execution_count": 6,
   "metadata": {},
   "outputs": [
    {
     "output_type": "execute_result",
     "data": {
      "text/plain": [
       "                            trip_id  start_date start_time  stop_sequence  \\\n",
       "0          11777.2.60-13-b12-1.22.I    20210109   18:00:00              1   \n",
       "1          11379.2.60-13-b12-1.19.O    20210109   18:00:00              1   \n",
       "2          8111.2.60-27-b12-1.151.O    20210109   18:10:00              1   \n",
       "3          7705.2.60-40-b12-1.206.O    20210109   18:10:00              1   \n",
       "4          7751.2.60-40-b12-1.209.I    20210109   18:10:00              1   \n",
       "...                             ...         ...        ...            ...   \n",
       "13194471   12355.3.60-37-b12-1.39.O    20210131   23:20:00              3   \n",
       "13194472   12355.3.60-37-b12-1.39.O    20210131   23:20:00             56   \n",
       "13194473  12640.3.60-130-b12-1.74.I    20210131   23:30:00              1   \n",
       "13194474  12640.3.60-130-b12-1.74.I    20210131   23:30:00             18   \n",
       "13194475  12640.3.60-130-b12-1.74.I    20210131   23:30:00             20   \n",
       "\n",
       "          departure  arrival            timestamp       stop_id  \n",
       "0                 0        0  2021-01-09 19:28:02  8230DB007229  \n",
       "1                 0        0  2021-01-09 19:28:02  8240DB000324  \n",
       "2                 0        0  2021-01-09 19:28:02  8220DB004595  \n",
       "3                 0        0  2021-01-09 19:28:02  8240DB007132  \n",
       "4                 0        0  2021-01-09 19:28:02  8230DB004795  \n",
       "...             ...      ...                  ...           ...  \n",
       "13194471          0        0  2021-01-31 23:59:45  8220DB000784  \n",
       "13194472        120      120  2021-01-31 23:59:45  8240DB007227  \n",
       "13194473          0        0  2021-01-31 23:59:45  8220DB001772  \n",
       "13194474       1200     1200  2021-01-31 23:59:45  8220DB001729  \n",
       "13194475       1140     1140  2021-01-31 23:59:45  8220DB001731  \n",
       "\n",
       "[13194476 rows x 8 columns]"
      ],
      "text/html": "<div>\n<style scoped>\n    .dataframe tbody tr th:only-of-type {\n        vertical-align: middle;\n    }\n\n    .dataframe tbody tr th {\n        vertical-align: top;\n    }\n\n    .dataframe thead th {\n        text-align: right;\n    }\n</style>\n<table border=\"1\" class=\"dataframe\">\n  <thead>\n    <tr style=\"text-align: right;\">\n      <th></th>\n      <th>trip_id</th>\n      <th>start_date</th>\n      <th>start_time</th>\n      <th>stop_sequence</th>\n      <th>departure</th>\n      <th>arrival</th>\n      <th>timestamp</th>\n      <th>stop_id</th>\n    </tr>\n  </thead>\n  <tbody>\n    <tr>\n      <th>0</th>\n      <td>11777.2.60-13-b12-1.22.I</td>\n      <td>20210109</td>\n      <td>18:00:00</td>\n      <td>1</td>\n      <td>0</td>\n      <td>0</td>\n      <td>2021-01-09 19:28:02</td>\n      <td>8230DB007229</td>\n    </tr>\n    <tr>\n      <th>1</th>\n      <td>11379.2.60-13-b12-1.19.O</td>\n      <td>20210109</td>\n      <td>18:00:00</td>\n      <td>1</td>\n      <td>0</td>\n      <td>0</td>\n      <td>2021-01-09 19:28:02</td>\n      <td>8240DB000324</td>\n    </tr>\n    <tr>\n      <th>2</th>\n      <td>8111.2.60-27-b12-1.151.O</td>\n      <td>20210109</td>\n      <td>18:10:00</td>\n      <td>1</td>\n      <td>0</td>\n      <td>0</td>\n      <td>2021-01-09 19:28:02</td>\n      <td>8220DB004595</td>\n    </tr>\n    <tr>\n      <th>3</th>\n      <td>7705.2.60-40-b12-1.206.O</td>\n      <td>20210109</td>\n      <td>18:10:00</td>\n      <td>1</td>\n      <td>0</td>\n      <td>0</td>\n      <td>2021-01-09 19:28:02</td>\n      <td>8240DB007132</td>\n    </tr>\n    <tr>\n      <th>4</th>\n      <td>7751.2.60-40-b12-1.209.I</td>\n      <td>20210109</td>\n      <td>18:10:00</td>\n      <td>1</td>\n      <td>0</td>\n      <td>0</td>\n      <td>2021-01-09 19:28:02</td>\n      <td>8230DB004795</td>\n    </tr>\n    <tr>\n      <th>...</th>\n      <td>...</td>\n      <td>...</td>\n      <td>...</td>\n      <td>...</td>\n      <td>...</td>\n      <td>...</td>\n      <td>...</td>\n      <td>...</td>\n    </tr>\n    <tr>\n      <th>13194471</th>\n      <td>12355.3.60-37-b12-1.39.O</td>\n      <td>20210131</td>\n      <td>23:20:00</td>\n      <td>3</td>\n      <td>0</td>\n      <td>0</td>\n      <td>2021-01-31 23:59:45</td>\n      <td>8220DB000784</td>\n    </tr>\n    <tr>\n      <th>13194472</th>\n      <td>12355.3.60-37-b12-1.39.O</td>\n      <td>20210131</td>\n      <td>23:20:00</td>\n      <td>56</td>\n      <td>120</td>\n      <td>120</td>\n      <td>2021-01-31 23:59:45</td>\n      <td>8240DB007227</td>\n    </tr>\n    <tr>\n      <th>13194473</th>\n      <td>12640.3.60-130-b12-1.74.I</td>\n      <td>20210131</td>\n      <td>23:30:00</td>\n      <td>1</td>\n      <td>0</td>\n      <td>0</td>\n      <td>2021-01-31 23:59:45</td>\n      <td>8220DB001772</td>\n    </tr>\n    <tr>\n      <th>13194474</th>\n      <td>12640.3.60-130-b12-1.74.I</td>\n      <td>20210131</td>\n      <td>23:30:00</td>\n      <td>18</td>\n      <td>1200</td>\n      <td>1200</td>\n      <td>2021-01-31 23:59:45</td>\n      <td>8220DB001729</td>\n    </tr>\n    <tr>\n      <th>13194475</th>\n      <td>12640.3.60-130-b12-1.74.I</td>\n      <td>20210131</td>\n      <td>23:30:00</td>\n      <td>20</td>\n      <td>1140</td>\n      <td>1140</td>\n      <td>2021-01-31 23:59:45</td>\n      <td>8220DB001731</td>\n    </tr>\n  </tbody>\n</table>\n<p>13194476 rows × 8 columns</p>\n</div>"
     },
     "metadata": {},
     "execution_count": 6
    }
   ],
   "source": [
    "df = pd.read_csv(gtfs_final_csv_path)\n",
    "df"
   ]
  },
  {
   "cell_type": "code",
   "execution_count": 17,
   "metadata": {},
   "outputs": [
    {
     "output_type": "execute_result",
     "data": {
      "text/plain": [
       "                 stop_id       lat        lon\n",
       "0           8220DB000002 -6.263723  53.352244\n",
       "1           8220DB000003 -6.263811  53.352309\n",
       "2           8220DB000004 -6.264175  53.352575\n",
       "3           8220DB000006 -6.264454  53.352749\n",
       "4           8220DB000007 -6.264570  53.352841\n",
       "...                  ...       ...        ...\n",
       "4711        8350DB007462 -6.062480  53.128801\n",
       "4712        8350DB007522 -6.118873  53.188131\n",
       "4713        8350DB007574 -6.130064  53.182348\n",
       "4714         8350GD10395 -6.170880  53.192599\n",
       "4715  gen:57102:8223:0:1 -6.239062  53.471172\n",
       "\n",
       "[4716 rows x 3 columns]"
      ],
      "text/html": "<div>\n<style scoped>\n    .dataframe tbody tr th:only-of-type {\n        vertical-align: middle;\n    }\n\n    .dataframe tbody tr th {\n        vertical-align: top;\n    }\n\n    .dataframe thead th {\n        text-align: right;\n    }\n</style>\n<table border=\"1\" class=\"dataframe\">\n  <thead>\n    <tr style=\"text-align: right;\">\n      <th></th>\n      <th>stop_id</th>\n      <th>lat</th>\n      <th>lon</th>\n    </tr>\n  </thead>\n  <tbody>\n    <tr>\n      <th>0</th>\n      <td>8220DB000002</td>\n      <td>-6.263723</td>\n      <td>53.352244</td>\n    </tr>\n    <tr>\n      <th>1</th>\n      <td>8220DB000003</td>\n      <td>-6.263811</td>\n      <td>53.352309</td>\n    </tr>\n    <tr>\n      <th>2</th>\n      <td>8220DB000004</td>\n      <td>-6.264175</td>\n      <td>53.352575</td>\n    </tr>\n    <tr>\n      <th>3</th>\n      <td>8220DB000006</td>\n      <td>-6.264454</td>\n      <td>53.352749</td>\n    </tr>\n    <tr>\n      <th>4</th>\n      <td>8220DB000007</td>\n      <td>-6.264570</td>\n      <td>53.352841</td>\n    </tr>\n    <tr>\n      <th>...</th>\n      <td>...</td>\n      <td>...</td>\n      <td>...</td>\n    </tr>\n    <tr>\n      <th>4711</th>\n      <td>8350DB007462</td>\n      <td>-6.062480</td>\n      <td>53.128801</td>\n    </tr>\n    <tr>\n      <th>4712</th>\n      <td>8350DB007522</td>\n      <td>-6.118873</td>\n      <td>53.188131</td>\n    </tr>\n    <tr>\n      <th>4713</th>\n      <td>8350DB007574</td>\n      <td>-6.130064</td>\n      <td>53.182348</td>\n    </tr>\n    <tr>\n      <th>4714</th>\n      <td>8350GD10395</td>\n      <td>-6.170880</td>\n      <td>53.192599</td>\n    </tr>\n    <tr>\n      <th>4715</th>\n      <td>gen:57102:8223:0:1</td>\n      <td>-6.239062</td>\n      <td>53.471172</td>\n    </tr>\n  </tbody>\n</table>\n<p>4716 rows × 3 columns</p>\n</div>"
     },
     "metadata": {},
     "execution_count": 17
    }
   ],
   "source": [
    "# get all the stop data and add the lat lon columns\n",
    "# import geoplot\n",
    "\n",
    "def get_stops_df(conn): \n",
    "    query = \"\"\"select stop_id, point as geom from stop;\"\"\"\n",
    "\n",
    "    gdf = gpd.GeoDataFrame.from_postgis(query, conn())\n",
    "    # geoplot.pointplot(gdf)\n",
    "\n",
    "    gdf['lat'] = gdf.apply(lambda row: row['geom'].x, axis=1)\n",
    "    gdf['lon'] = gdf.apply(lambda row: row['geom'].y, axis=1)\n",
    "\n",
    "    return pd.DataFrame(gdf.drop(columns='geom'))\n",
    "stop_df = get_stops_df(get_conn)\n",
    "stop_df"
   ]
  },
  {
   "cell_type": "code",
   "execution_count": 16,
   "metadata": {},
   "outputs": [
    {
     "output_type": "error",
     "ename": "KeyboardInterrupt",
     "evalue": "",
     "traceback": [
      "\u001b[0;31m---------------------------------------------------------------------------\u001b[0m",
      "\u001b[0;31mKeyboardInterrupt\u001b[0m                         Traceback (most recent call last)",
      "\u001b[0;32m<ipython-input-16-8945816a0aec>\u001b[0m in \u001b[0;36m<module>\u001b[0;34m\u001b[0m\n\u001b[0;32m----> 1\u001b[0;31m \u001b[0mdf\u001b[0m \u001b[0;34m=\u001b[0m \u001b[0mdf\u001b[0m\u001b[0;34m.\u001b[0m\u001b[0mmerge\u001b[0m\u001b[0;34m(\u001b[0m\u001b[0mstop_df\u001b[0m\u001b[0;34m,\u001b[0m \u001b[0mon\u001b[0m\u001b[0;34m=\u001b[0m\u001b[0;34m'stop_id'\u001b[0m\u001b[0;34m)\u001b[0m\u001b[0;34m\u001b[0m\u001b[0;34m\u001b[0m\u001b[0m\n\u001b[0m\u001b[1;32m      2\u001b[0m \u001b[0mdf\u001b[0m\u001b[0;34m.\u001b[0m\u001b[0mhead\u001b[0m\u001b[0;34m(\u001b[0m\u001b[0;34m)\u001b[0m\u001b[0;34m\u001b[0m\u001b[0;34m\u001b[0m\u001b[0m\n",
      "\u001b[0;32m~/projects/dynamoDublin/backend_d-dub/.denv/lib/python3.8/site-packages/pandas/core/frame.py\u001b[0m in \u001b[0;36mmerge\u001b[0;34m(self, right, how, on, left_on, right_on, left_index, right_index, sort, suffixes, copy, indicator, validate)\u001b[0m\n\u001b[1;32m   8190\u001b[0m         \u001b[0;32mfrom\u001b[0m \u001b[0mpandas\u001b[0m\u001b[0;34m.\u001b[0m\u001b[0mcore\u001b[0m\u001b[0;34m.\u001b[0m\u001b[0mreshape\u001b[0m\u001b[0;34m.\u001b[0m\u001b[0mmerge\u001b[0m \u001b[0;32mimport\u001b[0m \u001b[0mmerge\u001b[0m\u001b[0;34m\u001b[0m\u001b[0;34m\u001b[0m\u001b[0m\n\u001b[1;32m   8191\u001b[0m \u001b[0;34m\u001b[0m\u001b[0m\n\u001b[0;32m-> 8192\u001b[0;31m         return merge(\n\u001b[0m\u001b[1;32m   8193\u001b[0m             \u001b[0mself\u001b[0m\u001b[0;34m,\u001b[0m\u001b[0;34m\u001b[0m\u001b[0;34m\u001b[0m\u001b[0m\n\u001b[1;32m   8194\u001b[0m             \u001b[0mright\u001b[0m\u001b[0;34m,\u001b[0m\u001b[0;34m\u001b[0m\u001b[0;34m\u001b[0m\u001b[0m\n",
      "\u001b[0;32m~/projects/dynamoDublin/backend_d-dub/.denv/lib/python3.8/site-packages/pandas/core/reshape/merge.py\u001b[0m in \u001b[0;36mmerge\u001b[0;34m(left, right, how, on, left_on, right_on, left_index, right_index, sort, suffixes, copy, indicator, validate)\u001b[0m\n\u001b[1;32m     87\u001b[0m         \u001b[0mvalidate\u001b[0m\u001b[0;34m=\u001b[0m\u001b[0mvalidate\u001b[0m\u001b[0;34m,\u001b[0m\u001b[0;34m\u001b[0m\u001b[0;34m\u001b[0m\u001b[0m\n\u001b[1;32m     88\u001b[0m     )\n\u001b[0;32m---> 89\u001b[0;31m     \u001b[0;32mreturn\u001b[0m \u001b[0mop\u001b[0m\u001b[0;34m.\u001b[0m\u001b[0mget_result\u001b[0m\u001b[0;34m(\u001b[0m\u001b[0;34m)\u001b[0m\u001b[0;34m\u001b[0m\u001b[0;34m\u001b[0m\u001b[0m\n\u001b[0m\u001b[1;32m     90\u001b[0m \u001b[0;34m\u001b[0m\u001b[0m\n\u001b[1;32m     91\u001b[0m \u001b[0;34m\u001b[0m\u001b[0m\n",
      "\u001b[0;32m~/projects/dynamoDublin/backend_d-dub/.denv/lib/python3.8/site-packages/pandas/core/reshape/merge.py\u001b[0m in \u001b[0;36mget_result\u001b[0;34m(self)\u001b[0m\n\u001b[1;32m    691\u001b[0m         \u001b[0mrindexers\u001b[0m \u001b[0;34m=\u001b[0m \u001b[0;34m{\u001b[0m\u001b[0;36m1\u001b[0m\u001b[0;34m:\u001b[0m \u001b[0mright_indexer\u001b[0m\u001b[0;34m}\u001b[0m \u001b[0;32mif\u001b[0m \u001b[0mright_indexer\u001b[0m \u001b[0;32mis\u001b[0m \u001b[0;32mnot\u001b[0m \u001b[0;32mNone\u001b[0m \u001b[0;32melse\u001b[0m \u001b[0;34m{\u001b[0m\u001b[0;34m}\u001b[0m\u001b[0;34m\u001b[0m\u001b[0;34m\u001b[0m\u001b[0m\n\u001b[1;32m    692\u001b[0m \u001b[0;34m\u001b[0m\u001b[0m\n\u001b[0;32m--> 693\u001b[0;31m         result_data = concatenate_block_managers(\n\u001b[0m\u001b[1;32m    694\u001b[0m             \u001b[0;34m[\u001b[0m\u001b[0;34m(\u001b[0m\u001b[0mself\u001b[0m\u001b[0;34m.\u001b[0m\u001b[0mleft\u001b[0m\u001b[0;34m.\u001b[0m\u001b[0m_mgr\u001b[0m\u001b[0;34m,\u001b[0m \u001b[0mlindexers\u001b[0m\u001b[0;34m)\u001b[0m\u001b[0;34m,\u001b[0m \u001b[0;34m(\u001b[0m\u001b[0mself\u001b[0m\u001b[0;34m.\u001b[0m\u001b[0mright\u001b[0m\u001b[0;34m.\u001b[0m\u001b[0m_mgr\u001b[0m\u001b[0;34m,\u001b[0m \u001b[0mrindexers\u001b[0m\u001b[0;34m)\u001b[0m\u001b[0;34m]\u001b[0m\u001b[0;34m,\u001b[0m\u001b[0;34m\u001b[0m\u001b[0;34m\u001b[0m\u001b[0m\n\u001b[1;32m    695\u001b[0m             \u001b[0maxes\u001b[0m\u001b[0;34m=\u001b[0m\u001b[0;34m[\u001b[0m\u001b[0mllabels\u001b[0m\u001b[0;34m.\u001b[0m\u001b[0mappend\u001b[0m\u001b[0;34m(\u001b[0m\u001b[0mrlabels\u001b[0m\u001b[0;34m)\u001b[0m\u001b[0;34m,\u001b[0m \u001b[0mjoin_index\u001b[0m\u001b[0;34m]\u001b[0m\u001b[0;34m,\u001b[0m\u001b[0;34m\u001b[0m\u001b[0;34m\u001b[0m\u001b[0m\n",
      "\u001b[0;32m~/projects/dynamoDublin/backend_d-dub/.denv/lib/python3.8/site-packages/pandas/core/internals/concat.py\u001b[0m in \u001b[0;36mconcatenate_block_managers\u001b[0;34m(mgrs_indexers, axes, concat_axis, copy)\u001b[0m\n\u001b[1;32m     81\u001b[0m         \u001b[0;32melse\u001b[0m\u001b[0;34m:\u001b[0m\u001b[0;34m\u001b[0m\u001b[0;34m\u001b[0m\u001b[0m\n\u001b[1;32m     82\u001b[0m             b = make_block(\n\u001b[0;32m---> 83\u001b[0;31m                 \u001b[0m_concatenate_join_units\u001b[0m\u001b[0;34m(\u001b[0m\u001b[0mjoin_units\u001b[0m\u001b[0;34m,\u001b[0m \u001b[0mconcat_axis\u001b[0m\u001b[0;34m,\u001b[0m \u001b[0mcopy\u001b[0m\u001b[0;34m=\u001b[0m\u001b[0mcopy\u001b[0m\u001b[0;34m)\u001b[0m\u001b[0;34m,\u001b[0m\u001b[0;34m\u001b[0m\u001b[0;34m\u001b[0m\u001b[0m\n\u001b[0m\u001b[1;32m     84\u001b[0m                 \u001b[0mplacement\u001b[0m\u001b[0;34m=\u001b[0m\u001b[0mplacement\u001b[0m\u001b[0;34m,\u001b[0m\u001b[0;34m\u001b[0m\u001b[0;34m\u001b[0m\u001b[0m\n\u001b[1;32m     85\u001b[0m                 \u001b[0mndim\u001b[0m\u001b[0;34m=\u001b[0m\u001b[0mlen\u001b[0m\u001b[0;34m(\u001b[0m\u001b[0maxes\u001b[0m\u001b[0;34m)\u001b[0m\u001b[0;34m,\u001b[0m\u001b[0;34m\u001b[0m\u001b[0;34m\u001b[0m\u001b[0m\n",
      "\u001b[0;32m~/projects/dynamoDublin/backend_d-dub/.denv/lib/python3.8/site-packages/pandas/core/internals/concat.py\u001b[0m in \u001b[0;36m_concatenate_join_units\u001b[0;34m(join_units, concat_axis, copy)\u001b[0m\n\u001b[1;32m    311\u001b[0m     \u001b[0mempty_dtype\u001b[0m\u001b[0;34m,\u001b[0m \u001b[0mupcasted_na\u001b[0m \u001b[0;34m=\u001b[0m \u001b[0m_get_empty_dtype_and_na\u001b[0m\u001b[0;34m(\u001b[0m\u001b[0mjoin_units\u001b[0m\u001b[0;34m)\u001b[0m\u001b[0;34m\u001b[0m\u001b[0;34m\u001b[0m\u001b[0m\n\u001b[1;32m    312\u001b[0m \u001b[0;34m\u001b[0m\u001b[0m\n\u001b[0;32m--> 313\u001b[0;31m     to_concat = [\n\u001b[0m\u001b[1;32m    314\u001b[0m         \u001b[0mju\u001b[0m\u001b[0;34m.\u001b[0m\u001b[0mget_reindexed_values\u001b[0m\u001b[0;34m(\u001b[0m\u001b[0mempty_dtype\u001b[0m\u001b[0;34m=\u001b[0m\u001b[0mempty_dtype\u001b[0m\u001b[0;34m,\u001b[0m \u001b[0mupcasted_na\u001b[0m\u001b[0;34m=\u001b[0m\u001b[0mupcasted_na\u001b[0m\u001b[0;34m)\u001b[0m\u001b[0;34m\u001b[0m\u001b[0;34m\u001b[0m\u001b[0m\n\u001b[1;32m    315\u001b[0m         \u001b[0;32mfor\u001b[0m \u001b[0mju\u001b[0m \u001b[0;32min\u001b[0m \u001b[0mjoin_units\u001b[0m\u001b[0;34m\u001b[0m\u001b[0;34m\u001b[0m\u001b[0m\n",
      "\u001b[0;32m~/projects/dynamoDublin/backend_d-dub/.denv/lib/python3.8/site-packages/pandas/core/internals/concat.py\u001b[0m in \u001b[0;36m<listcomp>\u001b[0;34m(.0)\u001b[0m\n\u001b[1;32m    312\u001b[0m \u001b[0;34m\u001b[0m\u001b[0m\n\u001b[1;32m    313\u001b[0m     to_concat = [\n\u001b[0;32m--> 314\u001b[0;31m         \u001b[0mju\u001b[0m\u001b[0;34m.\u001b[0m\u001b[0mget_reindexed_values\u001b[0m\u001b[0;34m(\u001b[0m\u001b[0mempty_dtype\u001b[0m\u001b[0;34m=\u001b[0m\u001b[0mempty_dtype\u001b[0m\u001b[0;34m,\u001b[0m \u001b[0mupcasted_na\u001b[0m\u001b[0;34m=\u001b[0m\u001b[0mupcasted_na\u001b[0m\u001b[0;34m)\u001b[0m\u001b[0;34m\u001b[0m\u001b[0;34m\u001b[0m\u001b[0m\n\u001b[0m\u001b[1;32m    315\u001b[0m         \u001b[0;32mfor\u001b[0m \u001b[0mju\u001b[0m \u001b[0;32min\u001b[0m \u001b[0mjoin_units\u001b[0m\u001b[0;34m\u001b[0m\u001b[0;34m\u001b[0m\u001b[0m\n\u001b[1;32m    316\u001b[0m     ]\n",
      "\u001b[0;32m~/projects/dynamoDublin/backend_d-dub/.denv/lib/python3.8/site-packages/pandas/core/internals/concat.py\u001b[0m in \u001b[0;36mget_reindexed_values\u001b[0;34m(self, empty_dtype, upcasted_na)\u001b[0m\n\u001b[1;32m    296\u001b[0m         \u001b[0;32melse\u001b[0m\u001b[0;34m:\u001b[0m\u001b[0;34m\u001b[0m\u001b[0;34m\u001b[0m\u001b[0m\n\u001b[1;32m    297\u001b[0m             \u001b[0;32mfor\u001b[0m \u001b[0max\u001b[0m\u001b[0;34m,\u001b[0m \u001b[0mindexer\u001b[0m \u001b[0;32min\u001b[0m \u001b[0mself\u001b[0m\u001b[0;34m.\u001b[0m\u001b[0mindexers\u001b[0m\u001b[0;34m.\u001b[0m\u001b[0mitems\u001b[0m\u001b[0;34m(\u001b[0m\u001b[0;34m)\u001b[0m\u001b[0;34m:\u001b[0m\u001b[0;34m\u001b[0m\u001b[0;34m\u001b[0m\u001b[0m\n\u001b[0;32m--> 298\u001b[0;31m                 \u001b[0mvalues\u001b[0m \u001b[0;34m=\u001b[0m \u001b[0malgos\u001b[0m\u001b[0;34m.\u001b[0m\u001b[0mtake_nd\u001b[0m\u001b[0;34m(\u001b[0m\u001b[0mvalues\u001b[0m\u001b[0;34m,\u001b[0m \u001b[0mindexer\u001b[0m\u001b[0;34m,\u001b[0m \u001b[0maxis\u001b[0m\u001b[0;34m=\u001b[0m\u001b[0max\u001b[0m\u001b[0;34m,\u001b[0m \u001b[0mfill_value\u001b[0m\u001b[0;34m=\u001b[0m\u001b[0mfill_value\u001b[0m\u001b[0;34m)\u001b[0m\u001b[0;34m\u001b[0m\u001b[0;34m\u001b[0m\u001b[0m\n\u001b[0m\u001b[1;32m    299\u001b[0m \u001b[0;34m\u001b[0m\u001b[0m\n\u001b[1;32m    300\u001b[0m         \u001b[0;32mreturn\u001b[0m \u001b[0mvalues\u001b[0m\u001b[0;34m\u001b[0m\u001b[0;34m\u001b[0m\u001b[0m\n",
      "\u001b[0;32m~/projects/dynamoDublin/backend_d-dub/.denv/lib/python3.8/site-packages/pandas/core/algorithms.py\u001b[0m in \u001b[0;36mtake_nd\u001b[0;34m(arr, indexer, axis, out, fill_value, allow_fill)\u001b[0m\n\u001b[1;32m   1757\u001b[0m         \u001b[0marr\u001b[0m\u001b[0;34m.\u001b[0m\u001b[0mndim\u001b[0m\u001b[0;34m,\u001b[0m \u001b[0marr\u001b[0m\u001b[0;34m.\u001b[0m\u001b[0mdtype\u001b[0m\u001b[0;34m,\u001b[0m \u001b[0mout\u001b[0m\u001b[0;34m.\u001b[0m\u001b[0mdtype\u001b[0m\u001b[0;34m,\u001b[0m \u001b[0maxis\u001b[0m\u001b[0;34m=\u001b[0m\u001b[0maxis\u001b[0m\u001b[0;34m,\u001b[0m \u001b[0mmask_info\u001b[0m\u001b[0;34m=\u001b[0m\u001b[0mmask_info\u001b[0m\u001b[0;34m\u001b[0m\u001b[0;34m\u001b[0m\u001b[0m\n\u001b[1;32m   1758\u001b[0m     )\n\u001b[0;32m-> 1759\u001b[0;31m     \u001b[0mfunc\u001b[0m\u001b[0;34m(\u001b[0m\u001b[0marr\u001b[0m\u001b[0;34m,\u001b[0m \u001b[0mindexer\u001b[0m\u001b[0;34m,\u001b[0m \u001b[0mout\u001b[0m\u001b[0;34m,\u001b[0m \u001b[0mfill_value\u001b[0m\u001b[0;34m)\u001b[0m\u001b[0;34m\u001b[0m\u001b[0;34m\u001b[0m\u001b[0m\n\u001b[0m\u001b[1;32m   1760\u001b[0m \u001b[0;34m\u001b[0m\u001b[0m\n\u001b[1;32m   1761\u001b[0m     \u001b[0;32mif\u001b[0m \u001b[0mflip_order\u001b[0m\u001b[0;34m:\u001b[0m\u001b[0;34m\u001b[0m\u001b[0;34m\u001b[0m\u001b[0m\n",
      "\u001b[0;31mKeyboardInterrupt\u001b[0m: "
     ]
    }
   ],
   "source": [
    "df = df.merge(stop_df, on='stop_id')\n",
    "df.head()"
   ]
  },
  {
   "cell_type": "code",
   "execution_count": 9,
   "metadata": {},
   "outputs": [
    {
     "output_type": "error",
     "ename": "NameError",
     "evalue": "name 'df' is not defined",
     "traceback": [
      "\u001b[0;31m---------------------------------------------------------------------------\u001b[0m",
      "\u001b[0;31mNameError\u001b[0m                                 Traceback (most recent call last)",
      "\u001b[0;32m<ipython-input-9-dc200c521289>\u001b[0m in \u001b[0;36m<module>\u001b[0;34m\u001b[0m\n\u001b[0;32m----> 1\u001b[0;31m \u001b[0mgb_trip\u001b[0m \u001b[0;34m=\u001b[0m \u001b[0mdf\u001b[0m\u001b[0;34m[\u001b[0m\u001b[0;34m'trip_id'\u001b[0m\u001b[0;34m]\u001b[0m\u001b[0;34m.\u001b[0m\u001b[0munique\u001b[0m\u001b[0;34m(\u001b[0m\u001b[0;34m)\u001b[0m\u001b[0;34m\u001b[0m\u001b[0;34m\u001b[0m\u001b[0m\n\u001b[0m\u001b[1;32m      2\u001b[0m \u001b[0mgb_trip\u001b[0m\u001b[0;34m\u001b[0m\u001b[0;34m\u001b[0m\u001b[0m\n",
      "\u001b[0;31mNameError\u001b[0m: name 'df' is not defined"
     ]
    }
   ],
   "source": [
    "gb_trip = df['trip_id'].unique()\n",
    "gb_trip"
   ]
  },
  {
   "cell_type": "code",
   "execution_count": 14,
   "metadata": {},
   "outputs": [
    {
     "output_type": "execute_result",
     "data": {
      "text/plain": [
       "   arrival_time departure_time  stop_sequence  shape_dist_traveled  \\\n",
       "0      10:30:00       10:30:00              1                 0.00   \n",
       "1      10:32:42       10:32:42              2               589.01   \n",
       "2      10:34:39       10:34:39              3              1136.75   \n",
       "3      10:35:17       10:35:17              4              1360.53   \n",
       "4      10:35:51       10:35:51              5              1563.46   \n",
       "..          ...            ...            ...                  ...   \n",
       "68     11:23:38       11:23:38             70             29226.91   \n",
       "69     11:24:01       11:24:01             71             29617.07   \n",
       "70     11:24:33       11:24:33             72             30180.10   \n",
       "71     11:25:04       11:25:04             73             30503.67   \n",
       "72     11:25:59       11:25:59             74             31056.08   \n",
       "\n",
       "         stop_id                       geom        lat       lon  \\\n",
       "0   8220DB007564  POINT (-6.25453 53.34683)  53.346834 -6.254525   \n",
       "1   8220DB004521  POINT (-6.26017 53.34430)  53.344301 -6.260171   \n",
       "2   8220DB001283  POINT (-6.26493 53.34181)  53.341809 -6.264928   \n",
       "3   8220DB004456  POINT (-6.26570 53.33991)  53.339914 -6.265696   \n",
       "4   8220DB001284  POINT (-6.26587 53.33813)  53.338128 -6.265874   \n",
       "..           ...                        ...        ...       ...   \n",
       "68  8350DB004021  POINT (-6.51885 53.18618)  53.186181 -6.518851   \n",
       "69  8350DB004022  POINT (-6.52211 53.18330)  53.183301 -6.522108   \n",
       "70  8350DB004023  POINT (-6.52520 53.17860)  53.178602 -6.525201   \n",
       "71  8350DB004024  POINT (-6.52697 53.17587)  53.175874 -6.526971   \n",
       "72  8350DB004027  POINT (-6.53124 53.17163)  53.171630 -6.531244   \n",
       "\n",
       "    direction_angle  distance_between  shape_dist_between  \\\n",
       "0       -122.339823          0.000000                0.00   \n",
       "1       -122.339823        469.609889              589.01   \n",
       "2       -122.339823        421.045844              547.74   \n",
       "3       -122.339823        217.704725              223.78   \n",
       "4       -122.339823        199.886478              202.93   \n",
       "..              ...               ...                 ...   \n",
       "68      -122.339823        365.439659              363.98   \n",
       "69      -122.339823        388.148763              390.16   \n",
       "70      -122.339823        563.992771              563.03   \n",
       "71      -122.339823        326.860753              323.57   \n",
       "72      -122.339823        553.100862              552.41   \n",
       "\n",
       "                      trip_id start_time  \n",
       "0   16422.4.60-65-b12-1.271.O   10:30:00  \n",
       "1   16422.4.60-65-b12-1.271.O   10:30:00  \n",
       "2   16422.4.60-65-b12-1.271.O   10:30:00  \n",
       "3   16422.4.60-65-b12-1.271.O   10:30:00  \n",
       "4   16422.4.60-65-b12-1.271.O   10:30:00  \n",
       "..                        ...        ...  \n",
       "68  16422.4.60-65-b12-1.271.O   10:30:00  \n",
       "69  16422.4.60-65-b12-1.271.O   10:30:00  \n",
       "70  16422.4.60-65-b12-1.271.O   10:30:00  \n",
       "71  16422.4.60-65-b12-1.271.O   10:30:00  \n",
       "72  16422.4.60-65-b12-1.271.O   10:30:00  \n",
       "\n",
       "[73 rows x 13 columns]"
      ],
      "text/html": "<div>\n<style scoped>\n    .dataframe tbody tr th:only-of-type {\n        vertical-align: middle;\n    }\n\n    .dataframe tbody tr th {\n        vertical-align: top;\n    }\n\n    .dataframe thead th {\n        text-align: right;\n    }\n</style>\n<table border=\"1\" class=\"dataframe\">\n  <thead>\n    <tr style=\"text-align: right;\">\n      <th></th>\n      <th>arrival_time</th>\n      <th>departure_time</th>\n      <th>stop_sequence</th>\n      <th>shape_dist_traveled</th>\n      <th>stop_id</th>\n      <th>geom</th>\n      <th>lat</th>\n      <th>lon</th>\n      <th>direction_angle</th>\n      <th>distance_between</th>\n      <th>shape_dist_between</th>\n      <th>trip_id</th>\n      <th>start_time</th>\n    </tr>\n  </thead>\n  <tbody>\n    <tr>\n      <th>0</th>\n      <td>10:30:00</td>\n      <td>10:30:00</td>\n      <td>1</td>\n      <td>0.00</td>\n      <td>8220DB007564</td>\n      <td>POINT (-6.25453 53.34683)</td>\n      <td>53.346834</td>\n      <td>-6.254525</td>\n      <td>-122.339823</td>\n      <td>0.000000</td>\n      <td>0.00</td>\n      <td>16422.4.60-65-b12-1.271.O</td>\n      <td>10:30:00</td>\n    </tr>\n    <tr>\n      <th>1</th>\n      <td>10:32:42</td>\n      <td>10:32:42</td>\n      <td>2</td>\n      <td>589.01</td>\n      <td>8220DB004521</td>\n      <td>POINT (-6.26017 53.34430)</td>\n      <td>53.344301</td>\n      <td>-6.260171</td>\n      <td>-122.339823</td>\n      <td>469.609889</td>\n      <td>589.01</td>\n      <td>16422.4.60-65-b12-1.271.O</td>\n      <td>10:30:00</td>\n    </tr>\n    <tr>\n      <th>2</th>\n      <td>10:34:39</td>\n      <td>10:34:39</td>\n      <td>3</td>\n      <td>1136.75</td>\n      <td>8220DB001283</td>\n      <td>POINT (-6.26493 53.34181)</td>\n      <td>53.341809</td>\n      <td>-6.264928</td>\n      <td>-122.339823</td>\n      <td>421.045844</td>\n      <td>547.74</td>\n      <td>16422.4.60-65-b12-1.271.O</td>\n      <td>10:30:00</td>\n    </tr>\n    <tr>\n      <th>3</th>\n      <td>10:35:17</td>\n      <td>10:35:17</td>\n      <td>4</td>\n      <td>1360.53</td>\n      <td>8220DB004456</td>\n      <td>POINT (-6.26570 53.33991)</td>\n      <td>53.339914</td>\n      <td>-6.265696</td>\n      <td>-122.339823</td>\n      <td>217.704725</td>\n      <td>223.78</td>\n      <td>16422.4.60-65-b12-1.271.O</td>\n      <td>10:30:00</td>\n    </tr>\n    <tr>\n      <th>4</th>\n      <td>10:35:51</td>\n      <td>10:35:51</td>\n      <td>5</td>\n      <td>1563.46</td>\n      <td>8220DB001284</td>\n      <td>POINT (-6.26587 53.33813)</td>\n      <td>53.338128</td>\n      <td>-6.265874</td>\n      <td>-122.339823</td>\n      <td>199.886478</td>\n      <td>202.93</td>\n      <td>16422.4.60-65-b12-1.271.O</td>\n      <td>10:30:00</td>\n    </tr>\n    <tr>\n      <th>...</th>\n      <td>...</td>\n      <td>...</td>\n      <td>...</td>\n      <td>...</td>\n      <td>...</td>\n      <td>...</td>\n      <td>...</td>\n      <td>...</td>\n      <td>...</td>\n      <td>...</td>\n      <td>...</td>\n      <td>...</td>\n      <td>...</td>\n    </tr>\n    <tr>\n      <th>68</th>\n      <td>11:23:38</td>\n      <td>11:23:38</td>\n      <td>70</td>\n      <td>29226.91</td>\n      <td>8350DB004021</td>\n      <td>POINT (-6.51885 53.18618)</td>\n      <td>53.186181</td>\n      <td>-6.518851</td>\n      <td>-122.339823</td>\n      <td>365.439659</td>\n      <td>363.98</td>\n      <td>16422.4.60-65-b12-1.271.O</td>\n      <td>10:30:00</td>\n    </tr>\n    <tr>\n      <th>69</th>\n      <td>11:24:01</td>\n      <td>11:24:01</td>\n      <td>71</td>\n      <td>29617.07</td>\n      <td>8350DB004022</td>\n      <td>POINT (-6.52211 53.18330)</td>\n      <td>53.183301</td>\n      <td>-6.522108</td>\n      <td>-122.339823</td>\n      <td>388.148763</td>\n      <td>390.16</td>\n      <td>16422.4.60-65-b12-1.271.O</td>\n      <td>10:30:00</td>\n    </tr>\n    <tr>\n      <th>70</th>\n      <td>11:24:33</td>\n      <td>11:24:33</td>\n      <td>72</td>\n      <td>30180.10</td>\n      <td>8350DB004023</td>\n      <td>POINT (-6.52520 53.17860)</td>\n      <td>53.178602</td>\n      <td>-6.525201</td>\n      <td>-122.339823</td>\n      <td>563.992771</td>\n      <td>563.03</td>\n      <td>16422.4.60-65-b12-1.271.O</td>\n      <td>10:30:00</td>\n    </tr>\n    <tr>\n      <th>71</th>\n      <td>11:25:04</td>\n      <td>11:25:04</td>\n      <td>73</td>\n      <td>30503.67</td>\n      <td>8350DB004024</td>\n      <td>POINT (-6.52697 53.17587)</td>\n      <td>53.175874</td>\n      <td>-6.526971</td>\n      <td>-122.339823</td>\n      <td>326.860753</td>\n      <td>323.57</td>\n      <td>16422.4.60-65-b12-1.271.O</td>\n      <td>10:30:00</td>\n    </tr>\n    <tr>\n      <th>72</th>\n      <td>11:25:59</td>\n      <td>11:25:59</td>\n      <td>74</td>\n      <td>31056.08</td>\n      <td>8350DB004027</td>\n      <td>POINT (-6.53124 53.17163)</td>\n      <td>53.171630</td>\n      <td>-6.531244</td>\n      <td>-122.339823</td>\n      <td>553.100862</td>\n      <td>552.41</td>\n      <td>16422.4.60-65-b12-1.271.O</td>\n      <td>10:30:00</td>\n    </tr>\n  </tbody>\n</table>\n<p>73 rows × 13 columns</p>\n</div>"
     },
     "metadata": {},
     "execution_count": 14
    }
   ],
   "source": [
    "def direction_angle(theta_1, phi_1, theta_2, phi_2):\n",
    "    dtheta = theta_2 - theta_1\n",
    "    dphi = phi_2 - phi_1\n",
    "    radians = np.arctan2(dtheta, dphi)\n",
    "    return np.rad2deg(radians)\n",
    "\n",
    "# get all the stop data and add the lat lon columns\n",
    "def get_stop_time_df(trip_id, conn): \n",
    "    query = \"\"\"\n",
    "    select \n",
    "        stop_time.arrival_time, stop_time.departure_time, \n",
    "        stop_time.stop_sequence, stop_time.shape_dist_traveled, \n",
    "        stop.stop_id, stop.point as geom\n",
    "    from stop_time\n",
    "    join stop on stop.id = stop_time.stop_id\n",
    "    join trip on trip.id = stop_time.trip_id\n",
    "    where trip.trip_id = '{}'\n",
    "    group by stop_time.id, stop.id\n",
    "    order by stop_sequence\n",
    "    ;\n",
    "    \"\"\".format(trip_id).lstrip()\n",
    "    gdf = gpd.read_postgis(query, conn()).to_crs(epsg=4326)\n",
    "\n",
    "    # convert the times to human readable format\n",
    "    gdf['arrival_time'] = gdf['arrival_time'].apply(lambda d: datetime.fromtimestamp(int(d)).strftime('%H:%M:%S'))\n",
    "    gdf['departure_time'] = gdf['departure_time'].apply(lambda d: datetime.fromtimestamp(int(d)).strftime('%H:%M:%S'))\n",
    "\n",
    "    # convert the geom to lat lon\n",
    "    gdf['lat'] = gdf.apply(lambda row: row['geom'].y, axis=1)\n",
    "    gdf['lon'] = gdf.apply(lambda row: row['geom'].x, axis=1)\n",
    "\n",
    "    # find the direction angle of the trip\n",
    "    first = gdf.iloc[0]\n",
    "    last = gdf.iloc[-1]\n",
    "    gdf['direction_angle'] = direction_angle(first.lon, first.lat, last.lon, last.lat) \n",
    "\n",
    "    gdf['distance_between'] = gdf.to_crs(epsg=3035).distance(gdf.to_crs(epsg=3035).shift())\n",
    "    gdf['shape_dist_between'] = gdf.shape_dist_traveled - gdf.shape_dist_traveled.shift()\n",
    "\n",
    "    gdf['shape_dist_between'].iloc[0] = 0\n",
    "    gdf['distance_between'].iloc[0] = 0\n",
    "    \n",
    "    # set the trip id, no need to fetch from db\n",
    "    gdf['trip_id'] = trip_id\n",
    "    gdf['start_time'] = gdf['arrival_time'].iloc[0]\n",
    "\n",
    "    # return a new pandas df dropping the geom column\n",
    "    # return pd.DataFrame(gdf.drop(columns='geom'))\n",
    "    return gdf\n",
    "\n",
    "stop_time_df = get_stop_time_df('16422.4.60-65-b12-1.271.O', get_conn)\n",
    "stop_time_df"
   ]
  },
  {
   "cell_type": "code",
   "execution_count": 15,
   "metadata": {},
   "outputs": [
    {
     "output_type": "execute_result",
     "data": {
      "text/plain": [
       "0.32752063889662414"
      ]
     },
     "metadata": {},
     "execution_count": 15
    }
   ],
   "source": [
    "stop_time_df.to_crs(epsg=4326).iloc[0].geom.distance(stop_time_df.to_crs(epsg=4326).iloc[-1].geom)"
   ]
  },
  {
   "cell_type": "code",
   "execution_count": 12,
   "metadata": {},
   "outputs": [],
   "source": [
    "# get a df with all the stop_time for that trip\n",
    "delayed_funcs = [delayed(get_stop_time_df)(t_id, get_conn) for t_id in gb_trip]\n",
    "parallel_pool = Parallel(n_jobs=8)\n",
    "res = parallel_pool(delayed_funcs)"
   ]
  },
  {
   "cell_type": "code",
   "execution_count": 18,
   "metadata": {},
   "outputs": [
    {
     "output_type": "execute_result",
     "data": {
      "text/plain": [
       "   arrival_time departure_time  stop_sequence  shape_dist_traveled  \\\n",
       "0      10:00:00       10:00:00              1                 0.00   \n",
       "1      10:00:53       10:00:53              2               377.15   \n",
       "2      10:01:22       10:01:22              3               583.63   \n",
       "3      10:01:37       10:01:37              4               683.71   \n",
       "4      10:02:22       10:02:22              5               853.23   \n",
       "..          ...            ...            ...                  ...   \n",
       "20     11:09:00       11:09:00             21             12012.90   \n",
       "21     11:09:00       11:09:00             22             12185.06   \n",
       "22     11:10:00       11:10:00             23             12433.63   \n",
       "23     11:10:00       11:10:00             24             12665.55   \n",
       "24     11:13:00       11:13:00             25             13183.42   \n",
       "\n",
       "                         trip_id  \n",
       "0      16289.4.60-123-b12-1.71.I  \n",
       "1      16289.4.60-123-b12-1.71.I  \n",
       "2      16289.4.60-123-b12-1.71.I  \n",
       "3      16289.4.60-123-b12-1.71.I  \n",
       "4      16289.4.60-123-b12-1.71.I  \n",
       "..                           ...  \n",
       "20  9537.10453.2-332-gad-1.271.I  \n",
       "21  9537.10453.2-332-gad-1.271.I  \n",
       "22  9537.10453.2-332-gad-1.271.I  \n",
       "23  9537.10453.2-332-gad-1.271.I  \n",
       "24  9537.10453.2-332-gad-1.271.I  \n",
       "\n",
       "[1315888 rows x 5 columns]"
      ],
      "text/html": "<div>\n<style scoped>\n    .dataframe tbody tr th:only-of-type {\n        vertical-align: middle;\n    }\n\n    .dataframe tbody tr th {\n        vertical-align: top;\n    }\n\n    .dataframe thead th {\n        text-align: right;\n    }\n</style>\n<table border=\"1\" class=\"dataframe\">\n  <thead>\n    <tr style=\"text-align: right;\">\n      <th></th>\n      <th>arrival_time</th>\n      <th>departure_time</th>\n      <th>stop_sequence</th>\n      <th>shape_dist_traveled</th>\n      <th>trip_id</th>\n    </tr>\n  </thead>\n  <tbody>\n    <tr>\n      <th>0</th>\n      <td>10:00:00</td>\n      <td>10:00:00</td>\n      <td>1</td>\n      <td>0.00</td>\n      <td>16289.4.60-123-b12-1.71.I</td>\n    </tr>\n    <tr>\n      <th>1</th>\n      <td>10:00:53</td>\n      <td>10:00:53</td>\n      <td>2</td>\n      <td>377.15</td>\n      <td>16289.4.60-123-b12-1.71.I</td>\n    </tr>\n    <tr>\n      <th>2</th>\n      <td>10:01:22</td>\n      <td>10:01:22</td>\n      <td>3</td>\n      <td>583.63</td>\n      <td>16289.4.60-123-b12-1.71.I</td>\n    </tr>\n    <tr>\n      <th>3</th>\n      <td>10:01:37</td>\n      <td>10:01:37</td>\n      <td>4</td>\n      <td>683.71</td>\n      <td>16289.4.60-123-b12-1.71.I</td>\n    </tr>\n    <tr>\n      <th>4</th>\n      <td>10:02:22</td>\n      <td>10:02:22</td>\n      <td>5</td>\n      <td>853.23</td>\n      <td>16289.4.60-123-b12-1.71.I</td>\n    </tr>\n    <tr>\n      <th>...</th>\n      <td>...</td>\n      <td>...</td>\n      <td>...</td>\n      <td>...</td>\n      <td>...</td>\n    </tr>\n    <tr>\n      <th>20</th>\n      <td>11:09:00</td>\n      <td>11:09:00</td>\n      <td>21</td>\n      <td>12012.90</td>\n      <td>9537.10453.2-332-gad-1.271.I</td>\n    </tr>\n    <tr>\n      <th>21</th>\n      <td>11:09:00</td>\n      <td>11:09:00</td>\n      <td>22</td>\n      <td>12185.06</td>\n      <td>9537.10453.2-332-gad-1.271.I</td>\n    </tr>\n    <tr>\n      <th>22</th>\n      <td>11:10:00</td>\n      <td>11:10:00</td>\n      <td>23</td>\n      <td>12433.63</td>\n      <td>9537.10453.2-332-gad-1.271.I</td>\n    </tr>\n    <tr>\n      <th>23</th>\n      <td>11:10:00</td>\n      <td>11:10:00</td>\n      <td>24</td>\n      <td>12665.55</td>\n      <td>9537.10453.2-332-gad-1.271.I</td>\n    </tr>\n    <tr>\n      <th>24</th>\n      <td>11:13:00</td>\n      <td>11:13:00</td>\n      <td>25</td>\n      <td>13183.42</td>\n      <td>9537.10453.2-332-gad-1.271.I</td>\n    </tr>\n  </tbody>\n</table>\n<p>1315888 rows × 5 columns</p>\n</div>"
     },
     "metadata": {},
     "execution_count": 18
    }
   ],
   "source": [
    "comb_df = pd.concat(res)\n",
    "comb_df"
   ]
  },
  {
   "cell_type": "code",
   "execution_count": null,
   "metadata": {},
   "outputs": [],
   "source": []
  },
  {
   "cell_type": "code",
   "execution_count": 14,
   "metadata": {},
   "outputs": [
    {
     "output_type": "execute_result",
     "data": {
      "text/plain": [
       "                           trip_id  start_date start_time  stop_sequence  \\\n",
       "0        16289.4.60-123-b12-1.71.I    20210119   11:05:00             19   \n",
       "1        16289.4.60-123-b12-1.71.I    20210121   11:05:00             19   \n",
       "2        16289.4.60-123-b12-1.71.I    20210125   09:00:00             19   \n",
       "3        16289.4.60-123-b12-1.71.I    20210127   09:00:00             19   \n",
       "4        16289.4.60-123-b12-1.71.I    20210119   11:05:00             19   \n",
       "...                            ...         ...        ...            ...   \n",
       "1331128  8397.2.60-145-b12-1.358.O    20210116   20:10:00              4   \n",
       "1331129  8397.2.60-145-b12-1.358.O    20210116   20:10:00              4   \n",
       "1331130  8397.2.60-145-b12-1.358.O    20210116   20:10:00              3   \n",
       "1331131  17281.4.60-44-b12-1.244.I    20210118   09:00:00              2   \n",
       "1331132  17281.4.60-44-b12-1.244.I    20210118   09:00:00              2   \n",
       "\n",
       "         departure  arrival            timestamp       stop_id arrival_time  \\\n",
       "0           -14640   -14640  2021-01-19 10:50:00  8220DB001278     10:19:29   \n",
       "1                0        0  2021-01-21 11:18:21  8220DB001278     10:19:29   \n",
       "2                0        0  2021-01-25 09:13:10  8220DB001278     10:19:29   \n",
       "3                0        0  2021-01-27 09:57:19  8220DB001278     10:19:29   \n",
       "4              120      120  2021-01-19 11:20:01  8220DB001278     10:19:29   \n",
       "...            ...      ...                  ...           ...          ...   \n",
       "1331128       5280     5280  2021-01-16 21:39:22  8220DB001478     17:49:38   \n",
       "1331129       5400     5400  2021-01-16 21:43:33  8220DB001478     17:49:38   \n",
       "1331130       5340     5340  2021-01-16 21:43:33  8220DB007453     17:48:08   \n",
       "1331131       5400     5400  2021-01-18 10:33:00  8350DB004114     22:31:01   \n",
       "1331132       5460     5460  2021-01-18 10:34:03  8350DB004114     22:31:01   \n",
       "\n",
       "        departure_time  shape_dist_traveled  \n",
       "0             10:19:29              5330.51  \n",
       "1             10:19:29              5330.51  \n",
       "2             10:19:29              5330.51  \n",
       "3             10:19:29              5330.51  \n",
       "4             10:19:29              5330.51  \n",
       "...                ...                  ...  \n",
       "1331128       17:49:38              1415.45  \n",
       "1331129       17:49:38              1415.45  \n",
       "1331130       17:48:08              1041.80  \n",
       "1331131       22:31:01               214.91  \n",
       "1331132       22:31:01               214.91  \n",
       "\n",
       "[1331133 rows x 11 columns]"
      ],
      "text/html": "<div>\n<style scoped>\n    .dataframe tbody tr th:only-of-type {\n        vertical-align: middle;\n    }\n\n    .dataframe tbody tr th {\n        vertical-align: top;\n    }\n\n    .dataframe thead th {\n        text-align: right;\n    }\n</style>\n<table border=\"1\" class=\"dataframe\">\n  <thead>\n    <tr style=\"text-align: right;\">\n      <th></th>\n      <th>trip_id</th>\n      <th>start_date</th>\n      <th>start_time</th>\n      <th>stop_sequence</th>\n      <th>departure</th>\n      <th>arrival</th>\n      <th>timestamp</th>\n      <th>stop_id</th>\n      <th>arrival_time</th>\n      <th>departure_time</th>\n      <th>shape_dist_traveled</th>\n    </tr>\n  </thead>\n  <tbody>\n    <tr>\n      <th>0</th>\n      <td>16289.4.60-123-b12-1.71.I</td>\n      <td>20210119</td>\n      <td>11:05:00</td>\n      <td>19</td>\n      <td>-14640</td>\n      <td>-14640</td>\n      <td>2021-01-19 10:50:00</td>\n      <td>8220DB001278</td>\n      <td>10:19:29</td>\n      <td>10:19:29</td>\n      <td>5330.51</td>\n    </tr>\n    <tr>\n      <th>1</th>\n      <td>16289.4.60-123-b12-1.71.I</td>\n      <td>20210121</td>\n      <td>11:05:00</td>\n      <td>19</td>\n      <td>0</td>\n      <td>0</td>\n      <td>2021-01-21 11:18:21</td>\n      <td>8220DB001278</td>\n      <td>10:19:29</td>\n      <td>10:19:29</td>\n      <td>5330.51</td>\n    </tr>\n    <tr>\n      <th>2</th>\n      <td>16289.4.60-123-b12-1.71.I</td>\n      <td>20210125</td>\n      <td>09:00:00</td>\n      <td>19</td>\n      <td>0</td>\n      <td>0</td>\n      <td>2021-01-25 09:13:10</td>\n      <td>8220DB001278</td>\n      <td>10:19:29</td>\n      <td>10:19:29</td>\n      <td>5330.51</td>\n    </tr>\n    <tr>\n      <th>3</th>\n      <td>16289.4.60-123-b12-1.71.I</td>\n      <td>20210127</td>\n      <td>09:00:00</td>\n      <td>19</td>\n      <td>0</td>\n      <td>0</td>\n      <td>2021-01-27 09:57:19</td>\n      <td>8220DB001278</td>\n      <td>10:19:29</td>\n      <td>10:19:29</td>\n      <td>5330.51</td>\n    </tr>\n    <tr>\n      <th>4</th>\n      <td>16289.4.60-123-b12-1.71.I</td>\n      <td>20210119</td>\n      <td>11:05:00</td>\n      <td>19</td>\n      <td>120</td>\n      <td>120</td>\n      <td>2021-01-19 11:20:01</td>\n      <td>8220DB001278</td>\n      <td>10:19:29</td>\n      <td>10:19:29</td>\n      <td>5330.51</td>\n    </tr>\n    <tr>\n      <th>...</th>\n      <td>...</td>\n      <td>...</td>\n      <td>...</td>\n      <td>...</td>\n      <td>...</td>\n      <td>...</td>\n      <td>...</td>\n      <td>...</td>\n      <td>...</td>\n      <td>...</td>\n      <td>...</td>\n    </tr>\n    <tr>\n      <th>1331128</th>\n      <td>8397.2.60-145-b12-1.358.O</td>\n      <td>20210116</td>\n      <td>20:10:00</td>\n      <td>4</td>\n      <td>5280</td>\n      <td>5280</td>\n      <td>2021-01-16 21:39:22</td>\n      <td>8220DB001478</td>\n      <td>17:49:38</td>\n      <td>17:49:38</td>\n      <td>1415.45</td>\n    </tr>\n    <tr>\n      <th>1331129</th>\n      <td>8397.2.60-145-b12-1.358.O</td>\n      <td>20210116</td>\n      <td>20:10:00</td>\n      <td>4</td>\n      <td>5400</td>\n      <td>5400</td>\n      <td>2021-01-16 21:43:33</td>\n      <td>8220DB001478</td>\n      <td>17:49:38</td>\n      <td>17:49:38</td>\n      <td>1415.45</td>\n    </tr>\n    <tr>\n      <th>1331130</th>\n      <td>8397.2.60-145-b12-1.358.O</td>\n      <td>20210116</td>\n      <td>20:10:00</td>\n      <td>3</td>\n      <td>5340</td>\n      <td>5340</td>\n      <td>2021-01-16 21:43:33</td>\n      <td>8220DB007453</td>\n      <td>17:48:08</td>\n      <td>17:48:08</td>\n      <td>1041.80</td>\n    </tr>\n    <tr>\n      <th>1331131</th>\n      <td>17281.4.60-44-b12-1.244.I</td>\n      <td>20210118</td>\n      <td>09:00:00</td>\n      <td>2</td>\n      <td>5400</td>\n      <td>5400</td>\n      <td>2021-01-18 10:33:00</td>\n      <td>8350DB004114</td>\n      <td>22:31:01</td>\n      <td>22:31:01</td>\n      <td>214.91</td>\n    </tr>\n    <tr>\n      <th>1331132</th>\n      <td>17281.4.60-44-b12-1.244.I</td>\n      <td>20210118</td>\n      <td>09:00:00</td>\n      <td>2</td>\n      <td>5460</td>\n      <td>5460</td>\n      <td>2021-01-18 10:34:03</td>\n      <td>8350DB004114</td>\n      <td>22:31:01</td>\n      <td>22:31:01</td>\n      <td>214.91</td>\n    </tr>\n  </tbody>\n</table>\n<p>1331133 rows × 11 columns</p>\n</div>"
     },
     "metadata": {},
     "execution_count": 14
    }
   ],
   "source": [
    "df = df.merge(comb_df, left_on=['trip_id', 'stop_sequence'], right_on=['trip_id', 'stop_sequence'])\n",
    "df"
   ]
  },
  {
   "cell_type": "code",
   "execution_count": 33,
   "metadata": {},
   "outputs": [
    {
     "output_type": "execute_result",
     "data": {
      "text/plain": [
       "                         trip_id  start_date start_time  stop_sequence  \\\n",
       "408824  11758.2.60-13-b12-1.22.I    20210109   22:00:00              1   \n",
       "408825  11758.2.60-13-b12-1.22.I    20210123   18:15:00              1   \n",
       "408826  11758.2.60-13-b12-1.22.I    20210130   18:15:00              1   \n",
       "408827  11758.2.60-13-b12-1.22.I    20210123   18:15:00              1   \n",
       "408828  11758.2.60-13-b12-1.22.I    20210123   18:15:00              1   \n",
       "\n",
       "        departure  arrival            timestamp       stop_id arrival_time  \\\n",
       "408824          0        0  2021-01-09 23:13:18  8230DB007229     19:15:00   \n",
       "408825          0        0  2021-01-23 19:36:14  8230DB007229     19:15:00   \n",
       "408826          0        0  2021-01-30 19:36:01  8230DB007229     19:15:00   \n",
       "408827         60        0  2021-01-23 18:17:35  8230DB007229     19:15:00   \n",
       "408828        120        0  2021-01-23 18:25:51  8230DB007229     19:15:00   \n",
       "\n",
       "       departure_time  shape_dist_traveled  \n",
       "408824       19:15:00                  0.0  \n",
       "408825       19:15:00                  0.0  \n",
       "408826       19:15:00                  0.0  \n",
       "408827       19:15:00                  0.0  \n",
       "408828       19:15:00                  0.0  "
      ],
      "text/html": "<div>\n<style scoped>\n    .dataframe tbody tr th:only-of-type {\n        vertical-align: middle;\n    }\n\n    .dataframe tbody tr th {\n        vertical-align: top;\n    }\n\n    .dataframe thead th {\n        text-align: right;\n    }\n</style>\n<table border=\"1\" class=\"dataframe\">\n  <thead>\n    <tr style=\"text-align: right;\">\n      <th></th>\n      <th>trip_id</th>\n      <th>start_date</th>\n      <th>start_time</th>\n      <th>stop_sequence</th>\n      <th>departure</th>\n      <th>arrival</th>\n      <th>timestamp</th>\n      <th>stop_id</th>\n      <th>arrival_time</th>\n      <th>departure_time</th>\n      <th>shape_dist_traveled</th>\n    </tr>\n  </thead>\n  <tbody>\n    <tr>\n      <th>408824</th>\n      <td>11758.2.60-13-b12-1.22.I</td>\n      <td>20210109</td>\n      <td>22:00:00</td>\n      <td>1</td>\n      <td>0</td>\n      <td>0</td>\n      <td>2021-01-09 23:13:18</td>\n      <td>8230DB007229</td>\n      <td>19:15:00</td>\n      <td>19:15:00</td>\n      <td>0.0</td>\n    </tr>\n    <tr>\n      <th>408825</th>\n      <td>11758.2.60-13-b12-1.22.I</td>\n      <td>20210123</td>\n      <td>18:15:00</td>\n      <td>1</td>\n      <td>0</td>\n      <td>0</td>\n      <td>2021-01-23 19:36:14</td>\n      <td>8230DB007229</td>\n      <td>19:15:00</td>\n      <td>19:15:00</td>\n      <td>0.0</td>\n    </tr>\n    <tr>\n      <th>408826</th>\n      <td>11758.2.60-13-b12-1.22.I</td>\n      <td>20210130</td>\n      <td>18:15:00</td>\n      <td>1</td>\n      <td>0</td>\n      <td>0</td>\n      <td>2021-01-30 19:36:01</td>\n      <td>8230DB007229</td>\n      <td>19:15:00</td>\n      <td>19:15:00</td>\n      <td>0.0</td>\n    </tr>\n    <tr>\n      <th>408827</th>\n      <td>11758.2.60-13-b12-1.22.I</td>\n      <td>20210123</td>\n      <td>18:15:00</td>\n      <td>1</td>\n      <td>60</td>\n      <td>0</td>\n      <td>2021-01-23 18:17:35</td>\n      <td>8230DB007229</td>\n      <td>19:15:00</td>\n      <td>19:15:00</td>\n      <td>0.0</td>\n    </tr>\n    <tr>\n      <th>408828</th>\n      <td>11758.2.60-13-b12-1.22.I</td>\n      <td>20210123</td>\n      <td>18:15:00</td>\n      <td>1</td>\n      <td>120</td>\n      <td>0</td>\n      <td>2021-01-23 18:25:51</td>\n      <td>8230DB007229</td>\n      <td>19:15:00</td>\n      <td>19:15:00</td>\n      <td>0.0</td>\n    </tr>\n  </tbody>\n</table>\n</div>"
     },
     "metadata": {},
     "execution_count": 33
    }
   ],
   "source": [
    "# df[df.start_time > df.arrival_time]\n",
    "# comb_df[comb_df['trip_id'] == '11758.2.60-13-b12-1.22.I']\n",
    "# df.loc[(df.start_time < df.arrival_time)]\n",
    "# df[(df.stop_sequence == 1) & (df.start_time == df.arrival_time)]\n",
    "df[(df.trip_id == '11758.2.60-13-b12-1.22.I') & (df.stop_sequence == 1)]"
   ]
  },
  {
   "cell_type": "code",
   "execution_count": 10,
   "metadata": {},
   "outputs": [
    {
     "output_type": "execute_result",
     "data": {
      "text/plain": [
       "Empty DataFrame\n",
       "Columns: [trip_id, start_date, start_time, stop_sequence, departure, arrival, timestamp, stop_id, arrival_time, departure_time, shape_dist_traveled]\n",
       "Index: []"
      ],
      "text/html": "<div>\n<style scoped>\n    .dataframe tbody tr th:only-of-type {\n        vertical-align: middle;\n    }\n\n    .dataframe tbody tr th {\n        vertical-align: top;\n    }\n\n    .dataframe thead th {\n        text-align: right;\n    }\n</style>\n<table border=\"1\" class=\"dataframe\">\n  <thead>\n    <tr style=\"text-align: right;\">\n      <th></th>\n      <th>trip_id</th>\n      <th>start_date</th>\n      <th>start_time</th>\n      <th>stop_sequence</th>\n      <th>departure</th>\n      <th>arrival</th>\n      <th>timestamp</th>\n      <th>stop_id</th>\n      <th>arrival_time</th>\n      <th>departure_time</th>\n      <th>shape_dist_traveled</th>\n    </tr>\n  </thead>\n  <tbody>\n  </tbody>\n</table>\n</div>"
     },
     "metadata": {},
     "execution_count": 10
    }
   ],
   "source": [
    "# del df[df['arrival_time'].isnull()]\n",
    "df[df['arrival_time'].isnull()]"
   ]
  },
  {
   "cell_type": "code",
   "execution_count": 41,
   "metadata": {},
   "outputs": [],
   "source": [
    "# start = time.time()\n",
    "# with parallel_backend('threading'):\n",
    "#     scats_model = load(scats)\n",
    "\n",
    "# print(time.time()-start)"
   ]
  },
  {
   "cell_type": "code",
   "execution_count": 17,
   "metadata": {},
   "outputs": [],
   "source": [
    "vaex.from_pandas(df).export_hdf5('./output/processing_temp.hdf5')\n",
    "del df\n",
    "import gc\n",
    "gc.collect()"
   ]
  },
  {
   "cell_type": "code",
   "execution_count": 5,
   "metadata": {},
   "outputs": [
    {
     "output_type": "stream",
     "name": "stdout",
     "text": [
      "merged stops, time: 3\n",
      "merged stop times, time: 129\n"
     ]
    }
   ],
   "source": [
    "def add_stop_data(start):\n",
    "    # read csv\n",
    "    df = pd.read_csv(gtfs_final_csv_path)\n",
    "\n",
    "    # get a list of all the stops\n",
    "    stop_df = get_stops_df(get_conn)\n",
    "\n",
    "    # merge the entity stop_id data with the stop lat lon from database\n",
    "    df = pd.merge(df, stop_df, on=[\"stop_id\"])\n",
    "    print(\"merged stops, time: {}\".format(round(time.time() - start)))\n",
    "\n",
    "    # get all the stop_times for each trip in our realtime data\n",
    "    trip_list = df[\"trip_id\"].unique()\n",
    "    delayed_funcs = [delayed(get_stop_time_df)(t_id, get_conn) for t_id in trip_list]\n",
    "\n",
    "    parallel_pool = Parallel(n_jobs=8)\n",
    "    res = parallel_pool(delayed_funcs)\n",
    "\n",
    "    # stop times for each trip dataframe\n",
    "    stop_time_trip_df = pd.concat(res)\n",
    "    df = df.merge(\n",
    "        stop_time_trip_df, left_on=[\"trip_id\", \"stop_sequence\"], right_on=[\"trip_id\", \"stop_sequence\"], how=\"left\"\n",
    "    )\n",
    "    print(\"merged stop times, time: {}\".format(round(time.time() - start)))\n",
    "\n",
    "    # convert to hdf5\n",
    "    vaex.from_pandas(df).export_hdf5(\"./output/processing_temp.hdf5\")\n",
    "add_stop_data(time.time())"
   ]
  },
  {
   "cell_type": "code",
   "execution_count": 31,
   "metadata": {},
   "outputs": [
    {
     "output_type": "execute_result",
     "data": {
      "text/html": "<table>\n<thead>\n<tr><th>#                                    </th><th>trip_id                  </th><th>start_date  </th><th>start_time  </th><th>stop_sequence  </th><th>departure  </th><th>arrival  </th><th>timestamp          </th><th>stop_id     </th><th>lat              </th><th>lon             </th><th>arrival_time  </th><th>departure_time  </th><th>shape_dist_traveled  </th></tr>\n</thead>\n<tbody>\n<tr><td><i style='opacity: 0.6'>0</i>        </td><td>16289.4.60-123-b12-1.71.I</td><td>20210119    </td><td>11:05:00    </td><td>19             </td><td>-14640     </td><td>-14640   </td><td>2021-01-19 10:50:00</td><td>8220DB001278</td><td>-6.26130011810001</td><td>53.3442366224365</td><td>10:19:29      </td><td>10:19:29        </td><td>5330.51              </td></tr>\n<tr><td><i style='opacity: 0.6'>1</i>        </td><td>16287.4.60-123-b12-1.71.I</td><td>20210119    </td><td>09:00:00    </td><td>19             </td><td>-8280      </td><td>-8280    </td><td>2021-01-19 08:51:57</td><td>8220DB001278</td><td>-6.26130011810001</td><td>53.3442366224365</td><td>08:19:52      </td><td>08:19:52        </td><td>5330.51              </td></tr>\n<tr><td><i style='opacity: 0.6'>2</i>        </td><td>16302.4.60-123-b12-1.71.I</td><td>20210119    </td><td>09:15:00    </td><td>19             </td><td>-5700      </td><td>-5700    </td><td>2021-01-19 09:14:50</td><td>8220DB001278</td><td>-6.26130011810001</td><td>53.3442366224365</td><td>08:34:52      </td><td>08:34:52        </td><td>5330.51              </td></tr>\n<tr><td><i style='opacity: 0.6'>3</i>        </td><td>16316.4.60-123-b12-1.71.I</td><td>20210118    </td><td>08:15:00    </td><td>19             </td><td>-3900      </td><td>-3900    </td><td>2021-01-18 08:02:08</td><td>8220DB001278</td><td>-6.26130011810001</td><td>53.3442366224365</td><td>00:06:07      </td><td>00:06:07        </td><td>5330.51              </td></tr>\n<tr><td><i style='opacity: 0.6'>4</i>        </td><td>1041.1.60-122-b12-1.65.O </td><td>20210114    </td><td>14:00:00    </td><td>23             </td><td>-660       </td><td>-660     </td><td>2021-01-14 15:00:52</td><td>8220DB001278</td><td>-6.26130011810001</td><td>53.3442366224365</td><td>15:37:29      </td><td>15:37:29        </td><td>7800.24              </td></tr>\n<tr><td>...                                  </td><td>...                      </td><td>...         </td><td>...         </td><td>...            </td><td>...        </td><td>...      </td><td>...                </td><td>...         </td><td>...              </td><td>...             </td><td>...           </td><td>...             </td><td>...                  </td></tr>\n<tr><td><i style='opacity: 0.6'>1,331,935</i></td><td>12475.3.60-31-b12-1.161.O</td><td>20210131    </td><td>23:15:00    </td><td>54             </td><td>300        </td><td>300      </td><td>2021-01-31 23:53:38</td><td>8240DB000707</td><td>-6.05864990209616</td><td>53.3724895313374</td><td>00:44:11      </td><td>00:44:11        </td><td>17080.81             </td></tr>\n<tr><td><i style='opacity: 0.6'>1,331,936</i></td><td>12333.3.60-65-b12-1.272.I</td><td>20210124    </td><td>22:00:00    </td><td>16             </td><td>360        </td><td>360      </td><td>2021-01-24 22:20:43</td><td>8350DB004102</td><td>-6.51561604212167</td><td>53.1888733556119</td><td>23:12:09      </td><td>23:12:09        </td><td>11038.61             </td></tr>\n<tr><td><i style='opacity: 0.6'>1,331,937</i></td><td>12304.3.60-65-b12-1.269.O</td><td>20210131    </td><td>21:30:00    </td><td>69             </td><td>360        </td><td>360      </td><td>2021-01-31 22:26:53</td><td>8350DB004100</td><td>-6.51542624487623</td><td>53.188736170197 </td><td>23:15:04      </td><td>23:15:04        </td><td>28862.93             </td></tr>\n<tr><td><i style='opacity: 0.6'>1,331,938</i></td><td>16460.4.60-65-b12-1.271.O</td><td>20210120    </td><td>18:30:00    </td><td>70             </td><td>480        </td><td>480      </td><td>2021-01-20 19:45:43</td><td>8350DB004021</td><td>-6.51885133635455</td><td>53.1861812708552</td><td>17:32:53      </td><td>17:32:53        </td><td>29226.91             </td></tr>\n<tr><td><i style='opacity: 0.6'>1,331,939</i></td><td>6322.1.60-13-b12-1.26.O  </td><td>20210114    </td><td>18:30:00    </td><td>90             </td><td>1140       </td><td>1140     </td><td>2021-01-14 20:12:14</td><td>8230DB007230</td><td>-6.4537789442073 </td><td>53.3223763429667</td><td>20:50:38      </td><td>20:50:38        </td><td>35107.12             </td></tr>\n</tbody>\n</table>",
      "text/plain": [
       "#          trip_id                    start_date    start_time    stop_sequence    departure    arrival    timestamp            stop_id       lat                lon               arrival_time    departure_time    shape_dist_traveled\n",
       "0          16289.4.60-123-b12-1.71.I  20210119      11:05:00      19               -14640       -14640     2021-01-19 10:50:00  8220DB001278  -6.26130011810001  53.3442366224365  10:19:29        10:19:29          5330.51\n",
       "1          16287.4.60-123-b12-1.71.I  20210119      09:00:00      19               -8280        -8280      2021-01-19 08:51:57  8220DB001278  -6.26130011810001  53.3442366224365  08:19:52        08:19:52          5330.51\n",
       "2          16302.4.60-123-b12-1.71.I  20210119      09:15:00      19               -5700        -5700      2021-01-19 09:14:50  8220DB001278  -6.26130011810001  53.3442366224365  08:34:52        08:34:52          5330.51\n",
       "3          16316.4.60-123-b12-1.71.I  20210118      08:15:00      19               -3900        -3900      2021-01-18 08:02:08  8220DB001278  -6.26130011810001  53.3442366224365  00:06:07        00:06:07          5330.51\n",
       "4          1041.1.60-122-b12-1.65.O   20210114      14:00:00      23               -660         -660       2021-01-14 15:00:52  8220DB001278  -6.26130011810001  53.3442366224365  15:37:29        15:37:29          7800.24\n",
       "...        ...                        ...           ...           ...              ...          ...        ...                  ...           ...                ...               ...             ...               ...\n",
       "1,331,935  12475.3.60-31-b12-1.161.O  20210131      23:15:00      54               300          300        2021-01-31 23:53:38  8240DB000707  -6.05864990209616  53.3724895313374  00:44:11        00:44:11          17080.81\n",
       "1,331,936  12333.3.60-65-b12-1.272.I  20210124      22:00:00      16               360          360        2021-01-24 22:20:43  8350DB004102  -6.51561604212167  53.1888733556119  23:12:09        23:12:09          11038.61\n",
       "1,331,937  12304.3.60-65-b12-1.269.O  20210131      21:30:00      69               360          360        2021-01-31 22:26:53  8350DB004100  -6.51542624487623  53.188736170197   23:15:04        23:15:04          28862.93\n",
       "1,331,938  16460.4.60-65-b12-1.271.O  20210120      18:30:00      70               480          480        2021-01-20 19:45:43  8350DB004021  -6.51885133635455  53.1861812708552  17:32:53        17:32:53          29226.91\n",
       "1,331,939  6322.1.60-13-b12-1.26.O    20210114      18:30:00      90               1140         1140       2021-01-14 20:12:14  8230DB007230  -6.4537789442073   53.3223763429667  20:50:38        20:50:38          35107.12"
      ]
     },
     "metadata": {},
     "execution_count": 31
    }
   ],
   "source": [
    "vx_df = vaex.open('./output/processing_temp.hdf5')\n",
    "vx_df"
   ]
  },
  {
   "cell_type": "code",
   "execution_count": 13,
   "metadata": {},
   "outputs": [
    {
     "output_type": "execute_result",
     "data": {
      "text/html": "<table>\n<thead>\n<tr><th>#                                    </th><th>trip_id                  </th><th>start_date  </th><th>start_time  </th><th>stop_sequence  </th><th>departure  </th><th>arrival  </th><th>timestamp          </th><th>stop_id     </th><th>lat              </th><th>lon             </th><th>arrival_time  </th><th>departure_time  </th><th>shape_dist_traveled  </th><th>hour  </th><th>dow  </th></tr>\n</thead>\n<tbody>\n<tr><td><i style='opacity: 0.6'>0</i>        </td><td>16289.4.60-123-b12-1.71.I</td><td>20210119    </td><td>11:05:00    </td><td>19             </td><td>-14640     </td><td>-14640   </td><td>2021-01-19 10:50:00</td><td>8220DB001278</td><td>-6.26130011810001</td><td>53.3442366224365</td><td>10:19:29      </td><td>10:19:29        </td><td>5330.51              </td><td>10    </td><td>2    </td></tr>\n<tr><td><i style='opacity: 0.6'>1</i>        </td><td>16287.4.60-123-b12-1.71.I</td><td>20210119    </td><td>09:00:00    </td><td>19             </td><td>-8280      </td><td>-8280    </td><td>2021-01-19 08:51:57</td><td>8220DB001278</td><td>-6.26130011810001</td><td>53.3442366224365</td><td>08:19:52      </td><td>08:19:52        </td><td>5330.51              </td><td>8     </td><td>2    </td></tr>\n<tr><td><i style='opacity: 0.6'>2</i>        </td><td>16302.4.60-123-b12-1.71.I</td><td>20210119    </td><td>09:15:00    </td><td>19             </td><td>-5700      </td><td>-5700    </td><td>2021-01-19 09:14:50</td><td>8220DB001278</td><td>-6.26130011810001</td><td>53.3442366224365</td><td>08:34:52      </td><td>08:34:52        </td><td>5330.51              </td><td>8     </td><td>2    </td></tr>\n<tr><td><i style='opacity: 0.6'>3</i>        </td><td>16316.4.60-123-b12-1.71.I</td><td>20210118    </td><td>08:15:00    </td><td>19             </td><td>-3900      </td><td>-3900    </td><td>2021-01-18 08:02:08</td><td>8220DB001278</td><td>-6.26130011810001</td><td>53.3442366224365</td><td>00:06:07      </td><td>00:06:07        </td><td>5330.51              </td><td>0     </td><td>1    </td></tr>\n<tr><td><i style='opacity: 0.6'>4</i>        </td><td>1041.1.60-122-b12-1.65.O </td><td>20210114    </td><td>14:00:00    </td><td>23             </td><td>-660       </td><td>-660     </td><td>2021-01-14 15:00:52</td><td>8220DB001278</td><td>-6.26130011810001</td><td>53.3442366224365</td><td>15:37:29      </td><td>15:37:29        </td><td>7800.24              </td><td>15    </td><td>3    </td></tr>\n<tr><td>...                                  </td><td>...                      </td><td>...         </td><td>...         </td><td>...            </td><td>...        </td><td>...      </td><td>...                </td><td>...         </td><td>...              </td><td>...             </td><td>...           </td><td>...             </td><td>...                  </td><td>...   </td><td>...  </td></tr>\n<tr><td><i style='opacity: 0.6'>1,331,935</i></td><td>12475.3.60-31-b12-1.161.O</td><td>20210131    </td><td>23:15:00    </td><td>54             </td><td>300        </td><td>300      </td><td>2021-01-31 23:53:38</td><td>8240DB000707</td><td>-6.05864990209616</td><td>53.3724895313374</td><td>00:44:11      </td><td>00:44:11        </td><td>17080.81             </td><td>0     </td><td>0    </td></tr>\n<tr><td><i style='opacity: 0.6'>1,331,936</i></td><td>12333.3.60-65-b12-1.272.I</td><td>20210124    </td><td>22:00:00    </td><td>16             </td><td>360        </td><td>360      </td><td>2021-01-24 22:20:43</td><td>8350DB004102</td><td>-6.51561604212167</td><td>53.1888733556119</td><td>23:12:09      </td><td>23:12:09        </td><td>11038.61             </td><td>23    </td><td>6    </td></tr>\n<tr><td><i style='opacity: 0.6'>1,331,937</i></td><td>12304.3.60-65-b12-1.269.O</td><td>20210131    </td><td>21:30:00    </td><td>69             </td><td>360        </td><td>360      </td><td>2021-01-31 22:26:53</td><td>8350DB004100</td><td>-6.51542624487623</td><td>53.188736170197 </td><td>23:15:04      </td><td>23:15:04        </td><td>28862.93             </td><td>23    </td><td>6    </td></tr>\n<tr><td><i style='opacity: 0.6'>1,331,938</i></td><td>16460.4.60-65-b12-1.271.O</td><td>20210120    </td><td>18:30:00    </td><td>70             </td><td>480        </td><td>480      </td><td>2021-01-20 19:45:43</td><td>8350DB004021</td><td>-6.51885133635455</td><td>53.1861812708552</td><td>17:32:53      </td><td>17:32:53        </td><td>29226.91             </td><td>17    </td><td>3    </td></tr>\n<tr><td><i style='opacity: 0.6'>1,331,939</i></td><td>6322.1.60-13-b12-1.26.O  </td><td>20210114    </td><td>18:30:00    </td><td>90             </td><td>1140       </td><td>1140     </td><td>2021-01-14 20:12:14</td><td>8230DB007230</td><td>-6.4537789442073 </td><td>53.3223763429667</td><td>20:50:38      </td><td>20:50:38        </td><td>35107.12             </td><td>20    </td><td>3    </td></tr>\n</tbody>\n</table>",
      "text/plain": [
       "#          trip_id                    start_date    start_time    stop_sequence    departure    arrival    timestamp            stop_id       lat                lon               arrival_time    departure_time    shape_dist_traveled    hour    dow\n",
       "0          16289.4.60-123-b12-1.71.I  20210119      11:05:00      19               -14640       -14640     2021-01-19 10:50:00  8220DB001278  -6.26130011810001  53.3442366224365  10:19:29        10:19:29          5330.51                10      2\n",
       "1          16287.4.60-123-b12-1.71.I  20210119      09:00:00      19               -8280        -8280      2021-01-19 08:51:57  8220DB001278  -6.26130011810001  53.3442366224365  08:19:52        08:19:52          5330.51                8       2\n",
       "2          16302.4.60-123-b12-1.71.I  20210119      09:15:00      19               -5700        -5700      2021-01-19 09:14:50  8220DB001278  -6.26130011810001  53.3442366224365  08:34:52        08:34:52          5330.51                8       2\n",
       "3          16316.4.60-123-b12-1.71.I  20210118      08:15:00      19               -3900        -3900      2021-01-18 08:02:08  8220DB001278  -6.26130011810001  53.3442366224365  00:06:07        00:06:07          5330.51                0       1\n",
       "4          1041.1.60-122-b12-1.65.O   20210114      14:00:00      23               -660         -660       2021-01-14 15:00:52  8220DB001278  -6.26130011810001  53.3442366224365  15:37:29        15:37:29          7800.24                15      3\n",
       "...        ...                        ...           ...           ...              ...          ...        ...                  ...           ...                ...               ...             ...               ...                    ...     ...\n",
       "1,331,935  12475.3.60-31-b12-1.161.O  20210131      23:15:00      54               300          300        2021-01-31 23:53:38  8240DB000707  -6.05864990209616  53.3724895313374  00:44:11        00:44:11          17080.81               0       0\n",
       "1,331,936  12333.3.60-65-b12-1.272.I  20210124      22:00:00      16               360          360        2021-01-24 22:20:43  8350DB004102  -6.51561604212167  53.1888733556119  23:12:09        23:12:09          11038.61               23      6\n",
       "1,331,937  12304.3.60-65-b12-1.269.O  20210131      21:30:00      69               360          360        2021-01-31 22:26:53  8350DB004100  -6.51542624487623  53.188736170197   23:15:04        23:15:04          28862.93               23      6\n",
       "1,331,938  16460.4.60-65-b12-1.271.O  20210120      18:30:00      70               480          480        2021-01-20 19:45:43  8350DB004021  -6.51885133635455  53.1861812708552  17:32:53        17:32:53          29226.91               17      3\n",
       "1,331,939  6322.1.60-13-b12-1.26.O    20210114      18:30:00      90               1140         1140       2021-01-14 20:12:14  8230DB007230  -6.4537789442073   53.3223763429667  20:50:38        20:50:38          35107.12               20      3"
      ]
     },
     "metadata": {},
     "execution_count": 13
    }
   ],
   "source": [
    "def predict_traffic_from_gtfsr(_df):\n",
    "    df = _df\n",
    "\n",
    "    def apply_dow(start_date, start_time, arrival_time):\n",
    "        date = datetime.strptime(str(start_date), \"%Y%m%d\") \n",
    "        if datetime.strptime(str(arrival_time), '%H:%M:%S') < datetime.strptime(str(start_time), '%H:%M:%S'):\n",
    "            return (date + timedelta(days=1)).weekday()\n",
    "        return date.weekday()\n",
    "\n",
    "    df['hour'] = df['arrival_time'].apply(lambda t: datetime.strptime(str(t), '%H:%M:%S').hour if not type(t) == None else None )\n",
    "    df['dow'] = df.apply(apply_dow, ['start_date', 'start_time', 'arrival_time'])\n",
    "\n",
    "    pca_coord = vaex.ml.PCA(features=['lat', 'lon'], n_components=2, prefix='pca')\n",
    "    df = pca_coord.fit_transform(df)\n",
    "\n",
    "    cycl_transform_hour = vaex.ml.CycleTransformer(features=['hour'], n=24)\n",
    "    df = cycl_transform_hour.fit_transform(df)\n",
    "\n",
    "    cycl_transform_dow = vaex.ml.CycleTransformer(features=['dow'], n=7)\n",
    "    df = cycl_transform_dow.fit_transform(df)\n",
    "\n",
    "    # with parallel_backend(\"threading\"):\n",
    "        # scats_model = load(scats)\n",
    "        # print(\"loaded scats model, time: {}\".format(round(time.time() - start)))\n",
    "\n",
    "    # with parallel_backend(\"threading\"):\n",
    "    #     df = scats_model.transform(df)\n",
    "\n",
    "    # _df = _df.drop(['dow', 'hour'])\n",
    "\n",
    "    return df[_df.column_names]\n",
    "pred_df = predict_traffic_from_gtfsr(vx_df)\n",
    "pred_df"
   ]
  },
  {
   "cell_type": "code",
   "execution_count": 14,
   "metadata": {},
   "outputs": [
    {
     "output_type": "stream",
     "name": "stderr",
     "text": [
      "ERROR:ThreadPoolExecutor-6_0:vaex.execution:error in task, flush task queue\nTraceback (most recent call last):\n  File \"/home/vlad/projects/dynamoDublin/backend_d-dub/.denv/lib/python3.8/site-packages/vaex/scopes.py\", line 97, in evaluate\n    result = self[expression]\n  File \"/home/vlad/projects/dynamoDublin/backend_d-dub/.denv/lib/python3.8/site-packages/vaex/scopes.py\", line 144, in __getitem__\n    raise KeyError(\"Unknown variables or column: %r\" % (variable,))\nKeyError: \"Unknown variables or column: 'lambda_function_8(arrival_time)'\"\n\nDuring handling of the above exception, another exception occurred:\n\nTraceback (most recent call last):\n  File \"/home/vlad/projects/dynamoDublin/backend_d-dub/.denv/lib/python3.8/site-packages/vaex/execution.py\", line 153, in execute_async\n    async for element in self.thread_pool.map_async(self.process_part, parts,\n  File \"/home/vlad/projects/dynamoDublin/backend_d-dub/.denv/lib/python3.8/site-packages/vaex/multithreading.py\", line 74, in map_async\n    yield await value\n  File \"/usr/lib/python3.8/asyncio/futures.py\", line 257, in __await__\n    yield self  # This tells Task to wait for completion.\n  File \"/usr/lib/python3.8/asyncio/tasks.py\", line 349, in __wakeup\n    future.result()\n  File \"/usr/lib/python3.8/asyncio/futures.py\", line 175, in result\n    raise self._exception\n  File \"/usr/lib/python3.8/concurrent/futures/thread.py\", line 57, in run\n    result = self.fn(*self.args, **self.kwargs)\n  File \"/home/vlad/projects/dynamoDublin/backend_d-dub/.denv/lib/python3.8/site-packages/vaex/multithreading.py\", line 64, in <lambda>\n    iterator = [loop.run_in_executor(self, lambda value=value: wrapped(value)) for value in values]\n  File \"/home/vlad/projects/dynamoDublin/backend_d-dub/.denv/lib/python3.8/site-packages/vaex/multithreading.py\", line 54, in wrapped\n    callable(self.local.index, *args, **kwargs, **kwargs_extra)\n  File \"/home/vlad/projects/dynamoDublin/backend_d-dub/.denv/lib/python3.8/site-packages/vaex/execution.py\", line 206, in process_part\n    block_dict = {expression: block_scope.evaluate(expression) for expression in run.expressions}\n  File \"/home/vlad/projects/dynamoDublin/backend_d-dub/.denv/lib/python3.8/site-packages/vaex/execution.py\", line 206, in <dictcomp>\n    block_dict = {expression: block_scope.evaluate(expression) for expression in run.expressions}\n  File \"/home/vlad/projects/dynamoDublin/backend_d-dub/.denv/lib/python3.8/site-packages/vaex/scopes.py\", line 97, in evaluate\n    result = self[expression]\n  File \"/home/vlad/projects/dynamoDublin/backend_d-dub/.denv/lib/python3.8/site-packages/vaex/scopes.py\", line 139, in __getitem__\n    self.values[variable] = self.evaluate(expression)  # , out=self.buffers[variable])\n  File \"/home/vlad/projects/dynamoDublin/backend_d-dub/.denv/lib/python3.8/site-packages/vaex/scopes.py\", line 103, in evaluate\n    result = eval(expression, expression_namespace, self)\n  File \"<string>\", line 1, in <module>\n  File \"/home/vlad/projects/dynamoDublin/backend_d-dub/.denv/lib/python3.8/site-packages/vaex/expression.py\", line 1140, in __call__\n    scalar_result = self.f(*[fix_type(k[i]) for k in args], **{key: value[i] for key, value in kwargs.items()})\n  File \"<ipython-input-13-9f3fe57043e6>\", line 10, in <lambda>\n    df['hour'] = df['arrival_time'].apply(lambda t: datetime.strptime(str(t), '%H:%M:%S').hour if not type(t) == None else None )\n  File \"/usr/lib/python3.8/_strptime.py\", line 568, in _strptime_datetime\n    tt, fraction, gmtoff_fraction = _strptime(data_string, format)\n  File \"/usr/lib/python3.8/_strptime.py\", line 349, in _strptime\n    raise ValueError(\"time data %r does not match format %r\" %\nValueError: time data 'None' does not match format '%H:%M:%S'\n"
     ]
    },
    {
     "output_type": "error",
     "ename": "ValueError",
     "evalue": "time data 'None' does not match format '%H:%M:%S'",
     "traceback": [
      "\u001b[0;31m---------------------------------------------------------------------------\u001b[0m",
      "\u001b[0;31mKeyError\u001b[0m                                  Traceback (most recent call last)",
      "\u001b[0;32m~/projects/dynamoDublin/backend_d-dub/.denv/lib/python3.8/site-packages/vaex/scopes.py\u001b[0m in \u001b[0;36mevaluate\u001b[0;34m(self, expression, out)\u001b[0m\n\u001b[1;32m     96\u001b[0m             \u001b[0;31m# logger.debug(\"try avoid evaluating: %s\", expression)\u001b[0m\u001b[0;34m\u001b[0m\u001b[0;34m\u001b[0m\u001b[0;34m\u001b[0m\u001b[0m\n\u001b[0;32m---> 97\u001b[0;31m             \u001b[0mresult\u001b[0m \u001b[0;34m=\u001b[0m \u001b[0mself\u001b[0m\u001b[0;34m[\u001b[0m\u001b[0mexpression\u001b[0m\u001b[0;34m]\u001b[0m\u001b[0;34m\u001b[0m\u001b[0;34m\u001b[0m\u001b[0m\n\u001b[0m\u001b[1;32m     98\u001b[0m         \u001b[0;32mexcept\u001b[0m \u001b[0mKeyError\u001b[0m\u001b[0;34m:\u001b[0m\u001b[0;34m\u001b[0m\u001b[0;34m\u001b[0m\u001b[0m\n",
      "\u001b[0;32m~/projects/dynamoDublin/backend_d-dub/.denv/lib/python3.8/site-packages/vaex/scopes.py\u001b[0m in \u001b[0;36m__getitem__\u001b[0;34m(self, variable)\u001b[0m\n\u001b[1;32m    143\u001b[0m             \u001b[0;32mif\u001b[0m \u001b[0mvariable\u001b[0m \u001b[0;32mnot\u001b[0m \u001b[0;32min\u001b[0m \u001b[0mself\u001b[0m\u001b[0;34m.\u001b[0m\u001b[0mvalues\u001b[0m\u001b[0;34m:\u001b[0m\u001b[0;34m\u001b[0m\u001b[0;34m\u001b[0m\u001b[0m\n\u001b[0;32m--> 144\u001b[0;31m                 \u001b[0;32mraise\u001b[0m \u001b[0mKeyError\u001b[0m\u001b[0;34m(\u001b[0m\u001b[0;34m\"Unknown variables or column: %r\"\u001b[0m \u001b[0;34m%\u001b[0m \u001b[0;34m(\u001b[0m\u001b[0mvariable\u001b[0m\u001b[0;34m,\u001b[0m\u001b[0;34m)\u001b[0m\u001b[0;34m)\u001b[0m\u001b[0;34m\u001b[0m\u001b[0;34m\u001b[0m\u001b[0m\n\u001b[0m\u001b[1;32m    145\u001b[0m \u001b[0;34m\u001b[0m\u001b[0m\n",
      "\u001b[0;31mKeyError\u001b[0m: \"Unknown variables or column: 'lambda_function_8(arrival_time)'\"",
      "\nDuring handling of the above exception, another exception occurred:\n",
      "\u001b[0;31mValueError\u001b[0m                                Traceback (most recent call last)",
      "\u001b[0;32m<ipython-input-14-4db215c729a4>\u001b[0m in \u001b[0;36m<module>\u001b[0;34m\u001b[0m\n\u001b[0;32m----> 1\u001b[0;31m \u001b[0mpred_df\u001b[0m\u001b[0;34m[\u001b[0m\u001b[0mvx_df\u001b[0m\u001b[0;34m.\u001b[0m\u001b[0mcolumn_names\u001b[0m\u001b[0;34m]\u001b[0m\u001b[0;34m.\u001b[0m\u001b[0mexport_csv\u001b[0m\u001b[0;34m(\u001b[0m\u001b[0mgtfs_processed_csv_path\u001b[0m\u001b[0;34m)\u001b[0m\u001b[0;34m\u001b[0m\u001b[0;34m\u001b[0m\u001b[0m\n\u001b[0m",
      "\u001b[0;32m~/projects/dynamoDublin/backend_d-dub/.denv/lib/python3.8/site-packages/vaex/dataframe.py\u001b[0m in \u001b[0;36mexport_csv\u001b[0;34m(self, path, virtual, selection, progress, chunk_size, **kwargs)\u001b[0m\n\u001b[1;32m   5841\u001b[0m         \u001b[0mn_samples\u001b[0m \u001b[0;34m=\u001b[0m \u001b[0mlen\u001b[0m\u001b[0;34m(\u001b[0m\u001b[0mself\u001b[0m\u001b[0;34m)\u001b[0m\u001b[0;34m\u001b[0m\u001b[0;34m\u001b[0m\u001b[0m\n\u001b[1;32m   5842\u001b[0m \u001b[0;34m\u001b[0m\u001b[0m\n\u001b[0;32m-> 5843\u001b[0;31m         \u001b[0;32mfor\u001b[0m \u001b[0mi1\u001b[0m\u001b[0;34m,\u001b[0m \u001b[0mi2\u001b[0m\u001b[0;34m,\u001b[0m \u001b[0mchunks\u001b[0m \u001b[0;32min\u001b[0m \u001b[0mself\u001b[0m\u001b[0;34m.\u001b[0m\u001b[0mevaluate_iterator\u001b[0m\u001b[0;34m(\u001b[0m\u001b[0mexpressions\u001b[0m\u001b[0;34m,\u001b[0m \u001b[0mchunk_size\u001b[0m\u001b[0;34m=\u001b[0m\u001b[0mchunk_size\u001b[0m\u001b[0;34m,\u001b[0m \u001b[0mselection\u001b[0m\u001b[0;34m=\u001b[0m\u001b[0mselection\u001b[0m\u001b[0;34m)\u001b[0m\u001b[0;34m:\u001b[0m\u001b[0;34m\u001b[0m\u001b[0;34m\u001b[0m\u001b[0m\n\u001b[0m\u001b[1;32m   5844\u001b[0m             \u001b[0mprogressbar\u001b[0m\u001b[0;34m(\u001b[0m \u001b[0mi1\u001b[0m \u001b[0;34m/\u001b[0m \u001b[0mn_samples\u001b[0m\u001b[0;34m)\u001b[0m\u001b[0;34m\u001b[0m\u001b[0;34m\u001b[0m\u001b[0m\n\u001b[1;32m   5845\u001b[0m             \u001b[0mchunk_dict\u001b[0m \u001b[0;34m=\u001b[0m \u001b[0;34m{\u001b[0m\u001b[0mcol\u001b[0m\u001b[0;34m:\u001b[0m \u001b[0mvalues\u001b[0m \u001b[0;32mfor\u001b[0m \u001b[0mcol\u001b[0m\u001b[0;34m,\u001b[0m \u001b[0mvalues\u001b[0m \u001b[0;32min\u001b[0m \u001b[0mzip\u001b[0m\u001b[0;34m(\u001b[0m\u001b[0mexpressions\u001b[0m\u001b[0;34m,\u001b[0m \u001b[0mchunks\u001b[0m\u001b[0;34m)\u001b[0m\u001b[0;34m}\u001b[0m\u001b[0;34m\u001b[0m\u001b[0;34m\u001b[0m\u001b[0m\n",
      "\u001b[0;32m~/projects/dynamoDublin/backend_d-dub/.denv/lib/python3.8/site-packages/vaex/dataframe.py\u001b[0m in \u001b[0;36mevaluate_iterator\u001b[0;34m(self, expression, s1, s2, out, selection, filtered, internal, parallel, chunk_size, prefetch)\u001b[0m\n\u001b[1;32m   2653\u001b[0m                     \u001b[0;31m# and we submit the next job before returning the previous, so they run in parallel\u001b[0m\u001b[0;34m\u001b[0m\u001b[0;34m\u001b[0m\u001b[0;34m\u001b[0m\u001b[0m\n\u001b[1;32m   2654\u001b[0m                     \u001b[0;31m# but make sure the previous is done\u001b[0m\u001b[0;34m\u001b[0m\u001b[0;34m\u001b[0m\u001b[0;34m\u001b[0m\u001b[0m\n\u001b[0;32m-> 2655\u001b[0;31m                     \u001b[0mprevious_chunk\u001b[0m \u001b[0;34m=\u001b[0m \u001b[0mprevious\u001b[0m\u001b[0;34m.\u001b[0m\u001b[0mresult\u001b[0m\u001b[0;34m(\u001b[0m\u001b[0;34m)\u001b[0m\u001b[0;34m\u001b[0m\u001b[0;34m\u001b[0m\u001b[0m\n\u001b[0m\u001b[1;32m   2656\u001b[0m                     \u001b[0mcurrent\u001b[0m \u001b[0;34m=\u001b[0m \u001b[0mexecutor\u001b[0m\u001b[0;34m.\u001b[0m\u001b[0msubmit\u001b[0m\u001b[0;34m(\u001b[0m\u001b[0mf\u001b[0m\u001b[0;34m,\u001b[0m \u001b[0mi1\u001b[0m\u001b[0;34m,\u001b[0m \u001b[0mi2\u001b[0m\u001b[0;34m)\u001b[0m\u001b[0;34m\u001b[0m\u001b[0;34m\u001b[0m\u001b[0m\n\u001b[1;32m   2657\u001b[0m                     \u001b[0;32myield\u001b[0m \u001b[0mprevious_l1\u001b[0m\u001b[0;34m,\u001b[0m \u001b[0mprevious_l2\u001b[0m\u001b[0;34m,\u001b[0m \u001b[0mprevious_chunk\u001b[0m\u001b[0;34m\u001b[0m\u001b[0;34m\u001b[0m\u001b[0m\n",
      "\u001b[0;32m/usr/lib/python3.8/concurrent/futures/_base.py\u001b[0m in \u001b[0;36mresult\u001b[0;34m(self, timeout)\u001b[0m\n\u001b[1;32m    437\u001b[0m                 \u001b[0;32mraise\u001b[0m \u001b[0mCancelledError\u001b[0m\u001b[0;34m(\u001b[0m\u001b[0;34m)\u001b[0m\u001b[0;34m\u001b[0m\u001b[0;34m\u001b[0m\u001b[0m\n\u001b[1;32m    438\u001b[0m             \u001b[0;32melif\u001b[0m \u001b[0mself\u001b[0m\u001b[0;34m.\u001b[0m\u001b[0m_state\u001b[0m \u001b[0;34m==\u001b[0m \u001b[0mFINISHED\u001b[0m\u001b[0;34m:\u001b[0m\u001b[0;34m\u001b[0m\u001b[0;34m\u001b[0m\u001b[0m\n\u001b[0;32m--> 439\u001b[0;31m                 \u001b[0;32mreturn\u001b[0m \u001b[0mself\u001b[0m\u001b[0;34m.\u001b[0m\u001b[0m__get_result\u001b[0m\u001b[0;34m(\u001b[0m\u001b[0;34m)\u001b[0m\u001b[0;34m\u001b[0m\u001b[0;34m\u001b[0m\u001b[0m\n\u001b[0m\u001b[1;32m    440\u001b[0m             \u001b[0;32melse\u001b[0m\u001b[0;34m:\u001b[0m\u001b[0;34m\u001b[0m\u001b[0;34m\u001b[0m\u001b[0m\n\u001b[1;32m    441\u001b[0m                 \u001b[0;32mraise\u001b[0m \u001b[0mTimeoutError\u001b[0m\u001b[0;34m(\u001b[0m\u001b[0;34m)\u001b[0m\u001b[0;34m\u001b[0m\u001b[0;34m\u001b[0m\u001b[0m\n",
      "\u001b[0;32m/usr/lib/python3.8/concurrent/futures/_base.py\u001b[0m in \u001b[0;36m__get_result\u001b[0;34m(self)\u001b[0m\n\u001b[1;32m    386\u001b[0m     \u001b[0;32mdef\u001b[0m \u001b[0m__get_result\u001b[0m\u001b[0;34m(\u001b[0m\u001b[0mself\u001b[0m\u001b[0;34m)\u001b[0m\u001b[0;34m:\u001b[0m\u001b[0;34m\u001b[0m\u001b[0;34m\u001b[0m\u001b[0m\n\u001b[1;32m    387\u001b[0m         \u001b[0;32mif\u001b[0m \u001b[0mself\u001b[0m\u001b[0;34m.\u001b[0m\u001b[0m_exception\u001b[0m\u001b[0;34m:\u001b[0m\u001b[0;34m\u001b[0m\u001b[0;34m\u001b[0m\u001b[0m\n\u001b[0;32m--> 388\u001b[0;31m             \u001b[0;32mraise\u001b[0m \u001b[0mself\u001b[0m\u001b[0;34m.\u001b[0m\u001b[0m_exception\u001b[0m\u001b[0;34m\u001b[0m\u001b[0;34m\u001b[0m\u001b[0m\n\u001b[0m\u001b[1;32m    389\u001b[0m         \u001b[0;32melse\u001b[0m\u001b[0;34m:\u001b[0m\u001b[0;34m\u001b[0m\u001b[0;34m\u001b[0m\u001b[0m\n\u001b[1;32m    390\u001b[0m             \u001b[0;32mreturn\u001b[0m \u001b[0mself\u001b[0m\u001b[0;34m.\u001b[0m\u001b[0m_result\u001b[0m\u001b[0;34m\u001b[0m\u001b[0;34m\u001b[0m\u001b[0m\n",
      "\u001b[0;32m/usr/lib/python3.8/concurrent/futures/thread.py\u001b[0m in \u001b[0;36mrun\u001b[0;34m(self)\u001b[0m\n\u001b[1;32m     55\u001b[0m \u001b[0;34m\u001b[0m\u001b[0m\n\u001b[1;32m     56\u001b[0m         \u001b[0;32mtry\u001b[0m\u001b[0;34m:\u001b[0m\u001b[0;34m\u001b[0m\u001b[0;34m\u001b[0m\u001b[0m\n\u001b[0;32m---> 57\u001b[0;31m             \u001b[0mresult\u001b[0m \u001b[0;34m=\u001b[0m \u001b[0mself\u001b[0m\u001b[0;34m.\u001b[0m\u001b[0mfn\u001b[0m\u001b[0;34m(\u001b[0m\u001b[0;34m*\u001b[0m\u001b[0mself\u001b[0m\u001b[0;34m.\u001b[0m\u001b[0margs\u001b[0m\u001b[0;34m,\u001b[0m \u001b[0;34m**\u001b[0m\u001b[0mself\u001b[0m\u001b[0;34m.\u001b[0m\u001b[0mkwargs\u001b[0m\u001b[0;34m)\u001b[0m\u001b[0;34m\u001b[0m\u001b[0;34m\u001b[0m\u001b[0m\n\u001b[0m\u001b[1;32m     58\u001b[0m         \u001b[0;32mexcept\u001b[0m \u001b[0mBaseException\u001b[0m \u001b[0;32mas\u001b[0m \u001b[0mexc\u001b[0m\u001b[0;34m:\u001b[0m\u001b[0;34m\u001b[0m\u001b[0;34m\u001b[0m\u001b[0m\n\u001b[1;32m     59\u001b[0m             \u001b[0mself\u001b[0m\u001b[0;34m.\u001b[0m\u001b[0mfuture\u001b[0m\u001b[0;34m.\u001b[0m\u001b[0mset_exception\u001b[0m\u001b[0;34m(\u001b[0m\u001b[0mexc\u001b[0m\u001b[0;34m)\u001b[0m\u001b[0;34m\u001b[0m\u001b[0;34m\u001b[0m\u001b[0m\n",
      "\u001b[0;32m~/projects/dynamoDublin/backend_d-dub/.denv/lib/python3.8/site-packages/vaex/dataframe.py\u001b[0m in \u001b[0;36mf\u001b[0;34m(i1, i2)\u001b[0m\n\u001b[1;32m   2646\u001b[0m                 \u001b[0miter\u001b[0m \u001b[0;34m=\u001b[0m \u001b[0mself\u001b[0m\u001b[0;34m.\u001b[0m\u001b[0m_unfiltered_chunk_slices\u001b[0m\u001b[0;34m(\u001b[0m\u001b[0mchunk_size\u001b[0m\u001b[0;34m)\u001b[0m\u001b[0;34m\u001b[0m\u001b[0;34m\u001b[0m\u001b[0m\n\u001b[1;32m   2647\u001b[0m                 \u001b[0;32mdef\u001b[0m \u001b[0mf\u001b[0m\u001b[0;34m(\u001b[0m\u001b[0mi1\u001b[0m\u001b[0;34m,\u001b[0m \u001b[0mi2\u001b[0m\u001b[0;34m)\u001b[0m\u001b[0;34m:\u001b[0m\u001b[0;34m\u001b[0m\u001b[0;34m\u001b[0m\u001b[0m\n\u001b[0;32m-> 2648\u001b[0;31m                     \u001b[0;32mreturn\u001b[0m \u001b[0mself\u001b[0m\u001b[0;34m.\u001b[0m\u001b[0m_evaluate_implementation\u001b[0m\u001b[0;34m(\u001b[0m\u001b[0mexpression\u001b[0m\u001b[0;34m,\u001b[0m \u001b[0mi1\u001b[0m\u001b[0;34m=\u001b[0m\u001b[0mi1\u001b[0m\u001b[0;34m,\u001b[0m \u001b[0mi2\u001b[0m\u001b[0;34m=\u001b[0m\u001b[0mi2\u001b[0m\u001b[0;34m,\u001b[0m \u001b[0mout\u001b[0m\u001b[0;34m=\u001b[0m\u001b[0mout\u001b[0m\u001b[0;34m,\u001b[0m \u001b[0mselection\u001b[0m\u001b[0;34m=\u001b[0m\u001b[0mselection\u001b[0m\u001b[0;34m,\u001b[0m \u001b[0mfiltered\u001b[0m\u001b[0;34m=\u001b[0m\u001b[0mfiltered\u001b[0m\u001b[0;34m,\u001b[0m \u001b[0minternal\u001b[0m\u001b[0;34m=\u001b[0m\u001b[0minternal\u001b[0m\u001b[0;34m,\u001b[0m \u001b[0mparallel\u001b[0m\u001b[0;34m=\u001b[0m\u001b[0mparallel\u001b[0m\u001b[0;34m,\u001b[0m \u001b[0mraw\u001b[0m\u001b[0;34m=\u001b[0m\u001b[0;32mTrue\u001b[0m\u001b[0;34m)\u001b[0m\u001b[0;34m\u001b[0m\u001b[0;34m\u001b[0m\u001b[0m\n\u001b[0m\u001b[1;32m   2649\u001b[0m                 \u001b[0mprevious_l1\u001b[0m\u001b[0;34m,\u001b[0m \u001b[0mprevious_l2\u001b[0m\u001b[0;34m,\u001b[0m \u001b[0mprevious_i1\u001b[0m\u001b[0;34m,\u001b[0m \u001b[0mprevious_i2\u001b[0m \u001b[0;34m=\u001b[0m \u001b[0mnext\u001b[0m\u001b[0;34m(\u001b[0m\u001b[0miter\u001b[0m\u001b[0;34m)\u001b[0m\u001b[0;34m\u001b[0m\u001b[0;34m\u001b[0m\u001b[0m\n\u001b[1;32m   2650\u001b[0m                 \u001b[0;31m# we submit the 1st job\u001b[0m\u001b[0;34m\u001b[0m\u001b[0;34m\u001b[0m\u001b[0;34m\u001b[0m\u001b[0m\n",
      "\u001b[0;32m~/projects/dynamoDublin/backend_d-dub/.denv/lib/python3.8/site-packages/vaex/dataframe.py\u001b[0m in \u001b[0;36m_evaluate_implementation\u001b[0;34m(self, expression, i1, i2, out, selection, filtered, internal, parallel, chunk_size, raw)\u001b[0m\n\u001b[1;32m   5375\u001b[0m                         \u001b[0marrays\u001b[0m\u001b[0;34m[\u001b[0m\u001b[0mexpr\u001b[0m\u001b[0;34m]\u001b[0m\u001b[0;34m[\u001b[0m\u001b[0mi1\u001b[0m\u001b[0;34m:\u001b[0m\u001b[0mi2\u001b[0m\u001b[0;34m]\u001b[0m \u001b[0;34m=\u001b[0m \u001b[0mblocks\u001b[0m\u001b[0;34m[\u001b[0m\u001b[0mi\u001b[0m\u001b[0;34m]\u001b[0m\u001b[0;34m\u001b[0m\u001b[0;34m\u001b[0m\u001b[0m\n\u001b[1;32m   5376\u001b[0m \u001b[0;34m\u001b[0m\u001b[0m\n\u001b[0;32m-> 5377\u001b[0;31m             \u001b[0mdf\u001b[0m\u001b[0;34m.\u001b[0m\u001b[0mmap_reduce\u001b[0m\u001b[0;34m(\u001b[0m\u001b[0massign\u001b[0m\u001b[0;34m,\u001b[0m \u001b[0;32mlambda\u001b[0m \u001b[0;34m*\u001b[0m\u001b[0m_\u001b[0m\u001b[0;34m:\u001b[0m \u001b[0;32mNone\u001b[0m\u001b[0;34m,\u001b[0m \u001b[0mexpressions\u001b[0m\u001b[0;34m,\u001b[0m \u001b[0mignore_filter\u001b[0m\u001b[0;34m=\u001b[0m\u001b[0;32mFalse\u001b[0m\u001b[0;34m,\u001b[0m \u001b[0mselection\u001b[0m\u001b[0;34m=\u001b[0m\u001b[0mselection\u001b[0m\u001b[0;34m,\u001b[0m \u001b[0mpre_filter\u001b[0m\u001b[0;34m=\u001b[0m\u001b[0muse_filter\u001b[0m\u001b[0;34m,\u001b[0m \u001b[0minfo\u001b[0m\u001b[0;34m=\u001b[0m\u001b[0;32mTrue\u001b[0m\u001b[0;34m,\u001b[0m \u001b[0mto_numpy\u001b[0m\u001b[0;34m=\u001b[0m\u001b[0;32mFalse\u001b[0m\u001b[0;34m)\u001b[0m\u001b[0;34m\u001b[0m\u001b[0;34m\u001b[0m\u001b[0m\n\u001b[0m\u001b[1;32m   5378\u001b[0m             \u001b[0;32mdef\u001b[0m \u001b[0mfinalize_result\u001b[0m\u001b[0;34m(\u001b[0m\u001b[0mexpression\u001b[0m\u001b[0;34m)\u001b[0m\u001b[0;34m:\u001b[0m\u001b[0;34m\u001b[0m\u001b[0;34m\u001b[0m\u001b[0m\n\u001b[1;32m   5379\u001b[0m                 \u001b[0;32mif\u001b[0m \u001b[0mexpression\u001b[0m \u001b[0;32min\u001b[0m \u001b[0mchunks_map\u001b[0m\u001b[0;34m:\u001b[0m\u001b[0;34m\u001b[0m\u001b[0;34m\u001b[0m\u001b[0m\n",
      "\u001b[0;32m~/projects/dynamoDublin/backend_d-dub/.denv/lib/python3.8/site-packages/vaex/dataframe.py\u001b[0m in \u001b[0;36mmap_reduce\u001b[0;34m(self, map, reduce, arguments, progress, delay, info, to_numpy, ignore_filter, pre_filter, name, selection)\u001b[0m\n\u001b[1;32m    330\u001b[0m         \u001b[0mprogressbar\u001b[0m\u001b[0;34m.\u001b[0m\u001b[0madd_task\u001b[0m\u001b[0;34m(\u001b[0m\u001b[0mtask\u001b[0m\u001b[0;34m,\u001b[0m \u001b[0mname\u001b[0m\u001b[0;34m)\u001b[0m\u001b[0;34m\u001b[0m\u001b[0;34m\u001b[0m\u001b[0m\n\u001b[1;32m    331\u001b[0m         \u001b[0mself\u001b[0m\u001b[0;34m.\u001b[0m\u001b[0mexecutor\u001b[0m\u001b[0;34m.\u001b[0m\u001b[0mschedule\u001b[0m\u001b[0;34m(\u001b[0m\u001b[0mtask\u001b[0m\u001b[0;34m)\u001b[0m\u001b[0;34m\u001b[0m\u001b[0;34m\u001b[0m\u001b[0m\n\u001b[0;32m--> 332\u001b[0;31m         \u001b[0;32mreturn\u001b[0m \u001b[0mself\u001b[0m\u001b[0;34m.\u001b[0m\u001b[0m_delay\u001b[0m\u001b[0;34m(\u001b[0m\u001b[0mdelay\u001b[0m\u001b[0;34m,\u001b[0m \u001b[0mtask\u001b[0m\u001b[0;34m)\u001b[0m\u001b[0;34m\u001b[0m\u001b[0;34m\u001b[0m\u001b[0m\n\u001b[0m\u001b[1;32m    333\u001b[0m \u001b[0;34m\u001b[0m\u001b[0m\n\u001b[1;32m    334\u001b[0m     \u001b[0;32mdef\u001b[0m \u001b[0mapply\u001b[0m\u001b[0;34m(\u001b[0m\u001b[0mself\u001b[0m\u001b[0;34m,\u001b[0m \u001b[0mf\u001b[0m\u001b[0;34m,\u001b[0m \u001b[0marguments\u001b[0m\u001b[0;34m=\u001b[0m\u001b[0;32mNone\u001b[0m\u001b[0;34m,\u001b[0m \u001b[0mdtype\u001b[0m\u001b[0;34m=\u001b[0m\u001b[0;32mNone\u001b[0m\u001b[0;34m,\u001b[0m \u001b[0mdelay\u001b[0m\u001b[0;34m=\u001b[0m\u001b[0;32mFalse\u001b[0m\u001b[0;34m,\u001b[0m \u001b[0mvectorize\u001b[0m\u001b[0;34m=\u001b[0m\u001b[0;32mFalse\u001b[0m\u001b[0;34m)\u001b[0m\u001b[0;34m:\u001b[0m\u001b[0;34m\u001b[0m\u001b[0;34m\u001b[0m\u001b[0m\n",
      "\u001b[0;32m~/projects/dynamoDublin/backend_d-dub/.denv/lib/python3.8/site-packages/vaex/dataframe.py\u001b[0m in \u001b[0;36m_delay\u001b[0;34m(self, delay, task, progressbar)\u001b[0m\n\u001b[1;32m   1461\u001b[0m             \u001b[0;32mreturn\u001b[0m \u001b[0mtask\u001b[0m\u001b[0;34m\u001b[0m\u001b[0;34m\u001b[0m\u001b[0m\n\u001b[1;32m   1462\u001b[0m         \u001b[0;32melse\u001b[0m\u001b[0;34m:\u001b[0m\u001b[0;34m\u001b[0m\u001b[0;34m\u001b[0m\u001b[0m\n\u001b[0;32m-> 1463\u001b[0;31m             \u001b[0mself\u001b[0m\u001b[0;34m.\u001b[0m\u001b[0mexecute\u001b[0m\u001b[0;34m(\u001b[0m\u001b[0;34m)\u001b[0m\u001b[0;34m\u001b[0m\u001b[0;34m\u001b[0m\u001b[0m\n\u001b[0m\u001b[1;32m   1464\u001b[0m             \u001b[0;32mreturn\u001b[0m \u001b[0mtask\u001b[0m\u001b[0;34m.\u001b[0m\u001b[0mget\u001b[0m\u001b[0;34m(\u001b[0m\u001b[0;34m)\u001b[0m\u001b[0;34m\u001b[0m\u001b[0;34m\u001b[0m\u001b[0m\n\u001b[1;32m   1465\u001b[0m \u001b[0;34m\u001b[0m\u001b[0m\n",
      "\u001b[0;32m~/projects/dynamoDublin/backend_d-dub/.denv/lib/python3.8/site-packages/vaex/dataframe.py\u001b[0m in \u001b[0;36mexecute\u001b[0;34m(self)\u001b[0m\n\u001b[1;32m    313\u001b[0m         \u001b[0;34m'''Execute all delayed jobs.'''\u001b[0m\u001b[0;34m\u001b[0m\u001b[0;34m\u001b[0m\u001b[0m\n\u001b[1;32m    314\u001b[0m         \u001b[0;32mfrom\u001b[0m \u001b[0;34m.\u001b[0m\u001b[0masyncio\u001b[0m \u001b[0;32mimport\u001b[0m \u001b[0mjust_run\u001b[0m\u001b[0;34m\u001b[0m\u001b[0;34m\u001b[0m\u001b[0m\n\u001b[0;32m--> 315\u001b[0;31m         \u001b[0mjust_run\u001b[0m\u001b[0;34m(\u001b[0m\u001b[0mself\u001b[0m\u001b[0;34m.\u001b[0m\u001b[0mexecute_async\u001b[0m\u001b[0;34m(\u001b[0m\u001b[0;34m)\u001b[0m\u001b[0;34m)\u001b[0m\u001b[0;34m\u001b[0m\u001b[0;34m\u001b[0m\u001b[0m\n\u001b[0m\u001b[1;32m    316\u001b[0m \u001b[0;34m\u001b[0m\u001b[0m\n\u001b[1;32m    317\u001b[0m     \u001b[0;32masync\u001b[0m \u001b[0;32mdef\u001b[0m \u001b[0mexecute_async\u001b[0m\u001b[0;34m(\u001b[0m\u001b[0mself\u001b[0m\u001b[0;34m)\u001b[0m\u001b[0;34m:\u001b[0m\u001b[0;34m\u001b[0m\u001b[0;34m\u001b[0m\u001b[0m\n",
      "\u001b[0;32m~/projects/dynamoDublin/backend_d-dub/.denv/lib/python3.8/site-packages/vaex/asyncio.py\u001b[0m in \u001b[0;36mjust_run\u001b[0;34m(coro)\u001b[0m\n\u001b[1;32m     33\u001b[0m             \u001b[0mnest_asyncio\u001b[0m\u001b[0;34m.\u001b[0m\u001b[0mapply\u001b[0m\u001b[0;34m(\u001b[0m\u001b[0;34m)\u001b[0m\u001b[0;34m\u001b[0m\u001b[0;34m\u001b[0m\u001b[0m\n\u001b[1;32m     34\u001b[0m             \u001b[0mcheck_patch_tornado\u001b[0m\u001b[0;34m(\u001b[0m\u001b[0;34m)\u001b[0m\u001b[0;34m\u001b[0m\u001b[0;34m\u001b[0m\u001b[0m\n\u001b[0;32m---> 35\u001b[0;31m         \u001b[0;32mreturn\u001b[0m \u001b[0mloop\u001b[0m\u001b[0;34m.\u001b[0m\u001b[0mrun_until_complete\u001b[0m\u001b[0;34m(\u001b[0m\u001b[0mcoro\u001b[0m\u001b[0;34m)\u001b[0m\u001b[0;34m\u001b[0m\u001b[0;34m\u001b[0m\u001b[0m\n\u001b[0m\u001b[1;32m     36\u001b[0m     \u001b[0;32mfinally\u001b[0m\u001b[0;34m:\u001b[0m\u001b[0;34m\u001b[0m\u001b[0;34m\u001b[0m\u001b[0m\n\u001b[1;32m     37\u001b[0m         \u001b[0;32mif\u001b[0m \u001b[0;32mnot\u001b[0m \u001b[0mhad_loop\u001b[0m\u001b[0;34m:\u001b[0m  \u001b[0;31m# remove loop if we did not have one\u001b[0m\u001b[0;34m\u001b[0m\u001b[0;34m\u001b[0m\u001b[0m\n",
      "\u001b[0;32m~/projects/dynamoDublin/backend_d-dub/.denv/lib/python3.8/site-packages/nest_asyncio.py\u001b[0m in \u001b[0;36mrun_until_complete\u001b[0;34m(self, future)\u001b[0m\n\u001b[1;32m     68\u001b[0m                 raise RuntimeError(\n\u001b[1;32m     69\u001b[0m                     'Event loop stopped before Future completed.')\n\u001b[0;32m---> 70\u001b[0;31m             \u001b[0;32mreturn\u001b[0m \u001b[0mf\u001b[0m\u001b[0;34m.\u001b[0m\u001b[0mresult\u001b[0m\u001b[0;34m(\u001b[0m\u001b[0;34m)\u001b[0m\u001b[0;34m\u001b[0m\u001b[0;34m\u001b[0m\u001b[0m\n\u001b[0m\u001b[1;32m     71\u001b[0m \u001b[0;34m\u001b[0m\u001b[0m\n\u001b[1;32m     72\u001b[0m     \u001b[0;32mdef\u001b[0m \u001b[0m_run_once\u001b[0m\u001b[0;34m(\u001b[0m\u001b[0mself\u001b[0m\u001b[0;34m)\u001b[0m\u001b[0;34m:\u001b[0m\u001b[0;34m\u001b[0m\u001b[0;34m\u001b[0m\u001b[0m\n",
      "\u001b[0;32m/usr/lib/python3.8/asyncio/futures.py\u001b[0m in \u001b[0;36mresult\u001b[0;34m(self)\u001b[0m\n\u001b[1;32m    173\u001b[0m         \u001b[0mself\u001b[0m\u001b[0;34m.\u001b[0m\u001b[0m__log_traceback\u001b[0m \u001b[0;34m=\u001b[0m \u001b[0;32mFalse\u001b[0m\u001b[0;34m\u001b[0m\u001b[0;34m\u001b[0m\u001b[0m\n\u001b[1;32m    174\u001b[0m         \u001b[0;32mif\u001b[0m \u001b[0mself\u001b[0m\u001b[0;34m.\u001b[0m\u001b[0m_exception\u001b[0m \u001b[0;32mis\u001b[0m \u001b[0;32mnot\u001b[0m \u001b[0;32mNone\u001b[0m\u001b[0;34m:\u001b[0m\u001b[0;34m\u001b[0m\u001b[0;34m\u001b[0m\u001b[0m\n\u001b[0;32m--> 175\u001b[0;31m             \u001b[0;32mraise\u001b[0m \u001b[0mself\u001b[0m\u001b[0;34m.\u001b[0m\u001b[0m_exception\u001b[0m\u001b[0;34m\u001b[0m\u001b[0;34m\u001b[0m\u001b[0m\n\u001b[0m\u001b[1;32m    176\u001b[0m         \u001b[0;32mreturn\u001b[0m \u001b[0mself\u001b[0m\u001b[0;34m.\u001b[0m\u001b[0m_result\u001b[0m\u001b[0;34m\u001b[0m\u001b[0;34m\u001b[0m\u001b[0m\n\u001b[1;32m    177\u001b[0m \u001b[0;34m\u001b[0m\u001b[0m\n",
      "\u001b[0;32m/usr/lib/python3.8/asyncio/tasks.py\u001b[0m in \u001b[0;36m__step\u001b[0;34m(***failed resolving arguments***)\u001b[0m\n\u001b[1;32m    280\u001b[0m                 \u001b[0mresult\u001b[0m \u001b[0;34m=\u001b[0m \u001b[0mcoro\u001b[0m\u001b[0;34m.\u001b[0m\u001b[0msend\u001b[0m\u001b[0;34m(\u001b[0m\u001b[0;32mNone\u001b[0m\u001b[0;34m)\u001b[0m\u001b[0;34m\u001b[0m\u001b[0;34m\u001b[0m\u001b[0m\n\u001b[1;32m    281\u001b[0m             \u001b[0;32melse\u001b[0m\u001b[0;34m:\u001b[0m\u001b[0;34m\u001b[0m\u001b[0;34m\u001b[0m\u001b[0m\n\u001b[0;32m--> 282\u001b[0;31m                 \u001b[0mresult\u001b[0m \u001b[0;34m=\u001b[0m \u001b[0mcoro\u001b[0m\u001b[0;34m.\u001b[0m\u001b[0mthrow\u001b[0m\u001b[0;34m(\u001b[0m\u001b[0mexc\u001b[0m\u001b[0;34m)\u001b[0m\u001b[0;34m\u001b[0m\u001b[0;34m\u001b[0m\u001b[0m\n\u001b[0m\u001b[1;32m    283\u001b[0m         \u001b[0;32mexcept\u001b[0m \u001b[0mStopIteration\u001b[0m \u001b[0;32mas\u001b[0m \u001b[0mexc\u001b[0m\u001b[0;34m:\u001b[0m\u001b[0;34m\u001b[0m\u001b[0;34m\u001b[0m\u001b[0m\n\u001b[1;32m    284\u001b[0m             \u001b[0;32mif\u001b[0m \u001b[0mself\u001b[0m\u001b[0;34m.\u001b[0m\u001b[0m_must_cancel\u001b[0m\u001b[0;34m:\u001b[0m\u001b[0;34m\u001b[0m\u001b[0;34m\u001b[0m\u001b[0m\n",
      "\u001b[0;32m~/projects/dynamoDublin/backend_d-dub/.denv/lib/python3.8/site-packages/vaex/dataframe.py\u001b[0m in \u001b[0;36mexecute_async\u001b[0;34m(self)\u001b[0m\n\u001b[1;32m    318\u001b[0m         \u001b[0;34m'''Async version of execute'''\u001b[0m\u001b[0;34m\u001b[0m\u001b[0;34m\u001b[0m\u001b[0m\n\u001b[1;32m    319\u001b[0m         \u001b[0;31m# no need to clear _task_aggs anymore, since they will be removed for the executors' task list\u001b[0m\u001b[0;34m\u001b[0m\u001b[0;34m\u001b[0m\u001b[0;34m\u001b[0m\u001b[0m\n\u001b[0;32m--> 320\u001b[0;31m         \u001b[0;32mawait\u001b[0m \u001b[0mself\u001b[0m\u001b[0;34m.\u001b[0m\u001b[0mexecutor\u001b[0m\u001b[0;34m.\u001b[0m\u001b[0mexecute_async\u001b[0m\u001b[0;34m(\u001b[0m\u001b[0;34m)\u001b[0m\u001b[0;34m\u001b[0m\u001b[0;34m\u001b[0m\u001b[0m\n\u001b[0m\u001b[1;32m    321\u001b[0m \u001b[0;34m\u001b[0m\u001b[0m\n\u001b[1;32m    322\u001b[0m     \u001b[0;34m@\u001b[0m\u001b[0mproperty\u001b[0m\u001b[0;34m\u001b[0m\u001b[0;34m\u001b[0m\u001b[0m\n",
      "\u001b[0;32m~/projects/dynamoDublin/backend_d-dub/.denv/lib/python3.8/site-packages/vaex/execution.py\u001b[0m in \u001b[0;36mexecute_async\u001b[0;34m(self)\u001b[0m\n\u001b[1;32m    151\u001b[0m                 \u001b[0;32mif\u001b[0m \u001b[0mself\u001b[0m\u001b[0;34m.\u001b[0m\u001b[0mzigzag\u001b[0m\u001b[0;34m:\u001b[0m\u001b[0;34m\u001b[0m\u001b[0;34m\u001b[0m\u001b[0m\n\u001b[1;32m    152\u001b[0m                     \u001b[0mself\u001b[0m\u001b[0;34m.\u001b[0m\u001b[0mzig\u001b[0m \u001b[0;34m=\u001b[0m \u001b[0;32mnot\u001b[0m \u001b[0mself\u001b[0m\u001b[0;34m.\u001b[0m\u001b[0mzig\u001b[0m\u001b[0;34m\u001b[0m\u001b[0;34m\u001b[0m\u001b[0m\n\u001b[0;32m--> 153\u001b[0;31m                 async for element in self.thread_pool.map_async(self.process_part, parts,\n\u001b[0m\u001b[1;32m    154\u001b[0m                                                     \u001b[0mprogress\u001b[0m\u001b[0;34m=\u001b[0m\u001b[0;32mlambda\u001b[0m \u001b[0mp\u001b[0m\u001b[0;34m:\u001b[0m \u001b[0mall\u001b[0m\u001b[0;34m(\u001b[0m\u001b[0mself\u001b[0m\u001b[0;34m.\u001b[0m\u001b[0msignal_progress\u001b[0m\u001b[0;34m.\u001b[0m\u001b[0memit\u001b[0m\u001b[0;34m(\u001b[0m\u001b[0mp\u001b[0m\u001b[0;34m)\u001b[0m\u001b[0;34m)\u001b[0m \u001b[0;32mand\u001b[0m\u001b[0;34m\u001b[0m\u001b[0;34m\u001b[0m\u001b[0m\n\u001b[1;32m    155\u001b[0m                                                     \u001b[0mall\u001b[0m\u001b[0;34m(\u001b[0m\u001b[0;34m[\u001b[0m\u001b[0mall\u001b[0m\u001b[0;34m(\u001b[0m\u001b[0mtask\u001b[0m\u001b[0;34m.\u001b[0m\u001b[0msignal_progress\u001b[0m\u001b[0;34m.\u001b[0m\u001b[0memit\u001b[0m\u001b[0;34m(\u001b[0m\u001b[0mp\u001b[0m\u001b[0;34m)\u001b[0m\u001b[0;34m)\u001b[0m \u001b[0;32mfor\u001b[0m \u001b[0mtask\u001b[0m \u001b[0;32min\u001b[0m \u001b[0mtasks\u001b[0m\u001b[0;34m]\u001b[0m\u001b[0;34m)\u001b[0m \u001b[0;32mand\u001b[0m\u001b[0;34m\u001b[0m\u001b[0;34m\u001b[0m\u001b[0m\n",
      "\u001b[0;32m~/projects/dynamoDublin/backend_d-dub/.denv/lib/python3.8/site-packages/vaex/multithreading.py\u001b[0m in \u001b[0;36mmap_async\u001b[0;34m(self, callable, iterator, on_error, progress, cancel, unpack, **kwargs_extra)\u001b[0m\n\u001b[1;32m     72\u001b[0m                     \u001b[0mcancelled\u001b[0m \u001b[0;34m=\u001b[0m \u001b[0;32mTrue\u001b[0m\u001b[0;34m\u001b[0m\u001b[0;34m\u001b[0m\u001b[0m\n\u001b[1;32m     73\u001b[0m                     \u001b[0mcancel\u001b[0m\u001b[0;34m(\u001b[0m\u001b[0;34m)\u001b[0m\u001b[0;34m\u001b[0m\u001b[0;34m\u001b[0m\u001b[0m\n\u001b[0;32m---> 74\u001b[0;31m             \u001b[0;32myield\u001b[0m \u001b[0;32mawait\u001b[0m \u001b[0mvalue\u001b[0m\u001b[0;34m\u001b[0m\u001b[0;34m\u001b[0m\u001b[0m\n\u001b[0m\u001b[1;32m     75\u001b[0m \u001b[0;34m\u001b[0m\u001b[0m\n\u001b[1;32m     76\u001b[0m     \u001b[0;32mdef\u001b[0m \u001b[0m_map_async\u001b[0m\u001b[0;34m(\u001b[0m\u001b[0mself\u001b[0m\u001b[0;34m,\u001b[0m \u001b[0mcallable\u001b[0m\u001b[0;34m,\u001b[0m \u001b[0miterator\u001b[0m\u001b[0;34m)\u001b[0m\u001b[0;34m:\u001b[0m\u001b[0;34m\u001b[0m\u001b[0;34m\u001b[0m\u001b[0m\n",
      "\u001b[0;32m/usr/lib/python3.8/asyncio/futures.py\u001b[0m in \u001b[0;36m__await__\u001b[0;34m(self)\u001b[0m\n\u001b[1;32m    255\u001b[0m         \u001b[0;32mif\u001b[0m \u001b[0;32mnot\u001b[0m \u001b[0mself\u001b[0m\u001b[0;34m.\u001b[0m\u001b[0mdone\u001b[0m\u001b[0;34m(\u001b[0m\u001b[0;34m)\u001b[0m\u001b[0;34m:\u001b[0m\u001b[0;34m\u001b[0m\u001b[0;34m\u001b[0m\u001b[0m\n\u001b[1;32m    256\u001b[0m             \u001b[0mself\u001b[0m\u001b[0;34m.\u001b[0m\u001b[0m_asyncio_future_blocking\u001b[0m \u001b[0;34m=\u001b[0m \u001b[0;32mTrue\u001b[0m\u001b[0;34m\u001b[0m\u001b[0;34m\u001b[0m\u001b[0m\n\u001b[0;32m--> 257\u001b[0;31m             \u001b[0;32myield\u001b[0m \u001b[0mself\u001b[0m  \u001b[0;31m# This tells Task to wait for completion.\u001b[0m\u001b[0;34m\u001b[0m\u001b[0;34m\u001b[0m\u001b[0m\n\u001b[0m\u001b[1;32m    258\u001b[0m         \u001b[0;32mif\u001b[0m \u001b[0;32mnot\u001b[0m \u001b[0mself\u001b[0m\u001b[0;34m.\u001b[0m\u001b[0mdone\u001b[0m\u001b[0;34m(\u001b[0m\u001b[0;34m)\u001b[0m\u001b[0;34m:\u001b[0m\u001b[0;34m\u001b[0m\u001b[0;34m\u001b[0m\u001b[0m\n\u001b[1;32m    259\u001b[0m             \u001b[0;32mraise\u001b[0m \u001b[0mRuntimeError\u001b[0m\u001b[0;34m(\u001b[0m\u001b[0;34m\"await wasn't used with future\"\u001b[0m\u001b[0;34m)\u001b[0m\u001b[0;34m\u001b[0m\u001b[0;34m\u001b[0m\u001b[0m\n",
      "\u001b[0;32m/usr/lib/python3.8/asyncio/tasks.py\u001b[0m in \u001b[0;36m__wakeup\u001b[0;34m(self, future)\u001b[0m\n\u001b[1;32m    347\u001b[0m     \u001b[0;32mdef\u001b[0m \u001b[0m__wakeup\u001b[0m\u001b[0;34m(\u001b[0m\u001b[0mself\u001b[0m\u001b[0;34m,\u001b[0m \u001b[0mfuture\u001b[0m\u001b[0;34m)\u001b[0m\u001b[0;34m:\u001b[0m\u001b[0;34m\u001b[0m\u001b[0;34m\u001b[0m\u001b[0m\n\u001b[1;32m    348\u001b[0m         \u001b[0;32mtry\u001b[0m\u001b[0;34m:\u001b[0m\u001b[0;34m\u001b[0m\u001b[0;34m\u001b[0m\u001b[0m\n\u001b[0;32m--> 349\u001b[0;31m             \u001b[0mfuture\u001b[0m\u001b[0;34m.\u001b[0m\u001b[0mresult\u001b[0m\u001b[0;34m(\u001b[0m\u001b[0;34m)\u001b[0m\u001b[0;34m\u001b[0m\u001b[0;34m\u001b[0m\u001b[0m\n\u001b[0m\u001b[1;32m    350\u001b[0m         \u001b[0;32mexcept\u001b[0m \u001b[0mBaseException\u001b[0m \u001b[0;32mas\u001b[0m \u001b[0mexc\u001b[0m\u001b[0;34m:\u001b[0m\u001b[0;34m\u001b[0m\u001b[0;34m\u001b[0m\u001b[0m\n\u001b[1;32m    351\u001b[0m             \u001b[0;31m# This may also be a cancellation.\u001b[0m\u001b[0;34m\u001b[0m\u001b[0;34m\u001b[0m\u001b[0;34m\u001b[0m\u001b[0m\n",
      "\u001b[0;32m/usr/lib/python3.8/asyncio/futures.py\u001b[0m in \u001b[0;36mresult\u001b[0;34m(self)\u001b[0m\n\u001b[1;32m    173\u001b[0m         \u001b[0mself\u001b[0m\u001b[0;34m.\u001b[0m\u001b[0m__log_traceback\u001b[0m \u001b[0;34m=\u001b[0m \u001b[0;32mFalse\u001b[0m\u001b[0;34m\u001b[0m\u001b[0;34m\u001b[0m\u001b[0m\n\u001b[1;32m    174\u001b[0m         \u001b[0;32mif\u001b[0m \u001b[0mself\u001b[0m\u001b[0;34m.\u001b[0m\u001b[0m_exception\u001b[0m \u001b[0;32mis\u001b[0m \u001b[0;32mnot\u001b[0m \u001b[0;32mNone\u001b[0m\u001b[0;34m:\u001b[0m\u001b[0;34m\u001b[0m\u001b[0;34m\u001b[0m\u001b[0m\n\u001b[0;32m--> 175\u001b[0;31m             \u001b[0;32mraise\u001b[0m \u001b[0mself\u001b[0m\u001b[0;34m.\u001b[0m\u001b[0m_exception\u001b[0m\u001b[0;34m\u001b[0m\u001b[0;34m\u001b[0m\u001b[0m\n\u001b[0m\u001b[1;32m    176\u001b[0m         \u001b[0;32mreturn\u001b[0m \u001b[0mself\u001b[0m\u001b[0;34m.\u001b[0m\u001b[0m_result\u001b[0m\u001b[0;34m\u001b[0m\u001b[0;34m\u001b[0m\u001b[0m\n\u001b[1;32m    177\u001b[0m \u001b[0;34m\u001b[0m\u001b[0m\n",
      "\u001b[0;32m/usr/lib/python3.8/concurrent/futures/thread.py\u001b[0m in \u001b[0;36mrun\u001b[0;34m(self)\u001b[0m\n\u001b[1;32m     55\u001b[0m \u001b[0;34m\u001b[0m\u001b[0m\n\u001b[1;32m     56\u001b[0m         \u001b[0;32mtry\u001b[0m\u001b[0;34m:\u001b[0m\u001b[0;34m\u001b[0m\u001b[0;34m\u001b[0m\u001b[0m\n\u001b[0;32m---> 57\u001b[0;31m             \u001b[0mresult\u001b[0m \u001b[0;34m=\u001b[0m \u001b[0mself\u001b[0m\u001b[0;34m.\u001b[0m\u001b[0mfn\u001b[0m\u001b[0;34m(\u001b[0m\u001b[0;34m*\u001b[0m\u001b[0mself\u001b[0m\u001b[0;34m.\u001b[0m\u001b[0margs\u001b[0m\u001b[0;34m,\u001b[0m \u001b[0;34m**\u001b[0m\u001b[0mself\u001b[0m\u001b[0;34m.\u001b[0m\u001b[0mkwargs\u001b[0m\u001b[0;34m)\u001b[0m\u001b[0;34m\u001b[0m\u001b[0;34m\u001b[0m\u001b[0m\n\u001b[0m\u001b[1;32m     58\u001b[0m         \u001b[0;32mexcept\u001b[0m \u001b[0mBaseException\u001b[0m \u001b[0;32mas\u001b[0m \u001b[0mexc\u001b[0m\u001b[0;34m:\u001b[0m\u001b[0;34m\u001b[0m\u001b[0;34m\u001b[0m\u001b[0m\n\u001b[1;32m     59\u001b[0m             \u001b[0mself\u001b[0m\u001b[0;34m.\u001b[0m\u001b[0mfuture\u001b[0m\u001b[0;34m.\u001b[0m\u001b[0mset_exception\u001b[0m\u001b[0;34m(\u001b[0m\u001b[0mexc\u001b[0m\u001b[0;34m)\u001b[0m\u001b[0;34m\u001b[0m\u001b[0;34m\u001b[0m\u001b[0m\n",
      "\u001b[0;32m~/projects/dynamoDublin/backend_d-dub/.denv/lib/python3.8/site-packages/vaex/multithreading.py\u001b[0m in \u001b[0;36m<lambda>\u001b[0;34m(value)\u001b[0m\n\u001b[1;32m     62\u001b[0m         \u001b[0;32melse\u001b[0m\u001b[0;34m:\u001b[0m\u001b[0;34m\u001b[0m\u001b[0;34m\u001b[0m\u001b[0m\n\u001b[1;32m     63\u001b[0m             \u001b[0mloop\u001b[0m \u001b[0;34m=\u001b[0m \u001b[0masyncio\u001b[0m\u001b[0;34m.\u001b[0m\u001b[0mget_event_loop\u001b[0m\u001b[0;34m(\u001b[0m\u001b[0;34m)\u001b[0m\u001b[0;34m\u001b[0m\u001b[0;34m\u001b[0m\u001b[0m\n\u001b[0;32m---> 64\u001b[0;31m             \u001b[0miterator\u001b[0m \u001b[0;34m=\u001b[0m \u001b[0;34m[\u001b[0m\u001b[0mloop\u001b[0m\u001b[0;34m.\u001b[0m\u001b[0mrun_in_executor\u001b[0m\u001b[0;34m(\u001b[0m\u001b[0mself\u001b[0m\u001b[0;34m,\u001b[0m \u001b[0;32mlambda\u001b[0m \u001b[0mvalue\u001b[0m\u001b[0;34m=\u001b[0m\u001b[0mvalue\u001b[0m\u001b[0;34m:\u001b[0m \u001b[0mwrapped\u001b[0m\u001b[0;34m(\u001b[0m\u001b[0mvalue\u001b[0m\u001b[0;34m)\u001b[0m\u001b[0;34m)\u001b[0m \u001b[0;32mfor\u001b[0m \u001b[0mvalue\u001b[0m \u001b[0;32min\u001b[0m \u001b[0mvalues\u001b[0m\u001b[0;34m]\u001b[0m\u001b[0;34m\u001b[0m\u001b[0;34m\u001b[0m\u001b[0m\n\u001b[0m\u001b[1;32m     65\u001b[0m \u001b[0;34m\u001b[0m\u001b[0m\n\u001b[1;32m     66\u001b[0m         \u001b[0;32mfor\u001b[0m \u001b[0mi\u001b[0m\u001b[0;34m,\u001b[0m \u001b[0mvalue\u001b[0m \u001b[0;32min\u001b[0m \u001b[0menumerate\u001b[0m\u001b[0;34m(\u001b[0m\u001b[0miterator\u001b[0m\u001b[0;34m)\u001b[0m\u001b[0;34m:\u001b[0m\u001b[0;34m\u001b[0m\u001b[0;34m\u001b[0m\u001b[0m\n",
      "\u001b[0;32m~/projects/dynamoDublin/backend_d-dub/.denv/lib/python3.8/site-packages/vaex/multithreading.py\u001b[0m in \u001b[0;36mwrapped\u001b[0;34m(*args, **kwargs)\u001b[0m\n\u001b[1;32m     52\u001b[0m                     \u001b[0;31m# print(\"SLEEP\", self._debug_sleep)\u001b[0m\u001b[0;34m\u001b[0m\u001b[0;34m\u001b[0m\u001b[0;34m\u001b[0m\u001b[0m\n\u001b[1;32m     53\u001b[0m                     \u001b[0mtime\u001b[0m\u001b[0;34m.\u001b[0m\u001b[0msleep\u001b[0m\u001b[0;34m(\u001b[0m\u001b[0mself\u001b[0m\u001b[0;34m.\u001b[0m\u001b[0m_debug_sleep\u001b[0m\u001b[0;34m)\u001b[0m\u001b[0;34m\u001b[0m\u001b[0;34m\u001b[0m\u001b[0m\n\u001b[0;32m---> 54\u001b[0;31m                 \u001b[0mcallable\u001b[0m\u001b[0;34m(\u001b[0m\u001b[0mself\u001b[0m\u001b[0;34m.\u001b[0m\u001b[0mlocal\u001b[0m\u001b[0;34m.\u001b[0m\u001b[0mindex\u001b[0m\u001b[0;34m,\u001b[0m \u001b[0;34m*\u001b[0m\u001b[0margs\u001b[0m\u001b[0;34m,\u001b[0m \u001b[0;34m**\u001b[0m\u001b[0mkwargs\u001b[0m\u001b[0;34m,\u001b[0m \u001b[0;34m**\u001b[0m\u001b[0mkwargs_extra\u001b[0m\u001b[0;34m)\u001b[0m\u001b[0;34m\u001b[0m\u001b[0;34m\u001b[0m\u001b[0m\n\u001b[0m\u001b[1;32m     55\u001b[0m         \u001b[0;31m# convert to list so we can count\u001b[0m\u001b[0;34m\u001b[0m\u001b[0;34m\u001b[0m\u001b[0;34m\u001b[0m\u001b[0m\n\u001b[1;32m     56\u001b[0m         \u001b[0mvalues\u001b[0m \u001b[0;34m=\u001b[0m \u001b[0mlist\u001b[0m\u001b[0;34m(\u001b[0m\u001b[0miterator\u001b[0m\u001b[0;34m)\u001b[0m\u001b[0;34m\u001b[0m\u001b[0;34m\u001b[0m\u001b[0m\n",
      "\u001b[0;32m~/projects/dynamoDublin/backend_d-dub/.denv/lib/python3.8/site-packages/vaex/execution.py\u001b[0m in \u001b[0;36mprocess_part\u001b[0;34m(self, thread_index, i1, i2, run)\u001b[0m\n\u001b[1;32m    204\u001b[0m                 \u001b[0mfilter_mask\u001b[0m \u001b[0;34m=\u001b[0m \u001b[0;32mNone\u001b[0m\u001b[0;34m\u001b[0m\u001b[0;34m\u001b[0m\u001b[0m\n\u001b[1;32m    205\u001b[0m             \u001b[0mblock_scope\u001b[0m\u001b[0;34m.\u001b[0m\u001b[0mmask\u001b[0m \u001b[0;34m=\u001b[0m \u001b[0mfilter_mask\u001b[0m\u001b[0;34m\u001b[0m\u001b[0;34m\u001b[0m\u001b[0m\n\u001b[0;32m--> 206\u001b[0;31m             \u001b[0mblock_dict\u001b[0m \u001b[0;34m=\u001b[0m \u001b[0;34m{\u001b[0m\u001b[0mexpression\u001b[0m\u001b[0;34m:\u001b[0m \u001b[0mblock_scope\u001b[0m\u001b[0;34m.\u001b[0m\u001b[0mevaluate\u001b[0m\u001b[0;34m(\u001b[0m\u001b[0mexpression\u001b[0m\u001b[0;34m)\u001b[0m \u001b[0;32mfor\u001b[0m \u001b[0mexpression\u001b[0m \u001b[0;32min\u001b[0m \u001b[0mrun\u001b[0m\u001b[0;34m.\u001b[0m\u001b[0mexpressions\u001b[0m\u001b[0;34m}\u001b[0m\u001b[0;34m\u001b[0m\u001b[0;34m\u001b[0m\u001b[0m\n\u001b[0m\u001b[1;32m    207\u001b[0m             \u001b[0;32mfor\u001b[0m \u001b[0mtask\u001b[0m \u001b[0;32min\u001b[0m \u001b[0mrun\u001b[0m\u001b[0;34m.\u001b[0m\u001b[0mtasks\u001b[0m\u001b[0;34m:\u001b[0m\u001b[0;34m\u001b[0m\u001b[0;34m\u001b[0m\u001b[0m\n\u001b[1;32m    208\u001b[0m                 \u001b[0mblocks\u001b[0m \u001b[0;34m=\u001b[0m \u001b[0;34m[\u001b[0m\u001b[0mblock_dict\u001b[0m\u001b[0;34m[\u001b[0m\u001b[0mexpression\u001b[0m\u001b[0;34m]\u001b[0m \u001b[0;32mfor\u001b[0m \u001b[0mexpression\u001b[0m \u001b[0;32min\u001b[0m \u001b[0mtask\u001b[0m\u001b[0;34m.\u001b[0m\u001b[0mexpressions_all\u001b[0m\u001b[0;34m]\u001b[0m\u001b[0;34m\u001b[0m\u001b[0;34m\u001b[0m\u001b[0m\n",
      "\u001b[0;32m~/projects/dynamoDublin/backend_d-dub/.denv/lib/python3.8/site-packages/vaex/execution.py\u001b[0m in \u001b[0;36m<dictcomp>\u001b[0;34m(.0)\u001b[0m\n\u001b[1;32m    204\u001b[0m                 \u001b[0mfilter_mask\u001b[0m \u001b[0;34m=\u001b[0m \u001b[0;32mNone\u001b[0m\u001b[0;34m\u001b[0m\u001b[0;34m\u001b[0m\u001b[0m\n\u001b[1;32m    205\u001b[0m             \u001b[0mblock_scope\u001b[0m\u001b[0;34m.\u001b[0m\u001b[0mmask\u001b[0m \u001b[0;34m=\u001b[0m \u001b[0mfilter_mask\u001b[0m\u001b[0;34m\u001b[0m\u001b[0;34m\u001b[0m\u001b[0m\n\u001b[0;32m--> 206\u001b[0;31m             \u001b[0mblock_dict\u001b[0m \u001b[0;34m=\u001b[0m \u001b[0;34m{\u001b[0m\u001b[0mexpression\u001b[0m\u001b[0;34m:\u001b[0m \u001b[0mblock_scope\u001b[0m\u001b[0;34m.\u001b[0m\u001b[0mevaluate\u001b[0m\u001b[0;34m(\u001b[0m\u001b[0mexpression\u001b[0m\u001b[0;34m)\u001b[0m \u001b[0;32mfor\u001b[0m \u001b[0mexpression\u001b[0m \u001b[0;32min\u001b[0m \u001b[0mrun\u001b[0m\u001b[0;34m.\u001b[0m\u001b[0mexpressions\u001b[0m\u001b[0;34m}\u001b[0m\u001b[0;34m\u001b[0m\u001b[0;34m\u001b[0m\u001b[0m\n\u001b[0m\u001b[1;32m    207\u001b[0m             \u001b[0;32mfor\u001b[0m \u001b[0mtask\u001b[0m \u001b[0;32min\u001b[0m \u001b[0mrun\u001b[0m\u001b[0;34m.\u001b[0m\u001b[0mtasks\u001b[0m\u001b[0;34m:\u001b[0m\u001b[0;34m\u001b[0m\u001b[0;34m\u001b[0m\u001b[0m\n\u001b[1;32m    208\u001b[0m                 \u001b[0mblocks\u001b[0m \u001b[0;34m=\u001b[0m \u001b[0;34m[\u001b[0m\u001b[0mblock_dict\u001b[0m\u001b[0;34m[\u001b[0m\u001b[0mexpression\u001b[0m\u001b[0;34m]\u001b[0m \u001b[0;32mfor\u001b[0m \u001b[0mexpression\u001b[0m \u001b[0;32min\u001b[0m \u001b[0mtask\u001b[0m\u001b[0;34m.\u001b[0m\u001b[0mexpressions_all\u001b[0m\u001b[0;34m]\u001b[0m\u001b[0;34m\u001b[0m\u001b[0;34m\u001b[0m\u001b[0m\n",
      "\u001b[0;32m~/projects/dynamoDublin/backend_d-dub/.denv/lib/python3.8/site-packages/vaex/scopes.py\u001b[0m in \u001b[0;36mevaluate\u001b[0;34m(self, expression, out)\u001b[0m\n\u001b[1;32m     95\u001b[0m         \u001b[0;32mtry\u001b[0m\u001b[0;34m:\u001b[0m\u001b[0;34m\u001b[0m\u001b[0;34m\u001b[0m\u001b[0m\n\u001b[1;32m     96\u001b[0m             \u001b[0;31m# logger.debug(\"try avoid evaluating: %s\", expression)\u001b[0m\u001b[0;34m\u001b[0m\u001b[0;34m\u001b[0m\u001b[0;34m\u001b[0m\u001b[0m\n\u001b[0;32m---> 97\u001b[0;31m             \u001b[0mresult\u001b[0m \u001b[0;34m=\u001b[0m \u001b[0mself\u001b[0m\u001b[0;34m[\u001b[0m\u001b[0mexpression\u001b[0m\u001b[0;34m]\u001b[0m\u001b[0;34m\u001b[0m\u001b[0;34m\u001b[0m\u001b[0m\n\u001b[0m\u001b[1;32m     98\u001b[0m         \u001b[0;32mexcept\u001b[0m \u001b[0mKeyError\u001b[0m\u001b[0;34m:\u001b[0m\u001b[0;34m\u001b[0m\u001b[0;34m\u001b[0m\u001b[0m\n\u001b[1;32m     99\u001b[0m             \u001b[0;31m# logger.debug(\"no luck, eval: %s\", expression)\u001b[0m\u001b[0;34m\u001b[0m\u001b[0;34m\u001b[0m\u001b[0;34m\u001b[0m\u001b[0m\n",
      "\u001b[0;32m~/projects/dynamoDublin/backend_d-dub/.denv/lib/python3.8/site-packages/vaex/scopes.py\u001b[0m in \u001b[0;36m__getitem__\u001b[0;34m(self, variable)\u001b[0m\n\u001b[1;32m    137\u001b[0m                 \u001b[0;32melse\u001b[0m\u001b[0;34m:\u001b[0m\u001b[0;34m\u001b[0m\u001b[0;34m\u001b[0m\u001b[0m\n\u001b[1;32m    138\u001b[0m                     \u001b[0;31m# self._ensure_buffer(variable)\u001b[0m\u001b[0;34m\u001b[0m\u001b[0;34m\u001b[0m\u001b[0;34m\u001b[0m\u001b[0m\n\u001b[0;32m--> 139\u001b[0;31m                     \u001b[0mself\u001b[0m\u001b[0;34m.\u001b[0m\u001b[0mvalues\u001b[0m\u001b[0;34m[\u001b[0m\u001b[0mvariable\u001b[0m\u001b[0;34m]\u001b[0m \u001b[0;34m=\u001b[0m \u001b[0mself\u001b[0m\u001b[0;34m.\u001b[0m\u001b[0mevaluate\u001b[0m\u001b[0;34m(\u001b[0m\u001b[0mexpression\u001b[0m\u001b[0;34m)\u001b[0m  \u001b[0;31m# , out=self.buffers[variable])\u001b[0m\u001b[0;34m\u001b[0m\u001b[0;34m\u001b[0m\u001b[0m\n\u001b[0m\u001b[1;32m    140\u001b[0m                     \u001b[0;31m# self.values[variable] = self.buffers[variable]\u001b[0m\u001b[0;34m\u001b[0m\u001b[0;34m\u001b[0m\u001b[0;34m\u001b[0m\u001b[0m\n\u001b[1;32m    141\u001b[0m             \u001b[0;32melif\u001b[0m \u001b[0mvariable\u001b[0m \u001b[0;32min\u001b[0m \u001b[0mself\u001b[0m\u001b[0;34m.\u001b[0m\u001b[0mdf\u001b[0m\u001b[0;34m.\u001b[0m\u001b[0mfunctions\u001b[0m\u001b[0;34m:\u001b[0m\u001b[0;34m\u001b[0m\u001b[0;34m\u001b[0m\u001b[0m\n",
      "\u001b[0;32m~/projects/dynamoDublin/backend_d-dub/.denv/lib/python3.8/site-packages/vaex/scopes.py\u001b[0m in \u001b[0;36mevaluate\u001b[0;34m(self, expression, out)\u001b[0m\n\u001b[1;32m    101\u001b[0m             \u001b[0;31m# logger.debug(\"in eval\")\u001b[0m\u001b[0;34m\u001b[0m\u001b[0;34m\u001b[0m\u001b[0;34m\u001b[0m\u001b[0m\n\u001b[1;32m    102\u001b[0m             \u001b[0;31m# eval(\"def f(\")\u001b[0m\u001b[0;34m\u001b[0m\u001b[0;34m\u001b[0m\u001b[0;34m\u001b[0m\u001b[0m\n\u001b[0;32m--> 103\u001b[0;31m             \u001b[0mresult\u001b[0m \u001b[0;34m=\u001b[0m \u001b[0meval\u001b[0m\u001b[0;34m(\u001b[0m\u001b[0mexpression\u001b[0m\u001b[0;34m,\u001b[0m \u001b[0mexpression_namespace\u001b[0m\u001b[0;34m,\u001b[0m \u001b[0mself\u001b[0m\u001b[0;34m)\u001b[0m\u001b[0;34m\u001b[0m\u001b[0;34m\u001b[0m\u001b[0m\n\u001b[0m\u001b[1;32m    104\u001b[0m             \u001b[0mself\u001b[0m\u001b[0;34m.\u001b[0m\u001b[0mvalues\u001b[0m\u001b[0;34m[\u001b[0m\u001b[0mexpression\u001b[0m\u001b[0;34m]\u001b[0m \u001b[0;34m=\u001b[0m \u001b[0mresult\u001b[0m\u001b[0;34m\u001b[0m\u001b[0;34m\u001b[0m\u001b[0m\n\u001b[1;32m    105\u001b[0m             \u001b[0;31m# if out is not None:\u001b[0m\u001b[0;34m\u001b[0m\u001b[0;34m\u001b[0m\u001b[0;34m\u001b[0m\u001b[0m\n",
      "\u001b[0;32m<string>\u001b[0m in \u001b[0;36m<module>\u001b[0;34m\u001b[0m\n",
      "\u001b[0;32m~/projects/dynamoDublin/backend_d-dub/.denv/lib/python3.8/site-packages/vaex/expression.py\u001b[0m in \u001b[0;36m__call__\u001b[0;34m(self, *args, **kwargs)\u001b[0m\n\u001b[1;32m   1138\u001b[0m                 \u001b[0;32mreturn\u001b[0m \u001b[0mv\u001b[0m\u001b[0;34m\u001b[0m\u001b[0;34m\u001b[0m\u001b[0m\n\u001b[1;32m   1139\u001b[0m         \u001b[0;32mfor\u001b[0m \u001b[0mi\u001b[0m \u001b[0;32min\u001b[0m \u001b[0mrange\u001b[0m\u001b[0;34m(\u001b[0m\u001b[0mlength\u001b[0m\u001b[0;34m)\u001b[0m\u001b[0;34m:\u001b[0m\u001b[0;34m\u001b[0m\u001b[0;34m\u001b[0m\u001b[0m\n\u001b[0;32m-> 1140\u001b[0;31m             \u001b[0mscalar_result\u001b[0m \u001b[0;34m=\u001b[0m \u001b[0mself\u001b[0m\u001b[0;34m.\u001b[0m\u001b[0mf\u001b[0m\u001b[0;34m(\u001b[0m\u001b[0;34m*\u001b[0m\u001b[0;34m[\u001b[0m\u001b[0mfix_type\u001b[0m\u001b[0;34m(\u001b[0m\u001b[0mk\u001b[0m\u001b[0;34m[\u001b[0m\u001b[0mi\u001b[0m\u001b[0;34m]\u001b[0m\u001b[0;34m)\u001b[0m \u001b[0;32mfor\u001b[0m \u001b[0mk\u001b[0m \u001b[0;32min\u001b[0m \u001b[0margs\u001b[0m\u001b[0;34m]\u001b[0m\u001b[0;34m,\u001b[0m \u001b[0;34m**\u001b[0m\u001b[0;34m{\u001b[0m\u001b[0mkey\u001b[0m\u001b[0;34m:\u001b[0m \u001b[0mvalue\u001b[0m\u001b[0;34m[\u001b[0m\u001b[0mi\u001b[0m\u001b[0;34m]\u001b[0m \u001b[0;32mfor\u001b[0m \u001b[0mkey\u001b[0m\u001b[0;34m,\u001b[0m \u001b[0mvalue\u001b[0m \u001b[0;32min\u001b[0m \u001b[0mkwargs\u001b[0m\u001b[0;34m.\u001b[0m\u001b[0mitems\u001b[0m\u001b[0;34m(\u001b[0m\u001b[0;34m)\u001b[0m\u001b[0;34m}\u001b[0m\u001b[0;34m)\u001b[0m\u001b[0;34m\u001b[0m\u001b[0;34m\u001b[0m\u001b[0m\n\u001b[0m\u001b[1;32m   1141\u001b[0m             \u001b[0mresult\u001b[0m\u001b[0;34m.\u001b[0m\u001b[0mappend\u001b[0m\u001b[0;34m(\u001b[0m\u001b[0mscalar_result\u001b[0m\u001b[0;34m)\u001b[0m\u001b[0;34m\u001b[0m\u001b[0;34m\u001b[0m\u001b[0m\n\u001b[1;32m   1142\u001b[0m         \u001b[0mresult\u001b[0m \u001b[0;34m=\u001b[0m \u001b[0mnp\u001b[0m\u001b[0;34m.\u001b[0m\u001b[0marray\u001b[0m\u001b[0;34m(\u001b[0m\u001b[0mresult\u001b[0m\u001b[0;34m)\u001b[0m\u001b[0;34m\u001b[0m\u001b[0;34m\u001b[0m\u001b[0m\n",
      "\u001b[0;32m<ipython-input-13-9f3fe57043e6>\u001b[0m in \u001b[0;36m<lambda>\u001b[0;34m(t)\u001b[0m\n\u001b[1;32m      8\u001b[0m         \u001b[0;32mreturn\u001b[0m \u001b[0mdate\u001b[0m\u001b[0;34m.\u001b[0m\u001b[0mweekday\u001b[0m\u001b[0;34m(\u001b[0m\u001b[0;34m)\u001b[0m\u001b[0;34m\u001b[0m\u001b[0;34m\u001b[0m\u001b[0m\n\u001b[1;32m      9\u001b[0m \u001b[0;34m\u001b[0m\u001b[0m\n\u001b[0;32m---> 10\u001b[0;31m     \u001b[0mdf\u001b[0m\u001b[0;34m[\u001b[0m\u001b[0;34m'hour'\u001b[0m\u001b[0;34m]\u001b[0m \u001b[0;34m=\u001b[0m \u001b[0mdf\u001b[0m\u001b[0;34m[\u001b[0m\u001b[0;34m'arrival_time'\u001b[0m\u001b[0;34m]\u001b[0m\u001b[0;34m.\u001b[0m\u001b[0mapply\u001b[0m\u001b[0;34m(\u001b[0m\u001b[0;32mlambda\u001b[0m \u001b[0mt\u001b[0m\u001b[0;34m:\u001b[0m \u001b[0mdatetime\u001b[0m\u001b[0;34m.\u001b[0m\u001b[0mstrptime\u001b[0m\u001b[0;34m(\u001b[0m\u001b[0mstr\u001b[0m\u001b[0;34m(\u001b[0m\u001b[0mt\u001b[0m\u001b[0;34m)\u001b[0m\u001b[0;34m,\u001b[0m \u001b[0;34m'%H:%M:%S'\u001b[0m\u001b[0;34m)\u001b[0m\u001b[0;34m.\u001b[0m\u001b[0mhour\u001b[0m \u001b[0;32mif\u001b[0m \u001b[0;32mnot\u001b[0m \u001b[0mtype\u001b[0m\u001b[0;34m(\u001b[0m\u001b[0mt\u001b[0m\u001b[0;34m)\u001b[0m \u001b[0;34m==\u001b[0m \u001b[0;32mNone\u001b[0m \u001b[0;32melse\u001b[0m \u001b[0;32mNone\u001b[0m \u001b[0;34m)\u001b[0m\u001b[0;34m\u001b[0m\u001b[0;34m\u001b[0m\u001b[0m\n\u001b[0m\u001b[1;32m     11\u001b[0m     \u001b[0mdf\u001b[0m\u001b[0;34m[\u001b[0m\u001b[0;34m'dow'\u001b[0m\u001b[0;34m]\u001b[0m \u001b[0;34m=\u001b[0m \u001b[0mdf\u001b[0m\u001b[0;34m.\u001b[0m\u001b[0mapply\u001b[0m\u001b[0;34m(\u001b[0m\u001b[0mapply_dow\u001b[0m\u001b[0;34m,\u001b[0m \u001b[0;34m[\u001b[0m\u001b[0;34m'start_date'\u001b[0m\u001b[0;34m,\u001b[0m \u001b[0;34m'start_time'\u001b[0m\u001b[0;34m,\u001b[0m \u001b[0;34m'arrival_time'\u001b[0m\u001b[0;34m]\u001b[0m\u001b[0;34m)\u001b[0m\u001b[0;34m\u001b[0m\u001b[0;34m\u001b[0m\u001b[0m\n\u001b[1;32m     12\u001b[0m \u001b[0;34m\u001b[0m\u001b[0m\n",
      "\u001b[0;32m/usr/lib/python3.8/_strptime.py\u001b[0m in \u001b[0;36m_strptime_datetime\u001b[0;34m(cls, data_string, format)\u001b[0m\n\u001b[1;32m    566\u001b[0m     \"\"\"Return a class cls instance based on the input string and the\n\u001b[1;32m    567\u001b[0m     format string.\"\"\"\n\u001b[0;32m--> 568\u001b[0;31m     \u001b[0mtt\u001b[0m\u001b[0;34m,\u001b[0m \u001b[0mfraction\u001b[0m\u001b[0;34m,\u001b[0m \u001b[0mgmtoff_fraction\u001b[0m \u001b[0;34m=\u001b[0m \u001b[0m_strptime\u001b[0m\u001b[0;34m(\u001b[0m\u001b[0mdata_string\u001b[0m\u001b[0;34m,\u001b[0m \u001b[0mformat\u001b[0m\u001b[0;34m)\u001b[0m\u001b[0;34m\u001b[0m\u001b[0;34m\u001b[0m\u001b[0m\n\u001b[0m\u001b[1;32m    569\u001b[0m     \u001b[0mtzname\u001b[0m\u001b[0;34m,\u001b[0m \u001b[0mgmtoff\u001b[0m \u001b[0;34m=\u001b[0m \u001b[0mtt\u001b[0m\u001b[0;34m[\u001b[0m\u001b[0;34m-\u001b[0m\u001b[0;36m2\u001b[0m\u001b[0;34m:\u001b[0m\u001b[0;34m]\u001b[0m\u001b[0;34m\u001b[0m\u001b[0;34m\u001b[0m\u001b[0m\n\u001b[1;32m    570\u001b[0m     \u001b[0margs\u001b[0m \u001b[0;34m=\u001b[0m \u001b[0mtt\u001b[0m\u001b[0;34m[\u001b[0m\u001b[0;34m:\u001b[0m\u001b[0;36m6\u001b[0m\u001b[0;34m]\u001b[0m \u001b[0;34m+\u001b[0m \u001b[0;34m(\u001b[0m\u001b[0mfraction\u001b[0m\u001b[0;34m,\u001b[0m\u001b[0;34m)\u001b[0m\u001b[0;34m\u001b[0m\u001b[0;34m\u001b[0m\u001b[0m\n",
      "\u001b[0;32m/usr/lib/python3.8/_strptime.py\u001b[0m in \u001b[0;36m_strptime\u001b[0;34m(data_string, format)\u001b[0m\n\u001b[1;32m    347\u001b[0m     \u001b[0mfound\u001b[0m \u001b[0;34m=\u001b[0m \u001b[0mformat_regex\u001b[0m\u001b[0;34m.\u001b[0m\u001b[0mmatch\u001b[0m\u001b[0;34m(\u001b[0m\u001b[0mdata_string\u001b[0m\u001b[0;34m)\u001b[0m\u001b[0;34m\u001b[0m\u001b[0;34m\u001b[0m\u001b[0m\n\u001b[1;32m    348\u001b[0m     \u001b[0;32mif\u001b[0m \u001b[0;32mnot\u001b[0m \u001b[0mfound\u001b[0m\u001b[0;34m:\u001b[0m\u001b[0;34m\u001b[0m\u001b[0;34m\u001b[0m\u001b[0m\n\u001b[0;32m--> 349\u001b[0;31m         raise ValueError(\"time data %r does not match format %r\" %\n\u001b[0m\u001b[1;32m    350\u001b[0m                          (data_string, format))\n\u001b[1;32m    351\u001b[0m     \u001b[0;32mif\u001b[0m \u001b[0mlen\u001b[0m\u001b[0;34m(\u001b[0m\u001b[0mdata_string\u001b[0m\u001b[0;34m)\u001b[0m \u001b[0;34m!=\u001b[0m \u001b[0mfound\u001b[0m\u001b[0;34m.\u001b[0m\u001b[0mend\u001b[0m\u001b[0;34m(\u001b[0m\u001b[0;34m)\u001b[0m\u001b[0;34m:\u001b[0m\u001b[0;34m\u001b[0m\u001b[0;34m\u001b[0m\u001b[0m\n",
      "\u001b[0;31mValueError\u001b[0m: time data 'None' does not match format '%H:%M:%S'"
     ]
    }
   ],
   "source": [
    "pred_df[vx_df.column_names].export_csv(gtfs_processed_csv_path)"
   ]
  },
  {
   "cell_type": "code",
   "execution_count": 84,
   "metadata": {},
   "outputs": [
    {
     "output_type": "execute_result",
     "data": {
      "text/plain": [
       "0"
      ]
     },
     "metadata": {},
     "execution_count": 84
    }
   ],
   "source": [
    "def apply_dow(start_date=20210131, start_time='23:15:00', arrival_time='00:44:11'):\n",
    "        date = datetime.strptime(str(start_date), \"%Y%m%d\") \n",
    "        if datetime.strptime(arrival_time, '%H:%M:%S') < datetime.strptime(start_time, '%H:%M:%S'):\n",
    "            return (date + timedelta(days=1)).weekday()\n",
    "        return date.weekday()\n",
    "\n",
    "apply_dow()"
   ]
  },
  {
   "cell_type": "code",
   "execution_count": 32,
   "metadata": {},
   "outputs": [
    {
     "output_type": "execute_result",
     "data": {
      "text/plain": [
       "       trip_id         start_date start_time       stop_sequence  \\\n",
       "dtype      str              int64        str               int64   \n",
       "count  1331940            1331940    1331940             1331940   \n",
       "NA           0                  0          0                   0   \n",
       "mean        --  20210124.51881241         --  31.475787197621514   \n",
       "std         --          28.207933         --           20.897237   \n",
       "min         --           20210109         --                   1   \n",
       "max         --           20210131         --                 104   \n",
       "\n",
       "                departure             arrival timestamp  stop_id  \\\n",
       "dtype               int64               int64       str      str   \n",
       "count             1331940             1331940   1331940  1331940   \n",
       "NA                      0                   0         0        0   \n",
       "mean   121.96977341321681  118.28221991981621        --       --   \n",
       "std            305.690759          300.947633        --       --   \n",
       "min                -14640              -14640        --       --   \n",
       "max                  6660                6660        --       --   \n",
       "\n",
       "                       lat                 lon arrival_time departure_time  \\\n",
       "dtype              float64             float64          str            str   \n",
       "count              1331940             1331940      1331133        1331133   \n",
       "NA                       0                   0          807            807   \n",
       "mean   -6.2589183179536825  53.340680169783184           --             --   \n",
       "std                0.07761            0.060382           --             --   \n",
       "min              -6.614865           53.070678           --             --   \n",
       "max              -6.053311           53.606196           --             --   \n",
       "\n",
       "      shape_dist_traveled  \n",
       "dtype             float64  \n",
       "count             1331133  \n",
       "NA                    807  \n",
       "mean   10853.391890722698  \n",
       "std           7471.358078  \n",
       "min                   0.0  \n",
       "max               45761.8  "
      ],
      "text/html": "<div>\n<style scoped>\n    .dataframe tbody tr th:only-of-type {\n        vertical-align: middle;\n    }\n\n    .dataframe tbody tr th {\n        vertical-align: top;\n    }\n\n    .dataframe thead th {\n        text-align: right;\n    }\n</style>\n<table border=\"1\" class=\"dataframe\">\n  <thead>\n    <tr style=\"text-align: right;\">\n      <th></th>\n      <th>trip_id</th>\n      <th>start_date</th>\n      <th>start_time</th>\n      <th>stop_sequence</th>\n      <th>departure</th>\n      <th>arrival</th>\n      <th>timestamp</th>\n      <th>stop_id</th>\n      <th>lat</th>\n      <th>lon</th>\n      <th>arrival_time</th>\n      <th>departure_time</th>\n      <th>shape_dist_traveled</th>\n    </tr>\n  </thead>\n  <tbody>\n    <tr>\n      <th>dtype</th>\n      <td>str</td>\n      <td>int64</td>\n      <td>str</td>\n      <td>int64</td>\n      <td>int64</td>\n      <td>int64</td>\n      <td>str</td>\n      <td>str</td>\n      <td>float64</td>\n      <td>float64</td>\n      <td>str</td>\n      <td>str</td>\n      <td>float64</td>\n    </tr>\n    <tr>\n      <th>count</th>\n      <td>1331940</td>\n      <td>1331940</td>\n      <td>1331940</td>\n      <td>1331940</td>\n      <td>1331940</td>\n      <td>1331940</td>\n      <td>1331940</td>\n      <td>1331940</td>\n      <td>1331940</td>\n      <td>1331940</td>\n      <td>1331133</td>\n      <td>1331133</td>\n      <td>1331133</td>\n    </tr>\n    <tr>\n      <th>NA</th>\n      <td>0</td>\n      <td>0</td>\n      <td>0</td>\n      <td>0</td>\n      <td>0</td>\n      <td>0</td>\n      <td>0</td>\n      <td>0</td>\n      <td>0</td>\n      <td>0</td>\n      <td>807</td>\n      <td>807</td>\n      <td>807</td>\n    </tr>\n    <tr>\n      <th>mean</th>\n      <td>--</td>\n      <td>20210124.51881241</td>\n      <td>--</td>\n      <td>31.475787197621514</td>\n      <td>121.96977341321681</td>\n      <td>118.28221991981621</td>\n      <td>--</td>\n      <td>--</td>\n      <td>-6.2589183179536825</td>\n      <td>53.340680169783184</td>\n      <td>--</td>\n      <td>--</td>\n      <td>10853.391890722698</td>\n    </tr>\n    <tr>\n      <th>std</th>\n      <td>--</td>\n      <td>28.207933</td>\n      <td>--</td>\n      <td>20.897237</td>\n      <td>305.690759</td>\n      <td>300.947633</td>\n      <td>--</td>\n      <td>--</td>\n      <td>0.07761</td>\n      <td>0.060382</td>\n      <td>--</td>\n      <td>--</td>\n      <td>7471.358078</td>\n    </tr>\n    <tr>\n      <th>min</th>\n      <td>--</td>\n      <td>20210109</td>\n      <td>--</td>\n      <td>1</td>\n      <td>-14640</td>\n      <td>-14640</td>\n      <td>--</td>\n      <td>--</td>\n      <td>-6.614865</td>\n      <td>53.070678</td>\n      <td>--</td>\n      <td>--</td>\n      <td>0.0</td>\n    </tr>\n    <tr>\n      <th>max</th>\n      <td>--</td>\n      <td>20210131</td>\n      <td>--</td>\n      <td>104</td>\n      <td>6660</td>\n      <td>6660</td>\n      <td>--</td>\n      <td>--</td>\n      <td>-6.053311</td>\n      <td>53.606196</td>\n      <td>--</td>\n      <td>--</td>\n      <td>45761.8</td>\n    </tr>\n  </tbody>\n</table>\n</div>"
     },
     "metadata": {},
     "execution_count": 32
    }
   ],
   "source": [
    "vx_df.describe()"
   ]
  },
  {
   "cell_type": "code",
   "execution_count": 5,
   "metadata": {},
   "outputs": [
    {
     "output_type": "execute_result",
     "data": {
      "text/html": "<table>\n<thead>\n<tr><th>#                                     </th><th>trip_id                  </th><th>start_date  </th><th>start_time  </th><th>stop_sequence  </th><th>departure  </th><th>arrival  </th><th>timestamp          </th><th>stop_id     </th></tr>\n</thead>\n<tbody>\n<tr><td><i style='opacity: 0.6'>0</i>         </td><td>11777.2.60-13-b12-1.22.I </td><td>20210109    </td><td>18:00:00    </td><td>1              </td><td>0          </td><td>0        </td><td>2021-01-09 19:28:02</td><td>8230DB007229</td></tr>\n<tr><td><i style='opacity: 0.6'>1</i>         </td><td>11379.2.60-13-b12-1.19.O </td><td>20210109    </td><td>18:00:00    </td><td>1              </td><td>0          </td><td>0        </td><td>2021-01-09 19:28:02</td><td>8240DB000324</td></tr>\n<tr><td><i style='opacity: 0.6'>2</i>         </td><td>8111.2.60-27-b12-1.151.O </td><td>20210109    </td><td>18:10:00    </td><td>1              </td><td>0          </td><td>0        </td><td>2021-01-09 19:28:02</td><td>8220DB004595</td></tr>\n<tr><td><i style='opacity: 0.6'>3</i>         </td><td>7705.2.60-40-b12-1.206.O </td><td>20210109    </td><td>18:10:00    </td><td>1              </td><td>0          </td><td>0        </td><td>2021-01-09 19:28:02</td><td>8240DB007132</td></tr>\n<tr><td><i style='opacity: 0.6'>4</i>         </td><td>7751.2.60-40-b12-1.209.I </td><td>20210109    </td><td>18:10:00    </td><td>1              </td><td>0          </td><td>0        </td><td>2021-01-09 19:28:02</td><td>8230DB004795</td></tr>\n<tr><td>...                                   </td><td>...                      </td><td>...         </td><td>...         </td><td>...            </td><td>...        </td><td>...      </td><td>...                </td><td>...         </td></tr>\n<tr><td><i style='opacity: 0.6'>13,194,471</i></td><td>12355.3.60-37-b12-1.39.O </td><td>20210131    </td><td>23:20:00    </td><td>3              </td><td>0          </td><td>0        </td><td>2021-01-31 23:59:45</td><td>8220DB000784</td></tr>\n<tr><td><i style='opacity: 0.6'>13,194,472</i></td><td>12355.3.60-37-b12-1.39.O </td><td>20210131    </td><td>23:20:00    </td><td>56             </td><td>120        </td><td>120      </td><td>2021-01-31 23:59:45</td><td>8240DB007227</td></tr>\n<tr><td><i style='opacity: 0.6'>13,194,473</i></td><td>12640.3.60-130-b12-1.74.I</td><td>20210131    </td><td>23:30:00    </td><td>1              </td><td>0          </td><td>0        </td><td>2021-01-31 23:59:45</td><td>8220DB001772</td></tr>\n<tr><td><i style='opacity: 0.6'>13,194,474</i></td><td>12640.3.60-130-b12-1.74.I</td><td>20210131    </td><td>23:30:00    </td><td>18             </td><td>1200       </td><td>1200     </td><td>2021-01-31 23:59:45</td><td>8220DB001729</td></tr>\n<tr><td><i style='opacity: 0.6'>13,194,475</i></td><td>12640.3.60-130-b12-1.74.I</td><td>20210131    </td><td>23:30:00    </td><td>20             </td><td>1140       </td><td>1140     </td><td>2021-01-31 23:59:45</td><td>8220DB001731</td></tr>\n</tbody>\n</table>",
      "text/plain": [
       "#           trip_id                    start_date    start_time    stop_sequence    departure    arrival    timestamp            stop_id\n",
       "0           11777.2.60-13-b12-1.22.I   20210109      18:00:00      1                0            0          2021-01-09 19:28:02  8230DB007229\n",
       "1           11379.2.60-13-b12-1.19.O   20210109      18:00:00      1                0            0          2021-01-09 19:28:02  8240DB000324\n",
       "2           8111.2.60-27-b12-1.151.O   20210109      18:10:00      1                0            0          2021-01-09 19:28:02  8220DB004595\n",
       "3           7705.2.60-40-b12-1.206.O   20210109      18:10:00      1                0            0          2021-01-09 19:28:02  8240DB007132\n",
       "4           7751.2.60-40-b12-1.209.I   20210109      18:10:00      1                0            0          2021-01-09 19:28:02  8230DB004795\n",
       "...         ...                        ...           ...           ...              ...          ...        ...                  ...\n",
       "13,194,471  12355.3.60-37-b12-1.39.O   20210131      23:20:00      3                0            0          2021-01-31 23:59:45  8220DB000784\n",
       "13,194,472  12355.3.60-37-b12-1.39.O   20210131      23:20:00      56               120          120        2021-01-31 23:59:45  8240DB007227\n",
       "13,194,473  12640.3.60-130-b12-1.74.I  20210131      23:30:00      1                0            0          2021-01-31 23:59:45  8220DB001772\n",
       "13,194,474  12640.3.60-130-b12-1.74.I  20210131      23:30:00      18               1200         1200       2021-01-31 23:59:45  8220DB001729\n",
       "13,194,475  12640.3.60-130-b12-1.74.I  20210131      23:30:00      20               1140         1140       2021-01-31 23:59:45  8220DB001731"
      ]
     },
     "metadata": {},
     "execution_count": 5
    }
   ],
   "source": [
    "vx_df = vaex.open(gtfs_final_csv_path+'.hdf5')\n",
    "vx_df"
   ]
  },
  {
   "cell_type": "code",
   "execution_count": 26,
   "metadata": {},
   "outputs": [
    {
     "output_type": "execute_result",
     "data": {
      "text/html": "<table>\n<thead>\n<tr><th>#                              </th><th>trip_id                 </th><th>start_date  </th><th>start_time  </th><th>stop_sequence  </th><th>departure  </th><th>arrival  </th><th>timestamp          </th><th>stop_id     </th></tr>\n</thead>\n<tbody>\n<tr><td><i style='opacity: 0.6'>0</i>  </td><td>11777.2.60-13-b12-1.22.I</td><td>20210109    </td><td>18:00:00    </td><td>1              </td><td>0          </td><td>0        </td><td>2021-01-09 19:28:02</td><td>8230DB007229</td></tr>\n<tr><td><i style='opacity: 0.6'>1</i>  </td><td>11777.2.60-13-b12-1.22.I</td><td>20210109    </td><td>18:00:00    </td><td>1              </td><td>0          </td><td>0        </td><td>2021-01-09 19:28:54</td><td>8230DB007229</td></tr>\n<tr><td><i style='opacity: 0.6'>2</i>  </td><td>11777.2.60-13-b12-1.22.I</td><td>20210109    </td><td>18:00:00    </td><td>1              </td><td>0          </td><td>0        </td><td>2021-01-09 19:30:02</td><td>8230DB007229</td></tr>\n<tr><td><i style='opacity: 0.6'>3</i>  </td><td>11777.2.60-13-b12-1.22.I</td><td>20210109    </td><td>18:00:00    </td><td>1              </td><td>0          </td><td>0        </td><td>2021-01-09 19:31:08</td><td>8230DB007229</td></tr>\n<tr><td><i style='opacity: 0.6'>4</i>  </td><td>11777.2.60-13-b12-1.22.I</td><td>20210109    </td><td>18:00:00    </td><td>1              </td><td>0          </td><td>0        </td><td>2021-01-09 19:32:08</td><td>8230DB007229</td></tr>\n<tr><td>...                            </td><td>...                     </td><td>...         </td><td>...         </td><td>...            </td><td>...        </td><td>...      </td><td>...                </td><td>...         </td></tr>\n<tr><td><i style='opacity: 0.6'>878</i></td><td>11777.2.60-13-b12-1.22.I</td><td>20210130    </td><td>14:00:00    </td><td>1              </td><td>0          </td><td>0        </td><td>2021-01-30 15:31:00</td><td>8230DB007229</td></tr>\n<tr><td><i style='opacity: 0.6'>879</i></td><td>11777.2.60-13-b12-1.22.I</td><td>20210130    </td><td>14:00:00    </td><td>76             </td><td>240        </td><td>240      </td><td>2021-01-30 15:31:00</td><td>8220DB000092</td></tr>\n<tr><td><i style='opacity: 0.6'>880</i></td><td>11777.2.60-13-b12-1.22.I</td><td>20210130    </td><td>14:00:00    </td><td>80             </td><td>300        </td><td>240      </td><td>2021-01-30 15:31:00</td><td>8220DB006239</td></tr>\n<tr><td><i style='opacity: 0.6'>881</i></td><td>11777.2.60-13-b12-1.22.I</td><td>20210130    </td><td>14:00:00    </td><td>81             </td><td>240        </td><td>240      </td><td>2021-01-30 15:31:00</td><td>8220DB000104</td></tr>\n<tr><td><i style='opacity: 0.6'>882</i></td><td>11777.2.60-13-b12-1.22.I</td><td>20210130    </td><td>14:00:00    </td><td>85             </td><td>300        </td><td>300      </td><td>2021-01-30 15:31:00</td><td>8220DB007191</td></tr>\n</tbody>\n</table>",
      "text/plain": [
       "#    trip_id                   start_date    start_time    stop_sequence    departure    arrival    timestamp            stop_id\n",
       "0    11777.2.60-13-b12-1.22.I  20210109      18:00:00      1                0            0          2021-01-09 19:28:02  8230DB007229\n",
       "1    11777.2.60-13-b12-1.22.I  20210109      18:00:00      1                0            0          2021-01-09 19:28:54  8230DB007229\n",
       "2    11777.2.60-13-b12-1.22.I  20210109      18:00:00      1                0            0          2021-01-09 19:30:02  8230DB007229\n",
       "3    11777.2.60-13-b12-1.22.I  20210109      18:00:00      1                0            0          2021-01-09 19:31:08  8230DB007229\n",
       "4    11777.2.60-13-b12-1.22.I  20210109      18:00:00      1                0            0          2021-01-09 19:32:08  8230DB007229\n",
       "...  ...                       ...           ...           ...              ...          ...        ...                  ...\n",
       "878  11777.2.60-13-b12-1.22.I  20210130      14:00:00      1                0            0          2021-01-30 15:31:00  8230DB007229\n",
       "879  11777.2.60-13-b12-1.22.I  20210130      14:00:00      76               240          240        2021-01-30 15:31:00  8220DB000092\n",
       "880  11777.2.60-13-b12-1.22.I  20210130      14:00:00      80               300          240        2021-01-30 15:31:00  8220DB006239\n",
       "881  11777.2.60-13-b12-1.22.I  20210130      14:00:00      81               240          240        2021-01-30 15:31:00  8220DB000104\n",
       "882  11777.2.60-13-b12-1.22.I  20210130      14:00:00      85               300          300        2021-01-30 15:31:00  8220DB007191"
      ]
     },
     "metadata": {},
     "execution_count": 26
    }
   ],
   "source": [
    "one_trip = vx_df[vx_df.trip_id == '11777.2.60-13-b12-1.22.I']\n",
    "one_trip"
   ]
  },
  {
   "cell_type": "code",
   "execution_count": 33,
   "metadata": {},
   "outputs": [
    {
     "output_type": "execute_result",
     "data": {
      "text/plain": [
       "                    trip_id  start_date start_time  stop_sequence  departure  \\\n",
       "0  11777.2.60-13-b12-1.22.I    20210109   18:00:00              1          0   \n",
       "1  11379.2.60-13-b12-1.19.O    20210109   18:00:00              1          0   \n",
       "2  8111.2.60-27-b12-1.151.O    20210109   18:10:00              1          0   \n",
       "3  7705.2.60-40-b12-1.206.O    20210109   18:10:00              1          0   \n",
       "4  7751.2.60-40-b12-1.209.I    20210109   18:10:00              1          0   \n",
       "\n",
       "   arrival            timestamp       stop_id  \n",
       "0        0  2021-01-09 19:28:02  8230DB007229  \n",
       "1        0  2021-01-09 19:28:02  8240DB000324  \n",
       "2        0  2021-01-09 19:28:02  8220DB004595  \n",
       "3        0  2021-01-09 19:28:02  8240DB007132  \n",
       "4        0  2021-01-09 19:28:02  8230DB004795  "
      ],
      "text/html": "<div>\n<style scoped>\n    .dataframe tbody tr th:only-of-type {\n        vertical-align: middle;\n    }\n\n    .dataframe tbody tr th {\n        vertical-align: top;\n    }\n\n    .dataframe thead th {\n        text-align: right;\n    }\n</style>\n<table border=\"1\" class=\"dataframe\">\n  <thead>\n    <tr style=\"text-align: right;\">\n      <th></th>\n      <th>trip_id</th>\n      <th>start_date</th>\n      <th>start_time</th>\n      <th>stop_sequence</th>\n      <th>departure</th>\n      <th>arrival</th>\n      <th>timestamp</th>\n      <th>stop_id</th>\n    </tr>\n  </thead>\n  <tbody>\n    <tr>\n      <th>0</th>\n      <td>11777.2.60-13-b12-1.22.I</td>\n      <td>20210109</td>\n      <td>18:00:00</td>\n      <td>1</td>\n      <td>0</td>\n      <td>0</td>\n      <td>2021-01-09 19:28:02</td>\n      <td>8230DB007229</td>\n    </tr>\n    <tr>\n      <th>1</th>\n      <td>11379.2.60-13-b12-1.19.O</td>\n      <td>20210109</td>\n      <td>18:00:00</td>\n      <td>1</td>\n      <td>0</td>\n      <td>0</td>\n      <td>2021-01-09 19:28:02</td>\n      <td>8240DB000324</td>\n    </tr>\n    <tr>\n      <th>2</th>\n      <td>8111.2.60-27-b12-1.151.O</td>\n      <td>20210109</td>\n      <td>18:10:00</td>\n      <td>1</td>\n      <td>0</td>\n      <td>0</td>\n      <td>2021-01-09 19:28:02</td>\n      <td>8220DB004595</td>\n    </tr>\n    <tr>\n      <th>3</th>\n      <td>7705.2.60-40-b12-1.206.O</td>\n      <td>20210109</td>\n      <td>18:10:00</td>\n      <td>1</td>\n      <td>0</td>\n      <td>0</td>\n      <td>2021-01-09 19:28:02</td>\n      <td>8240DB007132</td>\n    </tr>\n    <tr>\n      <th>4</th>\n      <td>7751.2.60-40-b12-1.209.I</td>\n      <td>20210109</td>\n      <td>18:10:00</td>\n      <td>1</td>\n      <td>0</td>\n      <td>0</td>\n      <td>2021-01-09 19:28:02</td>\n      <td>8230DB004795</td>\n    </tr>\n  </tbody>\n</table>\n</div>"
     },
     "metadata": {},
     "execution_count": 33
    }
   ],
   "source": [
    "import dask.dataframe as dd\n",
    "\n",
    "ddf = dd.read_csv(gtfs_final_csv_path)\n",
    "ddf.head()"
   ]
  },
  {
   "cell_type": "code",
   "execution_count": 35,
   "metadata": {},
   "outputs": [
    {
     "output_type": "execute_result",
     "data": {
      "text/plain": [
       "['/home/vlad/projects/dynamoDublin/backend_d-dub/ml/processing/output/temp_dask.csv/0.part']"
      ]
     },
     "metadata": {},
     "execution_count": 35
    }
   ],
   "source": [
    "ddf.drop_duplicates().to_csv('./output/temp_dask.csv')"
   ]
  },
  {
   "cell_type": "code",
   "execution_count": null,
   "metadata": {},
   "outputs": [],
   "source": []
  }
 ]
}