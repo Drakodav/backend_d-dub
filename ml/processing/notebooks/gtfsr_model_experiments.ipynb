{
 "metadata": {
  "language_info": {
   "codemirror_mode": {
    "name": "ipython",
    "version": 3
   },
   "file_extension": ".py",
   "mimetype": "text/x-python",
   "name": "python",
   "nbconvert_exporter": "python",
   "pygments_lexer": "ipython3",
   "version": "3.7.3"
  },
  "orig_nbformat": 2,
  "kernelspec": {
   "name": "python373jvsc74a57bd01f88fc97c7fb3947bd326a726f8a8dc191979e040f27ff246d948d3096353654",
   "display_name": "Python 3.7.3 64-bit ('base': conda)"
  }
 },
 "nbformat": 4,
 "nbformat_minor": 2,
 "cells": [
  {
   "cell_type": "code",
   "execution_count": 60,
   "metadata": {},
   "outputs": [
    {
     "output_type": "execute_result",
     "data": {
      "text/html": "<table>\n<thead>\n<tr><th>#                                 </th><th>trip_id                  </th><th>start_date  </th><th>start_time  </th><th>stop_sequence  </th><th>departure  </th><th>arrival  </th><th>timestamp          </th><th>stop_id     </th><th>arrival_time  </th><th>departure_time  </th><th>shape_dist_traveled  </th><th>direction  </th><th>route_id   </th><th>lat             </th><th>lon              </th><th>direction_angle   </th><th>shape_dist_between  </th><th>p_avg_vol         </th><th>arr_dow  </th><th>arrival_mean  </th></tr>\n</thead>\n<tbody>\n<tr><td><i style='opacity: 0.6'>0</i>     </td><td>8213.2.60-27-b12-1.151.O </td><td>20210130    </td><td>15:40:00    </td><td>78             </td><td>360        </td><td>360      </td><td>2021-01-30 16:49:33</td><td>8230DB005008</td><td>16:54:47      </td><td>16:54:47        </td><td>24147.77             </td><td>0          </td><td>60-27-b12-1</td><td>53.2904501890302</td><td>-6.3693569938866 </td><td>-118.2101957090697</td><td>312.6899999999987   </td><td>204.08747428810207</td><td>5        </td><td>270.0         </td></tr>\n<tr><td><i style='opacity: 0.6'>1</i>     </td><td>8112.2.60-27-b12-1.149.I </td><td>20210130    </td><td>16:00:00    </td><td>47             </td><td>120        </td><td>120      </td><td>2021-01-30 16:39:06</td><td>8220DB001358</td><td>16:45:44      </td><td>16:45:44        </td><td>16067.82             </td><td>1          </td><td>60-27-b12-1</td><td>53.3443047133873</td><td>-6.26288938939078</td><td>61.73872317468925 </td><td>441.1900000000005   </td><td>19.81116220357116 </td><td>5        </td><td>60.0          </td></tr>\n<tr><td><i style='opacity: 0.6'>2</i>     </td><td>17753.4.60-27-b12-1.149.I</td><td>20210129    </td><td>12:30:00    </td><td>1              </td><td>0          </td><td>0        </td><td>2021-01-29 12:02:01</td><td>8230DB002353</td><td>12:30:00      </td><td>12:30:00        </td><td>0.0                  </td><td>1          </td><td>60-27-b12-1</td><td>53.279150529518 </td><td>-6.40175897234439</td><td>61.73872317468925 </td><td>0.0                 </td><td>202.96186700062577</td><td>4        </td><td>0.0           </td></tr>\n<tr><td><i style='opacity: 0.6'>3</i>     </td><td>8112.2.60-27-b12-1.149.I </td><td>20210130    </td><td>16:00:00    </td><td>83             </td><td>180        </td><td>180      </td><td>2021-01-30 17:15:20</td><td>8220DB001267</td><td>17:20:11      </td><td>17:20:11        </td><td>26472.7              </td><td>1          </td><td>60-27-b12-1</td><td>53.4008555065983</td><td>-6.20024887014065</td><td>61.73872317468925 </td><td>323.9900000000016   </td><td>63.9830036801728  </td><td>5        </td><td>90.0          </td></tr>\n<tr><td><i style='opacity: 0.6'>4</i>     </td><td>17586.4.60-27-b12-1.149.I</td><td>20210126    </td><td>11:00:00    </td><td>72             </td><td>0          </td><td>0        </td><td>2021-01-26 11:34:11</td><td>8220DB004695</td><td>12:06:42      </td><td>12:06:42        </td><td>23758.73             </td><td>1          </td><td>60-27-b12-1</td><td>53.3929830768232</td><td>-6.1973482266491 </td><td>61.73872317468925 </td><td>336.2200000000012   </td><td>36.54685743087244 </td><td>1        </td><td>0.0           </td></tr>\n<tr><td>...                               </td><td>...                      </td><td>...         </td><td>...         </td><td>...            </td><td>...        </td><td>...      </td><td>...                </td><td>...         </td><td>...           </td><td>...             </td><td>...                  </td><td>...        </td><td>...        </td><td>...             </td><td>...              </td><td>...               </td><td>...                 </td><td>...               </td><td>...      </td><td>...           </td></tr>\n<tr><td><i style='opacity: 0.6'>43,739</i></td><td>17672.4.60-27-b12-1.149.I</td><td>20210122    </td><td>17:20:00    </td><td>60             </td><td>0          </td><td>0        </td><td>2021-01-22 18:22:24</td><td>8220DB000669</td><td>18:23:16      </td><td>18:23:16        </td><td>19788.3              </td><td>1          </td><td>60-27-b12-1</td><td>53.3663170047536</td><td>-6.2286789053178 </td><td>61.73872317468925 </td><td>360.6100000000006   </td><td>91.48522532185576 </td><td>4        </td><td>0.0           </td></tr>\n<tr><td><i style='opacity: 0.6'>43,740</i></td><td>17616.4.60-27-b12-1.149.I</td><td>20210127    </td><td>12:10:00    </td><td>84             </td><td>120        </td><td>120      </td><td>2021-01-27 13:24:13</td><td>8220DB001268</td><td>13:29:43      </td><td>13:29:43        </td><td>26661.19             </td><td>1          </td><td>60-27-b12-1</td><td>53.399894267545 </td><td>-6.19789824293475</td><td>61.73872317468925 </td><td>188.489999999998    </td><td>79.35148749915943 </td><td>2        </td><td>120.0         </td></tr>\n<tr><td><i style='opacity: 0.6'>43,741</i></td><td>8072.2.60-27-b12-1.149.I </td><td>20210123    </td><td>11:10:00    </td><td>26             </td><td>300        </td><td>300      </td><td>2021-01-23 11:26:13</td><td>8230DB002377</td><td>11:33:07      </td><td>11:33:07        </td><td>9710.88              </td><td>1          </td><td>60-27-b12-1</td><td>53.3160470777079</td><td>-6.33416048619781</td><td>61.73872317468925 </td><td>947.83              </td><td>105.32452282475197</td><td>5        </td><td>300.0         </td></tr>\n<tr><td><i style='opacity: 0.6'>43,742</i></td><td>17593.4.60-27-b12-1.149.I</td><td>20210125    </td><td>15:10:00    </td><td>9              </td><td>-60        </td><td>-60      </td><td>2021-01-25 15:24:31</td><td>8230DB007062</td><td>15:16:44      </td><td>15:16:44        </td><td>2590.62              </td><td>1          </td><td>60-27-b12-1</td><td>53.2848097660929</td><td>-6.39349379003628</td><td>61.73872317468925 </td><td>287.7999999999997   </td><td>210.66928960605887</td><td>0        </td><td>-60.0         </td></tr>\n<tr><td><i style='opacity: 0.6'>43,743</i></td><td>13107.3.60-27-b12-1.151.O</td><td>20210131    </td><td>15:30:00    </td><td>82             </td><td>540        </td><td>540      </td><td>2021-01-31 16:36:16</td><td>8230DB002351</td><td>16:37:18      </td><td>16:37:18        </td><td>25745.75             </td><td>0          </td><td>60-27-b12-1</td><td>53.2832055705941</td><td>-6.3845254486257 </td><td>-118.2101957090697</td><td>492.59999999999854  </td><td>181.84776533793368</td><td>6        </td><td>660.0         </td></tr>\n</tbody>\n</table>",
      "text/plain": [
       "#       trip_id                    start_date    start_time    stop_sequence    departure    arrival    timestamp            stop_id       arrival_time    departure_time    shape_dist_traveled    direction    route_id     lat               lon                direction_angle     shape_dist_between    p_avg_vol           arr_dow    arrival_mean\n",
       "0       8213.2.60-27-b12-1.151.O   20210130      15:40:00      78               360          360        2021-01-30 16:49:33  8230DB005008  16:54:47        16:54:47          24147.77               0            60-27-b12-1  53.2904501890302  -6.3693569938866   -118.2101957090697  312.6899999999987     204.08747428810207  5          270.0\n",
       "1       8112.2.60-27-b12-1.149.I   20210130      16:00:00      47               120          120        2021-01-30 16:39:06  8220DB001358  16:45:44        16:45:44          16067.82               1            60-27-b12-1  53.3443047133873  -6.26288938939078  61.73872317468925   441.1900000000005     19.81116220357116   5          60.0\n",
       "2       17753.4.60-27-b12-1.149.I  20210129      12:30:00      1                0            0          2021-01-29 12:02:01  8230DB002353  12:30:00        12:30:00          0.0                    1            60-27-b12-1  53.279150529518   -6.40175897234439  61.73872317468925   0.0                   202.96186700062577  4          0.0\n",
       "3       8112.2.60-27-b12-1.149.I   20210130      16:00:00      83               180          180        2021-01-30 17:15:20  8220DB001267  17:20:11        17:20:11          26472.7                1            60-27-b12-1  53.4008555065983  -6.20024887014065  61.73872317468925   323.9900000000016     63.9830036801728    5          90.0\n",
       "4       17586.4.60-27-b12-1.149.I  20210126      11:00:00      72               0            0          2021-01-26 11:34:11  8220DB004695  12:06:42        12:06:42          23758.73               1            60-27-b12-1  53.3929830768232  -6.1973482266491   61.73872317468925   336.2200000000012     36.54685743087244   1          0.0\n",
       "...     ...                        ...           ...           ...              ...          ...        ...                  ...           ...             ...               ...                    ...          ...          ...               ...                ...                 ...                   ...                 ...        ...\n",
       "43,739  17672.4.60-27-b12-1.149.I  20210122      17:20:00      60               0            0          2021-01-22 18:22:24  8220DB000669  18:23:16        18:23:16          19788.3                1            60-27-b12-1  53.3663170047536  -6.2286789053178   61.73872317468925   360.6100000000006     91.48522532185576   4          0.0\n",
       "43,740  17616.4.60-27-b12-1.149.I  20210127      12:10:00      84               120          120        2021-01-27 13:24:13  8220DB001268  13:29:43        13:29:43          26661.19               1            60-27-b12-1  53.399894267545   -6.19789824293475  61.73872317468925   188.489999999998      79.35148749915943   2          120.0\n",
       "43,741  8072.2.60-27-b12-1.149.I   20210123      11:10:00      26               300          300        2021-01-23 11:26:13  8230DB002377  11:33:07        11:33:07          9710.88                1            60-27-b12-1  53.3160470777079  -6.33416048619781  61.73872317468925   947.83                105.32452282475197  5          300.0\n",
       "43,742  17593.4.60-27-b12-1.149.I  20210125      15:10:00      9                -60          -60        2021-01-25 15:24:31  8230DB007062  15:16:44        15:16:44          2590.62                1            60-27-b12-1  53.2848097660929  -6.39349379003628  61.73872317468925   287.7999999999997     210.66928960605887  0          -60.0\n",
       "43,743  13107.3.60-27-b12-1.151.O  20210131      15:30:00      82               540          540        2021-01-31 16:36:16  8230DB002351  16:37:18        16:37:18          25745.75               0            60-27-b12-1  53.2832055705941  -6.3845254486257   -118.2101957090697  492.59999999999854    181.84776533793368  6          660.0"
      ]
     },
     "metadata": {},
     "execution_count": 60
    }
   ],
   "source": [
    "# historical avg\n",
    "import vaex\n",
    "from datetime import datetime\n",
    "\n",
    "\n",
    "# https://data-newbie.tistory.com/583\n",
    "def multipe_column_join(x_left, x_right, keys_left, keys_right, how=\"left\"):\n",
    "    # can add more checks like, vx_df[idx] cannot be an object,\n",
    "    # allow to pass only one set of keys\n",
    "\n",
    "    if len(keys_left) == 1:\n",
    "        join_result = x_left.join(\n",
    "            x_right, left_on=keys_left[0], right_on=keys_right[0], how=how, allow_duplication=True\n",
    "        )\n",
    "\n",
    "    elif len(keys_left) > 1:\n",
    "        for idx, right_key in enumerate(keys_right):\n",
    "            add_group = x_right[right_key]\n",
    "\n",
    "            if not add_group.dtype == str:\n",
    "                add_group = add_group.astype(str)\n",
    "\n",
    "            if idx == 0:\n",
    "                x_right[\"group_right\"] = add_group\n",
    "            else:\n",
    "                x_right[\"group_right\"] = x_right[\"group_right\"] + \"_\" + add_group\n",
    "        for idx, left_key in enumerate(keys_left):\n",
    "            add_group = x_left[left_key]\n",
    "            if not add_group.dtype == str:\n",
    "                add_group = add_group.astype(str)\n",
    "\n",
    "            if idx == 0:\n",
    "                x_left[\"group_left\"] = add_group\n",
    "            else:\n",
    "                x_left[\"group_left\"] = x_left[\"group_left\"] + \"_\" + add_group\n",
    "\n",
    "        x_right.drop(keys_right, inplace=True)\n",
    "        join_result = x_left.join(x_right, left_on=\"group_left\", right_on=\"group_right\", how=how)\n",
    "        join_result.drop([\"group_left\",\"group_right\"],inplace=True)\n",
    "    return join_result\n",
    "\n",
    "\n",
    "vx_df = vaex.open('./output/one_route.hdf5')\n",
    "\n",
    "# temp \n",
    "def get_dt(dt, format):\n",
    "    return datetime.strptime(str(dt), format)\n",
    "def apply_dow(start_date, start_time, expected_time):\n",
    "    date = get_dt(start_date, \"%Y%m%d\")\n",
    "    if get_dt(start_time, \"%H:%M:%S\") > get_dt(expected_time, \"%H:%M:%S\"):\n",
    "        return (date + timedelta(days=1)).weekday()\n",
    "    return date.weekday()\n",
    "vx_df['arr_dow'] = vx_df.apply(apply_dow, [\"start_date\", \"start_time\", \"arrival_time\"])\n",
    "\n",
    "cols = ['trip_id', 'stop_id', 'arr_dow']\n",
    "trip_stops = vx_df.groupby(cols, agg=[vaex.agg.mean('arrival')])\n",
    "\n",
    "joined_df = multipe_column_join(vx_df, trip_stops, cols, cols)\n",
    "joined_df"
   ]
  },
  {
   "cell_type": "code",
   "execution_count": 53,
   "metadata": {},
   "outputs": [
    {
     "output_type": "execute_result",
     "data": {
      "text/plain": [
       "['trip_id',\n",
       " 'start_date',\n",
       " 'start_time',\n",
       " 'stop_sequence',\n",
       " 'departure',\n",
       " 'arrival',\n",
       " 'timestamp',\n",
       " 'stop_id',\n",
       " 'arrival_time',\n",
       " 'departure_time',\n",
       " 'shape_dist_traveled',\n",
       " 'direction',\n",
       " 'route_id',\n",
       " 'lat',\n",
       " 'lon',\n",
       " 'direction_angle',\n",
       " 'shape_dist_between',\n",
       " 'p_avg_vol',\n",
       " 'arr_dow',\n",
       " '__group_left_1',\n",
       " '__group_left',\n",
       " '__trip_id',\n",
       " '__stop_id',\n",
       " '__arr_dow',\n",
       " 'arrival_mean',\n",
       " '__arrival_mean_1',\n",
       " '__group_right_1',\n",
       " '__group_right']"
      ]
     },
     "metadata": {},
     "execution_count": 53
    }
   ],
   "source": [
    "joined_df.extract().column_names"
   ]
  },
  {
   "cell_type": "code",
   "execution_count": 27,
   "metadata": {},
   "outputs": [
    {
     "output_type": "execute_result",
     "data": {
      "text/plain": [
       "True"
      ]
     },
     "metadata": {},
     "execution_count": 27
    }
   ],
   "source": [
    "trip_stops.trip_id.dtype == str"
   ]
  },
  {
   "cell_type": "code",
   "execution_count": 78,
   "metadata": {},
   "outputs": [
    {
     "output_type": "execute_result",
     "data": {
      "text/html": "<table>\n<thead>\n<tr><th>#                                 </th><th>trip_id                  </th><th>start_date  </th><th>start_time  </th><th>stop_sequence  </th><th>departure  </th><th>arrival  </th><th>timestamp          </th><th>stop_id     </th><th>arrival_time  </th><th>departure_time  </th><th>shape_dist_traveled  </th><th>direction  </th><th>route_id   </th><th>lat             </th><th>lon              </th><th>direction_angle   </th><th>shape_dist_between  </th><th>p_avg_vol         </th><th>arr_dow  </th><th>arrival_mean  </th></tr>\n</thead>\n<tbody>\n<tr><td><i style='opacity: 0.6'>0</i>     </td><td>8213.2.60-27-b12-1.151.O </td><td>20210130    </td><td>15:40:00    </td><td>78             </td><td>360        </td><td>360      </td><td>2021-01-30 16:49:33</td><td>8230DB005008</td><td>16:54:47      </td><td>16:54:47        </td><td>24147.77             </td><td>0          </td><td>60-27-b12-1</td><td>53.2904501890302</td><td>-6.3693569938866 </td><td>-118.2101957090697</td><td>312.6899999999987   </td><td>204.08747428810207</td><td>5        </td><td>270.0         </td></tr>\n<tr><td><i style='opacity: 0.6'>1</i>     </td><td>8112.2.60-27-b12-1.149.I </td><td>20210130    </td><td>16:00:00    </td><td>47             </td><td>120        </td><td>120      </td><td>2021-01-30 16:39:06</td><td>8220DB001358</td><td>16:45:44      </td><td>16:45:44        </td><td>16067.82             </td><td>1          </td><td>60-27-b12-1</td><td>53.3443047133873</td><td>-6.26288938939078</td><td>61.73872317468925 </td><td>441.1900000000005   </td><td>19.81116220357116 </td><td>5        </td><td>60.0          </td></tr>\n<tr><td><i style='opacity: 0.6'>2</i>     </td><td>17753.4.60-27-b12-1.149.I</td><td>20210129    </td><td>12:30:00    </td><td>1              </td><td>0          </td><td>0        </td><td>2021-01-29 12:02:01</td><td>8230DB002353</td><td>12:30:00      </td><td>12:30:00        </td><td>0.0                  </td><td>1          </td><td>60-27-b12-1</td><td>53.279150529518 </td><td>-6.40175897234439</td><td>61.73872317468925 </td><td>0.0                 </td><td>202.96186700062577</td><td>4        </td><td>0.0           </td></tr>\n<tr><td><i style='opacity: 0.6'>3</i>     </td><td>8112.2.60-27-b12-1.149.I </td><td>20210130    </td><td>16:00:00    </td><td>83             </td><td>180        </td><td>180      </td><td>2021-01-30 17:15:20</td><td>8220DB001267</td><td>17:20:11      </td><td>17:20:11        </td><td>26472.7              </td><td>1          </td><td>60-27-b12-1</td><td>53.4008555065983</td><td>-6.20024887014065</td><td>61.73872317468925 </td><td>323.9900000000016   </td><td>63.9830036801728  </td><td>5        </td><td>90.0          </td></tr>\n<tr><td><i style='opacity: 0.6'>4</i>     </td><td>17586.4.60-27-b12-1.149.I</td><td>20210126    </td><td>11:00:00    </td><td>72             </td><td>0          </td><td>0        </td><td>2021-01-26 11:34:11</td><td>8220DB004695</td><td>12:06:42      </td><td>12:06:42        </td><td>23758.73             </td><td>1          </td><td>60-27-b12-1</td><td>53.3929830768232</td><td>-6.1973482266491 </td><td>61.73872317468925 </td><td>336.2200000000012   </td><td>36.54685743087244 </td><td>1        </td><td>0.0           </td></tr>\n<tr><td>...                               </td><td>...                      </td><td>...         </td><td>...         </td><td>...            </td><td>...        </td><td>...      </td><td>...                </td><td>...         </td><td>...           </td><td>...             </td><td>...                  </td><td>...        </td><td>...        </td><td>...             </td><td>...              </td><td>...               </td><td>...                 </td><td>...               </td><td>...      </td><td>...           </td></tr>\n<tr><td><i style='opacity: 0.6'>43,739</i></td><td>17672.4.60-27-b12-1.149.I</td><td>20210122    </td><td>17:20:00    </td><td>60             </td><td>0          </td><td>0        </td><td>2021-01-22 18:22:24</td><td>8220DB000669</td><td>18:23:16      </td><td>18:23:16        </td><td>19788.3              </td><td>1          </td><td>60-27-b12-1</td><td>53.3663170047536</td><td>-6.2286789053178 </td><td>61.73872317468925 </td><td>360.6100000000006   </td><td>91.48522532185576 </td><td>4        </td><td>0.0           </td></tr>\n<tr><td><i style='opacity: 0.6'>43,740</i></td><td>17616.4.60-27-b12-1.149.I</td><td>20210127    </td><td>12:10:00    </td><td>84             </td><td>120        </td><td>120      </td><td>2021-01-27 13:24:13</td><td>8220DB001268</td><td>13:29:43      </td><td>13:29:43        </td><td>26661.19             </td><td>1          </td><td>60-27-b12-1</td><td>53.399894267545 </td><td>-6.19789824293475</td><td>61.73872317468925 </td><td>188.489999999998    </td><td>79.35148749915943 </td><td>2        </td><td>120.0         </td></tr>\n<tr><td><i style='opacity: 0.6'>43,741</i></td><td>8072.2.60-27-b12-1.149.I </td><td>20210123    </td><td>11:10:00    </td><td>26             </td><td>300        </td><td>300      </td><td>2021-01-23 11:26:13</td><td>8230DB002377</td><td>11:33:07      </td><td>11:33:07        </td><td>9710.88              </td><td>1          </td><td>60-27-b12-1</td><td>53.3160470777079</td><td>-6.33416048619781</td><td>61.73872317468925 </td><td>947.83              </td><td>105.32452282475197</td><td>5        </td><td>300.0         </td></tr>\n<tr><td><i style='opacity: 0.6'>43,742</i></td><td>17593.4.60-27-b12-1.149.I</td><td>20210125    </td><td>15:10:00    </td><td>9              </td><td>-60        </td><td>-60      </td><td>2021-01-25 15:24:31</td><td>8230DB007062</td><td>15:16:44      </td><td>15:16:44        </td><td>2590.62              </td><td>1          </td><td>60-27-b12-1</td><td>53.2848097660929</td><td>-6.39349379003628</td><td>61.73872317468925 </td><td>287.7999999999997   </td><td>210.66928960605887</td><td>0        </td><td>-60.0         </td></tr>\n<tr><td><i style='opacity: 0.6'>43,743</i></td><td>13107.3.60-27-b12-1.151.O</td><td>20210131    </td><td>15:30:00    </td><td>82             </td><td>540        </td><td>540      </td><td>2021-01-31 16:36:16</td><td>8230DB002351</td><td>16:37:18      </td><td>16:37:18        </td><td>25745.75             </td><td>0          </td><td>60-27-b12-1</td><td>53.2832055705941</td><td>-6.3845254486257 </td><td>-118.2101957090697</td><td>492.59999999999854  </td><td>181.84776533793368</td><td>6        </td><td>660.0         </td></tr>\n</tbody>\n</table>",
      "text/plain": [
       "#       trip_id                    start_date    start_time    stop_sequence    departure    arrival    timestamp            stop_id       arrival_time    departure_time    shape_dist_traveled    direction    route_id     lat               lon                direction_angle     shape_dist_between    p_avg_vol           arr_dow    arrival_mean\n",
       "0       8213.2.60-27-b12-1.151.O   20210130      15:40:00      78               360          360        2021-01-30 16:49:33  8230DB005008  16:54:47        16:54:47          24147.77               0            60-27-b12-1  53.2904501890302  -6.3693569938866   -118.2101957090697  312.6899999999987     204.08747428810207  5          270.0\n",
       "1       8112.2.60-27-b12-1.149.I   20210130      16:00:00      47               120          120        2021-01-30 16:39:06  8220DB001358  16:45:44        16:45:44          16067.82               1            60-27-b12-1  53.3443047133873  -6.26288938939078  61.73872317468925   441.1900000000005     19.81116220357116   5          60.0\n",
       "2       17753.4.60-27-b12-1.149.I  20210129      12:30:00      1                0            0          2021-01-29 12:02:01  8230DB002353  12:30:00        12:30:00          0.0                    1            60-27-b12-1  53.279150529518   -6.40175897234439  61.73872317468925   0.0                   202.96186700062577  4          0.0\n",
       "3       8112.2.60-27-b12-1.149.I   20210130      16:00:00      83               180          180        2021-01-30 17:15:20  8220DB001267  17:20:11        17:20:11          26472.7                1            60-27-b12-1  53.4008555065983  -6.20024887014065  61.73872317468925   323.9900000000016     63.9830036801728    5          90.0\n",
       "4       17586.4.60-27-b12-1.149.I  20210126      11:00:00      72               0            0          2021-01-26 11:34:11  8220DB004695  12:06:42        12:06:42          23758.73               1            60-27-b12-1  53.3929830768232  -6.1973482266491   61.73872317468925   336.2200000000012     36.54685743087244   1          0.0\n",
       "...     ...                        ...           ...           ...              ...          ...        ...                  ...           ...             ...               ...                    ...          ...          ...               ...                ...                 ...                   ...                 ...        ...\n",
       "43,739  17672.4.60-27-b12-1.149.I  20210122      17:20:00      60               0            0          2021-01-22 18:22:24  8220DB000669  18:23:16        18:23:16          19788.3                1            60-27-b12-1  53.3663170047536  -6.2286789053178   61.73872317468925   360.6100000000006     91.48522532185576   4          0.0\n",
       "43,740  17616.4.60-27-b12-1.149.I  20210127      12:10:00      84               120          120        2021-01-27 13:24:13  8220DB001268  13:29:43        13:29:43          26661.19               1            60-27-b12-1  53.399894267545   -6.19789824293475  61.73872317468925   188.489999999998      79.35148749915943   2          120.0\n",
       "43,741  8072.2.60-27-b12-1.149.I   20210123      11:10:00      26               300          300        2021-01-23 11:26:13  8230DB002377  11:33:07        11:33:07          9710.88                1            60-27-b12-1  53.3160470777079  -6.33416048619781  61.73872317468925   947.83                105.32452282475197  5          300.0\n",
       "43,742  17593.4.60-27-b12-1.149.I  20210125      15:10:00      9                -60          -60        2021-01-25 15:24:31  8230DB007062  15:16:44        15:16:44          2590.62                1            60-27-b12-1  53.2848097660929  -6.39349379003628  61.73872317468925   287.7999999999997     210.66928960605887  0          -60.0\n",
       "43,743  13107.3.60-27-b12-1.151.O  20210131      15:30:00      82               540          540        2021-01-31 16:36:16  8230DB002351  16:37:18        16:37:18          25745.75               0            60-27-b12-1  53.2832055705941  -6.3845254486257   -118.2101957090697  492.59999999999854    181.84776533793368  6          660.0"
      ]
     },
     "metadata": {},
     "execution_count": 78
    }
   ],
   "source": [
    "# join multiple vaex columns\n",
    "def multipe_column_join(x_left, x_right, keys_left:list, keys_right:list, how=\"left\"):\n",
    "\n",
    "    assert type(keys_left) == list and type(keys_right) == list, f'keys must be list and list, not {type(keys_left)} and {type(keys_right)}'\n",
    "    assert len(keys_left) == len(keys_right), f'lenghts of left and right keys dont match, left: {len(keys_left)} right: {len(keys_right)}'\n",
    "\n",
    "    if len(keys_left) == 1:\n",
    "        join_result = x_left.join(\n",
    "            x_right, left_on=keys_left[0], right_on=keys_right[0], how=how, allow_duplication=True\n",
    "        )\n",
    "\n",
    "    elif len(keys_left) > 1:\n",
    "        for idx, zp in enumerate(zip(keys_left, keys_right)):\n",
    "            left_key, right_key = zp\n",
    "            \n",
    "            add_left = x_left[left_key]\n",
    "            add_right = x_right[right_key]\n",
    "\n",
    "            if not add_left.dtype == str:\n",
    "                add_left = add_left.astype(str)\n",
    "            if not add_right.dtype == str:\n",
    "                add_right = add_right.astype(str)\n",
    "\n",
    "            if idx == 0:\n",
    "                x_right[\"group_right\"] = add_right\n",
    "                x_left[\"group_left\"] = add_left\n",
    "            else:\n",
    "                x_right[\"group_right\"] = x_right[\"group_right\"] + \"_\" + add_right\n",
    "                x_left[\"group_left\"] = x_left[\"group_left\"] + \"_\" + add_left\n",
    "\n",
    "        x_right.drop(keys_right, inplace=True)\n",
    "        join_result = x_left.join(x_right, left_on=\"group_left\", right_on=\"group_right\", how=how)\n",
    "        join_result.drop([\"group_left\", \"group_right\"], inplace=True)\n",
    "    return join_result\n",
    "\n",
    "# temp \n",
    "vx_df = vaex.open('./output/one_route.hdf5')\n",
    "def get_dt(dt, format):\n",
    "    return datetime.strptime(str(dt), format)\n",
    "def apply_dow(start_date, start_time, expected_time):\n",
    "    date = get_dt(start_date, \"%Y%m%d\")\n",
    "    if get_dt(start_time, \"%H:%M:%S\") > get_dt(expected_time, \"%H:%M:%S\"):\n",
    "        return (date + timedelta(days=1)).weekday()\n",
    "    return date.weekday()\n",
    "vx_df['arr_dow'] = vx_df.apply(apply_dow, [\"start_date\", \"start_time\", \"arrival_time\"])\n",
    "\n",
    "cols = ['trip_id', 'stop_id', 'arr_dow']\n",
    "trip_stops = vx_df.groupby(cols, agg=[vaex.agg.mean('arrival')])\n",
    "\n",
    "multipe_column_join(vx_df, trip_stops, cols, cols)"
   ]
  },
  {
   "cell_type": "code",
   "execution_count": 74,
   "metadata": {},
   "outputs": [
    {
     "output_type": "execute_result",
     "data": {
      "text/plain": [
       "trip_id                <class 'str'>\n",
       "start_date                     int64\n",
       "start_time             <class 'str'>\n",
       "stop_sequence                  int64\n",
       "departure                      int64\n",
       "arrival                        int64\n",
       "timestamp              <class 'str'>\n",
       "stop_id                <class 'str'>\n",
       "arrival_time           <class 'str'>\n",
       "departure_time         <class 'str'>\n",
       "shape_dist_traveled          float64\n",
       "direction                      int64\n",
       "route_id               <class 'str'>\n",
       "lat                          float64\n",
       "lon                          float64\n",
       "direction_angle              float64\n",
       "shape_dist_between           float64\n",
       "p_avg_vol                    float64\n",
       "arr_dow                        int64\n",
       "group_left             <class 'str'>\n",
       "dtype: object"
      ]
     },
     "metadata": {},
     "execution_count": 74
    }
   ],
   "source": [
    "vx_df.dtypes"
   ]
  },
  {
   "cell_type": "code",
   "execution_count": 12,
   "metadata": {},
   "outputs": [
    {
     "output_type": "execute_result",
     "data": {
      "text/plain": [
       "9761"
      ]
     },
     "metadata": {},
     "execution_count": 12
    }
   ],
   "source": [
    "from google.transit import gtfs_realtime_pb2\n",
    "from google.protobuf.json_format import Parse\n",
    "\n",
    "feed = gtfs_realtime_pb2.FeedMessage()\n",
    "entity_data = []\n",
    "\n",
    "\n",
    "Parse(open('./test.json', 'r').read(), feed)\n",
    "\n",
    "count = 0\n",
    "for entity in feed.entity:\n",
    "    if entity.HasField(\"trip_update\"):\n",
    "        stop_time_update = entity.trip_update.stop_time_update\n",
    "        count += len(stop_time_update)\n",
    "    count += 1\n",
    "                \n",
    "count"
   ]
  }
 ]
}