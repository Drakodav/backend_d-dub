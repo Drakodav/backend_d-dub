{
 "metadata": {
  "language_info": {
   "codemirror_mode": {
    "name": "ipython",
    "version": 3
   },
   "file_extension": ".py",
   "mimetype": "text/x-python",
   "name": "python",
   "nbconvert_exporter": "python",
   "pygments_lexer": "ipython3",
   "version": "3.8.0-final"
  },
  "orig_nbformat": 2,
  "kernelspec": {
   "name": "denv",
   "display_name": "denv",
   "language": "python"
  }
 },
 "nbformat": 4,
 "nbformat_minor": 2,
 "cells": [
  {
   "cell_type": "code",
   "execution_count": 18,
   "metadata": {},
   "outputs": [],
   "source": [
    "%matplotlib inline\n",
    "\n",
    "import os\n",
    "import numpy as np\n",
    "import pandas as pd\n",
    "from pathlib import Path\n",
    "import matplotlib.pyplot as plt\n",
    "import seaborn as sns\n",
    "import zipfile\n",
    "from google.transit import gtfs_realtime_pb2\n",
    "from google.protobuf.json_format import Parse, MessageToJson\n",
    "import json\n",
    "import psycopg2\n",
    "import time\n",
    "from django.contrib.gis.geos import Point, fromstr, GEOSGeometry\n",
    "from datetime import datetime, timedelta\n",
    "import geopandas as gpd\n",
    "import rtree\n",
    "import vaex\n",
    "import vaex.ml\n",
    "from joblib import delayed, Parallel, load, parallel_backend\n",
    "from util import direction_angle, apply_dow, get_dt, get_conn, vaex_mjoin, find_trip_regex, get_conn, run_query\n",
    "\n",
    "dir = Path.cwd()\n",
    "dir = os.path.join(dir, '../')\n",
    "outdir = os.path.join(dir, 'output')\n",
    "gtfs_records_zip = os.path.join(dir, \"data\", \"GtfsRRecords.zip\")\n",
    "gtfs_csv_zip = os.path.join(outdir, \"gtfsr_csv.zip\")\n",
    "gtfs_final_csv_path = os.path.join(outdir, \"gtfsr.csv\")\n",
    "gtfs_processed_path = os.path.join(outdir, \"gtfsr_processed.hdf5\")\n",
    "scats_model_path = os.path.join(outdir, \"scats_model.json\")\n",
    "gtfsr_processing_temp = os.path.join(outdir, \"processing_temp.hdf5\")\n",
    "gtfsr_arrival_means = os.path.join(outdir, \"gtfsr_historical_means.hdf5\")\n",
    "stop_time_data_path = os.path.join(outdir, 'stop_time_data.hdf5')\n",
    "gtfs_final_hdf5_path = os.path.join(outdir, \"gtfsr.csv.hdf5\")\n",
    "\n",
    "entity_cols = [\n",
    "    \"trip_id\",\n",
    "    \"start_date\",\n",
    "    \"start_time\",\n",
    "    \"stop_sequence\",\n",
    "    \"departure\",\n",
    "    \"arrival\",\n",
    "    \"timestamp\",\n",
    "    \"stop_id\",\n",
    "]"
   ]
  },
  {
   "cell_type": "code",
   "execution_count": 85,
   "metadata": {},
   "outputs": [
    {
     "output_type": "execute_result",
     "data": {
      "text/html": "<table>\n<thead>\n<tr><th>#                            </th><th>route_id    </th><th style=\"text-align: right;\">  direction</th><th>stop_id     </th><th>start_time  </th><th>timestamp          </th><th style=\"text-align: right;\">  arr_dow</th><th style=\"text-align: right;\">  stop_sequence</th><th style=\"text-align: right;\">  start_date</th><th style=\"text-align: right;\">  arrival</th><th>arrival_time  </th><th>departure_time  </th><th style=\"text-align: right;\">  shape_dist_traveled</th><th style=\"text-align: right;\">    lat</th><th style=\"text-align: right;\">     lon</th><th style=\"text-align: right;\">  direction_angle</th><th style=\"text-align: right;\">  shape_dist_between</th><th>trip_id                      </th><th style=\"text-align: right;\">  arr_hour</th></tr>\n</thead>\n<tbody>\n<tr><td><i style='opacity: 0.6'>0</i></td><td>60-140-b12-1</td><td style=\"text-align: right;\">          0</td><td>8220DB000264</td><td>17:45:00    </td><td>2021-03-10 17:03:18</td><td style=\"text-align: right;\">        2</td><td style=\"text-align: right;\">             26</td><td style=\"text-align: right;\"> 2.02103e+07</td><td style=\"text-align: right;\">        0</td><td>18:14:07      </td><td>18:14:07        </td><td style=\"text-align: right;\">              10425.1</td><td style=\"text-align: right;\">53.3535</td><td style=\"text-align: right;\">-6.26226</td><td style=\"text-align: right;\">          171.484</td><td style=\"text-align: right;\">              518.59</td><td>20514.y1003.60-140-b12-1.75.O</td><td style=\"text-align: right;\">        18</td></tr>\n</tbody>\n</table>",
      "text/plain": [
       "  #  route_id        direction  stop_id       start_time    timestamp              arr_dow    stop_sequence    start_date    arrival  arrival_time    departure_time      shape_dist_traveled      lat       lon    direction_angle    shape_dist_between  trip_id                          arr_hour\n",
       "  0  60-140-b12-1            0  8220DB000264  17:45:00      2021-03-10 17:03:18          2               26   2.02103e+07          0  18:14:07        18:14:07                        10425.1  53.3535  -6.26226            171.484                518.59  20514.y1003.60-140-b12-1.75.O          18"
      ]
     },
     "metadata": {},
     "execution_count": 85
    }
   ],
   "source": [
    "live_df = vaex.open(os.path.join(outdir, 'deploy.hdf5'))\n",
    "live_df"
   ]
  },
  {
   "cell_type": "code",
   "execution_count": 92,
   "metadata": {},
   "outputs": [
    {
     "output_type": "execute_result",
     "data": {
      "text/plain": [
       "arrival_time           <class 'str'>\n",
       "departure_time         <class 'str'>\n",
       "stop_sequence                  int64\n",
       "shape_dist_traveled          float64\n",
       "stop_id                <class 'str'>\n",
       "direction                      int64\n",
       "route_id               <class 'str'>\n",
       "service_days           <class 'str'>\n",
       "lat                          float64\n",
       "lon                          float64\n",
       "direction_angle              float64\n",
       "shape_dist_between           float64\n",
       "trip_id                <class 'str'>\n",
       "start_time             <class 'str'>\n",
       "dtype: object"
      ]
     },
     "metadata": {},
     "execution_count": 92
    }
   ],
   "source": [
    "st_df = vaex.open(os.path.join(outdir, 'stop_time_data.hdf5'))\n",
    "\n",
    "st_df.dtypes\n",
    "\n",
    "# st_df[\n",
    "#     (st_df[\"route_id\"] == live_df[[\"route_id\"]][0][0])\n",
    "#     & (st_df[\"stop_sequence\"] == live_df[[\"stop_sequence\"]][0][0])\n",
    "#     & (st_df[\"stop_id\"] == live_df[[\"stop_id\"]][0][0])\n",
    "#     & (st_df[\"start_time\"] == live_df[[\"start_time\"]][0][0])\n",
    "#     & (st_df[\"direction\"] == live_df[[\"direction\"]][0][0])\n",
    "# ].copy().dtypes\n"
   ]
  },
  {
   "cell_type": "code",
   "execution_count": 71,
   "metadata": {},
   "outputs": [
    {
     "output_type": "execute_result",
     "data": {
      "text/html": "<table>\n<thead>\n<tr><th>#                            </th><th>route_id    </th><th>stop_id     </th><th style=\"text-align: right;\">  arr_dow</th><th style=\"text-align: right;\">  arr_hour</th><th style=\"text-align: right;\">  direction</th><th style=\"text-align: right;\">  stop_sequence</th><th style=\"text-align: right;\">  arrival_mean</th><th style=\"text-align: right;\">  p_mean_vol</th></tr>\n</thead>\n<tbody>\n<tr><td><i style='opacity: 0.6'>0</i></td><td>60-140-b12-1</td><td>8220DB000264</td><td style=\"text-align: right;\">        2</td><td style=\"text-align: right;\">        18</td><td style=\"text-align: right;\">          0</td><td style=\"text-align: right;\">             26</td><td style=\"text-align: right;\">      0.277778</td><td style=\"text-align: right;\">     49.0521</td></tr>\n</tbody>\n</table>",
      "text/plain": [
       "  #  route_id      stop_id         arr_dow    arr_hour    direction    stop_sequence    arrival_mean    p_mean_vol\n",
       "  0  60-140-b12-1  8220DB000264          2          18            0               26        0.277778       49.0521"
      ]
     },
     "metadata": {},
     "execution_count": 71
    }
   ],
   "source": [
    "hm_df = vaex.open(gtfsr_arrival_means)\n",
    "\n",
    "temp_df = hm_df[\n",
    "    (hm_df['route_id'] == live_df[['route_id']][0][0])\n",
    "    & (hm_df['direction'] == int(live_df[['direction']][0][0]))\n",
    "    & (hm_df['stop_id'] == live_df[['stop_id']][0][0])\n",
    "    & (hm_df[\"arr_dow\"] == live_df[[\"arr_dow\"]][0][0])\n",
    "    & (hm_df[\"arr_hour\"] == live_df[[\"arr_hour\"]][0][0])\n",
    "    & (hm_df[\"stop_sequence\"] == live_df[[\"stop_sequence\"]][0][0])\n",
    "].copy()\n",
    "\n",
    "temp_df"
   ]
  },
  {
   "cell_type": "code",
   "execution_count": 72,
   "metadata": {},
   "outputs": [
    {
     "output_type": "execute_result",
     "data": {
      "text/html": "<table>\n<thead>\n<tr><th>#                            </th><th>route_id    </th><th style=\"text-align: right;\">  direction</th><th>stop_id     </th><th>start_time  </th><th>timestamp          </th><th style=\"text-align: right;\">  arr_dow</th><th style=\"text-align: right;\">  stop_sequence</th><th style=\"text-align: right;\">  start_date</th><th style=\"text-align: right;\">  arrival</th><th>arrival_time  </th><th>departure_time  </th><th style=\"text-align: right;\">  shape_dist_traveled</th><th style=\"text-align: right;\">    lat</th><th style=\"text-align: right;\">     lon</th><th style=\"text-align: right;\">  direction_angle</th><th style=\"text-align: right;\">  shape_dist_between</th><th>trip_id                      </th><th style=\"text-align: right;\">  arr_hour</th><th style=\"text-align: right;\">  arrival_mean</th><th style=\"text-align: right;\">  p_mean_vol</th></tr>\n</thead>\n<tbody>\n<tr><td><i style='opacity: 0.6'>0</i></td><td>60-140-b12-1</td><td style=\"text-align: right;\">          0</td><td>8220DB000264</td><td>17:45:00    </td><td>2021-03-10 17:03:18</td><td style=\"text-align: right;\">        2</td><td style=\"text-align: right;\">             26</td><td style=\"text-align: right;\"> 2.02103e+07</td><td style=\"text-align: right;\">        0</td><td>18:14:07      </td><td>18:14:07        </td><td style=\"text-align: right;\">              10425.1</td><td style=\"text-align: right;\">53.3535</td><td style=\"text-align: right;\">-6.26226</td><td style=\"text-align: right;\">          171.484</td><td style=\"text-align: right;\">              518.59</td><td>20514.y1003.60-140-b12-1.75.O</td><td style=\"text-align: right;\">        18</td><td style=\"text-align: right;\">      0.277778</td><td style=\"text-align: right;\">     49.0521</td></tr>\n</tbody>\n</table>",
      "text/plain": [
       "  #  route_id        direction  stop_id       start_time    timestamp              arr_dow    stop_sequence    start_date    arrival  arrival_time    departure_time      shape_dist_traveled      lat       lon    direction_angle    shape_dist_between  trip_id                          arr_hour    arrival_mean    p_mean_vol\n",
       "  0  60-140-b12-1            0  8220DB000264  17:45:00      2021-03-10 17:03:18          2               26   2.02103e+07          0  18:14:07        18:14:07                        10425.1  53.3535  -6.26226            171.484                518.59  20514.y1003.60-140-b12-1.75.O          18        0.277778       49.0521"
      ]
     },
     "metadata": {},
     "execution_count": 72
    }
   ],
   "source": [
    "cols = [\"route_id\", \"stop_id\", \"arr_dow\", \"arr_hour\", \"direction\", \"stop_sequence\"]\n",
    "vaex_mjoin(\n",
    "    live_df,\n",
    "    temp_df.copy(),\n",
    "    cols,\n",
    "    cols,\n",
    "    how=\"inner\",\n",
    ")"
   ]
  },
  {
   "cell_type": "code",
   "execution_count": 12,
   "metadata": {},
   "outputs": [
    {
     "output_type": "execute_result",
     "data": {
      "text/plain": [
       "'O'"
      ]
     },
     "metadata": {},
     "execution_count": 12
    }
   ],
   "source": [
    "'19389.1.60-155-d12-1.89.O'.split('.')[-1]"
   ]
  },
  {
   "cell_type": "code",
   "execution_count": 160,
   "metadata": {},
   "outputs": [],
   "source": [
    "# concats cols together using a divider\n",
    "def concat_cols(dt, cols, name=\"concat_col\", divider=\"|\"):\n",
    "    # Create the join column\n",
    "    for i, col in enumerate(cols):\n",
    "        if not dt[col].dtype == str:\n",
    "            dt[col] = dt[col].astype(str)\n",
    "\n",
    "        if i == 0:\n",
    "            dt[name] = dt[col].fillna(\"\")\n",
    "        else:\n",
    "            dt[name] = dt[name] + divider + dt[col].fillna(\"\")\n",
    "\n",
    "    # Ensure it's a string; on rare occassions it's an object\n",
    "    if not dt[name].dtype == str:\n",
    "        dt[name] = dt[name].astype(str)\n",
    "\n",
    "    return dt, name\n",
    "\n",
    "\n",
    "# https://github.com/vaexio/vaex/issues/746\n",
    "# de duplicate rows\n",
    "def vx_dedupe(dt, columns=None, concat_first=True):\n",
    "    # Get and join columns\n",
    "    init_cols = dt.get_column_names()\n",
    "    if columns is None:\n",
    "        columns = init_cols\n",
    "    if concat_first:\n",
    "        dt, concat_col = concat_cols(dt, columns)\n",
    "        col_names = [concat_col]\n",
    "    else:\n",
    "        col_names = columns\n",
    "\n",
    "    # Add named sets\n",
    "    sets = [dt._set(col_name) for col_name in col_names]\n",
    "    counts = [set.count for set in sets]\n",
    "    set_names = [dt.add_variable(\"set_{}\".format(col_name), set, unique=True) for col_name, set in zip(col_names, sets)]\n",
    "\n",
    "    # Create 'row_id' column that gives each unique row the same ID\n",
    "    expression = dt[\"_ordinal_values({}, {})\".format(col_names[0], set_names[0])].astype(\"int64\")\n",
    "    product_count = 1\n",
    "    for col_name, set_name, count in zip(col_names[1:], set_names[1:], counts[:-1]):\n",
    "        product_count *= count\n",
    "        expression = (\n",
    "            expression + dt[\"_ordinal_values({}, {})\".format(col_name, set_name)].astype(\"int64\") * product_count\n",
    "        )\n",
    "    dt[\"row_id\"] = expression\n",
    "\n",
    "    # This is not 'stable'; because it is multithreaded, we may get a different id each time\n",
    "    index = dt._index(\"row_id\")\n",
    "    unique_row_ids = dt.row_id.unique()\n",
    "    indices = index.map_index(unique_row_ids)\n",
    "\n",
    "    # Dedupe\n",
    "    deduped = dt.take(indices)\n",
    "    deduped = deduped[init_cols]\n",
    "\n",
    "    return deduped"
   ]
  },
  {
   "cell_type": "code",
   "execution_count": 161,
   "metadata": {},
   "outputs": [
    {
     "output_type": "execute_result",
     "data": {
      "text/html": "<table>\n<thead>\n<tr><th>#                             </th><th>route_id    </th><th>start_date  </th><th>start_time  </th><th>stop_sequence  </th><th>departure  </th><th>arrival  </th><th>timestamp          </th><th>stop_id     </th><th>direction  </th><th>arrival_time  </th><th>departure_time  </th><th>shape_dist_traveled  </th><th>lat             </th><th>lon              </th><th>direction_angle    </th><th>shape_dist_between  </th><th>trip_id                      </th></tr>\n</thead>\n<tbody>\n<tr><td><i style='opacity: 0.6'>0</i> </td><td>60-155-b12-1</td><td>20210131    </td><td>23:00:00    </td><td>1              </td><td>0          </td><td>0        </td><td>2021-02-01 00:00:53</td><td>8220DB007698</td><td>0          </td><td>23:00:00      </td><td>23:00:00        </td><td>0.0                  </td><td>53.4063848668136</td><td>-6.2746347975114 </td><td>139.31470635060316 </td><td>0.0                 </td><td>14088.y1002.60-155-b12-1.89.O</td></tr>\n<tr><td><i style='opacity: 0.6'>1</i> </td><td>60-155-b12-1</td><td>20210131    </td><td>23:00:00    </td><td>48             </td><td>540        </td><td>540      </td><td>2021-02-01 00:00:53</td><td>8250DB007353</td><td>0          </td><td>23:35:20      </td><td>23:35:20        </td><td>16345.6              </td><td>53.2934957288645</td><td>-6.20172063261915</td><td>139.31470635060316 </td><td>313.89999999999964  </td><td>14088.y1002.60-155-b12-1.89.O</td></tr>\n<tr><td><i style='opacity: 0.6'>2</i> </td><td>60-130-b12-1</td><td>20210131    </td><td>23:30:00    </td><td>1              </td><td>0          </td><td>0        </td><td>2021-02-01 00:00:53</td><td>8220DB001772</td><td>1          </td><td>23:30:00      </td><td>23:30:00        </td><td>0.0                  </td><td>53.3650107475168</td><td>-6.20502103771957</td><td>-107.23111263684194</td><td>0.0                 </td><td>16028.y1002.60-130-b12-1.74.I</td></tr>\n<tr><td><i style='opacity: 0.6'>3</i> </td><td>60-130-b12-1</td><td>20210131    </td><td>23:30:00    </td><td>18             </td><td>1200       </td><td>1200     </td><td>2021-02-01 00:00:53</td><td>8220DB001729</td><td>1          </td><td>23:38:37      </td><td>23:38:37        </td><td>4808.93              </td><td>53.3584969058401</td><td>-6.19031550974047</td><td>-107.23111263684194</td><td>304.8600000000006   </td><td>16028.y1002.60-130-b12-1.74.I</td></tr>\n<tr><td><i style='opacity: 0.6'>4</i> </td><td>60-130-b12-1</td><td>20210131    </td><td>23:30:00    </td><td>20             </td><td>1140       </td><td>1140     </td><td>2021-02-01 00:00:53</td><td>8220DB001731</td><td>1          </td><td>23:39:28      </td><td>23:39:28        </td><td>5252.7               </td><td>53.3590767534218</td><td>-6.19655620427261</td><td>-107.23111263684194</td><td>187.39999999999964  </td><td>16028.y1002.60-130-b12-1.74.I</td></tr>\n<tr><td>...                           </td><td>...         </td><td>...         </td><td>...         </td><td>...            </td><td>...        </td><td>...      </td><td>...                </td><td>...         </td><td>...        </td><td>...           </td><td>...             </td><td>...                  </td><td>...             </td><td>...              </td><td>...                </td><td>...                 </td><td>...                          </td></tr>\n<tr><td><i style='opacity: 0.6'>8</i> </td><td>60-40-b12-1 </td><td>20210131    </td><td>23:00:00    </td><td>1              </td><td>0          </td><td>0        </td><td>2021-02-01 00:00:53</td><td>8240DB007132</td><td>0          </td><td>23:00:00      </td><td>23:00:00        </td><td>0.0                  </td><td>53.4030889703351</td><td>-6.30430656007651</td><td>-118.90642649102342</td><td>0.0                 </td><td>12590.y1002.60-40-b12-1.207.O</td></tr>\n<tr><td><i style='opacity: 0.6'>9</i> </td><td>60-40-b12-1 </td><td>20210131    </td><td>23:00:00    </td><td>79             </td><td>120        </td><td>120      </td><td>2021-02-01 00:00:53</td><td>8230DB004690</td><td>0          </td><td>23:56:58      </td><td>23:56:58        </td><td>28067.9              </td><td>53.3495094392524</td><td>-6.40519639715847</td><td>-118.90642649102342</td><td>265.2900000000009   </td><td>12590.y1002.60-40-b12-1.207.O</td></tr>\n<tr><td><i style='opacity: 0.6'>10</i></td><td>2-332-gad-1 </td><td>20210201    </td><td>00:00:00    </td><td>1              </td><td>0          </td><td>0        </td><td>2021-02-01 00:00:53</td><td>8240DB004330</td><td>0          </td><td>00:00:00      </td><td>00:00:00        </td><td>0.0                  </td><td>53.4547858681153</td><td>-6.21835781834225</td><td>65.59761778706122  </td><td>0.0                 </td><td>9927.10441.2-332-gad-1.270.O </td></tr>\n<tr><td><i style='opacity: 0.6'>11</i></td><td>60-41-b12-1 </td><td>20210201    </td><td>00:00:00    </td><td>25             </td><td>0          </td><td>0        </td><td>2021-02-01 00:00:53</td><td>8240DB007347</td><td>1          </td><td>00:16:17      </td><td>00:16:17        </td><td>9064.77              </td><td>53.428019654753 </td><td>-6.24202072636356</td><td>-177.303210091669  </td><td>687.460000000001    </td><td>20634.y1003.60-41-b12-1.223.I</td></tr>\n<tr><td><i style='opacity: 0.6'>12</i></td><td>60-41-b12-1 </td><td>20210201    </td><td>00:00:00    </td><td>25             </td><td>0          </td><td>0        </td><td>2021-02-01 00:00:53</td><td>8240DB007347</td><td>1          </td><td>00:21:00      </td><td>00:21:00        </td><td>9064.77              </td><td>53.428019654753 </td><td>-6.24202072636356</td><td>-177.303210091669  </td><td>687.460000000001    </td><td>3975.y1004.60-41-b12-1.223.I </td></tr>\n</tbody>\n</table>",
      "text/plain": [
       "#    route_id      start_date    start_time    stop_sequence    departure    arrival    timestamp            stop_id       direction    arrival_time    departure_time    shape_dist_traveled    lat               lon                direction_angle      shape_dist_between    trip_id\n",
       "0    60-155-b12-1  20210131      23:00:00      1                0            0          2021-02-01 00:00:53  8220DB007698  0            23:00:00        23:00:00          0.0                    53.4063848668136  -6.2746347975114   139.31470635060316   0.0                   14088.y1002.60-155-b12-1.89.O\n",
       "1    60-155-b12-1  20210131      23:00:00      48               540          540        2021-02-01 00:00:53  8250DB007353  0            23:35:20        23:35:20          16345.6                53.2934957288645  -6.20172063261915  139.31470635060316   313.89999999999964    14088.y1002.60-155-b12-1.89.O\n",
       "2    60-130-b12-1  20210131      23:30:00      1                0            0          2021-02-01 00:00:53  8220DB001772  1            23:30:00        23:30:00          0.0                    53.3650107475168  -6.20502103771957  -107.23111263684194  0.0                   16028.y1002.60-130-b12-1.74.I\n",
       "3    60-130-b12-1  20210131      23:30:00      18               1200         1200       2021-02-01 00:00:53  8220DB001729  1            23:38:37        23:38:37          4808.93                53.3584969058401  -6.19031550974047  -107.23111263684194  304.8600000000006     16028.y1002.60-130-b12-1.74.I\n",
       "4    60-130-b12-1  20210131      23:30:00      20               1140         1140       2021-02-01 00:00:53  8220DB001731  1            23:39:28        23:39:28          5252.7                 53.3590767534218  -6.19655620427261  -107.23111263684194  187.39999999999964    16028.y1002.60-130-b12-1.74.I\n",
       "...  ...           ...           ...           ...              ...          ...        ...                  ...           ...          ...             ...               ...                    ...               ...                ...                  ...                   ...\n",
       "8    60-40-b12-1   20210131      23:00:00      1                0            0          2021-02-01 00:00:53  8240DB007132  0            23:00:00        23:00:00          0.0                    53.4030889703351  -6.30430656007651  -118.90642649102342  0.0                   12590.y1002.60-40-b12-1.207.O\n",
       "9    60-40-b12-1   20210131      23:00:00      79               120          120        2021-02-01 00:00:53  8230DB004690  0            23:56:58        23:56:58          28067.9                53.3495094392524  -6.40519639715847  -118.90642649102342  265.2900000000009     12590.y1002.60-40-b12-1.207.O\n",
       "10   2-332-gad-1   20210201      00:00:00      1                0            0          2021-02-01 00:00:53  8240DB004330  0            00:00:00        00:00:00          0.0                    53.4547858681153  -6.21835781834225  65.59761778706122    0.0                   9927.10441.2-332-gad-1.270.O\n",
       "11   60-41-b12-1   20210201      00:00:00      25               0            0          2021-02-01 00:00:53  8240DB007347  1            00:16:17        00:16:17          9064.77                53.428019654753   -6.24202072636356  -177.303210091669    687.460000000001      20634.y1003.60-41-b12-1.223.I\n",
       "12   60-41-b12-1   20210201      00:00:00      25               0            0          2021-02-01 00:00:53  8240DB007347  1            00:21:00        00:21:00          9064.77                53.428019654753   -6.24202072636356  -177.303210091669    687.460000000001      3975.y1004.60-41-b12-1.223.I"
      ]
     },
     "metadata": {},
     "execution_count": 161
    }
   ],
   "source": [
    "def dir_f_trip(trip_id):\n",
    "    tokens = trip_id.split(\".\")\n",
    "\n",
    "    if not len(tokens) == 5:\n",
    "        return 500\n",
    "\n",
    "    if tokens[4] == 'I': \n",
    "        return 1\n",
    "    else: \n",
    "        return 0\n",
    "\n",
    "df = vaex.open(gtfs_final_hdf5_path)[:11]\n",
    "\n",
    "df['direction'] = df['trip_id'].apply(lambda t: dir_f_trip(t))\n",
    "df[\"dow\"] = df[\"start_date\"].apply(lambda t: get_dt(t, \"%Y%m%d\").weekday())\n",
    "\n",
    "df.materialize('direction', inplace=True)\n",
    "df.materialize('dow', inplace=True)\n",
    "\n",
    "df = df[df['direction'] != 500]\n",
    "\n",
    "df.drop('trip_id', inplace=True)\n",
    "\n",
    "cols = [\"route_id\", \"stop_sequence\", \"stop_id\", \"start_time\", 'direction']\n",
    "df = vaex_mjoin(df.shallow_copy(), vaex.open(stop_time_data_path), cols, cols, how=\"inner\", allow_duplication=True)\n",
    "\n",
    "df['keep_trip'] = df.apply(\n",
    "    lambda sd, dow: sd.replace('[', '').replace(']', '').replace(' ', '').split(',')[dow], \n",
    "    ['service_days', 'dow']\n",
    ")\n",
    "\n",
    "df = df[df.keep_trip == 'True']\n",
    "df.drop(['service_days', 'dow', 'keep_trip'], inplace=True)\n",
    "\n",
    "# df = vaex.from_pandas(df.to_pandas_df().drop_duplicates())\n",
    "# df = vx_dedupe(df.shallow_copy(), dedupe_cols=None, concat_first=False)\n",
    "df = vx_dedupe(df, columns=[i for i in df.get_column_names() if i != 'trip_id'])\n",
    "df"
   ]
  },
  {
   "cell_type": "code",
   "execution_count": 170,
   "metadata": {},
   "outputs": [
    {
     "output_type": "execute_result",
     "data": {
      "text/plain": [
       "Expression = stop_sequence\n",
       "Length: 1,802,036 dtype: str (column)\n",
       "-------------------------------------\n",
       "      0  44\n",
       "      1  45\n",
       "      2  46\n",
       "      3  47\n",
       "      4  48\n",
       "    ...    \n",
       "1802031  39\n",
       "1802032  40\n",
       "1802033  41\n",
       "1802034  42\n",
       "1802035  43"
      ]
     },
     "metadata": {},
     "execution_count": 170
    }
   ],
   "source": [
    "st_df = vaex.open(stop_time_data_path)\n",
    "# st_df[\n",
    "#     (st_df[\"route_id\"] == '60-46A-b12-1')\n",
    "#     & (st_df[\"stop_sequence\"] == '13')\n",
    "#     & (st_df[\"stop_id\"] == '8220DB000264')\n",
    "#     & (st_df[\"start_time\"] == '15:10:00')\n",
    "#     & (st_df[\"direction\"] == '0')\n",
    "# ].copy()\n",
    "\n",
    "st_df.stop_sequence\n",
    "# st_df = vx_dedupe(st_df, columns=[i for i in st_df.get_column_names() if i != 'trip_id'], concat_first=True)\n",
    "# st_df"
   ]
  },
  {
   "cell_type": "code",
   "execution_count": 157,
   "metadata": {},
   "outputs": [],
   "source": []
  },
  {
   "cell_type": "code",
   "execution_count": 14,
   "metadata": {},
   "outputs": [
    {
     "output_type": "execute_result",
     "data": {
      "text/html": "<table>\n<thead>\n<tr><th>#                            </th><th>trip_id                     </th><th>route_idqwer  </th><th style=\"text-align: right;\">  start_date</th><th>start_time  </th><th style=\"text-align: right;\">  stop_sequence</th><th style=\"text-align: right;\">  departure</th><th style=\"text-align: right;\">  arrival</th><th>timestamp          </th><th>stop_id     </th><th>arrival_time  </th><th>departure_time  </th><th style=\"text-align: right;\">  shape_dist_traveled</th><th style=\"text-align: right;\">  direction</th><th>route_id   </th><th>service_days                                    </th><th style=\"text-align: right;\">    lat</th><th style=\"text-align: right;\">     lon</th><th style=\"text-align: right;\">  direction_angle</th><th style=\"text-align: right;\">  shape_dist_between</th></tr>\n</thead>\n<tbody>\n<tr><td><i style='opacity: 0.6'>0</i></td><td>9931.10447.2-332-gad-1.270.O</td><td>2-332-gad-1   </td><td style=\"text-align: right;\"> 2.02102e+07</td><td>00:00:00    </td><td style=\"text-align: right;\">              1</td><td style=\"text-align: right;\">          0</td><td style=\"text-align: right;\">        0</td><td>2021-02-01 00:00:53</td><td>8240DB004330</td><td>00:00:00      </td><td>00:00:00        </td><td style=\"text-align: right;\">                    0</td><td style=\"text-align: right;\">          0</td><td>2-332-gad-1</td><td>[False, False, False, False, False, False, True]</td><td style=\"text-align: right;\">53.4548</td><td style=\"text-align: right;\">-6.21836</td><td style=\"text-align: right;\">          65.5976</td><td style=\"text-align: right;\">                   0</td></tr>\n</tbody>\n</table>",
      "text/plain": [
       "  #  trip_id                       route_idqwer      start_date  start_time      stop_sequence    departure    arrival  timestamp            stop_id       arrival_time    departure_time      shape_dist_traveled    direction  route_id     service_days                                          lat       lon    direction_angle    shape_dist_between\n",
       "  0  9931.10447.2-332-gad-1.270.O  2-332-gad-1      2.02102e+07  00:00:00                    1            0          0  2021-02-01 00:00:53  8240DB004330  00:00:00        00:00:00                              0            0  2-332-gad-1  [False, False, False, False, False, False, True]  53.4548  -6.21836            65.5976                     0"
      ]
     },
     "metadata": {},
     "execution_count": 14
    }
   ],
   "source": [
    "c = [\"trip_id\", \"stop_sequence\", \"stop_id\", \"start_time\"]\n",
    "vaex_mjoin(vaex.open(gtfs_final_hdf5_path)[:10], vaex.open(stop_time_data_path), c, c, how=\"inner\", allow_duplication=True, lsuffix='qwer')"
   ]
  },
  {
   "cell_type": "code",
   "execution_count": 140,
   "metadata": {},
   "outputs": [
    {
     "output_type": "execute_result",
     "data": {
      "text/plain": [
       "Expression = astype(shape_dist_between, 'str')\n",
       "Length: 13 dtype: str (expression)\n",
       "----------------------------------\n",
       " 0       0\n",
       " 1  687.46\n",
       " 2       0\n",
       " 3       0\n",
       " 4   313.9\n",
       "   ...    \n",
       " 8  304.86\n",
       " 9   187.4\n",
       "10       0\n",
       "11  687.46\n",
       "12  687.46"
      ]
     },
     "metadata": {},
     "execution_count": 140
    }
   ],
   "source": [
    "df.shape_dist_between.astype('str')"
   ]
  },
  {
   "cell_type": "code",
   "execution_count": 4,
   "metadata": {},
   "outputs": [],
   "source": [
    "# "
   ]
  },
  {
   "cell_type": "code",
   "execution_count": 88,
   "metadata": {},
   "outputs": [],
   "source": [
    "# st_df\n"
   ]
  },
  {
   "cell_type": "code",
   "execution_count": 6,
   "metadata": {},
   "outputs": [
    {
     "output_type": "execute_result",
     "data": {
      "text/html": "<table>\n<thead>\n<tr><th>#                                    </th><th>start_date  </th><th>start_time  </th><th>stop_sequence  </th><th>arrival  </th><th>timestamp          </th><th>stop_id     </th><th>arrival_time  </th><th>shape_dist_traveled  </th><th>direction  </th><th>route_id    </th><th>lat             </th><th>lon              </th><th>direction_angle    </th><th>shape_dist_between  </th><th>arr_dow  </th><th>arr_hour  </th><th>arrival_mean      </th><th>p_mean_vol        </th></tr>\n</thead>\n<tbody>\n<tr><td><i style='opacity: 0.6'>0</i>        </td><td>20210225    </td><td>09:40:00    </td><td>1              </td><td>0        </td><td>2021-02-25 09:47:30</td><td>8220DB002243</td><td>09:40:00      </td><td>0.0                  </td><td>1          </td><td>2-76-gad-1  </td><td>53.3519743826832</td><td>-6.35569799515705</td><td>-165.0706674216439 </td><td>0.0                 </td><td>3        </td><td>9         </td><td>0.0               </td><td>197.40237024527516</td></tr>\n<tr><td><i style='opacity: 0.6'>1</i>        </td><td>20210213    </td><td>12:00:00    </td><td>21             </td><td>0        </td><td>2021-02-13 12:36:18</td><td>8220DB000251</td><td>12:24:00      </td><td>7333.43              </td><td>0          </td><td>2-104-gad-1 </td><td>53.3848322787477</td><td>-6.22321978633306</td><td>-53.53256488306763 </td><td>201.30000000000018  </td><td>5        </td><td>12        </td><td>-0.75             </td><td>80.29722118896139 </td></tr>\n<tr><td><i style='opacity: 0.6'>2</i>        </td><td>20210219    </td><td>13:00:00    </td><td>32             </td><td>-2       </td><td>2021-02-19 13:31:35</td><td>8220DB001698</td><td>13:27:09      </td><td>13047.16             </td><td>1          </td><td>60-38-b12-1 </td><td>53.3695772972038</td><td>-6.32371675132506</td><td>116.99296799410554 </td><td>295.75              </td><td>4        </td><td>13        </td><td>-2.0              </td><td>82.78559070005892 </td></tr>\n<tr><td><i style='opacity: 0.6'>3</i>        </td><td>20210216    </td><td>13:30:00    </td><td>7              </td><td>1        </td><td>2021-02-16 13:50:36</td><td>8250DB004396</td><td>13:39:00      </td><td>4093.66              </td><td>0          </td><td>2-63-gad-1  </td><td>53.2568126626389</td><td>-6.19327750999971</td><td>44.92264970129826  </td><td>590.7799999999997   </td><td>1        </td><td>13        </td><td>1.75              </td><td>53.82577578185783 </td></tr>\n<tr><td><i style='opacity: 0.6'>4</i>        </td><td>20210224    </td><td>17:38:00    </td><td>18             </td><td>0        </td><td>2021-02-24 17:43:47</td><td>8350DB004289</td><td>17:56:00      </td><td>7615.63              </td><td>1          </td><td>2-184-gad-1 </td><td>53.1462163499678</td><td>-6.07772339688384</td><td>179.74499775119085 </td><td>448.21000000000004  </td><td>2        </td><td>17        </td><td>0.75              </td><td>6.021249221335117 </td></tr>\n<tr><td>...                                  </td><td>...         </td><td>...         </td><td>...            </td><td>...      </td><td>...                </td><td>...         </td><td>...           </td><td>...                  </td><td>...        </td><td>...         </td><td>...             </td><td>...              </td><td>...                </td><td>...                 </td><td>...      </td><td>...       </td><td>...               </td><td>...               </td></tr>\n<tr><td><i style='opacity: 0.6'>1,037,256</i></td><td>20210213    </td><td>06:55:00    </td><td>67             </td><td>7        </td><td>2021-02-13 07:57:09</td><td>8230DB002124</td><td>07:54:25      </td><td>24723.48             </td><td>0          </td><td>60-40-b12-1 </td><td>53.3469584164086</td><td>-6.39793187307249</td><td>-118.90642649102342</td><td>247.88000000000102  </td><td>5        </td><td>7         </td><td>7.0               </td><td>17.76438877638021 </td></tr>\n<tr><td><i style='opacity: 0.6'>1,037,257</i></td><td>20210228    </td><td>22:00:00    </td><td>6              </td><td>1        </td><td>2021-02-28 22:10:00</td><td>8230DB004348</td><td>22:05:44      </td><td>3720.27              </td><td>1          </td><td>60-54A-b12-1</td><td>53.2866720396025</td><td>-6.37505043118615</td><td>57.0259061053009   </td><td>418.8000000000002   </td><td>6        </td><td>22        </td><td>1.0               </td><td>8.367191151990975 </td></tr>\n<tr><td><i style='opacity: 0.6'>1,037,258</i></td><td>20210204    </td><td>17:40:00    </td><td>26             </td><td>3        </td><td>2021-02-04 18:24:56</td><td>8230DB003425</td><td>18:14:00      </td><td>10747.7              </td><td>1          </td><td>2-76-gad-1  </td><td>53.3139017328619</td><td>-6.39199620954264</td><td>-165.0706674216439 </td><td>426.0700000000015   </td><td>3        </td><td>18        </td><td>2.8               </td><td>272.1106011308306 </td></tr>\n<tr><td><i style='opacity: 0.6'>1,037,259</i></td><td>20210210    </td><td>18:20:00    </td><td>2              </td><td>1        </td><td>2021-02-10 18:29:42</td><td>8220DB002200</td><td>18:20:00      </td><td>307.63               </td><td>1          </td><td>2-76-gad-1  </td><td>53.3502827503688</td><td>-6.35295415067495</td><td>-165.0706674216439 </td><td>307.63              </td><td>2        </td><td>18        </td><td>2.7777777777777777</td><td>99.8292126491831  </td></tr>\n<tr><td><i style='opacity: 0.6'>1,037,260</i></td><td>20210226    </td><td>09:45:00    </td><td>13             </td><td>2        </td><td>2021-02-26 09:58:11</td><td>8230DB002764</td><td>09:56:22      </td><td>5297.64              </td><td>1          </td><td>60-56A-b12-1</td><td>53.3043648332016</td><td>-6.3766894164485 </td><td>67.42807784765714  </td><td>319.6400000000003   </td><td>4        </td><td>9         </td><td>2.3333333333333335</td><td>268.2358260811787 </td></tr>\n</tbody>\n</table>",
      "text/plain": [
       "#          start_date    start_time    stop_sequence    arrival    timestamp            stop_id       arrival_time    shape_dist_traveled    direction    route_id      lat               lon                direction_angle      shape_dist_between    arr_dow    arr_hour    arrival_mean        p_mean_vol\n",
       "0          20210225      09:40:00      1                0          2021-02-25 09:47:30  8220DB002243  09:40:00        0.0                    1            2-76-gad-1    53.3519743826832  -6.35569799515705  -165.0706674216439   0.0                   3          9           0.0                 197.40237024527516\n",
       "1          20210213      12:00:00      21               0          2021-02-13 12:36:18  8220DB000251  12:24:00        7333.43                0            2-104-gad-1   53.3848322787477  -6.22321978633306  -53.53256488306763   201.30000000000018    5          12          -0.75               80.29722118896139\n",
       "2          20210219      13:00:00      32               -2         2021-02-19 13:31:35  8220DB001698  13:27:09        13047.16               1            60-38-b12-1   53.3695772972038  -6.32371675132506  116.99296799410554   295.75                4          13          -2.0                82.78559070005892\n",
       "3          20210216      13:30:00      7                1          2021-02-16 13:50:36  8250DB004396  13:39:00        4093.66                0            2-63-gad-1    53.2568126626389  -6.19327750999971  44.92264970129826    590.7799999999997     1          13          1.75                53.82577578185783\n",
       "4          20210224      17:38:00      18               0          2021-02-24 17:43:47  8350DB004289  17:56:00        7615.63                1            2-184-gad-1   53.1462163499678  -6.07772339688384  179.74499775119085   448.21000000000004    2          17          0.75                6.021249221335117\n",
       "...        ...           ...           ...              ...        ...                  ...           ...             ...                    ...          ...           ...               ...                ...                  ...                   ...        ...         ...                 ...\n",
       "1,037,256  20210213      06:55:00      67               7          2021-02-13 07:57:09  8230DB002124  07:54:25        24723.48               0            60-40-b12-1   53.3469584164086  -6.39793187307249  -118.90642649102342  247.88000000000102    5          7           7.0                 17.76438877638021\n",
       "1,037,257  20210228      22:00:00      6                1          2021-02-28 22:10:00  8230DB004348  22:05:44        3720.27                1            60-54A-b12-1  53.2866720396025  -6.37505043118615  57.0259061053009     418.8000000000002     6          22          1.0                 8.367191151990975\n",
       "1,037,258  20210204      17:40:00      26               3          2021-02-04 18:24:56  8230DB003425  18:14:00        10747.7                1            2-76-gad-1    53.3139017328619  -6.39199620954264  -165.0706674216439   426.0700000000015     3          18          2.8                 272.1106011308306\n",
       "1,037,259  20210210      18:20:00      2                1          2021-02-10 18:29:42  8220DB002200  18:20:00        307.63                 1            2-76-gad-1    53.3502827503688  -6.35295415067495  -165.0706674216439   307.63                2          18          2.7777777777777777  99.8292126491831\n",
       "1,037,260  20210226      09:45:00      13               2          2021-02-26 09:58:11  8230DB002764  09:56:22        5297.64                1            60-56A-b12-1  53.3043648332016  -6.3766894164485   67.42807784765714    319.6400000000003     4          9           2.3333333333333335  268.2358260811787"
      ]
     },
     "metadata": {},
     "execution_count": 6
    }
   ],
   "source": [
    "vaex.open(os.path.join(outdir, 'gtfsr_model.hdf5'))\n",
    "# df = vaex.open(gtfs_final_hdf5_path)\n",
    "# df['route_id'] = df.trip_id.apply(lambda s: s.split(\".\")[2])\n",
    "\n",
    "# route_list = df[\"route_id\"].unique().tolist()\n",
    "# len(route_list)\n"
   ]
  },
  {
   "cell_type": "code",
   "execution_count": 9,
   "metadata": {},
   "outputs": [],
   "source": [
    "# live_df.state_load(os.path.join(outdir, 'gtfsr_model.json'))"
   ]
  },
  {
   "cell_type": "code",
   "execution_count": 2,
   "metadata": {},
   "outputs": [
    {
     "output_type": "execute_result",
     "data": {
      "text/plain": [
       "'2021-03-04 16:43:34.367100'"
      ]
     },
     "metadata": {},
     "execution_count": 2
    }
   ],
   "source": [
    "str(datetime.now())"
   ]
  },
  {
   "cell_type": "code",
   "execution_count": 10,
   "metadata": {},
   "outputs": [],
   "source": [
    "from pandas import array\n",
    "\n",
    "model_df = vaex.from_dict(\n",
    "    {\n",
    "        \"trip_id\": array([\"19389.1.60-155-d12-1.89.O\"], dtype=object),\n",
    "        \"start_date\": array([20210302]),\n",
    "        \"start_time\": array([\"19:20:00\"], dtype=object),\n",
    "        \"stop_sequence\": array([24]),\n",
    "        \"arrival\": array([5.0]),\n",
    "        \"timestamp\": array([\"2021-03-02 19:51:26\"], dtype=object),\n",
    "        \"stop_id\": array([\"8220DB000264\"], dtype=object),\n",
    "        \"arrival_time\": array([\"19:38:38\"], dtype=object),\n",
    "        \"shape_dist_traveled\": array([7818.16]),\n",
    "        \"direction\": array([\"0\"], dtype=object),\n",
    "        \"route_id\": array([\"60-155-d12-1\"], dtype=object),\n",
    "        \"lat\": array([53.3535353]),\n",
    "        \"lon\": array([-6.26225863]),\n",
    "        \"direction_angle\": array([139.31470635]),\n",
    "        \"shape_dist_between\": array([518.6]),\n",
    "        \"arr_dow\": array([1]),\n",
    "        \"arr_hour\": array([19]),\n",
    "        \"arrival_mean\": array([6.0]),\n",
    "        \"p_mean_vol\": array([68.53864425]),\n",
    "    }\n",
    ")\n",
    "# model_df.state_load(gtfsr_model_path)\n",
    "# model_state = model_df.state_get()"
   ]
  },
  {
   "cell_type": "code",
   "execution_count": 11,
   "metadata": {},
   "outputs": [],
   "source": [
    "import io\n",
    "\n",
    "# path = os.path.join(outdir, \"gtfsr_model.json\")\n",
    "# f = open(path, 'r')\n",
    "\n",
    "# df.state_load(path)\n",
    "# tmp = io.StringIO(f)\n",
    "# tmp.read()\n",
    "# df = vaex.open(tmp)\n",
    "# df"
   ]
  },
  {
   "cell_type": "code",
   "execution_count": 13,
   "metadata": {},
   "outputs": [
    {
     "output_type": "stream",
     "name": "stdout",
     "text": [
      "20440.y1003.60-140-b12-1.75.O\n"
     ]
    },
    {
     "output_type": "execute_result",
     "data": {
      "text/plain": [
       "['4124.4.60-140-d12-1.75.O',\n",
       " '4176.4.60-140-d12-1.75.O',\n",
       " '4185.4.60-140-d12-1.75.O',\n",
       " '4197.4.60-140-d12-1.75.O']"
      ]
     },
     "metadata": {},
     "execution_count": 13
    }
   ],
   "source": [
    "import re\n",
    "\n",
    "t_id = '20440.y1003.60-140-b12-1.75.O'\n",
    "trip_list = ['4124.4.60-140-d12-1.75.O', '3775.4.60-46A-d12-1.258.O', '3005.4.60-155-d12-1.89.O', '3817.4.60-46A-d12-1.258.O', '4176.4.60-140-d12-1.75.O', '3809.4.60-46A-d12-1.258.O', '3866.4.60-46A-d12-1.258.O', '3020.4.60-155-d12-1.89.O', '4185.4.60-140-d12-1.75.O', '3826.4.60-46A-d12-1.258.O', '3095.4.60-46A-d12-1.258.O', '4197.4.60-140-d12-1.75.O', '3064.4.60-155-d12-1.89.O', '3877.4.60-46A-d12-1.258.O']\n",
    "\n",
    "def find_trip_regex(trip_list, trip_id):\n",
    "    if not type(trip_id) == str:\n",
    "        return None\n",
    "\n",
    "    tokens = trip_id.split(\".\")\n",
    "    # print(tokens)\n",
    "    if not len(tokens) == 5:\n",
    "        return None\n",
    "\n",
    "    route_id = tokens[2].split(\"-\")\n",
    "\n",
    "    if route_id[2] in [\"ga2\", \"gad\"]:\n",
    "        route_id[2] = \"ga[2|d]\"\n",
    "        tokens[2] = \"-\".join(route_id)\n",
    "    elif route_id[2] in [\"d12\", \"b12\"]:\n",
    "        route_id[2] = \"[b|d]12\"\n",
    "        tokens[2] = \"-\".join(route_id)\n",
    "\n",
    "    if 'y' in tokens[1]:\n",
    "        tokens[0] = ''\n",
    "        tokens[1] = '*'\n",
    "\n",
    "    tokens[3] = \"*\"\n",
    "\n",
    "    reg = \".\".join(tokens)\n",
    "\n",
    "    r = re.compile(reg)\n",
    "    matched_list = list(filter(r.match, trip_list))\n",
    "\n",
    "    if len(matched_list) > 0:\n",
    "        print(trip_id)\n",
    "        return matched_list\n",
    "    else:\n",
    "        return None\n",
    "\n",
    "find_trip_regex(trip_list, t_id)"
   ]
  },
  {
   "cell_type": "code",
   "execution_count": 102,
   "metadata": {},
   "outputs": [
    {
     "output_type": "execute_result",
     "data": {
      "text/html": "<table>\n<thead>\n<tr><th>#  </th><th>arrival_time  </th><th>departure_time  </th><th>stop_sequence  </th><th>shape_dist_traveled  </th><th>stop_id  </th><th>direction  </th><th>route_id  </th><th>lat  </th><th>lon  </th><th>direction_angle  </th><th>shape_dist_between  </th><th>trip_id  </th><th>start_time  </th></tr>\n</thead>\n<tbody>\n<tr><td>   </td><td>              </td><td>                </td><td>               </td><td>                     </td><td>         </td><td>           </td><td>          </td><td>     </td><td>     </td><td>                 </td><td>                    </td><td>         </td><td>            </td></tr>\n</tbody>\n</table><i>No rows to display (because of filtering).</i>",
      "text/plain": [
       "#    arrival_time    departure_time    stop_sequence    shape_dist_traveled    stop_id    direction    route_id    lat    lon    direction_angle    shape_dist_between    trip_id    start_time\n",
       "\n",
       "No rows to display (because of filtering)."
      ]
     },
     "metadata": {},
     "execution_count": 102
    }
   ],
   "source": [
    "st_df = vaex.open(stop_time_data_path)\n",
    "hm_df = vaex.open(gtfsr_arrival_means)\n",
    "\n",
    "temp_df = {'trip_id': array(['12426.3.60-151-d12-1.85.O'], dtype='<U25'), 'stop_sequence': array([9]), 'stop_id': array(['8220DB004522'], dtype='<U12'), 'start_time': array(['23:00:00'], dtype='<U8'), 'start_date': array([20210307]), 'timestamp': array(['2021-03-07 22:51:27'], dtype='<U19'), 'arrival': array([0])}\n",
    "\n",
    "t_id = '12426.3.60-151-d12-1.85.O'\n",
    "\n",
    "st_df[st_df.trip_id == t_id]\n",
    "# temp_df['trip_id'][0]"
   ]
  },
  {
   "cell_type": "code",
   "execution_count": 106,
   "metadata": {},
   "outputs": [
    {
     "output_type": "stream",
     "name": "stdout",
     "text": [
      "29048 29012\n"
     ]
    }
   ],
   "source": [
    "print(\n",
    "    len(st_df.trip_id.unique()),\n",
    "    len(hm_df.trip_id.unique()),\n",
    ")"
   ]
  },
  {
   "cell_type": "code",
   "execution_count": 34,
   "metadata": {},
   "outputs": [
    {
     "output_type": "stream",
     "name": "stdout",
     "text": [
      "['60', '53', '[b|d]12', '1']\n"
     ]
    },
    {
     "output_type": "execute_result",
     "data": {
      "text/plain": [
       "'60-53-b12-1'"
      ]
     },
     "metadata": {},
     "execution_count": 34
    }
   ],
   "source": [
    "route_id = '60-53-d12-1'\n",
    "route_list = ['60-53-b12-1']\n",
    "\n",
    "# find the correct route\n",
    "def find_route_regex(route_list, route_id):\n",
    "    if not type(route_id) == str:\n",
    "        return None\n",
    "\n",
    "    tokens = route_id.split(\"-\")\n",
    "    if not len(tokens) == 4:\n",
    "        return None\n",
    "\n",
    "    if tokens[2] in [\"ga2\", \"gad\"]:\n",
    "        tokens[2] = \"ga[2|d]\"\n",
    "    elif tokens[2] in [\"d12\", \"b12\"]:\n",
    "        tokens[2] = \"[b|d]12\"\n",
    "\n",
    "    reg = \"-\".join(tokens)  # join tokens by using a dot between\n",
    "\n",
    "    r = re.compile(reg)\n",
    "    matched_list = list(filter(r.match, route_list))  # get a list of matched trip ids\n",
    "\n",
    "    if len(matched_list) > 0:\n",
    "        return matched_list[0]\n",
    "    else:\n",
    "        return None\n",
    "find_route_regex(route_list, route_id)"
   ]
  },
  {
   "cell_type": "code",
   "execution_count": 6,
   "metadata": {},
   "outputs": [],
   "source": [
    "def get_stop_time_df(trip_id, conn):\n",
    "    query = \"\"\"\n",
    "    select \n",
    "        stop_time.arrival_time, stop_time.departure_time,\n",
    "        stop_time.stop_sequence, stop_time.shape_dist_traveled, \n",
    "        stop.stop_id, stop.point as geom,\n",
    "        trip.direction, route.route_id,\n",
    "        ARRAY[monday, tuesday, wednesday, thursday, friday, saturday, sunday] as service_days\n",
    "    from stop_time\n",
    "    join stop on stop.id = stop_time.stop_id\n",
    "    join trip on trip.id = stop_time.trip_id\n",
    "    join route on trip.route_id = route.id\n",
    "    join service on trip.service_id = service.id\n",
    "    where trip.trip_id = '{}'\n",
    "    group by stop_time.id, stop.id, trip.id, route.id, service.id\n",
    "    order by stop_sequence\n",
    "    ;\n",
    "    \"\"\".format(\n",
    "        trip_id\n",
    "    ).lstrip()\n",
    "\n",
    "    gdf = gpd.read_postgis(query, conn())\n",
    "    gdf[\"service_days\"] = gdf[\"service_days\"].astype('str')\n",
    "\n",
    "    # convert the times to human readable format, !IMPORTANT! utcfromtimestamp returns the correct version\n",
    "    gdf[\"arrival_time\"] = gdf[\"arrival_time\"].apply(lambda d: datetime.utcfromtimestamp(d).strftime(\"%H:%M:%S\"))\n",
    "    gdf[\"departure_time\"] = gdf[\"departure_time\"].apply(lambda d: datetime.utcfromtimestamp(d).strftime(\"%H:%M:%S\"))\n",
    "\n",
    "    # convert the geom to lat lon\n",
    "    gdf[\"lat\"] = gdf.apply(lambda row: row[\"geom\"].y, axis=1)\n",
    "    gdf[\"lon\"] = gdf.apply(lambda row: row[\"geom\"].x, axis=1)\n",
    "\n",
    "    # find the direction angle of the trip\n",
    "    gdf[\"direction_angle\"] = direction_angle(gdf.iloc[0].lon, gdf.iloc[0].lat, gdf.iloc[-1].lon, gdf.iloc[-1].lat)\n",
    "\n",
    "    # calculate the point distance between each stop and shape dist between them\n",
    "    gdf[\"shape_dist_between\"] = gdf.shape_dist_traveled - gdf.shape_dist_traveled.shift()\n",
    "\n",
    "    gdf[\"trip_id\"] = trip_id  # set the trip id, no need to fetch from db\n",
    "    gdf[\"start_time\"] = gdf[\"arrival_time\"].iloc[0]  # set the start time to the first instance of arrival time\n",
    "    gdf = gdf.fillna(0)  # first will always be NA, set to 0\n",
    "\n",
    "    # return a new pandas df dropping the geom column\n",
    "    return pd.DataFrame(gdf.drop(columns=\"geom\"))\n",
    "s_df = get_stop_time_df('11779.2.60-13-b12-1.22.I', get_conn)\n",
    "# s_df"
   ]
  },
  {
   "cell_type": "code",
   "execution_count": 155,
   "metadata": {},
   "outputs": [
    {
     "output_type": "execute_result",
     "data": {
      "text/plain": [
       "['False', 'False', 'False', 'True', 'False', 'False', 'False']"
      ]
     },
     "metadata": {},
     "execution_count": 155
    }
   ],
   "source": [
    "\n",
    "\n",
    "vaex.open('./temp.hdf5')[['service_days']][0][0].replace('[', '').replace(']', '').replace(' ', '').split(',')"
   ]
  },
  {
   "cell_type": "code",
   "execution_count": 12,
   "metadata": {},
   "outputs": [
    {
     "output_type": "execute_result",
     "data": {
      "text/plain": [
       "2"
      ]
     },
     "metadata": {},
     "execution_count": 12
    }
   ],
   "source": [
    "from datetime import date\n",
    "\n",
    "date.today().weekday()"
   ]
  },
  {
   "cell_type": "code",
   "execution_count": 27,
   "metadata": {},
   "outputs": [
    {
     "output_type": "execute_result",
     "data": {
      "text/html": "<table>\n<thead>\n<tr><th>#                            </th><th>route_id    </th><th style=\"text-align: right;\">  direction</th><th>stop_id     </th><th>start_time  </th><th>timestamp          </th><th style=\"text-align: right;\">  stop_sequence</th><th style=\"text-align: right;\">  start_date</th><th style=\"text-align: right;\">  arrival</th><th>arrival_time  </th><th>departure_time  </th><th style=\"text-align: right;\">  shape_dist_traveled</th><th>service_days                                    </th><th style=\"text-align: right;\">    lat</th><th style=\"text-align: right;\">     lon</th><th style=\"text-align: right;\">  direction_angle</th><th style=\"text-align: right;\">  shape_dist_between</th><th>trip_id                  </th><th style=\"text-align: right;\">  arr_dow</th><th>keep_trip  </th></tr>\n</thead>\n<tbody>\n<tr><td><i style='opacity: 0.6'>0</i></td><td>60-155-b12-1</td><td style=\"text-align: right;\">          0</td><td>8220DB000264</td><td>11:00:00    </td><td>2021-03-10 10:07:44</td><td style=\"text-align: right;\">             24</td><td style=\"text-align: right;\"> 2.02103e+07</td><td style=\"text-align: right;\">        0</td><td>11:16:48      </td><td>11:16:48        </td><td style=\"text-align: right;\">              7818.16</td><td>[False, False, False, False, False, False, True]</td><td style=\"text-align: right;\">53.3535</td><td style=\"text-align: right;\">-6.26226</td><td style=\"text-align: right;\">          139.315</td><td style=\"text-align: right;\">               518.6</td><td>14265.3.60-155-b12-1.89.O</td><td style=\"text-align: right;\">        2</td><td>False      </td></tr>\n<tr><td><i style='opacity: 0.6'>1</i></td><td>60-155-b12-1</td><td style=\"text-align: right;\">          0</td><td>8220DB000264</td><td>11:00:00    </td><td>2021-03-10 10:07:44</td><td style=\"text-align: right;\">             24</td><td style=\"text-align: right;\"> 2.02103e+07</td><td style=\"text-align: right;\">        0</td><td>11:20:25      </td><td>11:20:25        </td><td style=\"text-align: right;\">              7818.16</td><td>[False, False, False, False, True, False, False]</td><td style=\"text-align: right;\">53.3535</td><td style=\"text-align: right;\">-6.26226</td><td style=\"text-align: right;\">          139.315</td><td style=\"text-align: right;\">               518.6</td><td>19522.4.60-155-b12-1.89.O</td><td style=\"text-align: right;\">        2</td><td>False      </td></tr>\n<tr><td><i style='opacity: 0.6'>2</i></td><td>60-155-b12-1</td><td style=\"text-align: right;\">          0</td><td>8220DB000264</td><td>11:00:00    </td><td>2021-03-10 10:07:44</td><td style=\"text-align: right;\">             24</td><td style=\"text-align: right;\"> 2.02103e+07</td><td style=\"text-align: right;\">        0</td><td>11:20:25      </td><td>11:20:25        </td><td style=\"text-align: right;\">              7818.16</td><td>[False, False, False, False, False, True, False]</td><td style=\"text-align: right;\">53.3535</td><td style=\"text-align: right;\">-6.26226</td><td style=\"text-align: right;\">          139.315</td><td style=\"text-align: right;\">               518.6</td><td>9890.2.60-155-b12-1.89.O </td><td style=\"text-align: right;\">        2</td><td>False      </td></tr>\n</tbody>\n</table>",
      "text/plain": [
       "  #  route_id        direction  stop_id       start_time    timestamp              stop_sequence    start_date    arrival  arrival_time    departure_time      shape_dist_traveled  service_days                                          lat       lon    direction_angle    shape_dist_between  trip_id                      arr_dow  keep_trip\n",
       "  0  60-155-b12-1            0  8220DB000264  11:00:00      2021-03-10 10:07:44               24   2.02103e+07          0  11:16:48        11:16:48                        7818.16  [False, False, False, False, False, False, True]  53.3535  -6.26226            139.315                 518.6  14265.3.60-155-b12-1.89.O          2  False\n",
       "  1  60-155-b12-1            0  8220DB000264  11:00:00      2021-03-10 10:07:44               24   2.02103e+07          0  11:20:25        11:20:25                        7818.16  [False, False, False, False, True, False, False]  53.3535  -6.26226            139.315                 518.6  19522.4.60-155-b12-1.89.O          2  False\n",
       "  2  60-155-b12-1            0  8220DB000264  11:00:00      2021-03-10 10:07:44               24   2.02103e+07          0  11:20:25        11:20:25                        7818.16  [False, False, False, False, False, True, False]  53.3535  -6.26226            139.315                 518.6  9890.2.60-155-b12-1.89.O           2  False"
      ]
     },
     "metadata": {},
     "execution_count": 27
    }
   ],
   "source": [
    "df = vaex.open('./deploy.hdf5')\n",
    "df['arr_dow'] = df.start_date.apply(lambda d: get_dt(d, '%Y%m%d').weekday())\n",
    "df[\"keep_trip\"] = df.apply(\n",
    "    lambda sd, dow: sd.replace(\"[\", \"\").replace(\"]\", \"\").replace(\" \", \"\").split(\",\")[dow],\n",
    "    [\"service_days\", \"arr_dow\"],\n",
    ")\n",
    "df"
   ]
  },
  {
   "cell_type": "code",
   "execution_count": 26,
   "metadata": {},
   "outputs": [
    {
     "output_type": "execute_result",
     "data": {
      "text/html": "<table>\n<thead>\n<tr><th>#  </th><th>route_id  </th><th>direction  </th><th>stop_id  </th><th>start_time  </th><th>timestamp  </th><th>stop_sequence  </th><th>start_date  </th><th>arrival  </th><th>arrival_time  </th><th>departure_time  </th><th>shape_dist_traveled  </th><th>service_days  </th><th>lat  </th><th>lon  </th><th>direction_angle  </th><th>shape_dist_between  </th><th>trip_id  </th><th>dow  </th><th>keep_trip  </th><th>arr_dow  </th></tr>\n</thead>\n<tbody>\n<tr><td>   </td><td>          </td><td>           </td><td>         </td><td>            </td><td>           </td><td>               </td><td>            </td><td>         </td><td>              </td><td>                </td><td>                     </td><td>              </td><td>     </td><td>     </td><td>                 </td><td>                    </td><td>         </td><td>     </td><td>           </td><td>         </td></tr>\n</tbody>\n</table><i>No rows to display (because of filtering).</i>",
      "text/plain": [
       "#    route_id    direction    stop_id    start_time    timestamp    stop_sequence    start_date    arrival    arrival_time    departure_time    shape_dist_traveled    service_days    lat    lon    direction_angle    shape_dist_between    trip_id    dow    keep_trip    arr_dow\n",
       "\n",
       "No rows to display (because of filtering)."
      ]
     },
     "metadata": {},
     "execution_count": 26
    }
   ],
   "source": [
    "df = df[df.keep_trip == \"True\"]\n",
    "\n",
    "df"
   ]
  }
 ]
}