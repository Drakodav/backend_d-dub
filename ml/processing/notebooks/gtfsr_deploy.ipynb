{
 "metadata": {
  "language_info": {
   "codemirror_mode": {
    "name": "ipython",
    "version": 3
   },
   "file_extension": ".py",
   "mimetype": "text/x-python",
   "name": "python",
   "nbconvert_exporter": "python",
   "pygments_lexer": "ipython3",
   "version": "3.8.0-final"
  },
  "orig_nbformat": 2,
  "kernelspec": {
   "name": "denv",
   "display_name": "denv",
   "language": "python"
  }
 },
 "nbformat": 4,
 "nbformat_minor": 2,
 "cells": [
  {
   "cell_type": "code",
   "execution_count": 1,
   "metadata": {},
   "outputs": [],
   "source": [
    "%matplotlib inline\n",
    "\n",
    "import os\n",
    "import numpy as np\n",
    "import pandas as pd\n",
    "from pathlib import Path\n",
    "import matplotlib.pyplot as plt\n",
    "import seaborn as sns\n",
    "import zipfile\n",
    "from google.transit import gtfs_realtime_pb2\n",
    "from google.protobuf.json_format import Parse, MessageToJson\n",
    "import json\n",
    "import psycopg2\n",
    "import time\n",
    "from django.contrib.gis.geos import Point, fromstr, GEOSGeometry\n",
    "from datetime import datetime, timedelta\n",
    "import geopandas as gpd\n",
    "import rtree\n",
    "import vaex\n",
    "import vaex.ml\n",
    "from joblib import delayed, Parallel, load, parallel_backend\n",
    "from util import direction_angle, apply_dow, get_dt, get_conn, vaex_mjoin, find_trip_regex\n",
    "# from haversine import haversine, Unit\n",
    "\n",
    "dir = Path.cwd()\n",
    "dir = os.path.join(dir, '../')\n",
    "outdir = os.path.join(dir, 'output')\n",
    "gtfs_records_zip = os.path.join(dir, \"data\", \"GtfsRRecords.zip\")\n",
    "gtfs_csv_zip = os.path.join(outdir, \"gtfsr_csv.zip\")\n",
    "gtfs_final_csv_path = os.path.join(outdir, \"gtfsr.csv\")\n",
    "gtfs_processed_path = os.path.join(outdir, \"gtfsr_processed.hdf5\")\n",
    "scats_model_path = os.path.join(outdir, \"scats_model.json\")\n",
    "gtfsr_processing_temp = os.path.join(outdir, \"processing_temp.hdf5\")\n",
    "gtfsr_arrival_means = os.path.join(outdir, \"gtfsr_arrival_means.hdf5\")\n",
    "stop_time_data_path = os.path.join(outdir, 'stop_time_data.hdf5')\n",
    "gtfs_final_hdf5_path = os.path.join(outdir, \"gtfsr.csv.hdf5\")\n",
    "\n",
    "entity_cols = [\n",
    "    \"trip_id\",\n",
    "    \"start_date\",\n",
    "    \"start_time\",\n",
    "    \"stop_sequence\",\n",
    "    \"departure\",\n",
    "    \"arrival\",\n",
    "    \"timestamp\",\n",
    "    \"stop_id\",\n",
    "]"
   ]
  },
  {
   "cell_type": "code",
   "execution_count": 9,
   "metadata": {},
   "outputs": [
    {
     "output_type": "execute_result",
     "data": {
      "text/html": "<table>\n<thead>\n<tr><th>#                            </th><th>trip_id                  </th><th style=\"text-align: right;\">  start_date</th><th>start_time  </th><th style=\"text-align: right;\">  stop_sequence</th><th style=\"text-align: right;\">  arrival</th><th>timestamp          </th><th>stop_id     </th><th>arrival_time  </th><th style=\"text-align: right;\">  shape_dist_traveled</th><th style=\"text-align: right;\">  direction</th><th>route_id    </th><th style=\"text-align: right;\">    lat</th><th style=\"text-align: right;\">     lon</th><th style=\"text-align: right;\">  direction_angle</th><th style=\"text-align: right;\">  shape_dist_between</th><th style=\"text-align: right;\">  arr_dow</th><th style=\"text-align: right;\">  arr_hour</th><th style=\"text-align: right;\">  arrival_mean</th><th style=\"text-align: right;\">  p_mean_vol</th></tr>\n</thead>\n<tbody>\n<tr><td><i style='opacity: 0.6'>0</i></td><td>19389.1.60-155-d12-1.89.O</td><td style=\"text-align: right;\"> 2.02103e+07</td><td>19:20:00    </td><td style=\"text-align: right;\">             24</td><td style=\"text-align: right;\">        5</td><td>2021-03-02 19:51:26</td><td>8220DB000264</td><td>19:38:38      </td><td style=\"text-align: right;\">              7818.16</td><td style=\"text-align: right;\">          0</td><td>60-155-d12-1</td><td style=\"text-align: right;\">53.3535</td><td style=\"text-align: right;\">-6.26226</td><td style=\"text-align: right;\">          139.315</td><td style=\"text-align: right;\">               518.6</td><td style=\"text-align: right;\">        1</td><td style=\"text-align: right;\">        19</td><td style=\"text-align: right;\">             6</td><td style=\"text-align: right;\">     68.5386</td></tr>\n</tbody>\n</table>",
      "text/plain": [
       "  #  trip_id                      start_date  start_time      stop_sequence    arrival  timestamp            stop_id       arrival_time      shape_dist_traveled    direction  route_id          lat       lon    direction_angle    shape_dist_between    arr_dow    arr_hour    arrival_mean    p_mean_vol\n",
       "  0  19389.1.60-155-d12-1.89.O   2.02103e+07  19:20:00                   24          5  2021-03-02 19:51:26  8220DB000264  19:38:38                      7818.16            0  60-155-d12-1  53.3535  -6.26226            139.315                 518.6          1          19               6       68.5386"
      ]
     },
     "metadata": {},
     "execution_count": 9
    }
   ],
   "source": [
    "live_df = vaex.open(os.path.join(outdir, 'deploy_gtfsr.hdf5'))\n",
    "live_df"
   ]
  },
  {
   "cell_type": "code",
   "execution_count": 5,
   "metadata": {},
   "outputs": [],
   "source": [
    "# vaex.open(os.path.join(outdir, 'gtfsr_model.hdf5'))"
   ]
  },
  {
   "cell_type": "code",
   "execution_count": 6,
   "metadata": {},
   "outputs": [
    {
     "output_type": "error",
     "ename": "ModuleNotFoundError",
     "evalue": "No module named 'ml'",
     "traceback": [
      "\u001b[0;31m---------------------------------------------------------------------------\u001b[0m",
      "\u001b[0;31mModuleNotFoundError\u001b[0m                       Traceback (most recent call last)",
      "\u001b[0;32m<ipython-input-6-b33b2104298f>\u001b[0m in \u001b[0;36m<module>\u001b[0;34m\u001b[0m\n\u001b[0;32m----> 1\u001b[0;31m \u001b[0mlive_df\u001b[0m\u001b[0;34m.\u001b[0m\u001b[0mstate_load\u001b[0m\u001b[0;34m(\u001b[0m\u001b[0mos\u001b[0m\u001b[0;34m.\u001b[0m\u001b[0mpath\u001b[0m\u001b[0;34m.\u001b[0m\u001b[0mjoin\u001b[0m\u001b[0;34m(\u001b[0m\u001b[0moutdir\u001b[0m\u001b[0;34m,\u001b[0m \u001b[0;34m'gtfsr_model.json'\u001b[0m\u001b[0;34m)\u001b[0m\u001b[0;34m)\u001b[0m\u001b[0;34m\u001b[0m\u001b[0;34m\u001b[0m\u001b[0m\n\u001b[0m",
      "\u001b[0;32m~/projects/dynamoDublin/backend_d-dub/.denv/lib/python3.8/site-packages/vaex/dataframe.py\u001b[0m in \u001b[0;36mstate_load\u001b[0;34m(self, f, use_active_range)\u001b[0m\n\u001b[1;32m   2363\u001b[0m         \u001b[0;34m\"\"\"Load a state previously stored by :meth:`DataFrame.state_write`, see also :meth:`DataFrame.state_set`.\"\"\"\u001b[0m\u001b[0;34m\u001b[0m\u001b[0;34m\u001b[0m\u001b[0m\n\u001b[1;32m   2364\u001b[0m         \u001b[0mstate\u001b[0m \u001b[0;34m=\u001b[0m \u001b[0mvaex\u001b[0m\u001b[0;34m.\u001b[0m\u001b[0mutils\u001b[0m\u001b[0;34m.\u001b[0m\u001b[0mread_json_or_yaml\u001b[0m\u001b[0;34m(\u001b[0m\u001b[0mf\u001b[0m\u001b[0;34m)\u001b[0m\u001b[0;34m\u001b[0m\u001b[0;34m\u001b[0m\u001b[0m\n\u001b[0;32m-> 2365\u001b[0;31m         \u001b[0mself\u001b[0m\u001b[0;34m.\u001b[0m\u001b[0mstate_set\u001b[0m\u001b[0;34m(\u001b[0m\u001b[0mstate\u001b[0m\u001b[0;34m,\u001b[0m \u001b[0muse_active_range\u001b[0m\u001b[0;34m=\u001b[0m\u001b[0muse_active_range\u001b[0m\u001b[0;34m)\u001b[0m\u001b[0;34m\u001b[0m\u001b[0;34m\u001b[0m\u001b[0m\n\u001b[0m\u001b[1;32m   2366\u001b[0m \u001b[0;34m\u001b[0m\u001b[0m\n\u001b[1;32m   2367\u001b[0m     \u001b[0;32mdef\u001b[0m \u001b[0mremove_virtual_meta\u001b[0m\u001b[0;34m(\u001b[0m\u001b[0mself\u001b[0m\u001b[0;34m)\u001b[0m\u001b[0;34m:\u001b[0m\u001b[0;34m\u001b[0m\u001b[0;34m\u001b[0m\u001b[0m\n",
      "\u001b[0;32m~/projects/dynamoDublin/backend_d-dub/.denv/lib/python3.8/site-packages/vaex/dataframe.py\u001b[0m in \u001b[0;36mstate_set\u001b[0;34m(self, state, use_active_range, trusted)\u001b[0m\n\u001b[1;32m   2262\u001b[0m                 \u001b[0mself\u001b[0m\u001b[0;34m.\u001b[0m\u001b[0m_rename\u001b[0m\u001b[0;34m(\u001b[0m\u001b[0mold\u001b[0m\u001b[0;34m,\u001b[0m \u001b[0mnew\u001b[0m\u001b[0;34m)\u001b[0m\u001b[0;34m\u001b[0m\u001b[0;34m\u001b[0m\u001b[0m\n\u001b[1;32m   2263\u001b[0m         \u001b[0;32mfor\u001b[0m \u001b[0mname\u001b[0m\u001b[0;34m,\u001b[0m \u001b[0mvalue\u001b[0m \u001b[0;32min\u001b[0m \u001b[0mstate\u001b[0m\u001b[0;34m[\u001b[0m\u001b[0;34m'functions'\u001b[0m\u001b[0;34m]\u001b[0m\u001b[0;34m.\u001b[0m\u001b[0mitems\u001b[0m\u001b[0;34m(\u001b[0m\u001b[0;34m)\u001b[0m\u001b[0;34m:\u001b[0m\u001b[0;34m\u001b[0m\u001b[0;34m\u001b[0m\u001b[0m\n\u001b[0;32m-> 2264\u001b[0;31m             \u001b[0mself\u001b[0m\u001b[0;34m.\u001b[0m\u001b[0madd_function\u001b[0m\u001b[0;34m(\u001b[0m\u001b[0mname\u001b[0m\u001b[0;34m,\u001b[0m \u001b[0mvaex\u001b[0m\u001b[0;34m.\u001b[0m\u001b[0mserialize\u001b[0m\u001b[0;34m.\u001b[0m\u001b[0mfrom_dict\u001b[0m\u001b[0;34m(\u001b[0m\u001b[0mvalue\u001b[0m\u001b[0;34m,\u001b[0m \u001b[0mtrusted\u001b[0m\u001b[0;34m=\u001b[0m\u001b[0mtrusted\u001b[0m\u001b[0;34m)\u001b[0m\u001b[0;34m)\u001b[0m\u001b[0;34m\u001b[0m\u001b[0;34m\u001b[0m\u001b[0m\n\u001b[0m\u001b[1;32m   2265\u001b[0m         \u001b[0;32mif\u001b[0m \u001b[0;34m'column_names'\u001b[0m \u001b[0;32min\u001b[0m \u001b[0mstate\u001b[0m\u001b[0;34m:\u001b[0m\u001b[0;34m\u001b[0m\u001b[0;34m\u001b[0m\u001b[0m\n\u001b[1;32m   2266\u001b[0m             \u001b[0;31m# we clear all columns, and add them later on, since otherwise self[name] = ... will try\u001b[0m\u001b[0;34m\u001b[0m\u001b[0;34m\u001b[0m\u001b[0;34m\u001b[0m\u001b[0m\n",
      "\u001b[0;32m~/projects/dynamoDublin/backend_d-dub/.denv/lib/python3.8/site-packages/vaex/serialize.py\u001b[0m in \u001b[0;36mfrom_dict\u001b[0;34m(d, trusted)\u001b[0m\n\u001b[1;32m     26\u001b[0m         \u001b[0;32mraise\u001b[0m \u001b[0mValueError\u001b[0m\u001b[0;34m(\u001b[0m\u001b[0;34m'unknown class: '\u001b[0m \u001b[0;34m+\u001b[0m \u001b[0mcls_name\u001b[0m\u001b[0;34m)\u001b[0m\u001b[0;34m\u001b[0m\u001b[0;34m\u001b[0m\u001b[0m\n\u001b[1;32m     27\u001b[0m     \u001b[0;32melse\u001b[0m\u001b[0;34m:\u001b[0m\u001b[0;34m\u001b[0m\u001b[0;34m\u001b[0m\u001b[0m\n\u001b[0;32m---> 28\u001b[0;31m         \u001b[0mobj\u001b[0m \u001b[0;34m=\u001b[0m \u001b[0mregistry\u001b[0m\u001b[0;34m[\u001b[0m\u001b[0mcls_name\u001b[0m\u001b[0;34m]\u001b[0m\u001b[0;34m.\u001b[0m\u001b[0mstate_from\u001b[0m\u001b[0;34m(\u001b[0m\u001b[0md\u001b[0m\u001b[0;34m[\u001b[0m\u001b[0;34m'state'\u001b[0m\u001b[0;34m]\u001b[0m\u001b[0;34m,\u001b[0m \u001b[0mtrusted\u001b[0m\u001b[0;34m=\u001b[0m\u001b[0mtrusted\u001b[0m\u001b[0;34m)\u001b[0m\u001b[0;34m\u001b[0m\u001b[0;34m\u001b[0m\u001b[0m\n\u001b[0m\u001b[1;32m     29\u001b[0m         \u001b[0;31m# obj.state_set(d['state'])\u001b[0m\u001b[0;34m\u001b[0m\u001b[0;34m\u001b[0m\u001b[0;34m\u001b[0m\u001b[0m\n\u001b[1;32m     30\u001b[0m         \u001b[0;32mreturn\u001b[0m \u001b[0mobj\u001b[0m\u001b[0;34m\u001b[0m\u001b[0;34m\u001b[0m\u001b[0m\n",
      "\u001b[0;32m~/projects/dynamoDublin/backend_d-dub/.denv/lib/python3.8/site-packages/vaex/expression.py\u001b[0m in \u001b[0;36mstate_from\u001b[0;34m(cls, state, trusted)\u001b[0m\n\u001b[1;32m   1000\u001b[0m     \u001b[0;32mdef\u001b[0m \u001b[0mstate_from\u001b[0m\u001b[0;34m(\u001b[0m\u001b[0mcls\u001b[0m\u001b[0;34m,\u001b[0m \u001b[0mstate\u001b[0m\u001b[0;34m,\u001b[0m \u001b[0mtrusted\u001b[0m\u001b[0;34m=\u001b[0m\u001b[0;32mTrue\u001b[0m\u001b[0;34m)\u001b[0m\u001b[0;34m:\u001b[0m\u001b[0;34m\u001b[0m\u001b[0;34m\u001b[0m\u001b[0m\n\u001b[1;32m   1001\u001b[0m         \u001b[0mobj\u001b[0m \u001b[0;34m=\u001b[0m \u001b[0mcls\u001b[0m\u001b[0;34m(\u001b[0m\u001b[0;34m)\u001b[0m\u001b[0;34m\u001b[0m\u001b[0;34m\u001b[0m\u001b[0m\n\u001b[0;32m-> 1002\u001b[0;31m         \u001b[0mobj\u001b[0m\u001b[0;34m.\u001b[0m\u001b[0mstate_set\u001b[0m\u001b[0;34m(\u001b[0m\u001b[0mstate\u001b[0m\u001b[0;34m,\u001b[0m \u001b[0mtrusted\u001b[0m\u001b[0;34m=\u001b[0m\u001b[0mtrusted\u001b[0m\u001b[0;34m)\u001b[0m\u001b[0;34m\u001b[0m\u001b[0;34m\u001b[0m\u001b[0m\n\u001b[0m\u001b[1;32m   1003\u001b[0m         \u001b[0;32mreturn\u001b[0m \u001b[0mobj\u001b[0m\u001b[0;34m\u001b[0m\u001b[0;34m\u001b[0m\u001b[0m\n\u001b[1;32m   1004\u001b[0m \u001b[0;34m\u001b[0m\u001b[0m\n",
      "\u001b[0;32m~/projects/dynamoDublin/backend_d-dub/.denv/lib/python3.8/site-packages/vaex/expression.py\u001b[0m in \u001b[0;36mstate_set\u001b[0;34m(self, state, trusted)\u001b[0m\n\u001b[1;32m   1011\u001b[0m         \u001b[0;32mif\u001b[0m \u001b[0mtrusted\u001b[0m \u001b[0;32mis\u001b[0m \u001b[0;32mFalse\u001b[0m\u001b[0;34m:\u001b[0m\u001b[0;34m\u001b[0m\u001b[0;34m\u001b[0m\u001b[0m\n\u001b[1;32m   1012\u001b[0m             \u001b[0;32mraise\u001b[0m \u001b[0mValueError\u001b[0m\u001b[0;34m(\u001b[0m\u001b[0;34m\"Will not unpickle data when source is not trusted\"\u001b[0m\u001b[0;34m)\u001b[0m\u001b[0;34m\u001b[0m\u001b[0;34m\u001b[0m\u001b[0m\n\u001b[0;32m-> 1013\u001b[0;31m         \u001b[0mself\u001b[0m\u001b[0;34m.\u001b[0m\u001b[0mf\u001b[0m \u001b[0;34m=\u001b[0m \u001b[0mself\u001b[0m\u001b[0;34m.\u001b[0m\u001b[0munpickle\u001b[0m\u001b[0;34m(\u001b[0m\u001b[0mdata\u001b[0m\u001b[0;34m)\u001b[0m\u001b[0;34m\u001b[0m\u001b[0;34m\u001b[0m\u001b[0m\n\u001b[0m\u001b[1;32m   1014\u001b[0m \u001b[0;34m\u001b[0m\u001b[0m\n\u001b[1;32m   1015\u001b[0m     \u001b[0;32mdef\u001b[0m \u001b[0m__call__\u001b[0m\u001b[0;34m(\u001b[0m\u001b[0mself\u001b[0m\u001b[0;34m,\u001b[0m \u001b[0;34m*\u001b[0m\u001b[0margs\u001b[0m\u001b[0;34m,\u001b[0m \u001b[0;34m**\u001b[0m\u001b[0mkwargs\u001b[0m\u001b[0;34m)\u001b[0m\u001b[0;34m:\u001b[0m\u001b[0;34m\u001b[0m\u001b[0;34m\u001b[0m\u001b[0m\n",
      "\u001b[0;32m~/projects/dynamoDublin/backend_d-dub/.denv/lib/python3.8/site-packages/vaex/expression.py\u001b[0m in \u001b[0;36munpickle\u001b[0;34m(self, data)\u001b[0m\n\u001b[1;32m    987\u001b[0m \u001b[0;34m\u001b[0m\u001b[0m\n\u001b[1;32m    988\u001b[0m     \u001b[0;32mdef\u001b[0m \u001b[0munpickle\u001b[0m\u001b[0;34m(\u001b[0m\u001b[0mself\u001b[0m\u001b[0;34m,\u001b[0m \u001b[0mdata\u001b[0m\u001b[0;34m)\u001b[0m\u001b[0;34m:\u001b[0m\u001b[0;34m\u001b[0m\u001b[0;34m\u001b[0m\u001b[0m\n\u001b[0;32m--> 989\u001b[0;31m         \u001b[0;32mreturn\u001b[0m \u001b[0mpickle\u001b[0m\u001b[0;34m.\u001b[0m\u001b[0mloads\u001b[0m\u001b[0;34m(\u001b[0m\u001b[0mdata\u001b[0m\u001b[0;34m)\u001b[0m\u001b[0;34m\u001b[0m\u001b[0;34m\u001b[0m\u001b[0m\n\u001b[0m\u001b[1;32m    990\u001b[0m \u001b[0;34m\u001b[0m\u001b[0m\n\u001b[1;32m    991\u001b[0m     \u001b[0;32mdef\u001b[0m \u001b[0mstate_get\u001b[0m\u001b[0;34m(\u001b[0m\u001b[0mself\u001b[0m\u001b[0;34m)\u001b[0m\u001b[0;34m:\u001b[0m\u001b[0;34m\u001b[0m\u001b[0;34m\u001b[0m\u001b[0m\n",
      "\u001b[0;31mModuleNotFoundError\u001b[0m: No module named 'ml'"
     ]
    }
   ],
   "source": [
    "live_df.state_load(os.path.join(outdir, 'gtfsr_model.json'))"
   ]
  },
  {
   "cell_type": "code",
   "execution_count": 6,
   "metadata": {},
   "outputs": [
    {
     "output_type": "execute_result",
     "data": {
      "text/plain": [
       "'2021-03-02 11:07:31.243281'"
      ]
     },
     "metadata": {},
     "execution_count": 6
    }
   ],
   "source": [
    "str(datetime.now())"
   ]
  }
 ]
}