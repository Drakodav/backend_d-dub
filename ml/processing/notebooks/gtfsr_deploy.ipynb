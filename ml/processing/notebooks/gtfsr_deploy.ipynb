{
 "metadata": {
  "language_info": {
   "codemirror_mode": {
    "name": "ipython",
    "version": 3
   },
   "file_extension": ".py",
   "mimetype": "text/x-python",
   "name": "python",
   "nbconvert_exporter": "python",
   "pygments_lexer": "ipython3",
   "version": "3.8.0-final"
  },
  "orig_nbformat": 2,
  "kernelspec": {
   "name": "denv",
   "display_name": "denv",
   "language": "python"
  }
 },
 "nbformat": 4,
 "nbformat_minor": 2,
 "cells": [
  {
   "cell_type": "code",
   "execution_count": 10,
   "metadata": {},
   "outputs": [],
   "source": [
    "%matplotlib inline\n",
    "\n",
    "import os\n",
    "import numpy as np\n",
    "import pandas as pd\n",
    "from pathlib import Path\n",
    "import matplotlib.pyplot as plt\n",
    "import seaborn as sns\n",
    "import zipfile\n",
    "from google.transit import gtfs_realtime_pb2\n",
    "from google.protobuf.json_format import Parse, MessageToJson\n",
    "import json\n",
    "import psycopg2\n",
    "import time\n",
    "from django.contrib.gis.geos import Point, fromstr, GEOSGeometry\n",
    "from datetime import datetime, timedelta\n",
    "import geopandas as gpd\n",
    "import rtree\n",
    "import vaex\n",
    "import vaex.ml\n",
    "from joblib import delayed, Parallel, load, parallel_backend\n",
    "from util import direction_angle, apply_dow, get_dt, get_conn, vaex_mjoin, find_trip_regex\n",
    "# from haversine import haversine, Unit\n",
    "\n",
    "dir = Path.cwd()\n",
    "dir = os.path.join(dir, '../')\n",
    "outdir = os.path.join(dir, 'output')\n",
    "gtfs_records_zip = os.path.join(dir, \"data\", \"GtfsRRecords.zip\")\n",
    "gtfs_csv_zip = os.path.join(outdir, \"gtfsr_csv.zip\")\n",
    "gtfs_final_csv_path = os.path.join(outdir, \"gtfsr.csv\")\n",
    "gtfs_processed_path = os.path.join(outdir, \"gtfsr_processed.hdf5\")\n",
    "scats_model_path = os.path.join(outdir, \"scats_model.json\")\n",
    "gtfsr_processing_temp = os.path.join(outdir, \"processing_temp.hdf5\")\n",
    "gtfsr_arrival_means = os.path.join(outdir, \"gtfsr_arrival_means.hdf5\")\n",
    "stop_time_data_path = os.path.join(outdir, 'stop_time_data.hdf5')\n",
    "gtfs_final_hdf5_path = os.path.join(outdir, \"gtfsr.csv.hdf5\")\n",
    "\n",
    "entity_cols = [\n",
    "    \"trip_id\",\n",
    "    \"start_date\",\n",
    "    \"start_time\",\n",
    "    \"stop_sequence\",\n",
    "    \"departure\",\n",
    "    \"arrival\",\n",
    "    \"timestamp\",\n",
    "    \"stop_id\",\n",
    "]"
   ]
  },
  {
   "cell_type": "code",
   "execution_count": 2,
   "metadata": {},
   "outputs": [
    {
     "output_type": "execute_result",
     "data": {
      "text/html": "<table>\n<thead>\n<tr><th>#                            </th><th>trip_id                  </th><th style=\"text-align: right;\">  stop_sequence</th><th>stop_id     </th><th>start_time  </th><th style=\"text-align: right;\">  start_date</th></tr>\n</thead>\n<tbody>\n<tr><td><i style='opacity: 0.6'>0</i></td><td>14070.3.60-155-d12-1.89.O</td><td style=\"text-align: right;\">             24</td><td>8220DB000264</td><td>22:20:00    </td><td style=\"text-align: right;\">    20210228</td></tr>\n</tbody>\n</table>",
      "text/plain": [
       "  #  trip_id                      stop_sequence  stop_id       start_time      start_date\n",
       "  0  14070.3.60-155-d12-1.89.O               24  8220DB000264  22:20:00          20210228"
      ]
     },
     "metadata": {},
     "execution_count": 2
    }
   ],
   "source": [
    "live_df = vaex.open(os.path.join(outdir, 'deploy_gtfsr.hdf5'))\n",
    "live_df.head()"
   ]
  },
  {
   "cell_type": "code",
   "execution_count": 5,
   "metadata": {},
   "outputs": [
    {
     "output_type": "execute_result",
     "data": {
      "text/html": "<table>\n<thead>\n<tr><th>#                            </th><th>arrival_time  </th><th>departure_time  </th><th style=\"text-align: right;\">  stop_sequence</th><th style=\"text-align: right;\">  shape_dist_traveled</th><th>stop_id     </th><th style=\"text-align: right;\">  direction</th><th>route_id   </th><th style=\"text-align: right;\">    lat</th><th style=\"text-align: right;\">     lon</th><th style=\"text-align: right;\">  direction_angle</th><th style=\"text-align: right;\">  shape_dist_between</th><th>trip_id                 </th><th>start_time  </th></tr>\n</thead>\n<tbody>\n<tr><td><i style='opacity: 0.6'>0</i></td><td>14:00:00      </td><td>14:00:00        </td><td style=\"text-align: right;\">              1</td><td style=\"text-align: right;\">                 0   </td><td>8230DB007229</td><td style=\"text-align: right;\">          1</td><td>60-13-b12-1</td><td style=\"text-align: right;\">53.3301</td><td style=\"text-align: right;\">-6.45108</td><td style=\"text-align: right;\">          63.0955</td><td style=\"text-align: right;\">                0   </td><td>11777.2.60-13-b12-1.22.I</td><td>14:00:00    </td></tr>\n<tr><td><i style='opacity: 0.6'>1</i></td><td>14:01:58      </td><td>14:01:58        </td><td style=\"text-align: right;\">              2</td><td style=\"text-align: right;\">              1096.06</td><td>8230DB004617</td><td style=\"text-align: right;\">          1</td><td>60-13-b12-1</td><td style=\"text-align: right;\">53.3267</td><td style=\"text-align: right;\">-6.43945</td><td style=\"text-align: right;\">          63.0955</td><td style=\"text-align: right;\">             1096.06</td><td>11777.2.60-13-b12-1.22.I</td><td>14:00:00    </td></tr>\n</tbody>\n</table>",
      "text/plain": [
       "  #  arrival_time    departure_time      stop_sequence    shape_dist_traveled  stop_id         direction  route_id         lat       lon    direction_angle    shape_dist_between  trip_id                   start_time\n",
       "  0  14:00:00        14:00:00                        1                   0     8230DB007229            1  60-13-b12-1  53.3301  -6.45108            63.0955                  0     11777.2.60-13-b12-1.22.I  14:00:00\n",
       "  1  14:01:58        14:01:58                        2                1096.06  8230DB004617            1  60-13-b12-1  53.3267  -6.43945            63.0955               1096.06  11777.2.60-13-b12-1.22.I  14:00:00"
      ]
     },
     "metadata": {},
     "execution_count": 5
    }
   ],
   "source": [
    "vx_df = vaex.open(stop_time_data_path)\n",
    "vx_df[:2]"
   ]
  },
  {
   "cell_type": "code",
   "execution_count": 39,
   "metadata": {},
   "outputs": [
    {
     "output_type": "stream",
     "name": "stdout",
     "text": [
      "None\n"
     ]
    }
   ],
   "source": [
    "print(find_trip_regex(vx_df.trip_id.unique().tolist(), live_df[0][0]))"
   ]
  },
  {
   "cell_type": "code",
   "execution_count": 6,
   "metadata": {},
   "outputs": [
    {
     "output_type": "execute_result",
     "data": {
      "text/html": "<table>\n<thead>\n<tr><th>#  </th><th>trip_id  </th><th>stop_sequence  </th><th>stop_id  </th><th>start_time  </th><th>start_date  </th><th>arrival_time  </th><th>departure_time  </th><th>shape_dist_traveled  </th><th>direction  </th><th>route_id  </th><th>lat  </th><th>lon  </th><th>direction_angle  </th><th>shape_dist_between  </th></tr>\n</thead>\n<tbody>\n<tr><td>   </td><td>         </td><td>               </td><td>         </td><td>            </td><td>            </td><td>              </td><td>                </td><td>                     </td><td>           </td><td>          </td><td>     </td><td>     </td><td>                 </td><td>                    </td></tr>\n</tbody>\n</table><i>No rows to display.</i>",
      "text/plain": [
       "#    trip_id    stop_sequence    stop_id    start_time    start_date    arrival_time    departure_time    shape_dist_traveled    direction    route_id    lat    lon    direction_angle    shape_dist_between\n",
       "\n",
       "No rows to display."
      ]
     },
     "metadata": {},
     "execution_count": 6
    }
   ],
   "source": [
    "cols = [\"trip_id\", \"stop_sequence\", \"stop_id\", \"start_time\"]\n",
    "\n",
    "vaex_mjoin(live_df, vx_df, cols, cols, how=\"inner\")"
   ]
  },
  {
   "cell_type": "code",
   "execution_count": 11,
   "metadata": {},
   "outputs": [
    {
     "output_type": "execute_result",
     "data": {
      "text/plain": [
       "True"
      ]
     },
     "metadata": {},
     "execution_count": 11
    }
   ],
   "source": [
    "'trip_id' in list(vx_df.get_column_names())"
   ]
  },
  {
   "cell_type": "code",
   "execution_count": null,
   "metadata": {},
   "outputs": [],
   "source": []
  },
  {
   "cell_type": "code",
   "execution_count": null,
   "metadata": {},
   "outputs": [],
   "source": []
  },
  {
   "cell_type": "code",
   "execution_count": null,
   "metadata": {},
   "outputs": [],
   "source": []
  }
 ]
}