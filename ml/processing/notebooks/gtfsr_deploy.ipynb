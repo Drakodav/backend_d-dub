{
 "metadata": {
  "language_info": {
   "codemirror_mode": {
    "name": "ipython",
    "version": 3
   },
   "file_extension": ".py",
   "mimetype": "text/x-python",
   "name": "python",
   "nbconvert_exporter": "python",
   "pygments_lexer": "ipython3",
   "version": "3.8.0-final"
  },
  "orig_nbformat": 2,
  "kernelspec": {
   "name": "denv",
   "display_name": "denv",
   "language": "python"
  }
 },
 "nbformat": 4,
 "nbformat_minor": 2,
 "cells": [
  {
   "cell_type": "code",
   "execution_count": 18,
   "metadata": {},
   "outputs": [],
   "source": [
    "%matplotlib inline\n",
    "\n",
    "import os\n",
    "import numpy as np\n",
    "import pandas as pd\n",
    "from pathlib import Path\n",
    "import matplotlib.pyplot as plt\n",
    "import seaborn as sns\n",
    "import zipfile\n",
    "from google.transit import gtfs_realtime_pb2\n",
    "from google.protobuf.json_format import Parse, MessageToJson\n",
    "import json\n",
    "import psycopg2\n",
    "import time\n",
    "from django.contrib.gis.geos import Point, fromstr, GEOSGeometry\n",
    "from datetime import datetime, timedelta\n",
    "import geopandas as gpd\n",
    "import rtree\n",
    "import vaex\n",
    "import vaex.ml\n",
    "from joblib import delayed, Parallel, load, parallel_backend\n",
    "from util import direction_angle, apply_dow, get_dt, get_conn, vaex_mjoin, find_trip_regex\n",
    "# from haversine import haversine, Unit\n",
    "\n",
    "dir = Path.cwd()\n",
    "dir = os.path.join(dir, '../')\n",
    "outdir = os.path.join(dir, 'output')\n",
    "gtfs_records_zip = os.path.join(dir, \"data\", \"GtfsRRecords.zip\")\n",
    "gtfs_csv_zip = os.path.join(outdir, \"gtfsr_csv.zip\")\n",
    "gtfs_final_csv_path = os.path.join(outdir, \"gtfsr.csv\")\n",
    "gtfs_processed_path = os.path.join(outdir, \"gtfsr_processed.hdf5\")\n",
    "scats_model_path = os.path.join(outdir, \"scats_model.json\")\n",
    "gtfsr_processing_temp = os.path.join(outdir, \"processing_temp.hdf5\")\n",
    "gtfsr_arrival_means = os.path.join(outdir, \"gtfsr_historical_means.hdf5\")\n",
    "stop_time_data_path = os.path.join(outdir, 'stop_time_data.hdf5')\n",
    "gtfs_final_hdf5_path = os.path.join(outdir, \"gtfsr.csv.hdf5\")\n",
    "\n",
    "entity_cols = [\n",
    "    \"trip_id\",\n",
    "    \"start_date\",\n",
    "    \"start_time\",\n",
    "    \"stop_sequence\",\n",
    "    \"departure\",\n",
    "    \"arrival\",\n",
    "    \"timestamp\",\n",
    "    \"stop_id\",\n",
    "]"
   ]
  },
  {
   "cell_type": "code",
   "execution_count": 6,
   "metadata": {},
   "outputs": [
    {
     "output_type": "execute_result",
     "data": {
      "text/html": "<table>\n<thead>\n<tr><th>#                            </th><th>trip_id                  </th><th style=\"text-align: right;\">  start_date</th><th>start_time  </th><th style=\"text-align: right;\">  stop_sequence</th><th style=\"text-align: right;\">  arrival</th><th>timestamp          </th><th>stop_id     </th><th>arrival_time  </th><th style=\"text-align: right;\">  shape_dist_traveled</th><th style=\"text-align: right;\">  direction</th><th>route_id    </th><th style=\"text-align: right;\">    lat</th><th style=\"text-align: right;\">     lon</th><th style=\"text-align: right;\">  direction_angle</th><th style=\"text-align: right;\">  shape_dist_between</th><th style=\"text-align: right;\">  arr_dow</th><th style=\"text-align: right;\">  arr_hour</th><th style=\"text-align: right;\">  arrival_mean</th><th style=\"text-align: right;\">  p_mean_vol</th></tr>\n</thead>\n<tbody>\n<tr><td><i style='opacity: 0.6'>0</i></td><td>19389.1.60-155-d12-1.89.O</td><td style=\"text-align: right;\"> 2.02103e+07</td><td>19:20:00    </td><td style=\"text-align: right;\">             24</td><td style=\"text-align: right;\">        5</td><td>2021-03-02 19:51:26</td><td>8220DB000264</td><td>19:38:38      </td><td style=\"text-align: right;\">              7818.16</td><td style=\"text-align: right;\">          0</td><td>60-155-d12-1</td><td style=\"text-align: right;\">53.3535</td><td style=\"text-align: right;\">-6.26226</td><td style=\"text-align: right;\">          139.315</td><td style=\"text-align: right;\">               518.6</td><td style=\"text-align: right;\">        1</td><td style=\"text-align: right;\">        19</td><td style=\"text-align: right;\">             6</td><td style=\"text-align: right;\">     68.5386</td></tr>\n</tbody>\n</table>",
      "text/plain": [
       "  #  trip_id                      start_date  start_time      stop_sequence    arrival  timestamp            stop_id       arrival_time      shape_dist_traveled    direction  route_id          lat       lon    direction_angle    shape_dist_between    arr_dow    arr_hour    arrival_mean    p_mean_vol\n",
       "  0  19389.1.60-155-d12-1.89.O   2.02103e+07  19:20:00                   24          5  2021-03-02 19:51:26  8220DB000264  19:38:38                      7818.16            0  60-155-d12-1  53.3535  -6.26226            139.315                 518.6          1          19               6       68.5386"
      ]
     },
     "metadata": {},
     "execution_count": 6
    }
   ],
   "source": [
    "live_df = vaex.open(os.path.join(outdir, 'deploy_gtfsr.hdf5'))\n",
    "live_df"
   ]
  },
  {
   "cell_type": "code",
   "execution_count": 7,
   "metadata": {},
   "outputs": [],
   "source": [
    "# vaex.open(os.path.join(outdir, 'gtfsr_model.hdf5'))"
   ]
  },
  {
   "cell_type": "code",
   "execution_count": 9,
   "metadata": {},
   "outputs": [],
   "source": [
    "# live_df.state_load(os.path.join(outdir, 'gtfsr_model.json'))"
   ]
  },
  {
   "cell_type": "code",
   "execution_count": 2,
   "metadata": {},
   "outputs": [
    {
     "output_type": "execute_result",
     "data": {
      "text/plain": [
       "'2021-03-04 16:43:34.367100'"
      ]
     },
     "metadata": {},
     "execution_count": 2
    }
   ],
   "source": [
    "str(datetime.now())"
   ]
  },
  {
   "cell_type": "code",
   "execution_count": 10,
   "metadata": {},
   "outputs": [],
   "source": [
    "from pandas import array\n",
    "\n",
    "model_df = vaex.from_dict(\n",
    "    {\n",
    "        \"trip_id\": array([\"19389.1.60-155-d12-1.89.O\"], dtype=object),\n",
    "        \"start_date\": array([20210302]),\n",
    "        \"start_time\": array([\"19:20:00\"], dtype=object),\n",
    "        \"stop_sequence\": array([24]),\n",
    "        \"arrival\": array([5.0]),\n",
    "        \"timestamp\": array([\"2021-03-02 19:51:26\"], dtype=object),\n",
    "        \"stop_id\": array([\"8220DB000264\"], dtype=object),\n",
    "        \"arrival_time\": array([\"19:38:38\"], dtype=object),\n",
    "        \"shape_dist_traveled\": array([7818.16]),\n",
    "        \"direction\": array([\"0\"], dtype=object),\n",
    "        \"route_id\": array([\"60-155-d12-1\"], dtype=object),\n",
    "        \"lat\": array([53.3535353]),\n",
    "        \"lon\": array([-6.26225863]),\n",
    "        \"direction_angle\": array([139.31470635]),\n",
    "        \"shape_dist_between\": array([518.6]),\n",
    "        \"arr_dow\": array([1]),\n",
    "        \"arr_hour\": array([19]),\n",
    "        \"arrival_mean\": array([6.0]),\n",
    "        \"p_mean_vol\": array([68.53864425]),\n",
    "    }\n",
    ")\n",
    "# model_df.state_load(gtfsr_model_path)\n",
    "# model_state = model_df.state_get()"
   ]
  },
  {
   "cell_type": "code",
   "execution_count": 11,
   "metadata": {},
   "outputs": [],
   "source": [
    "import io\n",
    "\n",
    "path = os.path.join(outdir, \"gtfsr_model.json\")\n",
    "f = open(path, 'r')\n",
    "\n",
    "# df.state_load(path)\n",
    "# tmp = io.StringIO(f)\n",
    "# tmp.read()\n",
    "# df = vaex.open(tmp)\n",
    "# df"
   ]
  },
  {
   "cell_type": "code",
   "execution_count": 80,
   "metadata": {},
   "outputs": [
    {
     "output_type": "execute_result",
     "data": {
      "text/html": "<table>\n<thead>\n<tr><th>#                            </th><th>trip_id                  </th><th style=\"text-align: right;\">  start_date</th><th>start_time  </th><th style=\"text-align: right;\">  stop_sequence</th><th style=\"text-align: right;\">  arrival</th><th>timestamp          </th><th>stop_id     </th><th>arrival_time  </th><th>departure_time  </th><th style=\"text-align: right;\">  shape_dist_traveled</th><th style=\"text-align: right;\">  direction</th><th>route_id    </th><th style=\"text-align: right;\">    lat</th><th style=\"text-align: right;\">     lon</th><th style=\"text-align: right;\">  direction_angle</th><th style=\"text-align: right;\">  shape_dist_between</th><th style=\"text-align: right;\">  arrival_mean</th><th style=\"text-align: right;\">  p_mean_vol</th><th style=\"text-align: right;\">  arr_dow</th><th style=\"text-align: right;\">  arr_hour</th></tr>\n</thead>\n<tbody>\n<tr><td><i style='opacity: 0.6'>0</i></td><td>19389.1.60-155-d12-1.89.O</td><td style=\"text-align: right;\"> 2.02103e+07</td><td>19:20:00    </td><td style=\"text-align: right;\">             24</td><td style=\"text-align: right;\">        5</td><td>2021-03-02 19:51:26</td><td>8220DB000264</td><td>19:38:38      </td><td>19:38:38        </td><td style=\"text-align: right;\">              7818.16</td><td style=\"text-align: right;\">          0</td><td>60-155-d12-1</td><td style=\"text-align: right;\">53.3535</td><td style=\"text-align: right;\">-6.26226</td><td style=\"text-align: right;\">          139.315</td><td style=\"text-align: right;\">               518.6</td><td style=\"text-align: right;\">             6</td><td style=\"text-align: right;\">     68.5386</td><td style=\"text-align: right;\">        1</td><td style=\"text-align: right;\">        19</td></tr>\n</tbody>\n</table>",
      "text/plain": [
       "  #  trip_id                      start_date  start_time      stop_sequence    arrival  timestamp            stop_id       arrival_time    departure_time      shape_dist_traveled    direction  route_id          lat       lon    direction_angle    shape_dist_between    arrival_mean    p_mean_vol    arr_dow    arr_hour\n",
       "  0  19389.1.60-155-d12-1.89.O   2.02103e+07  19:20:00                   24          5  2021-03-02 19:51:26  8220DB000264  19:38:38        19:38:38                        7818.16            0  60-155-d12-1  53.3535  -6.26226            139.315                 518.6               6       68.5386          1          19"
      ]
     },
     "metadata": {},
     "execution_count": 80
    }
   ],
   "source": [
    "import vaex\n",
    "from util import vaex_mjoin, apply_dow, get_dt\n",
    "\n",
    "# converts input data into the correct format for predictions to happen.\n",
    "# !IMPORTANT LESSONS LEARNT! -> everything must be the same, in a vaex pipeline/state,\n",
    "# both datatypes must be the same for every feature, also, an expression wont be recognised when loading\n",
    "# the state on.\n",
    "st_df = vaex.open(stop_time_data_path)\n",
    "hm_df = vaex.open(gtfsr_arrival_means)\n",
    "# model = gtfsr_model_path\n",
    "\n",
    "empty = (\"\", \"\")\n",
    "\n",
    "data = {\n",
    "    \"trip_id\": array([\"19389.1.60-155-d12-1.89.O\"], dtype=object),\n",
    "    \"start_date\": array([20210302]),\n",
    "    \"start_time\": array([\"19:20:00\"], dtype=object),\n",
    "    \"stop_sequence\": array([24]),\n",
    "    \"arrival\": array([5.0]),\n",
    "    \"timestamp\": array([\"2021-03-02 19:51:26\"], dtype=object),\n",
    "    \"stop_id\": array([\"8220DB000264\"], dtype=object)\n",
    "}\n",
    "\n",
    "live_df = vaex.from_dict(data)\n",
    "\n",
    "# join stop time data, filtering improves speed by only copying relevant rows\n",
    "cols = [\"trip_id\", \"stop_sequence\", \"stop_id\", \"start_time\"]\n",
    "\n",
    "temp_df = st_df[\n",
    "        (st_df[\"trip_id\"] == data[\"trip_id\"][0])\n",
    "        & (st_df[\"stop_sequence\"] == data[\"stop_sequence\"][0])\n",
    "        & (st_df[\"stop_id\"] == data[\"stop_id\"][0])\n",
    "        & (st_df[\"start_time\"] == data[\"start_time\"][0])\n",
    "    ].copy()\n",
    "\n",
    "live_df['start_date'] = live_df['start_date'].astype('int64')\n",
    "live_df['stop_sequence'] = live_df['stop_sequence'].astype('int64')\n",
    "live_df['arrival'] = live_df['arrival'].astype('int64')\n",
    "\n",
    "live_df = vaex_mjoin(\n",
    "    live_df,\n",
    "    temp_df,\n",
    "    cols,\n",
    "    cols,\n",
    "    how=\"inner\",\n",
    ")\n",
    "\n",
    "# if not len(live_df) == 1:\n",
    "#     return empty\n",
    "\n",
    "# join the historical means to our dataset\n",
    "live_df[\"arr_dow\"] = live_df.apply(apply_dow, [\"start_date\", \"start_time\", \"arrival_time\"])\n",
    "live_df[\"arr_hour\"] = live_df[\"arrival_time\"].apply(lambda t: get_dt(t, \"%H:%M:%S\").hour)\n",
    "\n",
    "temp_df = hm_df[\n",
    "    (hm_df[\"trip_id\"] == data[\"trip_id\"][0])\n",
    "    & (hm_df[\"stop_id\"] == data[\"stop_id\"][0])\n",
    "    & (hm_df[\"arr_dow\"] == live_df[[\"arr_dow\"]][0][0])\n",
    "    & (hm_df[\"arr_hour\"] == live_df[[\"arr_hour\"]][0][0])\n",
    "]\n",
    "\n",
    "# if not len(temp_df) > 0:\n",
    "#     return empty\n",
    "\n",
    "cols = [\"trip_id\", \"stop_id\", \"arr_dow\", \"arr_hour\"]\n",
    "live_df = vaex_mjoin(\n",
    "    live_df,\n",
    "    temp_df.copy(),\n",
    "    cols,\n",
    "    cols,\n",
    "    how=\"inner\",\n",
    ")\n",
    "\n",
    "# if not len(live_df) == 1:\n",
    "#     return empty\n",
    "\n",
    "# assert same type\n",
    "live_df[\"direction\"] = live_df[\"direction\"].astype(\"int64\")\n",
    "\n",
    "# # materialize virtual columns to match model state\n",
    "live_df = live_df.materialize(\"arr_dow\")\n",
    "live_df = live_df.materialize(\"arr_hour\")\n",
    "\n",
    "live_df\n",
    "\n",
    "# try:\n",
    "#     live_df.state_set(model)\n",
    "\n",
    "#     if len(live_df) == 1:\n",
    "#         return (round(live_df[[\"p_arrival_lgbm\"]][0][0]) * 60), live_df[[\"p_arrival_lgbm\"]][0][0]\n",
    "# except:\n",
    "#     return empty\n",
    "# return empty\n",
    "\n"
   ]
  },
  {
   "cell_type": "code",
   "execution_count": 81,
   "metadata": {},
   "outputs": [
    {
     "output_type": "execute_result",
     "data": {
      "text/plain": [
       "'19389.1.60-155-d12-1.89.O'"
      ]
     },
     "metadata": {},
     "execution_count": 81
    }
   ],
   "source": [
    "'19389.1.60-155-d12-1.89.O'"
   ]
  },
  {
   "cell_type": "code",
   "execution_count": 89,
   "metadata": {},
   "outputs": [
    {
     "output_type": "stream",
     "name": "stdout",
     "text": [
      "['12953', 'y1002', '60-27-b12-1', '151', 'O']\n"
     ]
    },
    {
     "output_type": "execute_result",
     "data": {
      "text/plain": [
       "'12953.3.60-27-b12-1.151.O'"
      ]
     },
     "metadata": {},
     "execution_count": 89
    }
   ],
   "source": [
    "import re\n",
    "\n",
    "def find_trip_regex(trip_list, trip_id):\n",
    "    if not type(trip_id) == str:\n",
    "        return None\n",
    "\n",
    "    tokens = trip_id.split(\".\")\n",
    "    print(tokens)\n",
    "    if not len(tokens) == 5:\n",
    "        return None\n",
    "\n",
    "    route_id = tokens[2].split(\"-\")\n",
    "\n",
    "    if route_id[2] in [\"ga2\", \"gad\"]:\n",
    "        route_id[2] = \"ga[2|d]\"\n",
    "        tokens[2] = \"-\".join(route_id)\n",
    "    elif route_id[2] in [\"d12\", \"b12\"]:\n",
    "        route_id[2] = \"[b|d]12\"\n",
    "        tokens[2] = \"-\".join(route_id)\n",
    "\n",
    "    if 'y' in tokens[1]:\n",
    "        tokens[1] = '*'\n",
    "\n",
    "    tokens[3] = \"*\"\n",
    "\n",
    "    reg = \".\".join(tokens)\n",
    "\n",
    "    r = re.compile(reg)\n",
    "    matched_list = list(filter(r.match, trip_list))\n",
    "\n",
    "    if len(matched_list) > 0:\n",
    "        return matched_list[0]\n",
    "    else:\n",
    "        return None\n",
    "\n",
    "find_trip_regex(['12953.3.60-27-b12-1.151.O', '12953.3.60-27-d12-1.151.O'], '12953.y1002.60-27-b12-1.151.O')"
   ]
  },
  {
   "cell_type": "code",
   "execution_count": 102,
   "metadata": {},
   "outputs": [
    {
     "output_type": "execute_result",
     "data": {
      "text/html": "<table>\n<thead>\n<tr><th>#  </th><th>arrival_time  </th><th>departure_time  </th><th>stop_sequence  </th><th>shape_dist_traveled  </th><th>stop_id  </th><th>direction  </th><th>route_id  </th><th>lat  </th><th>lon  </th><th>direction_angle  </th><th>shape_dist_between  </th><th>trip_id  </th><th>start_time  </th></tr>\n</thead>\n<tbody>\n<tr><td>   </td><td>              </td><td>                </td><td>               </td><td>                     </td><td>         </td><td>           </td><td>          </td><td>     </td><td>     </td><td>                 </td><td>                    </td><td>         </td><td>            </td></tr>\n</tbody>\n</table><i>No rows to display (because of filtering).</i>",
      "text/plain": [
       "#    arrival_time    departure_time    stop_sequence    shape_dist_traveled    stop_id    direction    route_id    lat    lon    direction_angle    shape_dist_between    trip_id    start_time\n",
       "\n",
       "No rows to display (because of filtering)."
      ]
     },
     "metadata": {},
     "execution_count": 102
    }
   ],
   "source": [
    "st_df = vaex.open(stop_time_data_path)\n",
    "hm_df = vaex.open(gtfsr_arrival_means)\n",
    "\n",
    "temp_df = {'trip_id': array(['12426.3.60-151-d12-1.85.O'], dtype='<U25'), 'stop_sequence': array([9]), 'stop_id': array(['8220DB004522'], dtype='<U12'), 'start_time': array(['23:00:00'], dtype='<U8'), 'start_date': array([20210307]), 'timestamp': array(['2021-03-07 22:51:27'], dtype='<U19'), 'arrival': array([0])}\n",
    "\n",
    "t_id = '12426.3.60-151-d12-1.85.O'\n",
    "\n",
    "st_df[st_df.trip_id == t_id]\n",
    "# temp_df['trip_id'][0]"
   ]
  },
  {
   "cell_type": "code",
   "execution_count": 106,
   "metadata": {},
   "outputs": [
    {
     "output_type": "stream",
     "name": "stdout",
     "text": [
      "29048 29012\n"
     ]
    }
   ],
   "source": [
    "print(\n",
    "    len(st_df.trip_id.unique()),\n",
    "    len(hm_df.trip_id.unique()),\n",
    ")"
   ]
  }
 ]
}