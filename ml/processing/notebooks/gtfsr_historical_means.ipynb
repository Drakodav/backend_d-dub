{
 "metadata": {
  "language_info": {
   "codemirror_mode": {
    "name": "ipython",
    "version": 3
   },
   "file_extension": ".py",
   "mimetype": "text/x-python",
   "name": "python",
   "nbconvert_exporter": "python",
   "pygments_lexer": "ipython3",
   "version": "3.8.0-final"
  },
  "orig_nbformat": 2,
  "kernelspec": {
   "name": "denv",
   "display_name": "denv",
   "language": "python"
  }
 },
 "nbformat": 4,
 "nbformat_minor": 2,
 "cells": [
  {
   "cell_type": "code",
   "execution_count": 8,
   "metadata": {},
   "outputs": [],
   "source": [
    "import os\n",
    "import numpy as np\n",
    "import pandas as pd\n",
    "from pathlib import Path\n",
    "import matplotlib.pyplot as plt\n",
    "import seaborn as sns\n",
    "import psycopg2\n",
    "import time\n",
    "from django.contrib.gis.geos import Point, fromstr, GEOSGeometry\n",
    "from datetime import datetime, timedelta\n",
    "import vaex\n",
    "import vaex.ml\n",
    "from joblib import delayed, Parallel, load, parallel_backend\n",
    "\n",
    "dir = Path.cwd()\n",
    "dir = os.path.join(dir, '../')\n",
    "outdir = os.path.join(dir, 'output')\n",
    "gtfs_records_zip = os.path.join(dir, 'data', 'GtfsRRecords.zip')\n",
    "gtfs_csv_zip = os.path.join(outdir, 'gtfsr_csv.zip')\n",
    "gtfs_final_csv_path = os.path.join(outdir, 'gtfsr.csv')\n",
    "gtfs_processed_path = os.path.join(outdir, \"gtfsr_processed.hdf5\")\n",
    "scats = os.path.join(dir, 'output', 'scats_model.json')\n",
    "gtfsr_arrival_means = os.path.join(outdir, \"gtfsr_arrival_means.hdf5\")"
   ]
  },
  {
   "cell_type": "code",
   "execution_count": null,
   "metadata": {},
   "outputs": [],
   "source": [
    "df = pd.read_csv(gtfs_final_csv_path)"
   ]
  },
  {
   "cell_type": "code",
   "execution_count": null,
   "metadata": {},
   "outputs": [],
   "source": [
    "# export historical arrival means\n",
    "arr_means_df.export_hdf5('../output/arrival_means.hdf5')"
   ]
  },
  {
   "cell_type": "code",
   "execution_count": 38,
   "metadata": {},
   "outputs": [
    {
     "output_type": "execute_result",
     "data": {
      "text/plain": [
       "          arr_dow  arrival_mean\n",
       "count  681.000000    681.000000\n",
       "mean     2.525698     80.853157\n",
       "std      1.462170    195.263146\n",
       "min      0.000000   -360.000000\n",
       "25%      1.000000      0.000000\n",
       "50%      3.000000      0.000000\n",
       "75%      4.000000    150.000000\n",
       "max      4.000000   1500.000000"
      ],
      "text/html": "<div>\n<style scoped>\n    .dataframe tbody tr th:only-of-type {\n        vertical-align: middle;\n    }\n\n    .dataframe tbody tr th {\n        vertical-align: top;\n    }\n\n    .dataframe thead th {\n        text-align: right;\n    }\n</style>\n<table border=\"1\" class=\"dataframe\">\n  <thead>\n    <tr style=\"text-align: right;\">\n      <th></th>\n      <th>arr_dow</th>\n      <th>arrival_mean</th>\n    </tr>\n  </thead>\n  <tbody>\n    <tr>\n      <th>count</th>\n      <td>681.000000</td>\n      <td>681.000000</td>\n    </tr>\n    <tr>\n      <th>mean</th>\n      <td>2.525698</td>\n      <td>80.853157</td>\n    </tr>\n    <tr>\n      <th>std</th>\n      <td>1.462170</td>\n      <td>195.263146</td>\n    </tr>\n    <tr>\n      <th>min</th>\n      <td>0.000000</td>\n      <td>-360.000000</td>\n    </tr>\n    <tr>\n      <th>25%</th>\n      <td>1.000000</td>\n      <td>0.000000</td>\n    </tr>\n    <tr>\n      <th>50%</th>\n      <td>3.000000</td>\n      <td>0.000000</td>\n    </tr>\n    <tr>\n      <th>75%</th>\n      <td>4.000000</td>\n      <td>150.000000</td>\n    </tr>\n    <tr>\n      <th>max</th>\n      <td>4.000000</td>\n      <td>1500.000000</td>\n    </tr>\n  </tbody>\n</table>\n</div>"
     },
     "metadata": {},
     "execution_count": 38
    }
   ],
   "source": [
    "\n",
    "def get_dt(dt, format):\n",
    "    return datetime.strptime(str(dt), format)\n",
    "\n",
    "def apply_dow(start_date, start_time, expected_time):\n",
    "    date = get_dt(start_date, \"%Y%m%d\")\n",
    "    if get_dt(start_time, \"%H:%M:%S\") > get_dt(expected_time, \"%H:%M:%S\"):\n",
    "        return (date + timedelta(days=1)).weekday()\n",
    "    return date.weekday()\n",
    "\n",
    "df[\"arr_dow\"] = df.apply(lambda x: apply_dow(x.start_date, x.start_time, x.arrival_time), axis=1)\n",
    "\n",
    "\n",
    "# print(\"creating arrival_means...\")\n",
    "cols = [\"trip_id\", \"stop_id\", \"arr_dow\"]\n",
    "arr_means_df = df.groupby(cols) \\\n",
    "    .agg({'arrival': 'mean'}) \\\n",
    "    .rename(columns={'arrival':'arrival_mean'}) \\\n",
    "    .reset_index()\n",
    "    \n",
    "arr_means_df"
   ]
  },
  {
   "cell_type": "code",
   "execution_count": 4,
   "metadata": {},
   "outputs": [
    {
     "output_type": "execute_result",
     "data": {
      "text/html": "<table>\n<thead>\n<tr><th>#                                  </th><th>trip_id                  </th><th>stop_id     </th><th>arr_dow  </th><th>arrival_mean  </th></tr>\n</thead>\n<tbody>\n<tr><td><i style='opacity: 0.6'>0</i>      </td><td>1.10454.2-18-gad-1.12.O  </td><td>8220DB000375</td><td>3        </td><td>420.0         </td></tr>\n<tr><td><i style='opacity: 0.6'>1</i>      </td><td>1.10454.2-18-gad-1.12.O  </td><td>8220DB000414</td><td>3        </td><td>420.0         </td></tr>\n<tr><td><i style='opacity: 0.6'>2</i>      </td><td>1.10454.2-18-gad-1.12.O  </td><td>8220DB000417</td><td>3        </td><td>390.0         </td></tr>\n<tr><td><i style='opacity: 0.6'>3</i>      </td><td>1.10454.2-18-gad-1.12.O  </td><td>8220DB000779</td><td>3        </td><td>360.0         </td></tr>\n<tr><td><i style='opacity: 0.6'>4</i>      </td><td>1.10454.2-18-gad-1.12.O  </td><td>8220DB000780</td><td>3        </td><td>300.0         </td></tr>\n<tr><td>...                                </td><td>...                      </td><td>...         </td><td>...      </td><td>...           </td></tr>\n<tr><td><i style='opacity: 0.6'>667,313</i></td><td>9999.2.60-46A-b12-1.258.O</td><td>8220DB000819</td><td>5        </td><td>-30.0         </td></tr>\n<tr><td><i style='opacity: 0.6'>667,314</i></td><td>9999.2.60-46A-b12-1.258.O</td><td>8220DB000846</td><td>5        </td><td>0.0           </td></tr>\n<tr><td><i style='opacity: 0.6'>667,315</i></td><td>9999.2.60-46A-b12-1.258.O</td><td>8220DB000848</td><td>5        </td><td>-30.0         </td></tr>\n<tr><td><i style='opacity: 0.6'>667,316</i></td><td>9999.2.60-46A-b12-1.258.O</td><td>8220DB006059</td><td>5        </td><td>-60.0         </td></tr>\n<tr><td><i style='opacity: 0.6'>667,317</i></td><td>9999.2.60-46A-b12-1.258.O</td><td>8250DB002039</td><td>5        </td><td>-120.0        </td></tr>\n</tbody>\n</table>",
      "text/plain": [
       "#        trip_id                    stop_id       arr_dow    arrival_mean\n",
       "0        1.10454.2-18-gad-1.12.O    8220DB000375  3          420.0\n",
       "1        1.10454.2-18-gad-1.12.O    8220DB000414  3          420.0\n",
       "2        1.10454.2-18-gad-1.12.O    8220DB000417  3          390.0\n",
       "3        1.10454.2-18-gad-1.12.O    8220DB000779  3          360.0\n",
       "4        1.10454.2-18-gad-1.12.O    8220DB000780  3          300.0\n",
       "...      ...                        ...           ...        ...\n",
       "667,313  9999.2.60-46A-b12-1.258.O  8220DB000819  5          -30.0\n",
       "667,314  9999.2.60-46A-b12-1.258.O  8220DB000846  5          0.0\n",
       "667,315  9999.2.60-46A-b12-1.258.O  8220DB000848  5          -30.0\n",
       "667,316  9999.2.60-46A-b12-1.258.O  8220DB006059  5          -60.0\n",
       "667,317  9999.2.60-46A-b12-1.258.O  8250DB002039  5          -120.0"
      ]
     },
     "metadata": {},
     "execution_count": 4
    }
   ],
   "source": [
    "vaex.open(gtfsr_arrival_means)"
   ]
  },
  {
   "cell_type": "code",
   "execution_count": null,
   "metadata": {},
   "outputs": [],
   "source": [
    "df = vaex.open(gtfs_processed_path, convert=True)\n",
    "\n",
    "\n",
    "# join the arrival means to our dataset\n",
    "df = vaex_mjoin(df, vaex.open(gtfsr_arrival_means), cols, cols)"
   ]
  },
  {
   "cell_type": "code",
   "execution_count": 13,
   "metadata": {},
   "outputs": [
    {
     "output_type": "execute_result",
     "data": {
      "text/html": "<table>\n<thead>\n<tr><th>#                                    </th><th>trip_id                  </th><th>start_date  </th><th>start_time  </th><th>stop_sequence  </th><th>departure  </th><th>arrival  </th><th>timestamp          </th><th>stop_id     </th><th>arrival_time  </th><th>departure_time  </th><th>shape_dist_traveled  </th><th>direction  </th><th>route_id    </th><th>lat             </th><th>lon              </th><th>direction_angle    </th><th>shape_dist_between  </th><th>p_avg_vol         </th></tr>\n</thead>\n<tbody>\n<tr><td><i style='opacity: 0.6'>0</i>        </td><td>19920.4.60-33-b12-1.175.I</td><td>20210122    </td><td>09:41:00    </td><td>1              </td><td>0          </td><td>0        </td><td>2021-01-22 11:13:19</td><td>8240DB006048</td><td>09:41:00      </td><td>09:41:00        </td><td>0.0                  </td><td>1          </td><td>60-33-b12-1 </td><td>53.6045004892092</td><td>-6.18446749406744</td><td>-164.50285739144564</td><td>0.0                 </td><td>64.8747124578529  </td></tr>\n<tr><td><i style='opacity: 0.6'>1</i>        </td><td>19920.4.60-33-b12-1.175.I</td><td>20210125    </td><td>09:41:00    </td><td>1              </td><td>0          </td><td>0        </td><td>2021-01-25 09:12:01</td><td>8240DB006048</td><td>09:41:00      </td><td>09:41:00        </td><td>0.0                  </td><td>1          </td><td>60-33-b12-1 </td><td>53.6045004892092</td><td>-6.18446749406744</td><td>-164.50285739144564</td><td>0.0                 </td><td>69.63686284208207 </td></tr>\n<tr><td><i style='opacity: 0.6'>2</i>        </td><td>19920.4.60-33-b12-1.175.I</td><td>20210126    </td><td>09:41:00    </td><td>1              </td><td>0          </td><td>0        </td><td>2021-01-26 09:12:25</td><td>8240DB006048</td><td>09:41:00      </td><td>09:41:00        </td><td>0.0                  </td><td>1          </td><td>60-33-b12-1 </td><td>53.6045004892092</td><td>-6.18446749406744</td><td>-164.50285739144564</td><td>0.0                 </td><td>66.75543225511986 </td></tr>\n<tr><td><i style='opacity: 0.6'>3</i>        </td><td>19920.4.60-33-b12-1.175.I</td><td>20210127    </td><td>09:41:00    </td><td>1              </td><td>0          </td><td>0        </td><td>2021-01-27 09:11:59</td><td>8240DB006048</td><td>09:41:00      </td><td>09:41:00        </td><td>0.0                  </td><td>1          </td><td>60-33-b12-1 </td><td>53.6045004892092</td><td>-6.18446749406744</td><td>-164.50285739144564</td><td>0.0                 </td><td>65.5552113135545  </td></tr>\n<tr><td><i style='opacity: 0.6'>4</i>        </td><td>19920.4.60-33-b12-1.175.I</td><td>20210128    </td><td>09:41:00    </td><td>1              </td><td>0          </td><td>0        </td><td>2021-01-28 09:12:22</td><td>8240DB006048</td><td>09:41:00      </td><td>09:41:00        </td><td>0.0                  </td><td>1          </td><td>60-33-b12-1 </td><td>53.6045004892092</td><td>-6.18446749406744</td><td>-164.50285739144564</td><td>0.0                 </td><td>68.06247626235033 </td></tr>\n<tr><td>...                                  </td><td>...                      </td><td>...         </td><td>...         </td><td>...            </td><td>...        </td><td>...      </td><td>...                </td><td>...         </td><td>...           </td><td>...             </td><td>...                  </td><td>...        </td><td>...         </td><td>...             </td><td>...              </td><td>...                </td><td>...                 </td><td>...               </td></tr>\n<tr><td><i style='opacity: 0.6'>1,025,849</i></td><td>12640.3.60-130-b12-1.74.I</td><td>20210131    </td><td>23:30:00    </td><td>18             </td><td>1200       </td><td>1200     </td><td>2021-01-31 23:59:45</td><td>8220DB001729</td><td>23:38:34      </td><td>23:38:34        </td><td>4808.93              </td><td>1          </td><td>60-130-b12-1</td><td>53.3584969058401</td><td>-6.19031550974047</td><td>-107.23111263684194</td><td>304.8600000000006   </td><td>18.965954002092637</td></tr>\n<tr><td><i style='opacity: 0.6'>1,025,850</i></td><td>12877.3.60-44-b12-1.246.O</td><td>20210131    </td><td>23:00:00    </td><td>68             </td><td>300        </td><td>300      </td><td>2021-01-31 23:58:50</td><td>8250DB003478</td><td>23:52:11      </td><td>23:52:11        </td><td>22858.06             </td><td>0          </td><td>60-44-b12-1 </td><td>53.2390505484196</td><td>-6.19616830395543</td><td>155.4154238326518  </td><td>487.3900000000031   </td><td>5.037411138055553 </td></tr>\n<tr><td><i style='opacity: 0.6'>1,025,851</i></td><td>12750.3.60-40-b12-1.206.O</td><td>20210131    </td><td>23:00:00    </td><td>79             </td><td>120        </td><td>120      </td><td>2021-01-31 23:59:45</td><td>8230DB004690</td><td>23:57:43      </td><td>23:57:43        </td><td>28066.88             </td><td>0          </td><td>60-40-b12-1 </td><td>53.3495094392524</td><td>-6.40519639715847</td><td>-118.90642649102342</td><td>264.3100000000013   </td><td>28.85793655856444 </td></tr>\n<tr><td><i style='opacity: 0.6'>1,025,852</i></td><td>12355.3.60-37-b12-1.39.O </td><td>20210131    </td><td>23:20:00    </td><td>56             </td><td>120        </td><td>120      </td><td>2021-01-31 23:59:45</td><td>8240DB007227</td><td>23:56:18      </td><td>23:56:18        </td><td>19188.9              </td><td>0          </td><td>60-37-b12-1 </td><td>53.3837882586066</td><td>-6.4031036640899 </td><td>-67.67425709043938 </td><td>240.34000000000012  </td><td>25.439205758002338</td></tr>\n<tr><td><i style='opacity: 0.6'>1,025,853</i></td><td>12640.3.60-130-b12-1.74.I</td><td>20210131    </td><td>23:30:00    </td><td>20             </td><td>1140       </td><td>1140     </td><td>2021-01-31 23:59:45</td><td>8220DB001731</td><td>23:39:11      </td><td>23:39:11        </td><td>5252.7               </td><td>1          </td><td>60-130-b12-1</td><td>53.3590767534218</td><td>-6.19655620427261</td><td>-107.23111263684194</td><td>187.39999999999964  </td><td>23.743106728784163</td></tr>\n</tbody>\n</table>",
      "text/plain": [
       "#          trip_id                    start_date    start_time    stop_sequence    departure    arrival    timestamp            stop_id       arrival_time    departure_time    shape_dist_traveled    direction    route_id      lat               lon                direction_angle      shape_dist_between    p_avg_vol\n",
       "0          19920.4.60-33-b12-1.175.I  20210122      09:41:00      1                0            0          2021-01-22 11:13:19  8240DB006048  09:41:00        09:41:00          0.0                    1            60-33-b12-1   53.6045004892092  -6.18446749406744  -164.50285739144564  0.0                   64.8747124578529\n",
       "1          19920.4.60-33-b12-1.175.I  20210125      09:41:00      1                0            0          2021-01-25 09:12:01  8240DB006048  09:41:00        09:41:00          0.0                    1            60-33-b12-1   53.6045004892092  -6.18446749406744  -164.50285739144564  0.0                   69.63686284208207\n",
       "2          19920.4.60-33-b12-1.175.I  20210126      09:41:00      1                0            0          2021-01-26 09:12:25  8240DB006048  09:41:00        09:41:00          0.0                    1            60-33-b12-1   53.6045004892092  -6.18446749406744  -164.50285739144564  0.0                   66.75543225511986\n",
       "3          19920.4.60-33-b12-1.175.I  20210127      09:41:00      1                0            0          2021-01-27 09:11:59  8240DB006048  09:41:00        09:41:00          0.0                    1            60-33-b12-1   53.6045004892092  -6.18446749406744  -164.50285739144564  0.0                   65.5552113135545\n",
       "4          19920.4.60-33-b12-1.175.I  20210128      09:41:00      1                0            0          2021-01-28 09:12:22  8240DB006048  09:41:00        09:41:00          0.0                    1            60-33-b12-1   53.6045004892092  -6.18446749406744  -164.50285739144564  0.0                   68.06247626235033\n",
       "...        ...                        ...           ...           ...              ...          ...        ...                  ...           ...             ...               ...                    ...          ...           ...               ...                ...                  ...                   ...\n",
       "1,025,849  12640.3.60-130-b12-1.74.I  20210131      23:30:00      18               1200         1200       2021-01-31 23:59:45  8220DB001729  23:38:34        23:38:34          4808.93                1            60-130-b12-1  53.3584969058401  -6.19031550974047  -107.23111263684194  304.8600000000006     18.965954002092637\n",
       "1,025,850  12877.3.60-44-b12-1.246.O  20210131      23:00:00      68               300          300        2021-01-31 23:58:50  8250DB003478  23:52:11        23:52:11          22858.06               0            60-44-b12-1   53.2390505484196  -6.19616830395543  155.4154238326518    487.3900000000031     5.037411138055553\n",
       "1,025,851  12750.3.60-40-b12-1.206.O  20210131      23:00:00      79               120          120        2021-01-31 23:59:45  8230DB004690  23:57:43        23:57:43          28066.88               0            60-40-b12-1   53.3495094392524  -6.40519639715847  -118.90642649102342  264.3100000000013     28.85793655856444\n",
       "1,025,852  12355.3.60-37-b12-1.39.O   20210131      23:20:00      56               120          120        2021-01-31 23:59:45  8240DB007227  23:56:18        23:56:18          19188.9                0            60-37-b12-1   53.3837882586066  -6.4031036640899   -67.67425709043938   240.34000000000012    25.439205758002338\n",
       "1,025,853  12640.3.60-130-b12-1.74.I  20210131      23:30:00      20               1140         1140       2021-01-31 23:59:45  8220DB001731  23:39:11        23:39:11          5252.7                 1            60-130-b12-1  53.3590767534218  -6.19655620427261  -107.23111263684194  187.39999999999964    23.743106728784163"
      ]
     },
     "metadata": {},
     "execution_count": 13
    }
   ],
   "source": [
    "df = vaex.open(gtfs_processed_path)\n",
    "df"
   ]
  },
  {
   "cell_type": "code",
   "execution_count": 15,
   "metadata": {},
   "outputs": [
    {
     "output_type": "execute_result",
     "data": {
      "text/plain": [
       "True"
      ]
     },
     "metadata": {},
     "execution_count": 15
    }
   ],
   "source": []
  }
 ]
}