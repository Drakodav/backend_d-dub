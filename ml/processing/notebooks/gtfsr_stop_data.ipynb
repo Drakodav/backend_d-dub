{
 "metadata": {
  "language_info": {
   "codemirror_mode": {
    "name": "ipython",
    "version": 3
   },
   "file_extension": ".py",
   "mimetype": "text/x-python",
   "name": "python",
   "nbconvert_exporter": "python",
   "pygments_lexer": "ipython3",
   "version": "3.8.0-final"
  },
  "orig_nbformat": 2,
  "kernelspec": {
   "name": "denv",
   "display_name": "denv",
   "language": "python"
  }
 },
 "nbformat": 4,
 "nbformat_minor": 2,
 "cells": [
  {
   "cell_type": "code",
   "execution_count": 85,
   "metadata": {},
   "outputs": [],
   "source": [
    "%matplotlib inline\n",
    "\n",
    "import os\n",
    "import numpy as np\n",
    "import pandas as pd\n",
    "from pathlib import Path\n",
    "import matplotlib.pyplot as plt\n",
    "import seaborn as sns\n",
    "import zipfile\n",
    "from google.transit import gtfs_realtime_pb2\n",
    "from google.protobuf.json_format import Parse, MessageToJson\n",
    "import json\n",
    "import psycopg2\n",
    "import time\n",
    "from django.contrib.gis.geos import Point, fromstr, GEOSGeometry\n",
    "from datetime import datetime, timedelta\n",
    "import geopandas as gpd\n",
    "import rtree\n",
    "import vaex\n",
    "import vaex.ml\n",
    "from joblib import delayed, Parallel, load, parallel_backend\n",
    "from util import direction_angle, apply_dow, get_dt, get_conn, vaex_mjoin\n",
    "# from haversine import haversine, Unit\n",
    "\n",
    "dir = Path.cwd()\n",
    "dir = os.path.join(dir, '../')\n",
    "outdir = os.path.join(dir, 'output')\n",
    "gtfs_records_zip = os.path.join(dir, \"data\", \"GtfsRRecords.zip\")\n",
    "gtfs_csv_zip = os.path.join(outdir, \"gtfsr_csv.zip\")\n",
    "gtfs_final_csv_path = os.path.join(outdir, \"gtfsr.csv\")\n",
    "gtfs_processed_path = os.path.join(outdir, \"gtfsr_processed.hdf5\")\n",
    "scats_model_path = os.path.join(outdir, \"scats_model.json\")\n",
    "gtfsr_processing_temp = os.path.join(outdir, \"processing_temp.hdf5\")\n",
    "gtfsr_arrival_means = os.path.join(outdir, \"gtfsr_arrival_means.hdf5\")\n",
    "stop_time_data_path = os.path.join(outdir, 'stop_time_data.hdf5')\n",
    "gtfs_final_hdf5_path = os.path.join(outdir, \"gtfsr.csv.hdf5\")\n",
    "\n",
    "entity_cols = [\n",
    "    \"trip_id\",\n",
    "    \"start_date\",\n",
    "    \"start_time\",\n",
    "    \"stop_sequence\",\n",
    "    \"departure\",\n",
    "    \"arrival\",\n",
    "    \"timestamp\",\n",
    "    \"stop_id\",\n",
    "]\n"
   ]
  },
  {
   "cell_type": "code",
   "execution_count": 7,
   "metadata": {},
   "outputs": [
    {
     "output_type": "execute_result",
     "data": {
      "text/plain": [
       "   arrival_time departure_time  stop_sequence  shape_dist_traveled  \\\n",
       "0      14:00:00       14:00:00              1                 0.00   \n",
       "1      14:01:58       14:01:58              2              1096.06   \n",
       "2      14:02:18       14:02:18              3              1282.17   \n",
       "3      14:03:37       14:03:37              4              2016.78   \n",
       "4      14:04:38       14:04:38              5              2583.07   \n",
       "..          ...            ...            ...                  ...   \n",
       "85     15:23:01       15:23:01             86             29755.68   \n",
       "86     15:23:33       15:23:33             87             30031.51   \n",
       "87     15:23:59       15:23:59             88             30254.35   \n",
       "88     15:25:56       15:25:56             89             31264.42   \n",
       "89     15:28:22       15:28:22             90             32524.14   \n",
       "\n",
       "         stop_id direction     route_id        lat       lon  direction_angle  \\\n",
       "0   8230DB007229         1  60-13-b12-1  53.330089 -6.451083        63.095496   \n",
       "1   8230DB004617         1  60-13-b12-1  53.326666 -6.439452        63.095496   \n",
       "2   8230DB004555         1  60-13-b12-1  53.325029 -6.439407        63.095496   \n",
       "3   8230DB004576         1  60-13-b12-1  53.319363 -6.434300        63.095496   \n",
       "4   8230DB003418         1  60-13-b12-1  53.320033 -6.427175        63.095496   \n",
       "..           ...       ...          ...        ...       ...              ...   \n",
       "85  8220DB006238         1  60-13-b12-1  53.401192 -6.266724        63.095496   \n",
       "86  8220DB006182         1  60-13-b12-1  53.402251 -6.265357        63.095496   \n",
       "87  8220DB000322         1  60-13-b12-1  53.404255 -6.265351        63.095496   \n",
       "88  8240DB000323         1  60-13-b12-1  53.412930 -6.265449        63.095496   \n",
       "89  8240DB006234         1  60-13-b12-1  53.418077 -6.277682        63.095496   \n",
       "\n",
       "    shape_dist_between                   trip_id start_time  \n",
       "0                 0.00  11777.2.60-13-b12-1.22.I   14:00:00  \n",
       "1              1096.06  11777.2.60-13-b12-1.22.I   14:00:00  \n",
       "2               186.11  11777.2.60-13-b12-1.22.I   14:00:00  \n",
       "3               734.61  11777.2.60-13-b12-1.22.I   14:00:00  \n",
       "4               566.29  11777.2.60-13-b12-1.22.I   14:00:00  \n",
       "..                 ...                       ...        ...  \n",
       "85              749.19  11777.2.60-13-b12-1.22.I   14:00:00  \n",
       "86              275.83  11777.2.60-13-b12-1.22.I   14:00:00  \n",
       "87              222.84  11777.2.60-13-b12-1.22.I   14:00:00  \n",
       "88             1010.07  11777.2.60-13-b12-1.22.I   14:00:00  \n",
       "89             1259.72  11777.2.60-13-b12-1.22.I   14:00:00  \n",
       "\n",
       "[90 rows x 13 columns]"
      ],
      "text/html": "<div>\n<style scoped>\n    .dataframe tbody tr th:only-of-type {\n        vertical-align: middle;\n    }\n\n    .dataframe tbody tr th {\n        vertical-align: top;\n    }\n\n    .dataframe thead th {\n        text-align: right;\n    }\n</style>\n<table border=\"1\" class=\"dataframe\">\n  <thead>\n    <tr style=\"text-align: right;\">\n      <th></th>\n      <th>arrival_time</th>\n      <th>departure_time</th>\n      <th>stop_sequence</th>\n      <th>shape_dist_traveled</th>\n      <th>stop_id</th>\n      <th>direction</th>\n      <th>route_id</th>\n      <th>lat</th>\n      <th>lon</th>\n      <th>direction_angle</th>\n      <th>shape_dist_between</th>\n      <th>trip_id</th>\n      <th>start_time</th>\n    </tr>\n  </thead>\n  <tbody>\n    <tr>\n      <th>0</th>\n      <td>14:00:00</td>\n      <td>14:00:00</td>\n      <td>1</td>\n      <td>0.00</td>\n      <td>8230DB007229</td>\n      <td>1</td>\n      <td>60-13-b12-1</td>\n      <td>53.330089</td>\n      <td>-6.451083</td>\n      <td>63.095496</td>\n      <td>0.00</td>\n      <td>11777.2.60-13-b12-1.22.I</td>\n      <td>14:00:00</td>\n    </tr>\n    <tr>\n      <th>1</th>\n      <td>14:01:58</td>\n      <td>14:01:58</td>\n      <td>2</td>\n      <td>1096.06</td>\n      <td>8230DB004617</td>\n      <td>1</td>\n      <td>60-13-b12-1</td>\n      <td>53.326666</td>\n      <td>-6.439452</td>\n      <td>63.095496</td>\n      <td>1096.06</td>\n      <td>11777.2.60-13-b12-1.22.I</td>\n      <td>14:00:00</td>\n    </tr>\n    <tr>\n      <th>2</th>\n      <td>14:02:18</td>\n      <td>14:02:18</td>\n      <td>3</td>\n      <td>1282.17</td>\n      <td>8230DB004555</td>\n      <td>1</td>\n      <td>60-13-b12-1</td>\n      <td>53.325029</td>\n      <td>-6.439407</td>\n      <td>63.095496</td>\n      <td>186.11</td>\n      <td>11777.2.60-13-b12-1.22.I</td>\n      <td>14:00:00</td>\n    </tr>\n    <tr>\n      <th>3</th>\n      <td>14:03:37</td>\n      <td>14:03:37</td>\n      <td>4</td>\n      <td>2016.78</td>\n      <td>8230DB004576</td>\n      <td>1</td>\n      <td>60-13-b12-1</td>\n      <td>53.319363</td>\n      <td>-6.434300</td>\n      <td>63.095496</td>\n      <td>734.61</td>\n      <td>11777.2.60-13-b12-1.22.I</td>\n      <td>14:00:00</td>\n    </tr>\n    <tr>\n      <th>4</th>\n      <td>14:04:38</td>\n      <td>14:04:38</td>\n      <td>5</td>\n      <td>2583.07</td>\n      <td>8230DB003418</td>\n      <td>1</td>\n      <td>60-13-b12-1</td>\n      <td>53.320033</td>\n      <td>-6.427175</td>\n      <td>63.095496</td>\n      <td>566.29</td>\n      <td>11777.2.60-13-b12-1.22.I</td>\n      <td>14:00:00</td>\n    </tr>\n    <tr>\n      <th>...</th>\n      <td>...</td>\n      <td>...</td>\n      <td>...</td>\n      <td>...</td>\n      <td>...</td>\n      <td>...</td>\n      <td>...</td>\n      <td>...</td>\n      <td>...</td>\n      <td>...</td>\n      <td>...</td>\n      <td>...</td>\n      <td>...</td>\n    </tr>\n    <tr>\n      <th>85</th>\n      <td>15:23:01</td>\n      <td>15:23:01</td>\n      <td>86</td>\n      <td>29755.68</td>\n      <td>8220DB006238</td>\n      <td>1</td>\n      <td>60-13-b12-1</td>\n      <td>53.401192</td>\n      <td>-6.266724</td>\n      <td>63.095496</td>\n      <td>749.19</td>\n      <td>11777.2.60-13-b12-1.22.I</td>\n      <td>14:00:00</td>\n    </tr>\n    <tr>\n      <th>86</th>\n      <td>15:23:33</td>\n      <td>15:23:33</td>\n      <td>87</td>\n      <td>30031.51</td>\n      <td>8220DB006182</td>\n      <td>1</td>\n      <td>60-13-b12-1</td>\n      <td>53.402251</td>\n      <td>-6.265357</td>\n      <td>63.095496</td>\n      <td>275.83</td>\n      <td>11777.2.60-13-b12-1.22.I</td>\n      <td>14:00:00</td>\n    </tr>\n    <tr>\n      <th>87</th>\n      <td>15:23:59</td>\n      <td>15:23:59</td>\n      <td>88</td>\n      <td>30254.35</td>\n      <td>8220DB000322</td>\n      <td>1</td>\n      <td>60-13-b12-1</td>\n      <td>53.404255</td>\n      <td>-6.265351</td>\n      <td>63.095496</td>\n      <td>222.84</td>\n      <td>11777.2.60-13-b12-1.22.I</td>\n      <td>14:00:00</td>\n    </tr>\n    <tr>\n      <th>88</th>\n      <td>15:25:56</td>\n      <td>15:25:56</td>\n      <td>89</td>\n      <td>31264.42</td>\n      <td>8240DB000323</td>\n      <td>1</td>\n      <td>60-13-b12-1</td>\n      <td>53.412930</td>\n      <td>-6.265449</td>\n      <td>63.095496</td>\n      <td>1010.07</td>\n      <td>11777.2.60-13-b12-1.22.I</td>\n      <td>14:00:00</td>\n    </tr>\n    <tr>\n      <th>89</th>\n      <td>15:28:22</td>\n      <td>15:28:22</td>\n      <td>90</td>\n      <td>32524.14</td>\n      <td>8240DB006234</td>\n      <td>1</td>\n      <td>60-13-b12-1</td>\n      <td>53.418077</td>\n      <td>-6.277682</td>\n      <td>63.095496</td>\n      <td>1259.72</td>\n      <td>11777.2.60-13-b12-1.22.I</td>\n      <td>14:00:00</td>\n    </tr>\n  </tbody>\n</table>\n<p>90 rows × 13 columns</p>\n</div>"
     },
     "metadata": {},
     "execution_count": 7
    }
   ],
   "source": [
    "# get the stop time, stop and trip data for each trip\n",
    "def get_stop_time_df(trip_id, conn):\n",
    "    query = \"\"\"\n",
    "    select \n",
    "        stop_time.arrival_time, stop_time.departure_time,\n",
    "        stop_time.stop_sequence, stop_time.shape_dist_traveled, \n",
    "        stop.stop_id, stop.point as geom,\n",
    "        trip.direction, route.route_id\n",
    "    from stop_time\n",
    "    join stop on stop.id = stop_time.stop_id\n",
    "    join trip on trip.id = stop_time.trip_id\n",
    "    join route on trip.route_id = route.id\n",
    "    where trip.trip_id = '{}'\n",
    "    group by stop_time.id, stop.id, trip.id, route.id\n",
    "    order by stop_sequence\n",
    "    ;\n",
    "    \"\"\".format(\n",
    "        trip_id\n",
    "    ).lstrip()\n",
    "\n",
    "    gdf = gpd.read_postgis(query, conn())\n",
    "\n",
    "    # convert the times to human readable format, !IMPORTANT! utcfromtimestamp returns the correct version\n",
    "    gdf[\"arrival_time\"] = gdf[\"arrival_time\"].apply(lambda d: datetime.utcfromtimestamp(d).strftime(\"%H:%M:%S\"))\n",
    "    gdf[\"departure_time\"] = gdf[\"departure_time\"].apply(lambda d: datetime.utcfromtimestamp(d).strftime(\"%H:%M:%S\"))\n",
    "\n",
    "    # convert the geom to lat lon\n",
    "    gdf[\"lat\"] = gdf.apply(lambda row: row[\"geom\"].y, axis=1)\n",
    "    gdf[\"lon\"] = gdf.apply(lambda row: row[\"geom\"].x, axis=1)\n",
    "\n",
    "    # find the direction angle of the trip\n",
    "    gdf[\"direction_angle\"] = direction_angle(gdf.iloc[0].lon, gdf.iloc[0].lat, gdf.iloc[-1].lon, gdf.iloc[-1].lat)\n",
    "\n",
    "    # calculate the point distance between each stop and shape dist between them\n",
    "    gdf[\"shape_dist_between\"] = gdf.shape_dist_traveled - gdf.shape_dist_traveled.shift()\n",
    "\n",
    "    gdf[\"trip_id\"] = trip_id  # set the trip id, no need to fetch from db\n",
    "    gdf[\"start_time\"] = gdf[\"arrival_time\"].iloc[0]  # set the start time to the first instance of arrival time\n",
    "    gdf = gdf.fillna(0)  # first will always be NA, set to 0\n",
    "\n",
    "    # return a new pandas df dropping the geom column\n",
    "    return pd.DataFrame(gdf.drop(columns=\"geom\"))\n",
    "get_stop_time_df('11777.2.60-13-b12-1.22.I', get_conn)"
   ]
  },
  {
   "cell_type": "code",
   "execution_count": 24,
   "metadata": {},
   "outputs": [],
   "source": [
    "# df = pd.read_csv(gtfs_final_csv_path)  # read csv\n",
    "\n",
    "# # dropping duplicates\n",
    "# df = df.drop_duplicates(subset=entity_cols[:5])\n",
    "\n",
    "# vaex.from_pandas(df).export_hdf5(gtfsr_processing_temp)\n",
    "# del [df]"
   ]
  },
  {
   "cell_type": "code",
   "execution_count": 8,
   "metadata": {},
   "outputs": [
    {
     "output_type": "stream",
     "name": "stdout",
     "text": [
      "*** adding stop data ***\n"
     ]
    },
    {
     "output_type": "execute_result",
     "data": {
      "text/html": "<table>\n<thead>\n<tr><th>#                              </th><th>arrival_time  </th><th>departure_time  </th><th>stop_sequence  </th><th>shape_dist_traveled  </th><th>stop_id     </th><th>direction  </th><th>route_id   </th><th>lat             </th><th>lon              </th><th>direction_angle    </th><th>shape_dist_between  </th><th>trip_id                 </th><th>start_time  </th></tr>\n</thead>\n<tbody>\n<tr><td><i style='opacity: 0.6'>0</i>  </td><td>14:00:00      </td><td>14:00:00        </td><td>1              </td><td>0.0                  </td><td>8230DB007229</td><td>1          </td><td>60-13-b12-1</td><td>53.3300889307077</td><td>-6.45108278609524</td><td>63.09549602776408  </td><td>0.0                 </td><td>11777.2.60-13-b12-1.22.I</td><td>14:00:00    </td></tr>\n<tr><td><i style='opacity: 0.6'>1</i>  </td><td>14:01:58      </td><td>14:01:58        </td><td>2              </td><td>1096.06              </td><td>8230DB004617</td><td>1          </td><td>60-13-b12-1</td><td>53.3266657523699</td><td>-6.43945187383431</td><td>63.09549602776408  </td><td>1096.06             </td><td>11777.2.60-13-b12-1.22.I</td><td>14:00:00    </td></tr>\n<tr><td><i style='opacity: 0.6'>2</i>  </td><td>14:02:18      </td><td>14:02:18        </td><td>3              </td><td>1282.17              </td><td>8230DB004555</td><td>1          </td><td>60-13-b12-1</td><td>53.3250293591832</td><td>-6.4394065107057 </td><td>63.09549602776408  </td><td>186.11000000000013  </td><td>11777.2.60-13-b12-1.22.I</td><td>14:00:00    </td></tr>\n<tr><td><i style='opacity: 0.6'>3</i>  </td><td>14:03:37      </td><td>14:03:37        </td><td>4              </td><td>2016.78              </td><td>8230DB004576</td><td>1          </td><td>60-13-b12-1</td><td>53.3193629651012</td><td>-6.43429969561639</td><td>63.09549602776408  </td><td>734.6099999999999   </td><td>11777.2.60-13-b12-1.22.I</td><td>14:00:00    </td></tr>\n<tr><td><i style='opacity: 0.6'>4</i>  </td><td>14:04:38      </td><td>14:04:38        </td><td>5              </td><td>2583.07              </td><td>8230DB003418</td><td>1          </td><td>60-13-b12-1</td><td>53.3200332113251</td><td>-6.42717525248251</td><td>63.09549602776408  </td><td>566.2900000000002   </td><td>11777.2.60-13-b12-1.22.I</td><td>14:00:00    </td></tr>\n<tr><td>...                            </td><td>...           </td><td>...             </td><td>...            </td><td>...                  </td><td>...         </td><td>...        </td><td>...        </td><td>...             </td><td>...              </td><td>...                </td><td>...                 </td><td>...                     </td><td>...         </td></tr>\n<tr><td><i style='opacity: 0.6'>807</i></td><td>15:54:38      </td><td>15:54:38        </td><td>66             </td><td>20877.32             </td><td>8230DB004869</td><td>0          </td><td>60-15-b12-1</td><td>53.2791145416749</td><td>-6.31875650653983</td><td>-126.28881488258797</td><td>419.4399999999987   </td><td>11023.2.60-15-b12-1.32.O</td><td>14:45:00    </td></tr>\n<tr><td><i style='opacity: 0.6'>808</i></td><td>15:56:23      </td><td>15:56:23        </td><td>67             </td><td>21688.96             </td><td>8230DB004870</td><td>0          </td><td>60-15-b12-1</td><td>53.2766673916987</td><td>-6.33009910271138</td><td>-126.28881488258797</td><td>811.6399999999994   </td><td>11023.2.60-15-b12-1.32.O</td><td>14:45:00    </td></tr>\n<tr><td><i style='opacity: 0.6'>809</i></td><td>15:56:52      </td><td>15:56:52        </td><td>68             </td><td>21825.05             </td><td>8230DB003007</td><td>0          </td><td>60-15-b12-1</td><td>53.2759174587528</td><td>-6.33110302091162</td><td>-126.28881488258797</td><td>136.09000000000015  </td><td>11023.2.60-15-b12-1.32.O</td><td>14:45:00    </td></tr>\n<tr><td><i style='opacity: 0.6'>810</i></td><td>15:58:25      </td><td>15:58:25        </td><td>69             </td><td>22258.95             </td><td>8230DB006283</td><td>0          </td><td>60-15-b12-1</td><td>53.2723344985629</td><td>-6.32941334986016</td><td>-126.28881488258797</td><td>433.90000000000146  </td><td>11023.2.60-15-b12-1.32.O</td><td>14:45:00    </td></tr>\n<tr><td><i style='opacity: 0.6'>811</i></td><td>15:59:45      </td><td>15:59:45        </td><td>70             </td><td>22340.21             </td><td>8230DB006282</td><td>0          </td><td>60-15-b12-1</td><td>53.2716360704549</td><td>-6.32896078879625</td><td>-126.28881488258797</td><td>81.2599999999984    </td><td>11023.2.60-15-b12-1.32.O</td><td>14:45:00    </td></tr>\n</tbody>\n</table>",
      "text/plain": [
       "#    arrival_time    departure_time    stop_sequence    shape_dist_traveled    stop_id       direction    route_id     lat               lon                direction_angle      shape_dist_between    trip_id                   start_time\n",
       "0    14:00:00        14:00:00          1                0.0                    8230DB007229  1            60-13-b12-1  53.3300889307077  -6.45108278609524  63.09549602776408    0.0                   11777.2.60-13-b12-1.22.I  14:00:00\n",
       "1    14:01:58        14:01:58          2                1096.06                8230DB004617  1            60-13-b12-1  53.3266657523699  -6.43945187383431  63.09549602776408    1096.06               11777.2.60-13-b12-1.22.I  14:00:00\n",
       "2    14:02:18        14:02:18          3                1282.17                8230DB004555  1            60-13-b12-1  53.3250293591832  -6.4394065107057   63.09549602776408    186.11000000000013    11777.2.60-13-b12-1.22.I  14:00:00\n",
       "3    14:03:37        14:03:37          4                2016.78                8230DB004576  1            60-13-b12-1  53.3193629651012  -6.43429969561639  63.09549602776408    734.6099999999999     11777.2.60-13-b12-1.22.I  14:00:00\n",
       "4    14:04:38        14:04:38          5                2583.07                8230DB003418  1            60-13-b12-1  53.3200332113251  -6.42717525248251  63.09549602776408    566.2900000000002     11777.2.60-13-b12-1.22.I  14:00:00\n",
       "...  ...             ...               ...              ...                    ...           ...          ...          ...               ...                ...                  ...                   ...                       ...\n",
       "807  15:54:38        15:54:38          66               20877.32               8230DB004869  0            60-15-b12-1  53.2791145416749  -6.31875650653983  -126.28881488258797  419.4399999999987     11023.2.60-15-b12-1.32.O  14:45:00\n",
       "808  15:56:23        15:56:23          67               21688.96               8230DB004870  0            60-15-b12-1  53.2766673916987  -6.33009910271138  -126.28881488258797  811.6399999999994     11023.2.60-15-b12-1.32.O  14:45:00\n",
       "809  15:56:52        15:56:52          68               21825.05               8230DB003007  0            60-15-b12-1  53.2759174587528  -6.33110302091162  -126.28881488258797  136.09000000000015    11023.2.60-15-b12-1.32.O  14:45:00\n",
       "810  15:58:25        15:58:25          69               22258.95               8230DB006283  0            60-15-b12-1  53.2723344985629  -6.32941334986016  -126.28881488258797  433.90000000000146    11023.2.60-15-b12-1.32.O  14:45:00\n",
       "811  15:59:45        15:59:45          70               22340.21               8230DB006282  0            60-15-b12-1  53.2716360704549  -6.32896078879625  -126.28881488258797  81.2599999999984      11023.2.60-15-b12-1.32.O  14:45:00"
      ]
     },
     "metadata": {},
     "execution_count": 8
    }
   ],
   "source": [
    "# create a df with stop data and export to hdf5\n",
    "print(\"*** adding stop data ***\")\n",
    "df = vaex.open(gtfs_final_hdf5_path)  # read csv\n",
    "\n",
    "trip_list = df[\"trip_id\"].unique()\n",
    "delayed_funcs = [delayed(get_stop_time_df)(t_id, get_conn) for t_id in trip_list[:10]]\n",
    "parallel_pool = Parallel(n_jobs=8)\n",
    "\n",
    "res = parallel_pool(delayed_funcs)\n",
    "\n",
    "stop_time_trip_df = vaex.from_pandas(pd.concat(res))\n",
    "stop_time_trip_df\n"
   ]
  },
  {
   "cell_type": "code",
   "execution_count": 72,
   "metadata": {},
   "outputs": [],
   "source": [
    "t_list = df.trip_id.unique()"
   ]
  },
  {
   "cell_type": "code",
   "execution_count": 78,
   "metadata": {},
   "outputs": [
    {
     "output_type": "execute_result",
     "data": {
      "text/plain": [
       "[]"
      ]
     },
     "metadata": {},
     "execution_count": 78
    }
   ],
   "source": [
    "[i for i, val in enumerate(t_list) if val == None]"
   ]
  },
  {
   "cell_type": "code",
   "execution_count": 5,
   "metadata": {},
   "outputs": [],
   "source": [
    "stop_time_trip_df.export_hdf5(stop_time_data_path)"
   ]
  },
  {
   "cell_type": "code",
   "execution_count": 6,
   "metadata": {},
   "outputs": [
    {
     "output_type": "execute_result",
     "data": {
      "text/html": "<table>\n<thead>\n<tr><th>#                                    </th><th>trip_id                  </th><th>start_date  </th><th>start_time  </th><th>stop_sequence  </th><th>departure  </th><th>arrival  </th><th>timestamp          </th><th>stop_id     </th><th>arrival_time  </th><th>departure_time  </th><th>shape_dist_traveled  </th><th>direction  </th><th>route_id  </th><th>lat  </th><th>lon  </th><th>direction_angle  </th><th>shape_dist_between  </th></tr>\n</thead>\n<tbody>\n<tr><td><i style='opacity: 0.6'>0</i>        </td><td>11777.2.60-13-b12-1.22.I </td><td>20210109    </td><td>18:00:00    </td><td>1              </td><td>0          </td><td>0        </td><td>2021-01-09 19:28:02</td><td>8230DB007229</td><td>--            </td><td>--              </td><td>--                   </td><td>--         </td><td>--        </td><td>--   </td><td>--   </td><td>--               </td><td>--                  </td></tr>\n<tr><td><i style='opacity: 0.6'>1</i>        </td><td>11379.2.60-13-b12-1.19.O </td><td>20210109    </td><td>18:00:00    </td><td>1              </td><td>0          </td><td>0        </td><td>2021-01-09 19:28:02</td><td>8240DB000324</td><td>--            </td><td>--              </td><td>--                   </td><td>--         </td><td>--        </td><td>--   </td><td>--   </td><td>--               </td><td>--                  </td></tr>\n<tr><td><i style='opacity: 0.6'>2</i>        </td><td>8111.2.60-27-b12-1.151.O </td><td>20210109    </td><td>18:10:00    </td><td>1              </td><td>0          </td><td>0        </td><td>2021-01-09 19:28:02</td><td>8220DB004595</td><td>--            </td><td>--              </td><td>--                   </td><td>--         </td><td>--        </td><td>--   </td><td>--   </td><td>--               </td><td>--                  </td></tr>\n<tr><td><i style='opacity: 0.6'>3</i>        </td><td>7705.2.60-40-b12-1.206.O </td><td>20210109    </td><td>18:10:00    </td><td>1              </td><td>0          </td><td>0        </td><td>2021-01-09 19:28:02</td><td>8240DB007132</td><td>--            </td><td>--              </td><td>--                   </td><td>--         </td><td>--        </td><td>--   </td><td>--   </td><td>--               </td><td>--                  </td></tr>\n<tr><td><i style='opacity: 0.6'>4</i>        </td><td>7751.2.60-40-b12-1.209.I </td><td>20210109    </td><td>18:10:00    </td><td>1              </td><td>0          </td><td>0        </td><td>2021-01-09 19:28:02</td><td>8230DB004795</td><td>--            </td><td>--              </td><td>--                   </td><td>--         </td><td>--        </td><td>--   </td><td>--   </td><td>--               </td><td>--                  </td></tr>\n<tr><td>...                                  </td><td>...                      </td><td>...         </td><td>...         </td><td>...            </td><td>...        </td><td>...      </td><td>...                </td><td>...         </td><td>...           </td><td>...             </td><td>...                  </td><td>...        </td><td>...       </td><td>...  </td><td>...  </td><td>...              </td><td>...                 </td></tr>\n<tr><td><i style='opacity: 0.6'>1,168,494</i></td><td>12640.3.60-130-b12-1.74.I</td><td>20210131    </td><td>23:30:00    </td><td>18             </td><td>1140       </td><td>1140     </td><td>2021-01-31 23:58:50</td><td>8220DB001729</td><td>--            </td><td>--              </td><td>--                   </td><td>--         </td><td>--        </td><td>--   </td><td>--   </td><td>--               </td><td>--                  </td></tr>\n<tr><td><i style='opacity: 0.6'>1,168,495</i></td><td>12750.3.60-40-b12-1.206.O</td><td>20210131    </td><td>23:00:00    </td><td>79             </td><td>120        </td><td>120      </td><td>2021-01-31 23:59:45</td><td>8230DB004690</td><td>--            </td><td>--              </td><td>--                   </td><td>--         </td><td>--        </td><td>--   </td><td>--   </td><td>--               </td><td>--                  </td></tr>\n<tr><td><i style='opacity: 0.6'>1,168,496</i></td><td>12355.3.60-37-b12-1.39.O </td><td>20210131    </td><td>23:20:00    </td><td>56             </td><td>120        </td><td>120      </td><td>2021-01-31 23:59:45</td><td>8240DB007227</td><td>--            </td><td>--              </td><td>--                   </td><td>--         </td><td>--        </td><td>--   </td><td>--   </td><td>--               </td><td>--                  </td></tr>\n<tr><td><i style='opacity: 0.6'>1,168,497</i></td><td>12640.3.60-130-b12-1.74.I</td><td>20210131    </td><td>23:30:00    </td><td>18             </td><td>1200       </td><td>1200     </td><td>2021-01-31 23:59:45</td><td>8220DB001729</td><td>--            </td><td>--              </td><td>--                   </td><td>--         </td><td>--        </td><td>--   </td><td>--   </td><td>--               </td><td>--                  </td></tr>\n<tr><td><i style='opacity: 0.6'>1,168,498</i></td><td>12640.3.60-130-b12-1.74.I</td><td>20210131    </td><td>23:30:00    </td><td>20             </td><td>1140       </td><td>1140     </td><td>2021-01-31 23:59:45</td><td>8220DB001731</td><td>--            </td><td>--              </td><td>--                   </td><td>--         </td><td>--        </td><td>--   </td><td>--   </td><td>--               </td><td>--                  </td></tr>\n</tbody>\n</table>",
      "text/plain": [
       "#          trip_id                    start_date    start_time    stop_sequence    departure    arrival    timestamp            stop_id       arrival_time    departure_time    shape_dist_traveled    direction    route_id    lat    lon    direction_angle    shape_dist_between\n",
       "0          11777.2.60-13-b12-1.22.I   20210109      18:00:00      1                0            0          2021-01-09 19:28:02  8230DB007229  --              --                --                     --           --          --     --     --                 --\n",
       "1          11379.2.60-13-b12-1.19.O   20210109      18:00:00      1                0            0          2021-01-09 19:28:02  8240DB000324  --              --                --                     --           --          --     --     --                 --\n",
       "2          8111.2.60-27-b12-1.151.O   20210109      18:10:00      1                0            0          2021-01-09 19:28:02  8220DB004595  --              --                --                     --           --          --     --     --                 --\n",
       "3          7705.2.60-40-b12-1.206.O   20210109      18:10:00      1                0            0          2021-01-09 19:28:02  8240DB007132  --              --                --                     --           --          --     --     --                 --\n",
       "4          7751.2.60-40-b12-1.209.I   20210109      18:10:00      1                0            0          2021-01-09 19:28:02  8230DB004795  --              --                --                     --           --          --     --     --                 --\n",
       "...        ...                        ...           ...           ...              ...          ...        ...                  ...           ...             ...               ...                    ...          ...         ...    ...    ...                ...\n",
       "1,168,494  12640.3.60-130-b12-1.74.I  20210131      23:30:00      18               1140         1140       2021-01-31 23:58:50  8220DB001729  --              --                --                     --           --          --     --     --                 --\n",
       "1,168,495  12750.3.60-40-b12-1.206.O  20210131      23:00:00      79               120          120        2021-01-31 23:59:45  8230DB004690  --              --                --                     --           --          --     --     --                 --\n",
       "1,168,496  12355.3.60-37-b12-1.39.O   20210131      23:20:00      56               120          120        2021-01-31 23:59:45  8240DB007227  --              --                --                     --           --          --     --     --                 --\n",
       "1,168,497  12640.3.60-130-b12-1.74.I  20210131      23:30:00      18               1200         1200       2021-01-31 23:59:45  8220DB001729  --              --                --                     --           --          --     --     --                 --\n",
       "1,168,498  12640.3.60-130-b12-1.74.I  20210131      23:30:00      20               1140         1140       2021-01-31 23:59:45  8220DB001731  --              --                --                     --           --          --     --     --                 --"
      ]
     },
     "metadata": {},
     "execution_count": 6
    }
   ],
   "source": [
    "cols = [\"trip_id\", \"stop_sequence\", \"stop_id\", \"start_time\"]\n",
    "\n",
    "vaex_mjoin(df, stop_time_trip_df, cols, cols)"
   ]
  },
  {
   "cell_type": "code",
   "execution_count": null,
   "metadata": {},
   "outputs": [],
   "source": []
  },
  {
   "cell_type": "code",
   "execution_count": 30,
   "metadata": {},
   "outputs": [
    {
     "output_type": "execute_result",
     "data": {
      "text/html": "<table>\n<thead>\n<tr><th>#                                    </th><th>trip_id                  </th><th>start_date  </th><th>start_time  </th><th>stop_sequence  </th><th>departure  </th><th>arrival  </th><th>timestamp          </th><th>stop_id     </th></tr>\n</thead>\n<tbody>\n<tr><td><i style='opacity: 0.6'>0</i>        </td><td>11777.2.60-13-b12-1.22.I </td><td>20210109    </td><td>18:00:00    </td><td>1              </td><td>0          </td><td>0        </td><td>2021-01-09 19:28:02</td><td>8230DB007229</td></tr>\n<tr><td><i style='opacity: 0.6'>1</i>        </td><td>11379.2.60-13-b12-1.19.O </td><td>20210109    </td><td>18:00:00    </td><td>1              </td><td>0          </td><td>0        </td><td>2021-01-09 19:28:02</td><td>8240DB000324</td></tr>\n<tr><td><i style='opacity: 0.6'>2</i>        </td><td>8111.2.60-27-b12-1.151.O </td><td>20210109    </td><td>18:10:00    </td><td>1              </td><td>0          </td><td>0        </td><td>2021-01-09 19:28:02</td><td>8220DB004595</td></tr>\n<tr><td><i style='opacity: 0.6'>3</i>        </td><td>7705.2.60-40-b12-1.206.O </td><td>20210109    </td><td>18:10:00    </td><td>1              </td><td>0          </td><td>0        </td><td>2021-01-09 19:28:02</td><td>8240DB007132</td></tr>\n<tr><td><i style='opacity: 0.6'>4</i>        </td><td>7751.2.60-40-b12-1.209.I </td><td>20210109    </td><td>18:10:00    </td><td>1              </td><td>0          </td><td>0        </td><td>2021-01-09 19:28:02</td><td>8230DB004795</td></tr>\n<tr><td>...                                  </td><td>...                      </td><td>...         </td><td>...         </td><td>...            </td><td>...        </td><td>...      </td><td>...                </td><td>...         </td></tr>\n<tr><td><i style='opacity: 0.6'>1,168,494</i></td><td>12640.3.60-130-b12-1.74.I</td><td>20210131    </td><td>23:30:00    </td><td>18             </td><td>1140       </td><td>1140     </td><td>2021-01-31 23:58:50</td><td>8220DB001729</td></tr>\n<tr><td><i style='opacity: 0.6'>1,168,495</i></td><td>12750.3.60-40-b12-1.206.O</td><td>20210131    </td><td>23:00:00    </td><td>79             </td><td>120        </td><td>120      </td><td>2021-01-31 23:59:45</td><td>8230DB004690</td></tr>\n<tr><td><i style='opacity: 0.6'>1,168,496</i></td><td>12355.3.60-37-b12-1.39.O </td><td>20210131    </td><td>23:20:00    </td><td>56             </td><td>120        </td><td>120      </td><td>2021-01-31 23:59:45</td><td>8240DB007227</td></tr>\n<tr><td><i style='opacity: 0.6'>1,168,497</i></td><td>12640.3.60-130-b12-1.74.I</td><td>20210131    </td><td>23:30:00    </td><td>18             </td><td>1200       </td><td>1200     </td><td>2021-01-31 23:59:45</td><td>8220DB001729</td></tr>\n<tr><td><i style='opacity: 0.6'>1,168,498</i></td><td>12640.3.60-130-b12-1.74.I</td><td>20210131    </td><td>23:30:00    </td><td>20             </td><td>1140       </td><td>1140     </td><td>2021-01-31 23:59:45</td><td>8220DB001731</td></tr>\n</tbody>\n</table>",
      "text/plain": [
       "#          trip_id                    start_date    start_time    stop_sequence    departure    arrival    timestamp            stop_id\n",
       "0          11777.2.60-13-b12-1.22.I   20210109      18:00:00      1                0            0          2021-01-09 19:28:02  8230DB007229\n",
       "1          11379.2.60-13-b12-1.19.O   20210109      18:00:00      1                0            0          2021-01-09 19:28:02  8240DB000324\n",
       "2          8111.2.60-27-b12-1.151.O   20210109      18:10:00      1                0            0          2021-01-09 19:28:02  8220DB004595\n",
       "3          7705.2.60-40-b12-1.206.O   20210109      18:10:00      1                0            0          2021-01-09 19:28:02  8240DB007132\n",
       "4          7751.2.60-40-b12-1.209.I   20210109      18:10:00      1                0            0          2021-01-09 19:28:02  8230DB004795\n",
       "...        ...                        ...           ...           ...              ...          ...        ...                  ...\n",
       "1,168,494  12640.3.60-130-b12-1.74.I  20210131      23:30:00      18               1140         1140       2021-01-31 23:58:50  8220DB001729\n",
       "1,168,495  12750.3.60-40-b12-1.206.O  20210131      23:00:00      79               120          120        2021-01-31 23:59:45  8230DB004690\n",
       "1,168,496  12355.3.60-37-b12-1.39.O   20210131      23:20:00      56               120          120        2021-01-31 23:59:45  8240DB007227\n",
       "1,168,497  12640.3.60-130-b12-1.74.I  20210131      23:30:00      18               1200         1200       2021-01-31 23:59:45  8220DB001729\n",
       "1,168,498  12640.3.60-130-b12-1.74.I  20210131      23:30:00      20               1140         1140       2021-01-31 23:59:45  8220DB001731"
      ]
     },
     "metadata": {},
     "execution_count": 30
    }
   ],
   "source": [
    "# just convert csv\n",
    "\n",
    "combined_csv = pd.read_csv(gtfs_final_csv_path)\n",
    "\n",
    "# dropping duplicates\n",
    "combined_csv = combined_csv.drop_duplicates(subset=entity_cols[:5])\n",
    "\n",
    "# convert to csv\n",
    "combined_csv.to_csv(gtfs_final_csv_path, index=False, header=True)\n",
    "\n",
    "if os.path.exists(gtfs_final_csv_path + \".hdf5\"):\n",
    "    os.remove(gtfs_final_csv_path + \".hdf5\")\n",
    "\n",
    "vaex.from_csv(gtfs_final_csv_path, convert=True, copy_index=False, chunk_size=1000000)"
   ]
  },
  {
   "cell_type": "code",
   "execution_count": null,
   "metadata": {},
   "outputs": [],
   "source": []
  },
  {
   "cell_type": "code",
   "execution_count": 116,
   "metadata": {},
   "outputs": [],
   "source": [
    "def predict_traffic_from_scats(_df):\n",
    "    print(\"*** scats predictions ***\")\n",
    "\n",
    "    df = _df.copy()\n",
    "    df[\"hour\"] = df[\"arrival_time\"].apply(lambda t: get_dt(t, \"%H:%M:%S\").hour)\n",
    "    df[\"dow\"] = df.apply(apply_dow, [\"start_date\", \"start_time\", \"arrival_time\"])\n",
    "\n",
    "    pca_coord = vaex.ml.PCA(features=[\"lat\", \"lon\"], n_components=2, prefix=\"pca\")\n",
    "    df = pca_coord.fit_transform(df)\n",
    "\n",
    "    cycl_transform_hour = vaex.ml.CycleTransformer(features=[\"hour\"], n=24)\n",
    "    df = cycl_transform_hour.fit_transform(df)\n",
    "\n",
    "    cycl_transform_dow = vaex.ml.CycleTransformer(features=[\"dow\"], n=7)\n",
    "    df = cycl_transform_dow.fit_transform(df)\n",
    "\n",
    "    # with parallel_backend(\"threading\"):\n",
    "    # load the scats ml model\n",
    "    # scats_model = load(scats_model_path)\n",
    "\n",
    "    # get the predictions from scats data\n",
    "    # df = scats_model.transform(df)\n",
    "\n",
    "    # return df[_df.get_column_names() + [\"p_avg_vol\"]]\n",
    "    return df[_df.get_column_names()]"
   ]
  },
  {
   "cell_type": "code",
   "execution_count": 112,
   "metadata": {},
   "outputs": [],
   "source": [
    "# if not os.path.exists(stop_time_data_path):\n",
    "#     add_stop_data()\n",
    "\n",
    "cols = [\"trip_id\", \"stop_sequence\", \"stop_id\", \"start_time\"]\n",
    "\n",
    "d1 = vaex.open(gtfs_final_csv_path+'')\n",
    "d2 = vaex.open(stop_time_data_path)\n",
    "\n",
    "df = vaex_mjoin(d1, d2, cols, cols, how='inner')"
   ]
  },
  {
   "cell_type": "code",
   "execution_count": 117,
   "metadata": {},
   "outputs": [
    {
     "output_type": "stream",
     "name": "stdout",
     "text": [
      "*** scats predictions ***\n"
     ]
    }
   ],
   "source": [
    "t_df = predict_traffic_from_scats(df)\n",
    "\n",
    "t_df\n",
    "# df.export_hdf5(gtfs_processed_path)\n"
   ]
  }
 ]
}