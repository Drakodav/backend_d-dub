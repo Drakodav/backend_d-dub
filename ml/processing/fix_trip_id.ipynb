{
 "metadata": {
  "language_info": {
   "codemirror_mode": {
    "name": "ipython",
    "version": 3
   },
   "file_extension": ".py",
   "mimetype": "text/x-python",
   "name": "python",
   "nbconvert_exporter": "python",
   "pygments_lexer": "ipython3",
   "version": "3.8.0-final"
  },
  "orig_nbformat": 2,
  "kernelspec": {
   "name": "denv",
   "display_name": "denv",
   "language": "python"
  }
 },
 "nbformat": 4,
 "nbformat_minor": 2,
 "cells": [
  {
   "cell_type": "code",
   "execution_count": 1,
   "metadata": {},
   "outputs": [],
   "source": [
    "import psycopg2\n",
    "\n",
    "def run_query(query: str = ''):\n",
    "    \"\"\" Connect to the PostgreSQL database server \"\"\"\n",
    "    conn = None\n",
    "    try:\n",
    "        # connect to the PostgreSQL server\n",
    "        conn = psycopg2.connect(\n",
    "            host=\"localhost\",\n",
    "            port='25432',\n",
    "            database=\"gis\",\n",
    "            user=\"docker\",\n",
    "            password=\"docker\"\n",
    "        )\n",
    "\n",
    "        # create a cursor\n",
    "        cur = conn.cursor()\n",
    "\n",
    "        # execute a statement\n",
    "        cur.execute(query)\n",
    "        data = cur.fetchall()\n",
    "\n",
    "        # close the communication with the PostgreSQL\n",
    "        cur.close()\n",
    "        return data\n",
    "    except (Exception, psycopg2.DatabaseError) as error:\n",
    "        print(error)\n",
    "    finally:\n",
    "        if conn is not None:\n",
    "            conn.close()"
   ]
  },
  {
   "cell_type": "code",
   "execution_count": 2,
   "metadata": {},
   "outputs": [],
   "source": [
    "query = \"\"\"select trip_id from trip;\"\"\"\n",
    "trip_id_list = [id[0] for id in run_query(query)]\n",
    "# trip_id_list"
   ]
  },
  {
   "cell_type": "code",
   "execution_count": 3,
   "metadata": {},
   "outputs": [
    {
     "output_type": "execute_result",
     "data": {
      "text/plain": [
       "'1445.1.60-27-b12-1.149.O'"
      ]
     },
     "metadata": {},
     "execution_count": 3
    }
   ],
   "source": [
    "test = '1445.1.60-27-d12-1.149.O'\n",
    "test = test.replace('-d12-', '-b12-', 1).replace('-ga2-', '-gad-', 1)\n",
    "test"
   ]
  },
  {
   "cell_type": "code",
   "execution_count": 4,
   "metadata": {},
   "outputs": [
    {
     "output_type": "execute_result",
     "data": {
      "text/plain": [
       "True"
      ]
     },
     "metadata": {},
     "execution_count": 4
    }
   ],
   "source": [
    "all([len(i.split('.')) == 5 for i in trip_id_list]) == True\n",
    "\n",
    "# we can now assert that every trip in our database be split by \n",
    "# a . 5 times, this means that there is a consistent structure across all our data"
   ]
  },
  {
   "cell_type": "code",
   "execution_count": 5,
   "metadata": {},
   "outputs": [
    {
     "output_type": "execute_result",
     "data": {
      "text/plain": [
       "False"
      ]
     },
     "metadata": {},
     "execution_count": 5
    }
   ],
   "source": [
    "test in trip_id_list"
   ]
  },
  {
   "cell_type": "code",
   "execution_count": 6,
   "metadata": {},
   "outputs": [
    {
     "output_type": "execute_result",
     "data": {
      "text/plain": [
       "['1445', '1', '60-27-b12-1', '149', 'O']"
      ]
     },
     "metadata": {},
     "execution_count": 6
    }
   ],
   "source": [
    "test.split('.')"
   ]
  },
  {
   "cell_type": "code",
   "execution_count": 7,
   "metadata": {},
   "outputs": [
    {
     "output_type": "execute_result",
     "data": {
      "text/plain": [
       "'1445.1.60-27-b12-1.149.O'"
      ]
     },
     "metadata": {},
     "execution_count": 7
    }
   ],
   "source": [
    "'.'.join(test.split('.'))\n",
    "str.join('.',test.split('.'))"
   ]
  },
  {
   "cell_type": "code",
   "execution_count": 8,
   "metadata": {},
   "outputs": [
    {
     "output_type": "execute_result",
     "data": {
      "text/plain": [
       "'1445.1.60-27-b12-1.*.O'"
      ]
     },
     "metadata": {},
     "execution_count": 8
    }
   ],
   "source": [
    "tokens = test.split('.')\n",
    "tokens[3] = '*'\n",
    "new_str = '.'.join(tokens)\n",
    "new_str"
   ]
  },
  {
   "cell_type": "code",
   "execution_count": 9,
   "metadata": {},
   "outputs": [
    {
     "output_type": "execute_result",
     "data": {
      "text/plain": [
       "False"
      ]
     },
     "metadata": {},
     "execution_count": 9
    }
   ],
   "source": [
    "new_str in trip_id_list"
   ]
  },
  {
   "cell_type": "code",
   "execution_count": 10,
   "metadata": {},
   "outputs": [
    {
     "output_type": "execute_result",
     "data": {
      "text/plain": [
       "['1445.1.60-27-b12-1.151.O']"
      ]
     },
     "metadata": {},
     "execution_count": 10
    }
   ],
   "source": [
    "import re\n",
    "\n",
    "r = re.compile(new_str)\n",
    "matched_list = list(filter(r.match, trip_id_list))\n",
    "matched_list\n"
   ]
  },
  {
   "cell_type": "code",
   "execution_count": 11,
   "metadata": {},
   "outputs": [
    {
     "output_type": "execute_result",
     "data": {
      "text/plain": [
       "'1445.1.60-27-b12-1.151.O'"
      ]
     },
     "metadata": {},
     "execution_count": 11
    }
   ],
   "source": [
    "found_str = None\n",
    "if len(matched_list) == 1:\n",
    "    found_str = matched_list[0]\n",
    "\n",
    "found_str"
   ]
  },
  {
   "cell_type": "code",
   "execution_count": 48,
   "metadata": {},
   "outputs": [
    {
     "output_type": "stream",
     "name": "stdout",
     "text": [
      "3368.1.60-46A-[b|d]12-1.*.I\n"
     ]
    },
    {
     "output_type": "execute_result",
     "data": {
      "text/plain": [
       "'3368.1.60-46A-b12-1.253.I'"
      ]
     },
     "metadata": {},
     "execution_count": 48
    }
   ],
   "source": [
    "def find_trip_regex(trip_list, trip_id):\n",
    "    assert type(trip_id) == str, 'trip_id must be string'\n",
    "\n",
    "    tokens = trip_id.split('.')\n",
    "    assert len(tokens) == 5, 'unusual trip_id, please investigate: {}'.format(trip_id)\n",
    "\n",
    "    route_id = tokens[2].split('-')\n",
    "    if route_id[2] in ['ga2', 'gad']:\n",
    "        route_id[2] = 'ga[2|d]'\n",
    "        tokens[2] = '-'.join(route_id)\n",
    "    elif route_id[2] in ['d12', 'b12']: \n",
    "        route_id[2] = '[b|d]12'\n",
    "        tokens[2] = '-'.join(route_id)\n",
    "\n",
    "    tokens[3] = '*'\n",
    "\n",
    "    reg = '.'.join(tokens)\n",
    "    print(reg)\n",
    "\n",
    "    r = re.compile(reg)\n",
    "    matched_list = list(filter(r.match, trip_list))\n",
    "\n",
    "    if len(matched_list) > 0:\n",
    "        # print(matched_list, trip_id)\n",
    "        return matched_list[0]\n",
    "    else: return None\n",
    "\n",
    "find_trip_regex(trip_id_list, '3368.1.60-46A-d12-1.248.I')"
   ]
  },
  {
   "cell_type": "code",
   "execution_count": 13,
   "metadata": {},
   "outputs": [],
   "source": [
    "for i in trip_id_list:\n",
    "    id = i.split('.')[2].split('-')[2]\n",
    "    # if not id in ['gad', 'b12', 'd12']: \n",
    "    #     print(i)"
   ]
  }
 ]
}