{
 "metadata": {
  "language_info": {
   "codemirror_mode": {
    "name": "ipython",
    "version": 3
   },
   "file_extension": ".py",
   "mimetype": "text/x-python",
   "name": "python",
   "nbconvert_exporter": "python",
   "pygments_lexer": "ipython3",
   "version": "3.7.4-final"
  },
  "orig_nbformat": 2,
  "kernelspec": {
   "name": "python3",
   "display_name": "Python 3",
   "language": "python"
  }
 },
 "nbformat": 4,
 "nbformat_minor": 2,
 "cells": [
  {
   "cell_type": "code",
   "execution_count": 176,
   "metadata": {},
   "outputs": [],
   "source": [
    "import joblib\n",
    "from pathlib import Path\n",
    "import time\n",
    "import vaex\n",
    "import vaex.ml\n",
    "from datetime import datetime\n",
    "import dask\n",
    "import numpy as np\n",
    "\n",
    "dir = Path().cwd()\n",
    "csv = os.path.join(dir, 'output', 'gtfsr_combined_csv.csv')"
   ]
  },
  {
   "cell_type": "code",
   "execution_count": 55,
   "metadata": {},
   "outputs": [
    {
     "output_type": "stream",
     "name": "stdout",
     "text": [
      "106.8693220615387\n"
     ]
    }
   ],
   "source": [
    "start = time.time()\n",
    "scats_model = joblib.load('./output/scats_model.json')\n",
    "\n",
    "print(time.time()-start)"
   ]
  },
  {
   "cell_type": "code",
   "execution_count": 170,
   "metadata": {},
   "outputs": [
    {
     "output_type": "execute_result",
     "data": {
      "text/html": "<table>\n<thead>\n<tr><th>#                            </th><th>trip_id                  </th><th style=\"text-align: right;\">  start_date</th><th>start_time  </th><th style=\"text-align: right;\">  stop_sequence</th><th style=\"text-align: right;\">  departure</th><th style=\"text-align: right;\">  arrival</th><th>timestamp          </th><th style=\"text-align: right;\">     lon</th><th style=\"text-align: right;\">      lat</th></tr>\n</thead>\n<tbody>\n<tr><td><i style='opacity: 0.6'>0</i></td><td>11777.2.60-13-b12-1.22.I </td><td style=\"text-align: right;\"> 2.02101e+07</td><td>18:00:00    </td><td style=\"text-align: right;\">              1</td><td style=\"text-align: right;\">          0</td><td style=\"text-align: right;\">        0</td><td>2021-01-09 19:28:02</td><td style=\"text-align: right;\">0.930786</td><td style=\"text-align: right;\">-0.112593</td></tr>\n<tr><td><i style='opacity: 0.6'>1</i></td><td>11756.2.60-13-b12-1.22.I </td><td style=\"text-align: right;\"> 2.02101e+07</td><td>18:15:00    </td><td style=\"text-align: right;\">              1</td><td style=\"text-align: right;\">          0</td><td style=\"text-align: right;\">        0</td><td>2021-01-09 19:28:02</td><td style=\"text-align: right;\">0.930786</td><td style=\"text-align: right;\">-0.112593</td></tr>\n<tr><td><i style='opacity: 0.6'>2</i></td><td>11370.2.60-13-b12-1.23.I </td><td style=\"text-align: right;\"> 2.02101e+07</td><td>19:00:00    </td><td style=\"text-align: right;\">              1</td><td style=\"text-align: right;\">          0</td><td style=\"text-align: right;\">        0</td><td>2021-01-09 19:28:02</td><td style=\"text-align: right;\">0.930786</td><td style=\"text-align: right;\">-0.112593</td></tr>\n<tr><td><i style='opacity: 0.6'>3</i></td><td>11379.2.60-13-b12-1.19.O </td><td style=\"text-align: right;\"> 2.02101e+07</td><td>18:00:00    </td><td style=\"text-align: right;\">              1</td><td style=\"text-align: right;\">          0</td><td style=\"text-align: right;\">        0</td><td>2021-01-09 19:28:02</td><td style=\"text-align: right;\">0.932315</td><td style=\"text-align: right;\">-0.109583</td></tr>\n<tr><td><i style='opacity: 0.6'>4</i></td><td>11394.2.60-13-b12-1.19.O </td><td style=\"text-align: right;\"> 2.02101e+07</td><td>18:15:00    </td><td style=\"text-align: right;\">              1</td><td style=\"text-align: right;\">          0</td><td style=\"text-align: right;\">        0</td><td>2021-01-09 19:28:02</td><td style=\"text-align: right;\">0.932315</td><td style=\"text-align: right;\">-0.109583</td></tr>\n<tr><td><i style='opacity: 0.6'>5</i></td><td>8595.2.60-4-b12-1.5.O    </td><td style=\"text-align: right;\"> 2.02101e+07</td><td>18:30:00    </td><td style=\"text-align: right;\">              1</td><td style=\"text-align: right;\">          0</td><td style=\"text-align: right;\">        0</td><td>2021-01-09 19:28:02</td><td style=\"text-align: right;\">0.932315</td><td style=\"text-align: right;\">-0.109583</td></tr>\n<tr><td><i style='opacity: 0.6'>6</i></td><td>8566.2.60-4-b12-1.5.O    </td><td style=\"text-align: right;\"> 2.02101e+07</td><td>18:45:00    </td><td style=\"text-align: right;\">              1</td><td style=\"text-align: right;\">          0</td><td style=\"text-align: right;\">        0</td><td>2021-01-09 19:28:02</td><td style=\"text-align: right;\">0.932315</td><td style=\"text-align: right;\">-0.109583</td></tr>\n<tr><td><i style='opacity: 0.6'>7</i></td><td>11401.2.60-13-b12-1.19.O </td><td style=\"text-align: right;\"> 2.02101e+07</td><td>18:45:00    </td><td style=\"text-align: right;\">              1</td><td style=\"text-align: right;\">          0</td><td style=\"text-align: right;\">        0</td><td>2021-01-09 19:28:02</td><td style=\"text-align: right;\">0.932315</td><td style=\"text-align: right;\">-0.109583</td></tr>\n<tr><td><i style='opacity: 0.6'>8</i></td><td>11662.2.60-27B-b12-1.97.I</td><td style=\"text-align: right;\"> 2.02101e+07</td><td>19:00:00    </td><td style=\"text-align: right;\">              1</td><td style=\"text-align: right;\">          0</td><td style=\"text-align: right;\">        0</td><td>2021-01-09 19:28:02</td><td style=\"text-align: right;\">0.932315</td><td style=\"text-align: right;\">-0.109583</td></tr>\n<tr><td><i style='opacity: 0.6'>9</i></td><td>8924.2.60-4-b12-1.5.O    </td><td style=\"text-align: right;\"> 2.02101e+07</td><td>19:00:00    </td><td style=\"text-align: right;\">              1</td><td style=\"text-align: right;\">          0</td><td style=\"text-align: right;\">        0</td><td>2021-01-09 19:28:02</td><td style=\"text-align: right;\">0.932315</td><td style=\"text-align: right;\">-0.109583</td></tr>\n</tbody>\n</table>",
      "text/plain": [
       "  #  trip_id                      start_date  start_time      stop_sequence    departure    arrival  timestamp                 lon        lat\n",
       "  0  11777.2.60-13-b12-1.22.I    2.02101e+07  18:00:00                    1            0          0  2021-01-09 19:28:02  0.930786  -0.112593\n",
       "  1  11756.2.60-13-b12-1.22.I    2.02101e+07  18:15:00                    1            0          0  2021-01-09 19:28:02  0.930786  -0.112593\n",
       "  2  11370.2.60-13-b12-1.23.I    2.02101e+07  19:00:00                    1            0          0  2021-01-09 19:28:02  0.930786  -0.112593\n",
       "  3  11379.2.60-13-b12-1.19.O    2.02101e+07  18:00:00                    1            0          0  2021-01-09 19:28:02  0.932315  -0.109583\n",
       "  4  11394.2.60-13-b12-1.19.O    2.02101e+07  18:15:00                    1            0          0  2021-01-09 19:28:02  0.932315  -0.109583\n",
       "  5  8595.2.60-4-b12-1.5.O       2.02101e+07  18:30:00                    1            0          0  2021-01-09 19:28:02  0.932315  -0.109583\n",
       "  6  8566.2.60-4-b12-1.5.O       2.02101e+07  18:45:00                    1            0          0  2021-01-09 19:28:02  0.932315  -0.109583\n",
       "  7  11401.2.60-13-b12-1.19.O    2.02101e+07  18:45:00                    1            0          0  2021-01-09 19:28:02  0.932315  -0.109583\n",
       "  8  11662.2.60-27B-b12-1.97.I   2.02101e+07  19:00:00                    1            0          0  2021-01-09 19:28:02  0.932315  -0.109583\n",
       "  9  8924.2.60-4-b12-1.5.O       2.02101e+07  19:00:00                    1            0          0  2021-01-09 19:28:02  0.932315  -0.109583"
      ]
     },
     "metadata": {},
     "execution_count": 170
    }
   ],
   "source": [
    "if not os.path.exists(csv+'.hdf5'):\n",
    "    df = vaex.from_csv(csv, convert=True, copy_index=False, chunk_size=1000000)\n",
    "    df.export(csv, shuffle=True)\n",
    "df = vaex.open(csv+'.hdf5')\n",
    "df.head()"
   ]
  },
  {
   "cell_type": "code",
   "execution_count": 179,
   "metadata": {},
   "outputs": [
    {
     "output_type": "error",
     "ename": "TypeError",
     "evalue": "input must have type NumPy datetime",
     "traceback": [
      "\u001b[1;31m---------------------------------------------------------------------------\u001b[0m",
      "\u001b[1;31mTypeError\u001b[0m                                 Traceback (most recent call last)",
      "\u001b[1;32m<ipython-input-179-22960142fb91>\u001b[0m in \u001b[0;36m<module>\u001b[1;34m\u001b[0m\n\u001b[1;32m----> 1\u001b[1;33m \u001b[0mdf\u001b[0m\u001b[1;33m[\u001b[0m\u001b[1;34m'dow'\u001b[0m\u001b[1;33m]\u001b[0m \u001b[1;33m=\u001b[0m \u001b[0mnp\u001b[0m\u001b[1;33m.\u001b[0m\u001b[0mdatetime_as_string\u001b[0m\u001b[1;33m(\u001b[0m\u001b[0mdf\u001b[0m\u001b[1;33m.\u001b[0m\u001b[0mstart_date\u001b[0m\u001b[1;33m)\u001b[0m\u001b[1;33m.\u001b[0m\u001b[0mstrftime\u001b[0m\u001b[1;33m(\u001b[0m\u001b[1;34m'%Y%m%d'\u001b[0m\u001b[1;33m)\u001b[0m\u001b[1;33m.\u001b[0m\u001b[0mweekday\u001b[0m\u001b[1;33m(\u001b[0m\u001b[1;33m)\u001b[0m\u001b[1;33m\u001b[0m\u001b[1;33m\u001b[0m\u001b[0m\n\u001b[0m",
      "\u001b[1;32m<__array_function__ internals>\u001b[0m in \u001b[0;36mdatetime_as_string\u001b[1;34m(*args, **kwargs)\u001b[0m\n",
      "\u001b[1;31mTypeError\u001b[0m: input must have type NumPy datetime"
     ]
    }
   ],
   "source": [
    "df['dow'] = np.datetime_as_string(df.start_date).strftime('%Y%m%d').weekday()"
   ]
  },
  {
   "cell_type": "code",
   "execution_count": 169,
   "metadata": {},
   "outputs": [
    {
     "output_type": "execute_result",
     "data": {
      "text/plain": [
       "str"
      ]
     },
     "metadata": {},
     "execution_count": 169
    }
   ],
   "source": [
    "df.start_time.dtype"
   ]
  },
  {
   "cell_type": "code",
   "execution_count": 145,
   "metadata": {},
   "outputs": [],
   "source": [
    "df.start_time = df.start_time.fillmissing('')"
   ]
  },
  {
   "cell_type": "code",
   "execution_count": 171,
   "metadata": {},
   "outputs": [
    {
     "output_type": "execute_result",
     "data": {
      "text/plain": [
       "array(0, dtype=int64)"
      ]
     },
     "metadata": {},
     "execution_count": 171
    }
   ],
   "source": [
    "df.start_time.isna().sum()"
   ]
  },
  {
   "cell_type": "code",
   "execution_count": 175,
   "metadata": {},
   "outputs": [
    {
     "output_type": "execute_result",
     "data": {
      "text/plain": [
       "dask.array<vaex-df-0e6c5146-7044-11eb-940f, shape=(3100815, 2), dtype=float64, chunksize=(3100815, 2), chunktype=numpy.ndarray>"
      ],
      "text/html": "<table>\n<tr>\n<td>\n<table>\n  <thead>\n    <tr><td> </td><th> Array </th><th> Chunk </th></tr>\n  </thead>\n  <tbody>\n    <tr><th> Bytes </th><td> 49.61 MB </td> <td> 49.61 MB </td></tr>\n    <tr><th> Shape </th><td> (3100815, 2) </td> <td> (3100815, 2) </td></tr>\n    <tr><th> Count </th><td> 2 Tasks </td><td> 1 Chunks </td></tr>\n    <tr><th> Type </th><td> float64 </td><td> numpy.ndarray </td></tr>\n  </tbody>\n</table>\n</td>\n<td>\n<svg width=\"75\" height=\"170\" style=\"stroke:rgb(0,0,0);stroke-width:1\" >\n\n  <!-- Horizontal lines -->\n  <line x1=\"0\" y1=\"0\" x2=\"25\" y2=\"0\" style=\"stroke-width:2\" />\n  <line x1=\"0\" y1=\"120\" x2=\"25\" y2=\"120\" style=\"stroke-width:2\" />\n\n  <!-- Vertical lines -->\n  <line x1=\"0\" y1=\"0\" x2=\"0\" y2=\"120\" style=\"stroke-width:2\" />\n  <line x1=\"25\" y1=\"0\" x2=\"25\" y2=\"120\" style=\"stroke-width:2\" />\n\n  <!-- Colored Rectangle -->\n  <polygon points=\"0.000000,0.000000 25.412617,0.000000 25.412617,120.000000 0.000000,120.000000\" style=\"fill:#ECB172A0;stroke-width:0\"/>\n\n  <!-- Text -->\n  <text x=\"12.706308\" y=\"140.000000\" font-size=\"1.0rem\" font-weight=\"100\" text-anchor=\"middle\" >2</text>\n  <text x=\"45.412617\" y=\"60.000000\" font-size=\"1.0rem\" font-weight=\"100\" text-anchor=\"middle\" transform=\"rotate(-90,45.412617,60.000000)\">3100815</text>\n</svg>\n</td>\n</tr>\n</table>"
     },
     "metadata": {},
     "execution_count": 175
    }
   ],
   "source": [
    "# convert to dask\n",
    "\n",
    "dask_df = df[['lon', 'lat']].to_dask_array()\n",
    "dask_df"
   ]
  },
  {
   "cell_type": "code",
   "execution_count": null,
   "metadata": {},
   "outputs": [],
   "source": []
  },
  {
   "cell_type": "code",
   "execution_count": 97,
   "metadata": {},
   "outputs": [
    {
     "output_type": "execute_result",
     "data": {
      "text/html": "<table>\n<thead>\n<tr><th>#                            </th><th>trip_id                 </th><th style=\"text-align: right;\">  start_date</th><th>start_time  </th><th style=\"text-align: right;\">  stop_sequence</th><th style=\"text-align: right;\">  departure</th><th style=\"text-align: right;\">  arrival</th><th>timestamp          </th><th style=\"text-align: right;\">     lon</th><th style=\"text-align: right;\">      lat</th><th style=\"text-align: right;\">       pca0</th><th style=\"text-align: right;\">        pca1</th></tr>\n</thead>\n<tbody>\n<tr><td><i style='opacity: 0.6'>0</i></td><td>11777.2.60-13-b12-1.22.I</td><td style=\"text-align: right;\"> 2.02101e+07</td><td>18:00:00    </td><td style=\"text-align: right;\">              1</td><td style=\"text-align: right;\">          0</td><td style=\"text-align: right;\">        0</td><td>2021-01-09 19:28:02</td><td style=\"text-align: right;\">0.930786</td><td style=\"text-align: right;\">-0.112593</td><td style=\"text-align: right;\"> 0.00135039</td><td style=\"text-align: right;\"> 5.26479e-14</td></tr>\n<tr><td><i style='opacity: 0.6'>1</i></td><td>11756.2.60-13-b12-1.22.I</td><td style=\"text-align: right;\"> 2.02101e+07</td><td>18:15:00    </td><td style=\"text-align: right;\">              1</td><td style=\"text-align: right;\">          0</td><td style=\"text-align: right;\">        0</td><td>2021-01-09 19:28:02</td><td style=\"text-align: right;\">0.930786</td><td style=\"text-align: right;\">-0.112593</td><td style=\"text-align: right;\"> 0.00135039</td><td style=\"text-align: right;\"> 5.26479e-14</td></tr>\n<tr><td><i style='opacity: 0.6'>2</i></td><td>11370.2.60-13-b12-1.23.I</td><td style=\"text-align: right;\"> 2.02101e+07</td><td>19:00:00    </td><td style=\"text-align: right;\">              1</td><td style=\"text-align: right;\">          0</td><td style=\"text-align: right;\">        0</td><td>2021-01-09 19:28:02</td><td style=\"text-align: right;\">0.930786</td><td style=\"text-align: right;\">-0.112593</td><td style=\"text-align: right;\"> 0.00135039</td><td style=\"text-align: right;\"> 5.26479e-14</td></tr>\n<tr><td><i style='opacity: 0.6'>3</i></td><td>11379.2.60-13-b12-1.19.O</td><td style=\"text-align: right;\"> 2.02101e+07</td><td>18:00:00    </td><td style=\"text-align: right;\">              1</td><td style=\"text-align: right;\">          0</td><td style=\"text-align: right;\">        0</td><td>2021-01-09 19:28:02</td><td style=\"text-align: right;\">0.932315</td><td style=\"text-align: right;\">-0.109583</td><td style=\"text-align: right;\">-0.00202558</td><td style=\"text-align: right;\">-7.87896e-14</td></tr>\n<tr><td><i style='opacity: 0.6'>4</i></td><td>11394.2.60-13-b12-1.19.O</td><td style=\"text-align: right;\"> 2.02101e+07</td><td>18:15:00    </td><td style=\"text-align: right;\">              1</td><td style=\"text-align: right;\">          0</td><td style=\"text-align: right;\">        0</td><td>2021-01-09 19:28:02</td><td style=\"text-align: right;\">0.932315</td><td style=\"text-align: right;\">-0.109583</td><td style=\"text-align: right;\">-0.00202558</td><td style=\"text-align: right;\">-7.87896e-14</td></tr>\n</tbody>\n</table>",
      "text/plain": [
       "  #  trip_id                     start_date  start_time      stop_sequence    departure    arrival  timestamp                 lon        lat         pca0          pca1\n",
       "  0  11777.2.60-13-b12-1.22.I   2.02101e+07  18:00:00                    1            0          0  2021-01-09 19:28:02  0.930786  -0.112593   0.00135039   5.26479e-14\n",
       "  1  11756.2.60-13-b12-1.22.I   2.02101e+07  18:15:00                    1            0          0  2021-01-09 19:28:02  0.930786  -0.112593   0.00135039   5.26479e-14\n",
       "  2  11370.2.60-13-b12-1.23.I   2.02101e+07  19:00:00                    1            0          0  2021-01-09 19:28:02  0.930786  -0.112593   0.00135039   5.26479e-14\n",
       "  3  11379.2.60-13-b12-1.19.O   2.02101e+07  18:00:00                    1            0          0  2021-01-09 19:28:02  0.932315  -0.109583  -0.00202558  -7.87896e-14\n",
       "  4  11394.2.60-13-b12-1.19.O   2.02101e+07  18:15:00                    1            0          0  2021-01-09 19:28:02  0.932315  -0.109583  -0.00202558  -7.87896e-14"
      ]
     },
     "metadata": {},
     "execution_count": 97
    }
   ],
   "source": [
    "def extract_scats_from_gtfsr(df):\n",
    "    # def apply_date(t):\n",
    "    #     dtime = datetime.strptime(t, '%Y%m%d')\n",
    "    #     dows.append(dtime.weekday())\n",
    "    #     months.append(dtime.month)\n",
    "    #     days.append(dtime.day)\n",
    "    #     return t\n",
    "    \n",
    "    # def apply_time(t):\n",
    "    #     dtime = datetime.strptime(t, '%H:%M:%S.%f')\n",
    "    #     hours.append(dtime.hour)\n",
    "    #     return t\n",
    "\n",
    "\n",
    "    new_df = df\n",
    "    # new_df['start_date'].apply(apply_date)\n",
    "    # new_df['start_time'].apply(apply_time)\n",
    "    # new_df['dow'] = [datetime.strptime(t, '%Y%m%d').weekday() for t in new_df['start_date']]\n",
    "    # df['hour'] = hours\n",
    "    # df['month'] = months\n",
    "    # df['day'] = days\n",
    "\n",
    "    pca_coord = vaex.ml.PCA(features=['lat', 'lon'], n_components=2, prefix='pca')\n",
    "    new_df = pca_coord.fit_transform(new_df)\n",
    "\n",
    "    # cycl_transform_hour = vaex.ml.CycleTransformer(features=['hour'], n=24)\n",
    "    # new_df = cycl_transform_hour.fit_transform(new_df)\n",
    "\n",
    "    # cycl_transform_dow = vaex.ml.CycleTransformer(features=['dow'], n=7)\n",
    "    # new_df = cycl_transform_dow.fit_transform(new_df)\n",
    "\n",
    "    # feats = new_df.get_column_names(regex='pca') + \\\n",
    "    #     new_df.get_column_names(regex='.*_x') + \\\n",
    "    #     new_df.get_column_names(regex='.*_y')\n",
    "\n",
    "    return new_df\n",
    "\n",
    "extract_scats_from_gtfsr(df[:5])"
   ]
  },
  {
   "cell_type": "code",
   "execution_count": 57,
   "metadata": {},
   "outputs": [],
   "source": []
  },
  {
   "cell_type": "code",
   "execution_count": 110,
   "metadata": {},
   "outputs": [],
   "source": [
    "# dows = []\n",
    "# days = []\n",
    "# hours = []\n",
    "# months = []\n",
    "\n",
    "# def apply_date(t):\n",
    "#     dtime = datetime.strptime(t, '%Y%m%d')\n",
    "#     dows.append(dtime.weekday())\n",
    "#     months.append(dtime.month)\n",
    "#     days.append(dtime.day)\n",
    "#     return t\n",
    "\n",
    "# def apply_time(t):\n",
    "#     dtime = datetime.strptime(t, '%H:%M:%S.%f')\n",
    "#     hours.append(dtime.hour)\n",
    "#     return t\n",
    "\n",
    "# print(dows)\n",
    "\n",
    "# df['start_date'].apply(apply_date)\n",
    "# df['start_time'].apply(apply_time)\n",
    "# df['dow'] = dows\n",
    "# df['hour'] = hours\n",
    "# df['month'] = months\n",
    "# df['day'] = days\n"
   ]
  },
  {
   "cell_type": "code",
   "execution_count": null,
   "metadata": {},
   "outputs": [],
   "source": []
  },
  {
   "cell_type": "code",
   "execution_count": null,
   "metadata": {},
   "outputs": [],
   "source": []
  },
  {
   "cell_type": "code",
   "execution_count": null,
   "metadata": {},
   "outputs": [],
   "source": []
  }
 ]
}