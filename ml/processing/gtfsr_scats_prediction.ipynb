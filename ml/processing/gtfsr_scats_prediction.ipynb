{
 "metadata": {
  "language_info": {
   "codemirror_mode": {
    "name": "ipython",
    "version": 3
   },
   "file_extension": ".py",
   "mimetype": "text/x-python",
   "name": "python",
   "nbconvert_exporter": "python",
   "pygments_lexer": "ipython3",
   "version": "3.8.0-final"
  },
  "orig_nbformat": 2,
  "kernelspec": {
   "name": "denv",
   "display_name": "denv",
   "language": "python"
  }
 },
 "nbformat": 4,
 "nbformat_minor": 2,
 "cells": [
  {
   "cell_type": "code",
   "execution_count": 1,
   "metadata": {},
   "outputs": [],
   "source": [
    "import joblib\n",
    "from pathlib import Path\n",
    "import time\n",
    "import vaex\n",
    "import vaex.ml\n",
    "from datetime import datetime\n",
    "\n",
    "dir = Path().cwd()\n",
    "csv = os.path.join(dir, 'output', 'gtfsr.csv')\n",
    "scats = os.path.join(dir, 'output', 'scats_model.json')\n"
   ]
  },
  {
   "cell_type": "code",
   "execution_count": 2,
   "metadata": {},
   "outputs": [
    {
     "output_type": "stream",
     "name": "stdout",
     "text": [
      "35.1014244556427\n"
     ]
    }
   ],
   "source": [
    "start = time.time()\n",
    "with joblib.parallel_backend('threading'):\n",
    "    scats_model = joblib.load(scats)\n",
    "\n",
    "print(time.time()-start)"
   ]
  },
  {
   "cell_type": "code",
   "execution_count": 3,
   "metadata": {},
   "outputs": [
    {
     "output_type": "execute_result",
     "data": {
      "text/html": "<table>\n<thead>\n<tr><th>#                            </th><th>trip_id                  </th><th style=\"text-align: right;\">  start_date</th><th>start_time  </th><th style=\"text-align: right;\">  stop_sequence</th><th style=\"text-align: right;\">  departure</th><th style=\"text-align: right;\">  arrival</th><th>timestamp          </th><th>stop_id     </th><th style=\"text-align: right;\">    lon</th><th style=\"text-align: right;\">     lat</th></tr>\n</thead>\n<tbody>\n<tr><td><i style='opacity: 0.6'>0</i></td><td>11777.2.60-13-b12-1.22.I </td><td style=\"text-align: right;\"> 2.02101e+07</td><td>18:00:00    </td><td style=\"text-align: right;\">              1</td><td style=\"text-align: right;\">          0</td><td style=\"text-align: right;\">        0</td><td>2021-01-09 19:28:02</td><td>8230DB007229</td><td style=\"text-align: right;\">53.3301</td><td style=\"text-align: right;\">-6.45108</td></tr>\n<tr><td><i style='opacity: 0.6'>1</i></td><td>11756.2.60-13-b12-1.22.I </td><td style=\"text-align: right;\"> 2.02101e+07</td><td>18:15:00    </td><td style=\"text-align: right;\">              1</td><td style=\"text-align: right;\">          0</td><td style=\"text-align: right;\">        0</td><td>2021-01-09 19:28:02</td><td>8230DB007229</td><td style=\"text-align: right;\">53.3301</td><td style=\"text-align: right;\">-6.45108</td></tr>\n<tr><td><i style='opacity: 0.6'>2</i></td><td>11370.2.60-13-b12-1.23.I </td><td style=\"text-align: right;\"> 2.02101e+07</td><td>19:00:00    </td><td style=\"text-align: right;\">              1</td><td style=\"text-align: right;\">          0</td><td style=\"text-align: right;\">        0</td><td>2021-01-09 19:28:02</td><td>8230DB007229</td><td style=\"text-align: right;\">53.3301</td><td style=\"text-align: right;\">-6.45108</td></tr>\n<tr><td><i style='opacity: 0.6'>3</i></td><td>11379.2.60-13-b12-1.19.O </td><td style=\"text-align: right;\"> 2.02101e+07</td><td>18:00:00    </td><td style=\"text-align: right;\">              1</td><td style=\"text-align: right;\">          0</td><td style=\"text-align: right;\">        0</td><td>2021-01-09 19:28:02</td><td>8240DB000324</td><td style=\"text-align: right;\">53.4177</td><td style=\"text-align: right;\">-6.27864</td></tr>\n<tr><td><i style='opacity: 0.6'>4</i></td><td>11394.2.60-13-b12-1.19.O </td><td style=\"text-align: right;\"> 2.02101e+07</td><td>18:15:00    </td><td style=\"text-align: right;\">              1</td><td style=\"text-align: right;\">          0</td><td style=\"text-align: right;\">        0</td><td>2021-01-09 19:28:02</td><td>8240DB000324</td><td style=\"text-align: right;\">53.4177</td><td style=\"text-align: right;\">-6.27864</td></tr>\n<tr><td><i style='opacity: 0.6'>5</i></td><td>8595.2.60-4-b12-1.5.O    </td><td style=\"text-align: right;\"> 2.02101e+07</td><td>18:30:00    </td><td style=\"text-align: right;\">              1</td><td style=\"text-align: right;\">          0</td><td style=\"text-align: right;\">        0</td><td>2021-01-09 19:28:02</td><td>8240DB000324</td><td style=\"text-align: right;\">53.4177</td><td style=\"text-align: right;\">-6.27864</td></tr>\n<tr><td><i style='opacity: 0.6'>6</i></td><td>8566.2.60-4-b12-1.5.O    </td><td style=\"text-align: right;\"> 2.02101e+07</td><td>18:45:00    </td><td style=\"text-align: right;\">              1</td><td style=\"text-align: right;\">          0</td><td style=\"text-align: right;\">        0</td><td>2021-01-09 19:28:02</td><td>8240DB000324</td><td style=\"text-align: right;\">53.4177</td><td style=\"text-align: right;\">-6.27864</td></tr>\n<tr><td><i style='opacity: 0.6'>7</i></td><td>11401.2.60-13-b12-1.19.O </td><td style=\"text-align: right;\"> 2.02101e+07</td><td>18:45:00    </td><td style=\"text-align: right;\">              1</td><td style=\"text-align: right;\">          0</td><td style=\"text-align: right;\">        0</td><td>2021-01-09 19:28:02</td><td>8240DB000324</td><td style=\"text-align: right;\">53.4177</td><td style=\"text-align: right;\">-6.27864</td></tr>\n<tr><td><i style='opacity: 0.6'>8</i></td><td>11662.2.60-27B-b12-1.97.I</td><td style=\"text-align: right;\"> 2.02101e+07</td><td>19:00:00    </td><td style=\"text-align: right;\">              1</td><td style=\"text-align: right;\">          0</td><td style=\"text-align: right;\">        0</td><td>2021-01-09 19:28:02</td><td>8240DB000324</td><td style=\"text-align: right;\">53.4177</td><td style=\"text-align: right;\">-6.27864</td></tr>\n<tr><td><i style='opacity: 0.6'>9</i></td><td>8924.2.60-4-b12-1.5.O    </td><td style=\"text-align: right;\"> 2.02101e+07</td><td>19:00:00    </td><td style=\"text-align: right;\">              1</td><td style=\"text-align: right;\">          0</td><td style=\"text-align: right;\">        0</td><td>2021-01-09 19:28:02</td><td>8240DB000324</td><td style=\"text-align: right;\">53.4177</td><td style=\"text-align: right;\">-6.27864</td></tr>\n</tbody>\n</table>",
      "text/plain": [
       "  #  trip_id                      start_date  start_time      stop_sequence    departure    arrival  timestamp            stop_id           lon       lat\n",
       "  0  11777.2.60-13-b12-1.22.I    2.02101e+07  18:00:00                    1            0          0  2021-01-09 19:28:02  8230DB007229  53.3301  -6.45108\n",
       "  1  11756.2.60-13-b12-1.22.I    2.02101e+07  18:15:00                    1            0          0  2021-01-09 19:28:02  8230DB007229  53.3301  -6.45108\n",
       "  2  11370.2.60-13-b12-1.23.I    2.02101e+07  19:00:00                    1            0          0  2021-01-09 19:28:02  8230DB007229  53.3301  -6.45108\n",
       "  3  11379.2.60-13-b12-1.19.O    2.02101e+07  18:00:00                    1            0          0  2021-01-09 19:28:02  8240DB000324  53.4177  -6.27864\n",
       "  4  11394.2.60-13-b12-1.19.O    2.02101e+07  18:15:00                    1            0          0  2021-01-09 19:28:02  8240DB000324  53.4177  -6.27864\n",
       "  5  8595.2.60-4-b12-1.5.O       2.02101e+07  18:30:00                    1            0          0  2021-01-09 19:28:02  8240DB000324  53.4177  -6.27864\n",
       "  6  8566.2.60-4-b12-1.5.O       2.02101e+07  18:45:00                    1            0          0  2021-01-09 19:28:02  8240DB000324  53.4177  -6.27864\n",
       "  7  11401.2.60-13-b12-1.19.O    2.02101e+07  18:45:00                    1            0          0  2021-01-09 19:28:02  8240DB000324  53.4177  -6.27864\n",
       "  8  11662.2.60-27B-b12-1.97.I   2.02101e+07  19:00:00                    1            0          0  2021-01-09 19:28:02  8240DB000324  53.4177  -6.27864\n",
       "  9  8924.2.60-4-b12-1.5.O       2.02101e+07  19:00:00                    1            0          0  2021-01-09 19:28:02  8240DB000324  53.4177  -6.27864"
      ]
     },
     "metadata": {},
     "execution_count": 3
    }
   ],
   "source": [
    "if not os.path.exists(csv+'.hdf5'):\n",
    "    df = vaex.from_csv(csv, convert=True, copy_index=False, chunk_size=100000)\n",
    "    df.export(csv, shuffle=True)\n",
    "df = vaex.open(csv+'.hdf5')\n",
    "\n",
    "df.head()"
   ]
  },
  {
   "cell_type": "code",
   "execution_count": 4,
   "metadata": {},
   "outputs": [
    {
     "output_type": "execute_result",
     "data": {
      "text/plain": [
       "3100815"
      ]
     },
     "metadata": {},
     "execution_count": 4
    }
   ],
   "source": [
    "len(df)"
   ]
  },
  {
   "cell_type": "code",
   "execution_count": 34,
   "metadata": {},
   "outputs": [
    {
     "output_type": "execute_result",
     "data": {
      "text/html": "<table>\n<thead>\n<tr><th>#                                    </th><th>trip_id                     </th><th>start_date  </th><th>start_time  </th><th>stop_sequence  </th><th>departure  </th><th>arrival     </th><th>timestamp  </th><th>stop_id            </th><th>lon             </th><th>lat              </th><th>dow  </th><th>month  </th><th>day  </th><th>hour  </th></tr>\n</thead>\n<tbody>\n<tr><td><i style='opacity: 0.6'>0</i>        </td><td>11777.2.60-13-b12-1.22.I    </td><td>20210109    </td><td>18:00:00    </td><td>1              </td><td>0          </td><td>8230DB007229</td><td>0          </td><td>2021-01-09 19:28:02</td><td>53.3300889307077</td><td>-6.45108278609524</td><td>5    </td><td>1      </td><td>9    </td><td>18    </td></tr>\n<tr><td><i style='opacity: 0.6'>1</i>        </td><td>11756.2.60-13-b12-1.22.I    </td><td>20210109    </td><td>18:15:00    </td><td>1              </td><td>0          </td><td>8230DB007229</td><td>0          </td><td>2021-01-09 19:28:02</td><td>53.3300889307077</td><td>-6.45108278609524</td><td>5    </td><td>1      </td><td>9    </td><td>18    </td></tr>\n<tr><td><i style='opacity: 0.6'>2</i>        </td><td>11370.2.60-13-b12-1.23.I    </td><td>20210109    </td><td>19:00:00    </td><td>1              </td><td>0          </td><td>8230DB007229</td><td>0          </td><td>2021-01-09 19:28:02</td><td>53.3300889307077</td><td>-6.45108278609524</td><td>5    </td><td>1      </td><td>9    </td><td>19    </td></tr>\n<tr><td><i style='opacity: 0.6'>3</i>        </td><td>11379.2.60-13-b12-1.19.O    </td><td>20210109    </td><td>18:00:00    </td><td>1              </td><td>0          </td><td>8240DB000324</td><td>0          </td><td>2021-01-09 19:28:02</td><td>53.4177226807655</td><td>-6.27864416912571</td><td>5    </td><td>1      </td><td>9    </td><td>18    </td></tr>\n<tr><td><i style='opacity: 0.6'>4</i>        </td><td>11394.2.60-13-b12-1.19.O    </td><td>20210109    </td><td>18:15:00    </td><td>1              </td><td>0          </td><td>8240DB000324</td><td>0          </td><td>2021-01-09 19:28:02</td><td>53.4177226807655</td><td>-6.27864416912571</td><td>5    </td><td>1      </td><td>9    </td><td>18    </td></tr>\n<tr><td>...                                  </td><td>...                         </td><td>...         </td><td>...         </td><td>...            </td><td>...        </td><td>...         </td><td>...        </td><td>...                </td><td>...             </td><td>...              </td><td>...  </td><td>...    </td><td>...  </td><td>...   </td></tr>\n<tr><td><i style='opacity: 0.6'>3,100,810</i></td><td>4019.10447.2-76-gad-1.67.I  </td><td>20210131    </td><td>23:25:00    </td><td>31             </td><td>-120       </td><td>8230DB005008</td><td>-120       </td><td>2021-01-31 23:57:43</td><td>53.2904501890302</td><td>-6.3693569938866 </td><td>6    </td><td>1      </td><td>31   </td><td>23    </td></tr>\n<tr><td><i style='opacity: 0.6'>3,100,811</i></td><td>7791.10447.2-270-gad-1.235.I</td><td>20210131    </td><td>23:40:00    </td><td>1              </td><td>0          </td><td>8240DB007026</td><td>0          </td><td>2021-01-31 23:57:43</td><td>53.3938952323943</td><td>-6.39206445355138</td><td>6    </td><td>1      </td><td>31   </td><td>23    </td></tr>\n<tr><td><i style='opacity: 0.6'>3,100,812</i></td><td>7791.10447.2-270-gad-1.235.I</td><td>20210131    </td><td>23:40:00    </td><td>6              </td><td>60         </td><td>8240DB004765</td><td>60         </td><td>2021-01-31 23:57:43</td><td>53.4035321061144</td><td>-6.41438109242276</td><td>6    </td><td>1      </td><td>31   </td><td>23    </td></tr>\n<tr><td><i style='opacity: 0.6'>3,100,813</i></td><td>7791.10447.2-270-gad-1.235.I</td><td>20210131    </td><td>23:40:00    </td><td>1              </td><td>0          </td><td>8240DB007026</td><td>0          </td><td>2021-01-31 23:58:50</td><td>53.3938952323943</td><td>-6.39206445355138</td><td>6    </td><td>1      </td><td>31   </td><td>23    </td></tr>\n<tr><td><i style='opacity: 0.6'>3,100,814</i></td><td>7791.10447.2-270-gad-1.235.I</td><td>20210131    </td><td>23:40:00    </td><td>6              </td><td>60         </td><td>8240DB004765</td><td>60         </td><td>2021-01-31 23:58:50</td><td>53.4035321061144</td><td>-6.41438109242276</td><td>6    </td><td>1      </td><td>31   </td><td>23    </td></tr>\n</tbody>\n</table>",
      "text/plain": [
       "#          trip_id                       start_date    start_time    stop_sequence    departure    arrival       timestamp    stop_id              lon               lat                dow    month    day    hour\n",
       "0          11777.2.60-13-b12-1.22.I      20210109      18:00:00      1                0            8230DB007229  0            2021-01-09 19:28:02  53.3300889307077  -6.45108278609524  5      1        9      18\n",
       "1          11756.2.60-13-b12-1.22.I      20210109      18:15:00      1                0            8230DB007229  0            2021-01-09 19:28:02  53.3300889307077  -6.45108278609524  5      1        9      18\n",
       "2          11370.2.60-13-b12-1.23.I      20210109      19:00:00      1                0            8230DB007229  0            2021-01-09 19:28:02  53.3300889307077  -6.45108278609524  5      1        9      19\n",
       "3          11379.2.60-13-b12-1.19.O      20210109      18:00:00      1                0            8240DB000324  0            2021-01-09 19:28:02  53.4177226807655  -6.27864416912571  5      1        9      18\n",
       "4          11394.2.60-13-b12-1.19.O      20210109      18:15:00      1                0            8240DB000324  0            2021-01-09 19:28:02  53.4177226807655  -6.27864416912571  5      1        9      18\n",
       "...        ...                           ...           ...           ...              ...          ...           ...          ...                  ...               ...                ...    ...      ...    ...\n",
       "3,100,810  4019.10447.2-76-gad-1.67.I    20210131      23:25:00      31               -120         8230DB005008  -120         2021-01-31 23:57:43  53.2904501890302  -6.3693569938866   6      1        31     23\n",
       "3,100,811  7791.10447.2-270-gad-1.235.I  20210131      23:40:00      1                0            8240DB007026  0            2021-01-31 23:57:43  53.3938952323943  -6.39206445355138  6      1        31     23\n",
       "3,100,812  7791.10447.2-270-gad-1.235.I  20210131      23:40:00      6                60           8240DB004765  60           2021-01-31 23:57:43  53.4035321061144  -6.41438109242276  6      1        31     23\n",
       "3,100,813  7791.10447.2-270-gad-1.235.I  20210131      23:40:00      1                0            8240DB007026  0            2021-01-31 23:58:50  53.3938952323943  -6.39206445355138  6      1        31     23\n",
       "3,100,814  7791.10447.2-270-gad-1.235.I  20210131      23:40:00      6                60           8240DB004765  60           2021-01-31 23:58:50  53.4035321061144  -6.41438109242276  6      1        31     23"
      ]
     },
     "metadata": {},
     "execution_count": 34
    }
   ],
   "source": [
    "def apply_dow(t):\n",
    "    return datetime.strptime(str(t), '%Y%m%d').weekday()\n",
    "\n",
    "def apply_day(t):\n",
    "    return datetime.strptime(str(t), '%Y%m%d').day\n",
    "\n",
    "def apply_month(t):\n",
    "    return datetime.strptime(str(t), '%Y%m%d').month\n",
    "\n",
    "def apply_hour(t):\n",
    "    return datetime.strptime(t, '%H:%M:%S').hour\n",
    "\n",
    "df['dow'] = df['start_date'].apply(apply_dow)\n",
    "df['month'] = df['start_date'].apply(apply_month)\n",
    "df['day'] = df['start_date'].apply(apply_day)\n",
    "df['hour'] = df['start_time'].apply(apply_hour)\n",
    "df\n"
   ]
  },
  {
   "cell_type": "code",
   "execution_count": 37,
   "metadata": {},
   "outputs": [
    {
     "output_type": "execute_result",
     "data": {
      "text/html": "<table>\n<thead>\n<tr><th>#                                    </th><th>trip_id                     </th><th>start_date  </th><th>start_time  </th><th>stop_sequence  </th><th>departure  </th><th>arrival     </th><th>timestamp  </th><th>stop_id            </th><th>lon             </th><th>lat              </th><th>dow  </th><th>month  </th><th>day  </th><th>hour  </th><th>p_avg_vol         </th></tr>\n</thead>\n<tbody>\n<tr><td><i style='opacity: 0.6'>0</i>        </td><td>11777.2.60-13-b12-1.22.I    </td><td>20210109    </td><td>18:00:00    </td><td>1              </td><td>0          </td><td>8230DB007229</td><td>0          </td><td>2021-01-09 19:28:02</td><td>53.3300889307077</td><td>-6.45108278609524</td><td>5    </td><td>1      </td><td>9    </td><td>18    </td><td>2.0816397977575285</td></tr>\n<tr><td><i style='opacity: 0.6'>1</i>        </td><td>11756.2.60-13-b12-1.22.I    </td><td>20210109    </td><td>18:15:00    </td><td>1              </td><td>0          </td><td>8230DB007229</td><td>0          </td><td>2021-01-09 19:28:02</td><td>53.3300889307077</td><td>-6.45108278609524</td><td>5    </td><td>1      </td><td>9    </td><td>18    </td><td>2.0816397977575285</td></tr>\n<tr><td><i style='opacity: 0.6'>2</i>        </td><td>11370.2.60-13-b12-1.23.I    </td><td>20210109    </td><td>19:00:00    </td><td>1              </td><td>0          </td><td>8230DB007229</td><td>0          </td><td>2021-01-09 19:28:02</td><td>53.3300889307077</td><td>-6.45108278609524</td><td>5    </td><td>1      </td><td>9    </td><td>19    </td><td>0.6854268602814061</td></tr>\n<tr><td><i style='opacity: 0.6'>3</i>        </td><td>11379.2.60-13-b12-1.19.O    </td><td>20210109    </td><td>18:00:00    </td><td>1              </td><td>0          </td><td>8240DB000324</td><td>0          </td><td>2021-01-09 19:28:02</td><td>53.4177226807655</td><td>-6.27864416912571</td><td>5    </td><td>1      </td><td>9    </td><td>18    </td><td>63.324674301400876</td></tr>\n<tr><td><i style='opacity: 0.6'>4</i>        </td><td>11394.2.60-13-b12-1.19.O    </td><td>20210109    </td><td>18:15:00    </td><td>1              </td><td>0          </td><td>8240DB000324</td><td>0          </td><td>2021-01-09 19:28:02</td><td>53.4177226807655</td><td>-6.27864416912571</td><td>5    </td><td>1      </td><td>9    </td><td>18    </td><td>63.324674301400876</td></tr>\n<tr><td>...                                  </td><td>...                         </td><td>...         </td><td>...         </td><td>...            </td><td>...        </td><td>...         </td><td>...        </td><td>...                </td><td>...             </td><td>...              </td><td>...  </td><td>...    </td><td>...  </td><td>...   </td><td>...               </td></tr>\n<tr><td><i style='opacity: 0.6'>3,100,810</i></td><td>4019.10447.2-76-gad-1.67.I  </td><td>20210131    </td><td>23:25:00    </td><td>31             </td><td>-120       </td><td>8230DB005008</td><td>-120       </td><td>2021-01-31 23:57:43</td><td>53.2904501890302</td><td>-6.3693569938866 </td><td>6    </td><td>1      </td><td>31   </td><td>23    </td><td>11.459041315839096</td></tr>\n<tr><td><i style='opacity: 0.6'>3,100,811</i></td><td>7791.10447.2-270-gad-1.235.I</td><td>20210131    </td><td>23:40:00    </td><td>1              </td><td>0          </td><td>8240DB007026</td><td>0          </td><td>2021-01-31 23:57:43</td><td>53.3938952323943</td><td>-6.39206445355138</td><td>6    </td><td>1      </td><td>31   </td><td>23    </td><td>56.765784170384805</td></tr>\n<tr><td><i style='opacity: 0.6'>3,100,812</i></td><td>7791.10447.2-270-gad-1.235.I</td><td>20210131    </td><td>23:40:00    </td><td>6              </td><td>60         </td><td>8240DB004765</td><td>60         </td><td>2021-01-31 23:57:43</td><td>53.4035321061144</td><td>-6.41438109242276</td><td>6    </td><td>1      </td><td>31   </td><td>23    </td><td>56.765784170384805</td></tr>\n<tr><td><i style='opacity: 0.6'>3,100,813</i></td><td>7791.10447.2-270-gad-1.235.I</td><td>20210131    </td><td>23:40:00    </td><td>1              </td><td>0          </td><td>8240DB007026</td><td>0          </td><td>2021-01-31 23:58:50</td><td>53.3938952323943</td><td>-6.39206445355138</td><td>6    </td><td>1      </td><td>31   </td><td>23    </td><td>56.765784170384805</td></tr>\n<tr><td><i style='opacity: 0.6'>3,100,814</i></td><td>7791.10447.2-270-gad-1.235.I</td><td>20210131    </td><td>23:40:00    </td><td>6              </td><td>60         </td><td>8240DB004765</td><td>60         </td><td>2021-01-31 23:58:50</td><td>53.4035321061144</td><td>-6.41438109242276</td><td>6    </td><td>1      </td><td>31   </td><td>23    </td><td>56.765784170384805</td></tr>\n</tbody>\n</table>",
      "text/plain": [
       "#          trip_id                       start_date    start_time    stop_sequence    departure    arrival       timestamp    stop_id              lon               lat                dow    month    day    hour    p_avg_vol\n",
       "0          11777.2.60-13-b12-1.22.I      20210109      18:00:00      1                0            8230DB007229  0            2021-01-09 19:28:02  53.3300889307077  -6.45108278609524  5      1        9      18      2.0816397977575285\n",
       "1          11756.2.60-13-b12-1.22.I      20210109      18:15:00      1                0            8230DB007229  0            2021-01-09 19:28:02  53.3300889307077  -6.45108278609524  5      1        9      18      2.0816397977575285\n",
       "2          11370.2.60-13-b12-1.23.I      20210109      19:00:00      1                0            8230DB007229  0            2021-01-09 19:28:02  53.3300889307077  -6.45108278609524  5      1        9      19      0.6854268602814061\n",
       "3          11379.2.60-13-b12-1.19.O      20210109      18:00:00      1                0            8240DB000324  0            2021-01-09 19:28:02  53.4177226807655  -6.27864416912571  5      1        9      18      63.324674301400876\n",
       "4          11394.2.60-13-b12-1.19.O      20210109      18:15:00      1                0            8240DB000324  0            2021-01-09 19:28:02  53.4177226807655  -6.27864416912571  5      1        9      18      63.324674301400876\n",
       "...        ...                           ...           ...           ...              ...          ...           ...          ...                  ...               ...                ...    ...      ...    ...     ...\n",
       "3,100,810  4019.10447.2-76-gad-1.67.I    20210131      23:25:00      31               -120         8230DB005008  -120         2021-01-31 23:57:43  53.2904501890302  -6.3693569938866   6      1        31     23      11.459041315839096\n",
       "3,100,811  7791.10447.2-270-gad-1.235.I  20210131      23:40:00      1                0            8240DB007026  0            2021-01-31 23:57:43  53.3938952323943  -6.39206445355138  6      1        31     23      56.765784170384805\n",
       "3,100,812  7791.10447.2-270-gad-1.235.I  20210131      23:40:00      6                60           8240DB004765  60           2021-01-31 23:57:43  53.4035321061144  -6.41438109242276  6      1        31     23      56.765784170384805\n",
       "3,100,813  7791.10447.2-270-gad-1.235.I  20210131      23:40:00      1                0            8240DB007026  0            2021-01-31 23:58:50  53.3938952323943  -6.39206445355138  6      1        31     23      56.765784170384805\n",
       "3,100,814  7791.10447.2-270-gad-1.235.I  20210131      23:40:00      6                60           8240DB004765  60           2021-01-31 23:58:50  53.4035321061144  -6.41438109242276  6      1        31     23      56.765784170384805"
      ]
     },
     "metadata": {},
     "execution_count": 37
    }
   ],
   "source": [
    "def predict_traffic_from_gtfsr(df):\n",
    "    new_df = df\n",
    "    pca_coord = vaex.ml.PCA(features=['lat', 'lon'], n_components=2, prefix='pca')\n",
    "    new_df = pca_coord.fit_transform(new_df)\n",
    "\n",
    "    cycl_transform_hour = vaex.ml.CycleTransformer(features=['hour'], n=24)\n",
    "    new_df = cycl_transform_hour.fit_transform(new_df)\n",
    "\n",
    "    cycl_transform_dow = vaex.ml.CycleTransformer(features=['dow'], n=7)\n",
    "    new_df = cycl_transform_dow.fit_transform(new_df)\n",
    "\n",
    "    feats = new_df.get_column_names(regex='pca') + \\\n",
    "        new_df.get_column_names(regex='.*_x') + \\\n",
    "        new_df.get_column_names(regex='.*_y')\n",
    "\n",
    "    new_df = scats_model.transform(train_df)\n",
    "    return new_df[df.column_names + ['p_avg_vol']]\n",
    "\n",
    "pred_df = predict_traffic_from_gtfsr(df)\n",
    "pred_df\n"
   ]
  },
  {
   "cell_type": "code",
   "execution_count": 11,
   "metadata": {},
   "outputs": [
    {
     "output_type": "execute_result",
     "data": {
      "text/plain": [
       "Expression = p_avg_vol\n",
       "Length: 3,100,815 dtype: float64 (column)\n",
       "-----------------------------------------\n",
       "      0   2.08164\n",
       "      1   2.08164\n",
       "      2  0.685427\n",
       "      3   63.3247\n",
       "      4   63.3247\n",
       "       ...       \n",
       "3100810    11.459\n",
       "3100811   56.7658\n",
       "3100812   56.7658\n",
       "3100813   56.7658\n",
       "3100814   56.7658"
      ]
     },
     "metadata": {},
     "execution_count": 11
    }
   ],
   "source": [
    "pred_df['p_avg_vol']"
   ]
  },
  {
   "cell_type": "code",
   "execution_count": 38,
   "metadata": {},
   "outputs": [
    {
     "output_type": "execute_result",
     "data": {
      "text/html": "<table>\n<thead>\n<tr><th>#                                 </th><th>trip_id                  </th><th>start_date  </th><th>start_time  </th><th>stop_sequence  </th><th>departure  </th><th>arrival     </th><th>timestamp  </th><th>stop_id            </th><th>lon             </th><th>lat              </th><th>dow  </th><th>month  </th><th>day  </th><th>hour  </th><th>p_avg_vol         </th></tr>\n</thead>\n<tbody>\n<tr><td><i style='opacity: 0.6'>0</i>     </td><td>17608.4.60-27-b12-1.151.O</td><td>20210118    </td><td>06:00:00    </td><td>1              </td><td>0          </td><td>8220DB004595</td><td>0          </td><td>2021-01-18 05:31:07</td><td>53.4021399240889</td><td>-6.1729725878937 </td><td>0    </td><td>1      </td><td>18   </td><td>6     </td><td>22.267462864978395</td></tr>\n<tr><td><i style='opacity: 0.6'>1</i>     </td><td>17608.4.60-27-b12-1.151.O</td><td>20210118    </td><td>06:00:00    </td><td>1              </td><td>0          </td><td>8220DB004595</td><td>0          </td><td>2021-01-18 05:32:08</td><td>53.4021399240889</td><td>-6.1729725878937 </td><td>0    </td><td>1      </td><td>18   </td><td>6     </td><td>22.267462864978395</td></tr>\n<tr><td><i style='opacity: 0.6'>2</i>     </td><td>17673.4.60-27-b12-1.149.I</td><td>20210118    </td><td>05:30:00    </td><td>1              </td><td>0          </td><td>8230DB002353</td><td>0          </td><td>2021-01-18 05:33:07</td><td>53.279150529518 </td><td>-6.40175897234439</td><td>0    </td><td>1      </td><td>18   </td><td>5     </td><td>22.912470340780708</td></tr>\n<tr><td><i style='opacity: 0.6'>3</i>     </td><td>17608.4.60-27-b12-1.151.O</td><td>20210118    </td><td>06:00:00    </td><td>1              </td><td>0          </td><td>8220DB004595</td><td>0          </td><td>2021-01-18 05:33:07</td><td>53.4021399240889</td><td>-6.1729725878937 </td><td>0    </td><td>1      </td><td>18   </td><td>6     </td><td>22.267462864978395</td></tr>\n<tr><td><i style='opacity: 0.6'>4</i>     </td><td>17673.4.60-27-b12-1.149.I</td><td>20210118    </td><td>05:30:00    </td><td>1              </td><td>0          </td><td>8230DB002353</td><td>0          </td><td>2021-01-18 05:34:09</td><td>53.279150529518 </td><td>-6.40175897234439</td><td>0    </td><td>1      </td><td>18   </td><td>5     </td><td>22.912470340780708</td></tr>\n<tr><td>...                               </td><td>...                      </td><td>...         </td><td>...         </td><td>...            </td><td>...        </td><td>...         </td><td>...        </td><td>...                </td><td>...             </td><td>...              </td><td>...  </td><td>...    </td><td>...  </td><td>...   </td><td>...               </td></tr>\n<tr><td><i style='opacity: 0.6'>64,456</i></td><td>17628.4.60-27-b12-1.151.O</td><td>20210122    </td><td>09:30:00    </td><td>1              </td><td>0          </td><td>8220DB004595</td><td>0          </td><td>2021-01-22 10:47:40</td><td>53.4021399240889</td><td>-6.1729725878937 </td><td>4    </td><td>1      </td><td>22   </td><td>9     </td><td>63.66831483327159 </td></tr>\n<tr><td><i style='opacity: 0.6'>64,457</i></td><td>17628.4.60-27-b12-1.151.O</td><td>20210122    </td><td>09:30:00    </td><td>79             </td><td>-60        </td><td>8230DB004640</td><td>-60        </td><td>2021-01-22 10:47:40</td><td>53.289395624798 </td><td>-6.37374708548246</td><td>4    </td><td>1      </td><td>22   </td><td>9     </td><td>53.717319260508006</td></tr>\n<tr><td><i style='opacity: 0.6'>64,458</i></td><td>17628.4.60-27-b12-1.151.O</td><td>20210122    </td><td>09:30:00    </td><td>80             </td><td>0          </td><td>8230DB004347</td><td>0          </td><td>2021-01-22 10:47:40</td><td>53.2862220524214</td><td>-6.37500751308391</td><td>4    </td><td>1      </td><td>22   </td><td>9     </td><td>53.717319260508006</td></tr>\n<tr><td><i style='opacity: 0.6'>64,459</i></td><td>17628.4.60-27-b12-1.151.O</td><td>20210122    </td><td>09:30:00    </td><td>1              </td><td>0          </td><td>8220DB004595</td><td>0          </td><td>2021-01-22 10:48:44</td><td>53.4021399240889</td><td>-6.1729725878937 </td><td>4    </td><td>1      </td><td>22   </td><td>9     </td><td>63.66831483327159 </td></tr>\n<tr><td><i style='opacity: 0.6'>64,460</i></td><td>17628.4.60-27-b12-1.151.O</td><td>20210122    </td><td>09:30:00    </td><td>90             </td><td>-120       </td><td>8230DB004641</td><td>-120       </td><td>2021-01-22 10:48:44</td><td>53.2828723213874</td><td>-6.40181504496638</td><td>4    </td><td>1      </td><td>22   </td><td>9     </td><td>41.76610574401037 </td></tr>\n</tbody>\n</table>",
      "text/plain": [
       "#       trip_id                    start_date    start_time    stop_sequence    departure    arrival       timestamp    stop_id              lon               lat                dow    month    day    hour    p_avg_vol\n",
       "0       17608.4.60-27-b12-1.151.O  20210118      06:00:00      1                0            8220DB004595  0            2021-01-18 05:31:07  53.4021399240889  -6.1729725878937   0      1        18     6       22.267462864978395\n",
       "1       17608.4.60-27-b12-1.151.O  20210118      06:00:00      1                0            8220DB004595  0            2021-01-18 05:32:08  53.4021399240889  -6.1729725878937   0      1        18     6       22.267462864978395\n",
       "2       17673.4.60-27-b12-1.149.I  20210118      05:30:00      1                0            8230DB002353  0            2021-01-18 05:33:07  53.279150529518   -6.40175897234439  0      1        18     5       22.912470340780708\n",
       "3       17608.4.60-27-b12-1.151.O  20210118      06:00:00      1                0            8220DB004595  0            2021-01-18 05:33:07  53.4021399240889  -6.1729725878937   0      1        18     6       22.267462864978395\n",
       "4       17673.4.60-27-b12-1.149.I  20210118      05:30:00      1                0            8230DB002353  0            2021-01-18 05:34:09  53.279150529518   -6.40175897234439  0      1        18     5       22.912470340780708\n",
       "...     ...                        ...           ...           ...              ...          ...           ...          ...                  ...               ...                ...    ...      ...    ...     ...\n",
       "64,456  17628.4.60-27-b12-1.151.O  20210122      09:30:00      1                0            8220DB004595  0            2021-01-22 10:47:40  53.4021399240889  -6.1729725878937   4      1        22     9       63.66831483327159\n",
       "64,457  17628.4.60-27-b12-1.151.O  20210122      09:30:00      79               -60          8230DB004640  -60          2021-01-22 10:47:40  53.289395624798   -6.37374708548246  4      1        22     9       53.717319260508006\n",
       "64,458  17628.4.60-27-b12-1.151.O  20210122      09:30:00      80               0            8230DB004347  0            2021-01-22 10:47:40  53.2862220524214  -6.37500751308391  4      1        22     9       53.717319260508006\n",
       "64,459  17628.4.60-27-b12-1.151.O  20210122      09:30:00      1                0            8220DB004595  0            2021-01-22 10:48:44  53.4021399240889  -6.1729725878937   4      1        22     9       63.66831483327159\n",
       "64,460  17628.4.60-27-b12-1.151.O  20210122      09:30:00      90               -120         8230DB004641  -120         2021-01-22 10:48:44  53.2828723213874  -6.40181504496638  4      1        22     9       41.76610574401037"
      ]
     },
     "metadata": {},
     "execution_count": 38
    }
   ],
   "source": [
    "trip_27 = pred_df[pred_df['trip_id'].str.contains('-27-')]\n",
    "trip_27"
   ]
  }
 ]
}