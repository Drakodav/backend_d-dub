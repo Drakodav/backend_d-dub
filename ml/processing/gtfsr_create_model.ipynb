{
 "metadata": {
  "language_info": {
   "codemirror_mode": {
    "name": "ipython",
    "version": 3
   },
   "file_extension": ".py",
   "mimetype": "text/x-python",
   "name": "python",
   "nbconvert_exporter": "python",
   "pygments_lexer": "ipython3",
   "version": "3.8.0-final"
  },
  "orig_nbformat": 2,
  "kernelspec": {
   "name": "python3",
   "display_name": "Python 3",
   "language": "python"
  }
 },
 "nbformat": 4,
 "nbformat_minor": 2,
 "cells": [
  {
   "cell_type": "code",
   "execution_count": 23,
   "metadata": {},
   "outputs": [],
   "source": [
    "%matplotlib inline\n",
    "\n",
    "import os\n",
    "import numpy as np\n",
    "import pandas as pd\n",
    "from pathlib import Path\n",
    "import matplotlib.pyplot as plt\n",
    "import seaborn as sns\n",
    "import psycopg2\n",
    "import time\n",
    "from django.contrib.gis.geos import Point, fromstr, GEOSGeometry\n",
    "from datetime import datetime, timedelta\n",
    "import vaex\n",
    "import vaex.ml\n",
    "from joblib import delayed, Parallel, load, parallel_backend\n",
    "# from haversine import haversine, Unit\n",
    "\n",
    "dir = Path.cwd()\n",
    "outdir = os.path.join(dir, 'output')\n",
    "gtfs_records_zip = os.path.join(dir, 'data', 'GtfsRRecords.zip')\n",
    "gtfs_csv_zip = os.path.join(outdir, 'gtfsr_csv.zip')\n",
    "gtfs_final_csv_path = os.path.join(outdir, 'gtfsr.csv')\n",
    "gtfs_processed_csv_path = os.path.join(outdir, \"gtfsr_processed.csv\")\n",
    "scats = os.path.join(dir, 'output', 'scats_model.json')"
   ]
  },
  {
   "cell_type": "code",
   "execution_count": 2,
   "metadata": {},
   "outputs": [
    {
     "output_type": "execute_result",
     "data": {
      "text/html": "<table>\n<thead>\n<tr><th>#                                    </th><th>trip_id                  </th><th>start_date  </th><th>start_time  </th><th>stop_sequence  </th><th>departure  </th><th>arrival  </th><th>timestamp          </th><th>stop_id     </th><th>lat              </th><th>lon             </th><th>arrival_time  </th><th>departure_time  </th><th>shape_dist_traveled  </th><th>hour  </th><th>dow  </th><th>p_avg_vol         </th></tr>\n</thead>\n<tbody>\n<tr><td><i style='opacity: 0.6'>0</i>        </td><td>16289.4.60-123-b12-1.71.I</td><td>20210119    </td><td>11:05:00    </td><td>19             </td><td>-14640     </td><td>-14640   </td><td>2021-01-19 10:50:00</td><td>8220DB001278</td><td>-6.26130011810001</td><td>53.3442366224365</td><td>10:19:29      </td><td>10:19:29        </td><td>5330.51              </td><td>10    </td><td>2    </td><td>71.60020835813714 </td></tr>\n<tr><td><i style='opacity: 0.6'>1</i>        </td><td>16287.4.60-123-b12-1.71.I</td><td>20210119    </td><td>09:00:00    </td><td>19             </td><td>-8280      </td><td>-8280    </td><td>2021-01-19 08:51:57</td><td>8220DB001278</td><td>-6.26130011810001</td><td>53.3442366224365</td><td>08:19:52      </td><td>08:19:52        </td><td>5330.51              </td><td>8     </td><td>2    </td><td>62.45976357578324 </td></tr>\n<tr><td><i style='opacity: 0.6'>2</i>        </td><td>16302.4.60-123-b12-1.71.I</td><td>20210119    </td><td>09:15:00    </td><td>19             </td><td>-5700      </td><td>-5700    </td><td>2021-01-19 09:14:50</td><td>8220DB001278</td><td>-6.26130011810001</td><td>53.3442366224365</td><td>08:34:52      </td><td>08:34:52        </td><td>5330.51              </td><td>8     </td><td>2    </td><td>62.45976357578324 </td></tr>\n<tr><td><i style='opacity: 0.6'>3</i>        </td><td>16316.4.60-123-b12-1.71.I</td><td>20210118    </td><td>08:15:00    </td><td>19             </td><td>-3900      </td><td>-3900    </td><td>2021-01-18 08:02:08</td><td>8220DB001278</td><td>-6.26130011810001</td><td>53.3442366224365</td><td>00:06:07      </td><td>00:06:07        </td><td>5330.51              </td><td>0     </td><td>1    </td><td>23.520948983404384</td></tr>\n<tr><td><i style='opacity: 0.6'>4</i>        </td><td>1041.1.60-122-b12-1.65.O </td><td>20210114    </td><td>14:00:00    </td><td>23             </td><td>-660       </td><td>-660     </td><td>2021-01-14 15:00:52</td><td>8220DB001278</td><td>-6.26130011810001</td><td>53.3442366224365</td><td>15:37:29      </td><td>15:37:29        </td><td>7800.24              </td><td>15    </td><td>3    </td><td>54.39009117546706 </td></tr>\n<tr><td>...                                  </td><td>...                      </td><td>...         </td><td>...         </td><td>...            </td><td>...        </td><td>...      </td><td>...                </td><td>...         </td><td>...              </td><td>...             </td><td>...           </td><td>...             </td><td>...                  </td><td>...   </td><td>...  </td><td>...               </td></tr>\n<tr><td><i style='opacity: 0.6'>1,331,128</i></td><td>12475.3.60-31-b12-1.161.O</td><td>20210131    </td><td>23:15:00    </td><td>54             </td><td>300        </td><td>300      </td><td>2021-01-31 23:53:38</td><td>8240DB000707</td><td>-6.05864990209616</td><td>53.3724895313374</td><td>00:44:11      </td><td>00:44:11        </td><td>17080.81             </td><td>0     </td><td>0    </td><td>125.06669632749724</td></tr>\n<tr><td><i style='opacity: 0.6'>1,331,129</i></td><td>12333.3.60-65-b12-1.272.I</td><td>20210124    </td><td>22:00:00    </td><td>16             </td><td>360        </td><td>360      </td><td>2021-01-24 22:20:43</td><td>8350DB004102</td><td>-6.51561604212167</td><td>53.1888733556119</td><td>23:12:09      </td><td>23:12:09        </td><td>11038.61             </td><td>23    </td><td>6    </td><td>0.0               </td></tr>\n<tr><td><i style='opacity: 0.6'>1,331,130</i></td><td>12304.3.60-65-b12-1.269.O</td><td>20210131    </td><td>21:30:00    </td><td>69             </td><td>360        </td><td>360      </td><td>2021-01-31 22:26:53</td><td>8350DB004100</td><td>-6.51542624487623</td><td>53.188736170197 </td><td>23:15:04      </td><td>23:15:04        </td><td>28862.93             </td><td>23    </td><td>6    </td><td>0.0               </td></tr>\n<tr><td><i style='opacity: 0.6'>1,331,131</i></td><td>16460.4.60-65-b12-1.271.O</td><td>20210120    </td><td>18:30:00    </td><td>70             </td><td>480        </td><td>480      </td><td>2021-01-20 19:45:43</td><td>8350DB004021</td><td>-6.51885133635455</td><td>53.1861812708552</td><td>17:32:53      </td><td>17:32:53        </td><td>29226.91             </td><td>17    </td><td>3    </td><td>5.655465097158063 </td></tr>\n<tr><td><i style='opacity: 0.6'>1,331,132</i></td><td>6322.1.60-13-b12-1.26.O  </td><td>20210114    </td><td>18:30:00    </td><td>90             </td><td>1140       </td><td>1140     </td><td>2021-01-14 20:12:14</td><td>8230DB007230</td><td>-6.4537789442073 </td><td>53.3223763429667</td><td>20:50:38      </td><td>20:50:38        </td><td>35107.12             </td><td>20    </td><td>3    </td><td>1.9220882651625577</td></tr>\n</tbody>\n</table>",
      "text/plain": [
       "#          trip_id                    start_date    start_time    stop_sequence    departure    arrival    timestamp            stop_id       lat                lon               arrival_time    departure_time    shape_dist_traveled    hour    dow    p_avg_vol\n",
       "0          16289.4.60-123-b12-1.71.I  20210119      11:05:00      19               -14640       -14640     2021-01-19 10:50:00  8220DB001278  -6.26130011810001  53.3442366224365  10:19:29        10:19:29          5330.51                10      2      71.60020835813714\n",
       "1          16287.4.60-123-b12-1.71.I  20210119      09:00:00      19               -8280        -8280      2021-01-19 08:51:57  8220DB001278  -6.26130011810001  53.3442366224365  08:19:52        08:19:52          5330.51                8       2      62.45976357578324\n",
       "2          16302.4.60-123-b12-1.71.I  20210119      09:15:00      19               -5700        -5700      2021-01-19 09:14:50  8220DB001278  -6.26130011810001  53.3442366224365  08:34:52        08:34:52          5330.51                8       2      62.45976357578324\n",
       "3          16316.4.60-123-b12-1.71.I  20210118      08:15:00      19               -3900        -3900      2021-01-18 08:02:08  8220DB001278  -6.26130011810001  53.3442366224365  00:06:07        00:06:07          5330.51                0       1      23.520948983404384\n",
       "4          1041.1.60-122-b12-1.65.O   20210114      14:00:00      23               -660         -660       2021-01-14 15:00:52  8220DB001278  -6.26130011810001  53.3442366224365  15:37:29        15:37:29          7800.24                15      3      54.39009117546706\n",
       "...        ...                        ...           ...           ...              ...          ...        ...                  ...           ...                ...               ...             ...               ...                    ...     ...    ...\n",
       "1,331,128  12475.3.60-31-b12-1.161.O  20210131      23:15:00      54               300          300        2021-01-31 23:53:38  8240DB000707  -6.05864990209616  53.3724895313374  00:44:11        00:44:11          17080.81               0       0      125.06669632749724\n",
       "1,331,129  12333.3.60-65-b12-1.272.I  20210124      22:00:00      16               360          360        2021-01-24 22:20:43  8350DB004102  -6.51561604212167  53.1888733556119  23:12:09        23:12:09          11038.61               23      6      0.0\n",
       "1,331,130  12304.3.60-65-b12-1.269.O  20210131      21:30:00      69               360          360        2021-01-31 22:26:53  8350DB004100  -6.51542624487623  53.188736170197   23:15:04        23:15:04          28862.93               23      6      0.0\n",
       "1,331,131  16460.4.60-65-b12-1.271.O  20210120      18:30:00      70               480          480        2021-01-20 19:45:43  8350DB004021  -6.51885133635455  53.1861812708552  17:32:53        17:32:53          29226.91               17      3      5.655465097158063\n",
       "1,331,132  6322.1.60-13-b12-1.26.O    20210114      18:30:00      90               1140         1140       2021-01-14 20:12:14  8230DB007230  -6.4537789442073   53.3223763429667  20:50:38        20:50:38          35107.12               20      3      1.9220882651625577"
      ]
     },
     "metadata": {},
     "execution_count": 2
    }
   ],
   "source": [
    "df = vaex.from_csv(gtfs_processed_csv_path, convert=True)\n",
    "df"
   ]
  },
  {
   "cell_type": "code",
   "execution_count": 3,
   "metadata": {},
   "outputs": [
    {
     "output_type": "execute_result",
     "data": {
      "text/plain": [
       "                       dtype    count NA                mean          std  \\\n",
       "trip_id                  str  1331133  0                  --           --   \n",
       "start_date             int64  1331133  0  20210124.523001082     28.28869   \n",
       "start_time               str  1331133  0                  --           --   \n",
       "stop_sequence          int64  1331133  0  31.461628552518793    20.889282   \n",
       "departure              int64  1331133  0  121.96154704300773   305.660074   \n",
       "arrival                int64  1331133  0  118.25043778495463   300.882935   \n",
       "timestamp                str  1331133  0                  --           --   \n",
       "stop_id                  str  1331133  0                  --           --   \n",
       "lat                  float64  1331133  0  -6.258904306910986     0.077611   \n",
       "lon                  float64  1331133  0   53.34068158078088      0.06039   \n",
       "arrival_time             str  1331133  0                  --           --   \n",
       "departure_time           str  1331133  0                  --           --   \n",
       "shape_dist_traveled  float64  1331133  0  10853.391890722389  7471.358078   \n",
       "hour                   int64  1331133  0  14.979204932940585     4.768556   \n",
       "dow                    int64  1331133  0  3.3245115251443695     1.929542   \n",
       "p_avg_vol            float64  1331133  0   72.82558377252005    56.195248   \n",
       "\n",
       "                           min          max  \n",
       "trip_id                     --           --  \n",
       "start_date            20210109     20210131  \n",
       "start_time                  --           --  \n",
       "stop_sequence                1          104  \n",
       "departure               -14640         6660  \n",
       "arrival                 -14640         6660  \n",
       "timestamp                   --           --  \n",
       "stop_id                     --           --  \n",
       "lat                  -6.614865    -6.053311  \n",
       "lon                  53.070678    53.606196  \n",
       "arrival_time                --           --  \n",
       "departure_time              --           --  \n",
       "shape_dist_traveled        0.0      45761.8  \n",
       "hour                         0           23  \n",
       "dow                          0            6  \n",
       "p_avg_vol                  0.0  2213.765189  "
      ],
      "text/html": "<div>\n<style scoped>\n    .dataframe tbody tr th:only-of-type {\n        vertical-align: middle;\n    }\n\n    .dataframe tbody tr th {\n        vertical-align: top;\n    }\n\n    .dataframe thead th {\n        text-align: right;\n    }\n</style>\n<table border=\"1\" class=\"dataframe\">\n  <thead>\n    <tr style=\"text-align: right;\">\n      <th></th>\n      <th>dtype</th>\n      <th>count</th>\n      <th>NA</th>\n      <th>mean</th>\n      <th>std</th>\n      <th>min</th>\n      <th>max</th>\n    </tr>\n  </thead>\n  <tbody>\n    <tr>\n      <th>trip_id</th>\n      <td>str</td>\n      <td>1331133</td>\n      <td>0</td>\n      <td>--</td>\n      <td>--</td>\n      <td>--</td>\n      <td>--</td>\n    </tr>\n    <tr>\n      <th>start_date</th>\n      <td>int64</td>\n      <td>1331133</td>\n      <td>0</td>\n      <td>20210124.523001082</td>\n      <td>28.28869</td>\n      <td>20210109</td>\n      <td>20210131</td>\n    </tr>\n    <tr>\n      <th>start_time</th>\n      <td>str</td>\n      <td>1331133</td>\n      <td>0</td>\n      <td>--</td>\n      <td>--</td>\n      <td>--</td>\n      <td>--</td>\n    </tr>\n    <tr>\n      <th>stop_sequence</th>\n      <td>int64</td>\n      <td>1331133</td>\n      <td>0</td>\n      <td>31.461628552518793</td>\n      <td>20.889282</td>\n      <td>1</td>\n      <td>104</td>\n    </tr>\n    <tr>\n      <th>departure</th>\n      <td>int64</td>\n      <td>1331133</td>\n      <td>0</td>\n      <td>121.96154704300773</td>\n      <td>305.660074</td>\n      <td>-14640</td>\n      <td>6660</td>\n    </tr>\n    <tr>\n      <th>arrival</th>\n      <td>int64</td>\n      <td>1331133</td>\n      <td>0</td>\n      <td>118.25043778495463</td>\n      <td>300.882935</td>\n      <td>-14640</td>\n      <td>6660</td>\n    </tr>\n    <tr>\n      <th>timestamp</th>\n      <td>str</td>\n      <td>1331133</td>\n      <td>0</td>\n      <td>--</td>\n      <td>--</td>\n      <td>--</td>\n      <td>--</td>\n    </tr>\n    <tr>\n      <th>stop_id</th>\n      <td>str</td>\n      <td>1331133</td>\n      <td>0</td>\n      <td>--</td>\n      <td>--</td>\n      <td>--</td>\n      <td>--</td>\n    </tr>\n    <tr>\n      <th>lat</th>\n      <td>float64</td>\n      <td>1331133</td>\n      <td>0</td>\n      <td>-6.258904306910986</td>\n      <td>0.077611</td>\n      <td>-6.614865</td>\n      <td>-6.053311</td>\n    </tr>\n    <tr>\n      <th>lon</th>\n      <td>float64</td>\n      <td>1331133</td>\n      <td>0</td>\n      <td>53.34068158078088</td>\n      <td>0.06039</td>\n      <td>53.070678</td>\n      <td>53.606196</td>\n    </tr>\n    <tr>\n      <th>arrival_time</th>\n      <td>str</td>\n      <td>1331133</td>\n      <td>0</td>\n      <td>--</td>\n      <td>--</td>\n      <td>--</td>\n      <td>--</td>\n    </tr>\n    <tr>\n      <th>departure_time</th>\n      <td>str</td>\n      <td>1331133</td>\n      <td>0</td>\n      <td>--</td>\n      <td>--</td>\n      <td>--</td>\n      <td>--</td>\n    </tr>\n    <tr>\n      <th>shape_dist_traveled</th>\n      <td>float64</td>\n      <td>1331133</td>\n      <td>0</td>\n      <td>10853.391890722389</td>\n      <td>7471.358078</td>\n      <td>0.0</td>\n      <td>45761.8</td>\n    </tr>\n    <tr>\n      <th>hour</th>\n      <td>int64</td>\n      <td>1331133</td>\n      <td>0</td>\n      <td>14.979204932940585</td>\n      <td>4.768556</td>\n      <td>0</td>\n      <td>23</td>\n    </tr>\n    <tr>\n      <th>dow</th>\n      <td>int64</td>\n      <td>1331133</td>\n      <td>0</td>\n      <td>3.3245115251443695</td>\n      <td>1.929542</td>\n      <td>0</td>\n      <td>6</td>\n    </tr>\n    <tr>\n      <th>p_avg_vol</th>\n      <td>float64</td>\n      <td>1331133</td>\n      <td>0</td>\n      <td>72.82558377252005</td>\n      <td>56.195248</td>\n      <td>0.0</td>\n      <td>2213.765189</td>\n    </tr>\n  </tbody>\n</table>\n</div>"
     },
     "metadata": {},
     "execution_count": 3
    }
   ],
   "source": [
    "df.describe().T"
   ]
  },
  {
   "cell_type": "code",
   "execution_count": 31,
   "metadata": {},
   "outputs": [
    {
     "output_type": "execute_result",
     "data": {
      "text/html": "<table>\n<thead>\n<tr><th>#                                </th><th>trip_id                     </th><th>start_date  </th><th>start_time  </th><th>stop_sequence  </th><th>departure  </th><th>arrival  </th><th>timestamp          </th><th>stop_id     </th><th>lat              </th><th>lon             </th><th>arrival_time  </th><th>departure_time  </th><th>shape_dist_traveled  </th><th>hour  </th><th>dow  </th><th>p_avg_vol         </th></tr>\n</thead>\n<tbody>\n<tr><td><i style='opacity: 0.6'>0</i>    </td><td>12105.3.60-122-b12-1.61.O   </td><td>20210117    </td><td>09:00:00    </td><td>23             </td><td>0          </td><td>0        </td><td>2021-01-17 09:40:07</td><td>8220DB001278</td><td>-6.26130011810001</td><td>53.3442366224365</td><td>00:22:08      </td><td>00:22:08        </td><td>7800.24              </td><td>0     </td><td>0    </td><td>22.714894603447075</td></tr>\n<tr><td><i style='opacity: 0.6'>1</i>    </td><td>12229.3.60-123-b12-1.71.I   </td><td>20210131    </td><td>23:10:00    </td><td>19             </td><td>60         </td><td>60       </td><td>2021-01-31 23:24:42</td><td>8220DB001278</td><td>-6.26130011810001</td><td>53.3442366224365</td><td>00:26:02      </td><td>00:26:02        </td><td>5330.51              </td><td>0     </td><td>0    </td><td>22.714894603447075</td></tr>\n<tr><td><i style='opacity: 0.6'>2</i>    </td><td>12105.3.60-122-b12-1.61.O   </td><td>20210131    </td><td>23:00:00    </td><td>23             </td><td>120        </td><td>120      </td><td>2021-01-31 23:20:26</td><td>8220DB001278</td><td>-6.26130011810001</td><td>53.3442366224365</td><td>00:22:08      </td><td>00:22:08        </td><td>7800.24              </td><td>0     </td><td>0    </td><td>22.714894603447075</td></tr>\n<tr><td><i style='opacity: 0.6'>3</i>    </td><td>12105.3.60-122-b12-1.61.O   </td><td>20210131    </td><td>23:00:00    </td><td>23             </td><td>240        </td><td>240      </td><td>2021-01-31 23:23:30</td><td>8220DB001278</td><td>-6.26130011810001</td><td>53.3442366224365</td><td>00:22:08      </td><td>00:22:08        </td><td>7800.24              </td><td>0     </td><td>0    </td><td>22.714894603447075</td></tr>\n<tr><td><i style='opacity: 0.6'>4</i>    </td><td>12105.3.60-122-b12-1.61.O   </td><td>20210131    </td><td>23:00:00    </td><td>23             </td><td>840        </td><td>840      </td><td>2021-01-31 23:51:29</td><td>8220DB001278</td><td>-6.26130011810001</td><td>53.3442366224365</td><td>00:22:08      </td><td>00:22:08        </td><td>7800.24              </td><td>0     </td><td>0    </td><td>22.714894603447075</td></tr>\n<tr><td>...                              </td><td>...                         </td><td>...         </td><td>...         </td><td>...            </td><td>...        </td><td>...      </td><td>...                </td><td>...         </td><td>...              </td><td>...             </td><td>...           </td><td>...             </td><td>...                  </td><td>...   </td><td>...  </td><td>...               </td></tr>\n<tr><td><i style='opacity: 0.6'>4,590</i></td><td>3150.10447.2-185-gad-1.174.O</td><td>20210131    </td><td>23:00:00    </td><td>4              </td><td>60         </td><td>60       </td><td>2021-01-31 23:02:57</td><td>8350DB004111</td><td>-6.19133907152751</td><td>53.1950960491494</td><td>00:01:00      </td><td>00:01:00        </td><td>957.32               </td><td>0     </td><td>0    </td><td>34.88427118911486 </td></tr>\n<tr><td><i style='opacity: 0.6'>4,591</i></td><td>7779.10447.2-270-gad-1.236.O</td><td>20210124    </td><td>23:03:00    </td><td>6              </td><td>120        </td><td>120      </td><td>2021-01-24 23:08:18</td><td>8310DB003337</td><td>-6.44897984739847</td><td>53.4140798813531</td><td>00:05:00      </td><td>00:05:00        </td><td>1875.87              </td><td>0     </td><td>0    </td><td>3.9648713548811303</td></tr>\n<tr><td><i style='opacity: 0.6'>4,592</i></td><td>12877.3.60-44-b12-1.246.O   </td><td>20210131    </td><td>23:00:00    </td><td>79             </td><td>240        </td><td>240      </td><td>2021-01-31 23:57:43</td><td>8350DB004093</td><td>-6.17351696534828</td><td>53.1988778931298</td><td>00:58:11      </td><td>00:58:11        </td><td>27882.07             </td><td>0     </td><td>0    </td><td>34.73150895135262 </td></tr>\n<tr><td><i style='opacity: 0.6'>4,593</i></td><td>12475.3.60-31-b12-1.161.O   </td><td>20210131    </td><td>23:15:00    </td><td>63             </td><td>360        </td><td>360      </td><td>2021-01-31 23:55:34</td><td>8240DB000716</td><td>-6.08875424382869</td><td>53.3724901056998</td><td>00:47:13      </td><td>00:47:13        </td><td>20020.37             </td><td>0     </td><td>0    </td><td>11.203738622452263</td></tr>\n<tr><td><i style='opacity: 0.6'>4,594</i></td><td>12475.3.60-31-b12-1.161.O   </td><td>20210131    </td><td>23:15:00    </td><td>54             </td><td>300        </td><td>300      </td><td>2021-01-31 23:53:38</td><td>8240DB000707</td><td>-6.05864990209616</td><td>53.3724895313374</td><td>00:44:11      </td><td>00:44:11        </td><td>17080.81             </td><td>0     </td><td>0    </td><td>125.06669632749724</td></tr>\n</tbody>\n</table>",
      "text/plain": [
       "#      trip_id                       start_date    start_time    stop_sequence    departure    arrival    timestamp            stop_id       lat                lon               arrival_time    departure_time    shape_dist_traveled    hour    dow    p_avg_vol\n",
       "0      12105.3.60-122-b12-1.61.O     20210117      09:00:00      23               0            0          2021-01-17 09:40:07  8220DB001278  -6.26130011810001  53.3442366224365  00:22:08        00:22:08          7800.24                0       0      22.714894603447075\n",
       "1      12229.3.60-123-b12-1.71.I     20210131      23:10:00      19               60           60         2021-01-31 23:24:42  8220DB001278  -6.26130011810001  53.3442366224365  00:26:02        00:26:02          5330.51                0       0      22.714894603447075\n",
       "2      12105.3.60-122-b12-1.61.O     20210131      23:00:00      23               120          120        2021-01-31 23:20:26  8220DB001278  -6.26130011810001  53.3442366224365  00:22:08        00:22:08          7800.24                0       0      22.714894603447075\n",
       "3      12105.3.60-122-b12-1.61.O     20210131      23:00:00      23               240          240        2021-01-31 23:23:30  8220DB001278  -6.26130011810001  53.3442366224365  00:22:08        00:22:08          7800.24                0       0      22.714894603447075\n",
       "4      12105.3.60-122-b12-1.61.O     20210131      23:00:00      23               840          840        2021-01-31 23:51:29  8220DB001278  -6.26130011810001  53.3442366224365  00:22:08        00:22:08          7800.24                0       0      22.714894603447075\n",
       "...    ...                           ...           ...           ...              ...          ...        ...                  ...           ...                ...               ...             ...               ...                    ...     ...    ...\n",
       "4,590  3150.10447.2-185-gad-1.174.O  20210131      23:00:00      4                60           60         2021-01-31 23:02:57  8350DB004111  -6.19133907152751  53.1950960491494  00:01:00        00:01:00          957.32                 0       0      34.88427118911486\n",
       "4,591  7779.10447.2-270-gad-1.236.O  20210124      23:03:00      6                120          120        2021-01-24 23:08:18  8310DB003337  -6.44897984739847  53.4140798813531  00:05:00        00:05:00          1875.87                0       0      3.9648713548811303\n",
       "4,592  12877.3.60-44-b12-1.246.O     20210131      23:00:00      79               240          240        2021-01-31 23:57:43  8350DB004093  -6.17351696534828  53.1988778931298  00:58:11        00:58:11          27882.07               0       0      34.73150895135262\n",
       "4,593  12475.3.60-31-b12-1.161.O     20210131      23:15:00      63               360          360        2021-01-31 23:55:34  8240DB000716  -6.08875424382869  53.3724901056998  00:47:13        00:47:13          20020.37               0       0      11.203738622452263\n",
       "4,594  12475.3.60-31-b12-1.161.O     20210131      23:15:00      54               300          300        2021-01-31 23:53:38  8240DB000707  -6.05864990209616  53.3724895313374  00:44:11        00:44:11          17080.81               0       0      125.06669632749724"
      ]
     },
     "metadata": {},
     "execution_count": 31
    }
   ],
   "source": [
    "df[(df['hour'] == 0) & (df['dow'] == 0)]"
   ]
  },
  {
   "cell_type": "code",
   "execution_count": null,
   "metadata": {},
   "outputs": [],
   "source": []
  },
  {
   "cell_type": "code",
   "execution_count": null,
   "metadata": {},
   "outputs": [],
   "source": []
  },
  {
   "cell_type": "code",
   "execution_count": null,
   "metadata": {},
   "outputs": [],
   "source": []
  },
  {
   "cell_type": "code",
   "execution_count": null,
   "metadata": {},
   "outputs": [],
   "source": []
  },
  {
   "cell_type": "code",
   "execution_count": null,
   "metadata": {},
   "outputs": [],
   "source": []
  },
  {
   "cell_type": "code",
   "execution_count": null,
   "metadata": {},
   "outputs": [],
   "source": []
  },
  {
   "cell_type": "code",
   "execution_count": null,
   "metadata": {},
   "outputs": [],
   "source": []
  },
  {
   "cell_type": "code",
   "execution_count": null,
   "metadata": {},
   "outputs": [],
   "source": []
  },
  {
   "cell_type": "code",
   "execution_count": 24,
   "metadata": {},
   "outputs": [
    {
     "output_type": "display_data",
     "data": {
      "text/plain": "Heatmap(children=[ToolsToolbar(interact_value=None, supports_normalize=False, template='<template>\\n  <v-toolb…",
      "application/vnd.jupyter.widget-view+json": {
       "version_major": 2,
       "version_minor": 0,
       "model_id": "7f96055e7ff94fb587a962ccceb6da44"
      }
     },
     "metadata": {}
    }
   ],
   "source": [
    "df.plot_widget(df.lon, df.lat, shape=512, colormap='plasma', f='log1p', limits='minmax')"
   ]
  }
 ]
}