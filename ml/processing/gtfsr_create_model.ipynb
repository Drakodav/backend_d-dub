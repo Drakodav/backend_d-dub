{
 "metadata": {
  "language_info": {
   "codemirror_mode": {
    "name": "ipython",
    "version": 3
   },
   "file_extension": ".py",
   "mimetype": "text/x-python",
   "name": "python",
   "nbconvert_exporter": "python",
   "pygments_lexer": "ipython3",
   "version": "3.8.0-final"
  },
  "orig_nbformat": 2,
  "kernelspec": {
   "name": "python3",
   "display_name": "Python 3",
   "language": "python"
  }
 },
 "nbformat": 4,
 "nbformat_minor": 2,
 "cells": [
  {
   "cell_type": "code",
   "execution_count": 1,
   "metadata": {},
   "outputs": [],
   "source": [
    "%matplotlib inline\n",
    "\n",
    "import os\n",
    "import numpy as np\n",
    "import pandas as pd\n",
    "from pathlib import Path\n",
    "import matplotlib.pyplot as plt\n",
    "import seaborn as sns\n",
    "import psycopg2\n",
    "import time\n",
    "from django.contrib.gis.geos import Point, fromstr, GEOSGeometry\n",
    "from datetime import datetime, timedelta\n",
    "import vaex\n",
    "import vaex.ml\n",
    "from joblib import delayed, Parallel, load, parallel_backend\n",
    "# from haversine import haversine, Unit\n",
    "\n",
    "dir = Path.cwd()\n",
    "outdir = os.path.join(dir, 'output')\n",
    "gtfs_records_zip = os.path.join(dir, 'data', 'GtfsRRecords.zip')\n",
    "gtfs_csv_zip = os.path.join(outdir, 'gtfsr_csv.zip')\n",
    "gtfs_final_csv_path = os.path.join(outdir, 'gtfsr.csv')\n",
    "gtfs_processed_csv_path = os.path.join(outdir, \"gtfsr_processed.csv\")\n",
    "scats = os.path.join(dir, 'output', 'scats_model.json')"
   ]
  },
  {
   "cell_type": "code",
   "execution_count": 9,
   "metadata": {},
   "outputs": [
    {
     "output_type": "execute_result",
     "data": {
      "text/html": "<table>\n<thead>\n<tr><th>#                                    </th><th>trip_id                  </th><th>start_date  </th><th>start_time  </th><th>stop_sequence  </th><th>departure  </th><th>arrival  </th><th>timestamp          </th><th>stop_id     </th><th>arrival_time  </th><th>departure_time  </th><th>shape_dist_traveled  </th><th>lat             </th><th>lon              </th><th>direction_angle    </th><th>shape_dist_between  </th><th>init_time  </th><th>hour  </th><th>dow  </th><th>p_avg_vol         </th></tr>\n</thead>\n<tbody>\n<tr><td><i style='opacity: 0.6'>0</i>        </td><td>11777.2.60-13-b12-1.22.I </td><td>20210109    </td><td>18:00:00    </td><td>1              </td><td>0          </td><td>0        </td><td>2021-01-09 19:28:02</td><td>8230DB007229</td><td>15:00:00      </td><td>15:00:00        </td><td>0.0                  </td><td>53.3300889307077</td><td>-6.45108278609524</td><td>63.09549602776408  </td><td>0.0                 </td><td>15:00:00   </td><td>15    </td><td>6    </td><td>167.05279073328407</td></tr>\n<tr><td><i style='opacity: 0.6'>1</i>        </td><td>11777.2.60-13-b12-1.22.I </td><td>20210116    </td><td>18:00:00    </td><td>1              </td><td>0          </td><td>0        </td><td>2021-01-16 18:50:57</td><td>8230DB007229</td><td>15:00:00      </td><td>15:00:00        </td><td>0.0                  </td><td>53.3300889307077</td><td>-6.45108278609524</td><td>63.09549602776408  </td><td>0.0                 </td><td>15:00:00   </td><td>15    </td><td>6    </td><td>167.05279073328407</td></tr>\n<tr><td><i style='opacity: 0.6'>2</i>        </td><td>11777.2.60-13-b12-1.22.I </td><td>20210123    </td><td>14:00:00    </td><td>1              </td><td>0          </td><td>0        </td><td>2021-01-23 13:31:16</td><td>8230DB007229</td><td>15:00:00      </td><td>15:00:00        </td><td>0.0                  </td><td>53.3300889307077</td><td>-6.45108278609524</td><td>63.09549602776408  </td><td>0.0                 </td><td>15:00:00   </td><td>15    </td><td>5    </td><td>177.39385447375147</td></tr>\n<tr><td><i style='opacity: 0.6'>3</i>        </td><td>11777.2.60-13-b12-1.22.I </td><td>20210130    </td><td>14:00:00    </td><td>1              </td><td>0          </td><td>0        </td><td>2021-01-30 13:31:03</td><td>8230DB007229</td><td>15:00:00      </td><td>15:00:00        </td><td>0.0                  </td><td>53.3300889307077</td><td>-6.45108278609524</td><td>63.09549602776408  </td><td>0.0                 </td><td>15:00:00   </td><td>15    </td><td>5    </td><td>177.39385447375147</td></tr>\n<tr><td><i style='opacity: 0.6'>4</i>        </td><td>11379.2.60-13-b12-1.19.O </td><td>20210109    </td><td>18:00:00    </td><td>1              </td><td>0          </td><td>0        </td><td>2021-01-09 19:28:02</td><td>8240DB000324</td><td>15:00:00      </td><td>15:00:00        </td><td>0.0                  </td><td>53.4177226807655</td><td>-6.27864416912571</td><td>-116.93979484783767</td><td>0.0                 </td><td>15:00:00   </td><td>15    </td><td>6    </td><td>62.97226861960824 </td></tr>\n<tr><td>...                                  </td><td>...                      </td><td>...         </td><td>...         </td><td>...            </td><td>...        </td><td>...      </td><td>...                </td><td>...         </td><td>...           </td><td>...             </td><td>...                  </td><td>...             </td><td>...              </td><td>...                </td><td>...                 </td><td>...        </td><td>...   </td><td>...  </td><td>...               </td></tr>\n<tr><td><i style='opacity: 0.6'>1,164,416</i></td><td>12640.3.60-130-b12-1.74.I</td><td>20210131    </td><td>23:30:00    </td><td>18             </td><td>1200       </td><td>1200     </td><td>2021-01-31 23:59:45</td><td>8220DB001729</td><td>00:38:34      </td><td>00:38:34        </td><td>4808.93              </td><td>53.3584969058401</td><td>-6.19031550974047</td><td>-107.23111263684194</td><td>304.8600000000006   </td><td>00:30:00   </td><td>0     </td><td>0    </td><td>12.628966054289007</td></tr>\n<tr><td><i style='opacity: 0.6'>1,164,417</i></td><td>12877.3.60-44-b12-1.246.O</td><td>20210131    </td><td>23:00:00    </td><td>68             </td><td>300        </td><td>300      </td><td>2021-01-31 23:58:50</td><td>8250DB003478</td><td>00:52:11      </td><td>00:52:11        </td><td>22858.06             </td><td>53.2390505484196</td><td>-6.19616830395543</td><td>155.4154238326518  </td><td>487.3900000000031   </td><td>00:00:00   </td><td>0     </td><td>0    </td><td>30.316506594416804</td></tr>\n<tr><td><i style='opacity: 0.6'>1,164,418</i></td><td>12750.3.60-40-b12-1.206.O</td><td>20210131    </td><td>23:00:00    </td><td>79             </td><td>120        </td><td>120      </td><td>2021-01-31 23:59:45</td><td>8230DB004690</td><td>00:57:43      </td><td>00:57:43        </td><td>28066.88             </td><td>53.3495094392524</td><td>-6.40519639715847</td><td>-118.90642649102342</td><td>264.3100000000013   </td><td>00:00:00   </td><td>0     </td><td>0    </td><td>18.25027855067062 </td></tr>\n<tr><td><i style='opacity: 0.6'>1,164,419</i></td><td>12355.3.60-37-b12-1.39.O </td><td>20210131    </td><td>23:20:00    </td><td>56             </td><td>120        </td><td>120      </td><td>2021-01-31 23:59:45</td><td>8240DB007227</td><td>00:56:18      </td><td>00:56:18        </td><td>19188.9              </td><td>53.3837882586066</td><td>-6.4031036640899 </td><td>-67.67425709043938 </td><td>240.34000000000012  </td><td>00:20:00   </td><td>0     </td><td>0    </td><td>17.70530015090147 </td></tr>\n<tr><td><i style='opacity: 0.6'>1,164,420</i></td><td>12640.3.60-130-b12-1.74.I</td><td>20210131    </td><td>23:30:00    </td><td>20             </td><td>1140       </td><td>1140     </td><td>2021-01-31 23:59:45</td><td>8220DB001731</td><td>00:39:11      </td><td>00:39:11        </td><td>5252.7               </td><td>53.3590767534218</td><td>-6.19655620427261</td><td>-107.23111263684194</td><td>187.39999999999964  </td><td>00:30:00   </td><td>0     </td><td>0    </td><td>13.02696189128    </td></tr>\n</tbody>\n</table>",
      "text/plain": [
       "#          trip_id                    start_date    start_time    stop_sequence    departure    arrival    timestamp            stop_id       arrival_time    departure_time    shape_dist_traveled    lat               lon                direction_angle      shape_dist_between    init_time    hour    dow    p_avg_vol\n",
       "0          11777.2.60-13-b12-1.22.I   20210109      18:00:00      1                0            0          2021-01-09 19:28:02  8230DB007229  15:00:00        15:00:00          0.0                    53.3300889307077  -6.45108278609524  63.09549602776408    0.0                   15:00:00     15      6      167.05279073328407\n",
       "1          11777.2.60-13-b12-1.22.I   20210116      18:00:00      1                0            0          2021-01-16 18:50:57  8230DB007229  15:00:00        15:00:00          0.0                    53.3300889307077  -6.45108278609524  63.09549602776408    0.0                   15:00:00     15      6      167.05279073328407\n",
       "2          11777.2.60-13-b12-1.22.I   20210123      14:00:00      1                0            0          2021-01-23 13:31:16  8230DB007229  15:00:00        15:00:00          0.0                    53.3300889307077  -6.45108278609524  63.09549602776408    0.0                   15:00:00     15      5      177.39385447375147\n",
       "3          11777.2.60-13-b12-1.22.I   20210130      14:00:00      1                0            0          2021-01-30 13:31:03  8230DB007229  15:00:00        15:00:00          0.0                    53.3300889307077  -6.45108278609524  63.09549602776408    0.0                   15:00:00     15      5      177.39385447375147\n",
       "4          11379.2.60-13-b12-1.19.O   20210109      18:00:00      1                0            0          2021-01-09 19:28:02  8240DB000324  15:00:00        15:00:00          0.0                    53.4177226807655  -6.27864416912571  -116.93979484783767  0.0                   15:00:00     15      6      62.97226861960824\n",
       "...        ...                        ...           ...           ...              ...          ...        ...                  ...           ...             ...               ...                    ...               ...                ...                  ...                   ...          ...     ...    ...\n",
       "1,164,416  12640.3.60-130-b12-1.74.I  20210131      23:30:00      18               1200         1200       2021-01-31 23:59:45  8220DB001729  00:38:34        00:38:34          4808.93                53.3584969058401  -6.19031550974047  -107.23111263684194  304.8600000000006     00:30:00     0       0      12.628966054289007\n",
       "1,164,417  12877.3.60-44-b12-1.246.O  20210131      23:00:00      68               300          300        2021-01-31 23:58:50  8250DB003478  00:52:11        00:52:11          22858.06               53.2390505484196  -6.19616830395543  155.4154238326518    487.3900000000031     00:00:00     0       0      30.316506594416804\n",
       "1,164,418  12750.3.60-40-b12-1.206.O  20210131      23:00:00      79               120          120        2021-01-31 23:59:45  8230DB004690  00:57:43        00:57:43          28066.88               53.3495094392524  -6.40519639715847  -118.90642649102342  264.3100000000013     00:00:00     0       0      18.25027855067062\n",
       "1,164,419  12355.3.60-37-b12-1.39.O   20210131      23:20:00      56               120          120        2021-01-31 23:59:45  8240DB007227  00:56:18        00:56:18          19188.9                53.3837882586066  -6.4031036640899   -67.67425709043938   240.34000000000012    00:20:00     0       0      17.70530015090147\n",
       "1,164,420  12640.3.60-130-b12-1.74.I  20210131      23:30:00      20               1140         1140       2021-01-31 23:59:45  8220DB001731  00:39:11        00:39:11          5252.7                 53.3590767534218  -6.19655620427261  -107.23111263684194  187.39999999999964    00:30:00     0       0      13.02696189128"
      ]
     },
     "metadata": {},
     "execution_count": 9
    }
   ],
   "source": [
    "df = vaex.from_csv(gtfs_processed_csv_path, convert=True)\n",
    "df"
   ]
  },
  {
   "cell_type": "code",
   "execution_count": 7,
   "metadata": {},
   "outputs": [
    {
     "output_type": "execute_result",
     "data": {
      "text/plain": [
       "873"
      ]
     },
     "metadata": {},
     "execution_count": 7
    }
   ],
   "source": [
    "len(df)"
   ]
  },
  {
   "cell_type": "code",
   "execution_count": 5,
   "metadata": {},
   "outputs": [
    {
     "output_type": "execute_result",
     "data": {
      "text/plain": [
       "                       dtype count NA                 mean          std  \\\n",
       "trip_id                  str   873  0                   --           --   \n",
       "start_date             int64   873  0   20210118.625429552     2.487469   \n",
       "start_time               str   873  0                   --           --   \n",
       "stop_sequence          int64   873  0   31.097365406643757    22.856009   \n",
       "departure              int64   873  0   105.91065292096219   197.748788   \n",
       "arrival                int64   873  0   103.16151202749141   197.471051   \n",
       "timestamp                str   873  0                   --           --   \n",
       "stop_id                  str   873  0                   --           --   \n",
       "arrival_time             str   873  0                   --           --   \n",
       "departure_time           str   873  0                   --           --   \n",
       "shape_dist_traveled  float64   873  0     9974.40697594499  7378.452917   \n",
       "lat                  float64   873  0    53.34024008495689     0.042082   \n",
       "lon                  float64   873  0   -6.263398397308769     0.068445   \n",
       "direction_angle      float64   873  0  -14.351469077518601   100.998095   \n",
       "shape_dist_between   float64   873  0    393.6732073310421   244.957137   \n",
       "hour                   int64   873  0   14.487972508591065     4.342724   \n",
       "dow                    int64   873  0   3.1512027491408934     2.074235   \n",
       "p_avg_vol            float64   873  0    73.67532979463968    58.212346   \n",
       "\n",
       "                            min         max  \n",
       "trip_id                      --          --  \n",
       "start_date             20210109    20210122  \n",
       "start_time                   --          --  \n",
       "stop_sequence                 1          91  \n",
       "departure                  -420         900  \n",
       "arrival                    -420         900  \n",
       "timestamp                    --          --  \n",
       "stop_id                      --          --  \n",
       "arrival_time                 --          --  \n",
       "departure_time               --          --  \n",
       "shape_dist_traveled         0.0    28984.81  \n",
       "lat                   53.241399   53.459664  \n",
       "lon                   -6.406015   -6.130488  \n",
       "direction_angle     -177.639354  135.054223  \n",
       "shape_dist_between          0.0     1197.67  \n",
       "hour                          1          23  \n",
       "dow                           0           6  \n",
       "p_avg_vol                   0.0  508.718096  "
      ],
      "text/html": "<div>\n<style scoped>\n    .dataframe tbody tr th:only-of-type {\n        vertical-align: middle;\n    }\n\n    .dataframe tbody tr th {\n        vertical-align: top;\n    }\n\n    .dataframe thead th {\n        text-align: right;\n    }\n</style>\n<table border=\"1\" class=\"dataframe\">\n  <thead>\n    <tr style=\"text-align: right;\">\n      <th></th>\n      <th>dtype</th>\n      <th>count</th>\n      <th>NA</th>\n      <th>mean</th>\n      <th>std</th>\n      <th>min</th>\n      <th>max</th>\n    </tr>\n  </thead>\n  <tbody>\n    <tr>\n      <th>trip_id</th>\n      <td>str</td>\n      <td>873</td>\n      <td>0</td>\n      <td>--</td>\n      <td>--</td>\n      <td>--</td>\n      <td>--</td>\n    </tr>\n    <tr>\n      <th>start_date</th>\n      <td>int64</td>\n      <td>873</td>\n      <td>0</td>\n      <td>20210118.625429552</td>\n      <td>2.487469</td>\n      <td>20210109</td>\n      <td>20210122</td>\n    </tr>\n    <tr>\n      <th>start_time</th>\n      <td>str</td>\n      <td>873</td>\n      <td>0</td>\n      <td>--</td>\n      <td>--</td>\n      <td>--</td>\n      <td>--</td>\n    </tr>\n    <tr>\n      <th>stop_sequence</th>\n      <td>int64</td>\n      <td>873</td>\n      <td>0</td>\n      <td>31.097365406643757</td>\n      <td>22.856009</td>\n      <td>1</td>\n      <td>91</td>\n    </tr>\n    <tr>\n      <th>departure</th>\n      <td>int64</td>\n      <td>873</td>\n      <td>0</td>\n      <td>105.91065292096219</td>\n      <td>197.748788</td>\n      <td>-420</td>\n      <td>900</td>\n    </tr>\n    <tr>\n      <th>arrival</th>\n      <td>int64</td>\n      <td>873</td>\n      <td>0</td>\n      <td>103.16151202749141</td>\n      <td>197.471051</td>\n      <td>-420</td>\n      <td>900</td>\n    </tr>\n    <tr>\n      <th>timestamp</th>\n      <td>str</td>\n      <td>873</td>\n      <td>0</td>\n      <td>--</td>\n      <td>--</td>\n      <td>--</td>\n      <td>--</td>\n    </tr>\n    <tr>\n      <th>stop_id</th>\n      <td>str</td>\n      <td>873</td>\n      <td>0</td>\n      <td>--</td>\n      <td>--</td>\n      <td>--</td>\n      <td>--</td>\n    </tr>\n    <tr>\n      <th>arrival_time</th>\n      <td>str</td>\n      <td>873</td>\n      <td>0</td>\n      <td>--</td>\n      <td>--</td>\n      <td>--</td>\n      <td>--</td>\n    </tr>\n    <tr>\n      <th>departure_time</th>\n      <td>str</td>\n      <td>873</td>\n      <td>0</td>\n      <td>--</td>\n      <td>--</td>\n      <td>--</td>\n      <td>--</td>\n    </tr>\n    <tr>\n      <th>shape_dist_traveled</th>\n      <td>float64</td>\n      <td>873</td>\n      <td>0</td>\n      <td>9974.40697594499</td>\n      <td>7378.452917</td>\n      <td>0.0</td>\n      <td>28984.81</td>\n    </tr>\n    <tr>\n      <th>lat</th>\n      <td>float64</td>\n      <td>873</td>\n      <td>0</td>\n      <td>53.34024008495689</td>\n      <td>0.042082</td>\n      <td>53.241399</td>\n      <td>53.459664</td>\n    </tr>\n    <tr>\n      <th>lon</th>\n      <td>float64</td>\n      <td>873</td>\n      <td>0</td>\n      <td>-6.263398397308769</td>\n      <td>0.068445</td>\n      <td>-6.406015</td>\n      <td>-6.130488</td>\n    </tr>\n    <tr>\n      <th>direction_angle</th>\n      <td>float64</td>\n      <td>873</td>\n      <td>0</td>\n      <td>-14.351469077518601</td>\n      <td>100.998095</td>\n      <td>-177.639354</td>\n      <td>135.054223</td>\n    </tr>\n    <tr>\n      <th>shape_dist_between</th>\n      <td>float64</td>\n      <td>873</td>\n      <td>0</td>\n      <td>393.6732073310421</td>\n      <td>244.957137</td>\n      <td>0.0</td>\n      <td>1197.67</td>\n    </tr>\n    <tr>\n      <th>hour</th>\n      <td>int64</td>\n      <td>873</td>\n      <td>0</td>\n      <td>14.487972508591065</td>\n      <td>4.342724</td>\n      <td>1</td>\n      <td>23</td>\n    </tr>\n    <tr>\n      <th>dow</th>\n      <td>int64</td>\n      <td>873</td>\n      <td>0</td>\n      <td>3.1512027491408934</td>\n      <td>2.074235</td>\n      <td>0</td>\n      <td>6</td>\n    </tr>\n    <tr>\n      <th>p_avg_vol</th>\n      <td>float64</td>\n      <td>873</td>\n      <td>0</td>\n      <td>73.67532979463968</td>\n      <td>58.212346</td>\n      <td>0.0</td>\n      <td>508.718096</td>\n    </tr>\n  </tbody>\n</table>\n</div>"
     },
     "metadata": {},
     "execution_count": 5
    }
   ],
   "source": [
    "df.describe().T"
   ]
  },
  {
   "cell_type": "code",
   "execution_count": 6,
   "metadata": {},
   "outputs": [
    {
     "output_type": "execute_result",
     "data": {
      "text/html": "<table>\n<thead>\n<tr><th>#  </th><th>trip_id  </th><th>start_date  </th><th>start_time  </th><th>stop_sequence  </th><th>departure  </th><th>arrival  </th><th>timestamp  </th><th>stop_id  </th><th>arrival_time  </th><th>departure_time  </th><th>shape_dist_traveled  </th><th>lat  </th><th>lon  </th><th>direction_angle  </th><th>shape_dist_between  </th><th>hour  </th><th>dow  </th><th>p_avg_vol  </th></tr>\n</thead>\n<tbody>\n<tr><td>   </td><td>         </td><td>            </td><td>            </td><td>               </td><td>           </td><td>         </td><td>           </td><td>         </td><td>              </td><td>                </td><td>                     </td><td>     </td><td>     </td><td>                 </td><td>                    </td><td>      </td><td>     </td><td>           </td></tr>\n</tbody>\n</table><i>No rows to display (because of filtering).</i>",
      "text/plain": [
       "#    trip_id    start_date    start_time    stop_sequence    departure    arrival    timestamp    stop_id    arrival_time    departure_time    shape_dist_traveled    lat    lon    direction_angle    shape_dist_between    hour    dow    p_avg_vol\n",
       "\n",
       "No rows to display (because of filtering)."
      ]
     },
     "metadata": {},
     "execution_count": 6
    }
   ],
   "source": [
    "df[(df['hour'] == 0) & (df['dow'] == 0)]"
   ]
  },
  {
   "cell_type": "code",
   "execution_count": null,
   "metadata": {},
   "outputs": [],
   "source": []
  },
  {
   "cell_type": "code",
   "execution_count": null,
   "metadata": {},
   "outputs": [],
   "source": []
  },
  {
   "cell_type": "code",
   "execution_count": null,
   "metadata": {},
   "outputs": [],
   "source": []
  },
  {
   "cell_type": "code",
   "execution_count": null,
   "metadata": {},
   "outputs": [],
   "source": []
  },
  {
   "cell_type": "code",
   "execution_count": null,
   "metadata": {},
   "outputs": [],
   "source": []
  },
  {
   "cell_type": "code",
   "execution_count": null,
   "metadata": {},
   "outputs": [],
   "source": []
  },
  {
   "cell_type": "code",
   "execution_count": null,
   "metadata": {},
   "outputs": [],
   "source": []
  },
  {
   "cell_type": "code",
   "execution_count": null,
   "metadata": {},
   "outputs": [],
   "source": []
  },
  {
   "cell_type": "code",
   "execution_count": 24,
   "metadata": {},
   "outputs": [
    {
     "output_type": "display_data",
     "data": {
      "text/plain": "Heatmap(children=[ToolsToolbar(interact_value=None, supports_normalize=False, template='<template>\\n  <v-toolb…",
      "application/vnd.jupyter.widget-view+json": {
       "version_major": 2,
       "version_minor": 0,
       "model_id": "7f96055e7ff94fb587a962ccceb6da44"
      }
     },
     "metadata": {}
    }
   ],
   "source": [
    "df.plot_widget(df.lon, df.lat, shape=512, colormap='plasma', f='log1p', limits='minmax')"
   ]
  }
 ]
}