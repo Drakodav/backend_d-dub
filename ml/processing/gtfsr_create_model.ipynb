{
 "metadata": {
  "language_info": {
   "codemirror_mode": {
    "name": "ipython",
    "version": 3
   },
   "file_extension": ".py",
   "mimetype": "text/x-python",
   "name": "python",
   "nbconvert_exporter": "python",
   "pygments_lexer": "ipython3",
   "version": "3.8.0-final"
  },
  "orig_nbformat": 2,
  "kernelspec": {
   "name": "python3",
   "display_name": "Python 3",
   "language": "python"
  }
 },
 "nbformat": 4,
 "nbformat_minor": 2,
 "cells": [
  {
   "cell_type": "code",
   "execution_count": 2,
   "metadata": {},
   "outputs": [],
   "source": [
    "%matplotlib inline\n",
    "\n",
    "import os\n",
    "import numpy as np\n",
    "import pandas as pd\n",
    "from pathlib import Path\n",
    "import matplotlib.pyplot as plt\n",
    "import seaborn as sns\n",
    "import psycopg2\n",
    "import time\n",
    "from django.contrib.gis.geos import Point, fromstr, GEOSGeometry\n",
    "from datetime import datetime, timedelta\n",
    "import vaex\n",
    "import vaex.ml\n",
    "from joblib import delayed, Parallel, load, parallel_backend\n",
    "# from haversine import haversine, Unit\n",
    "\n",
    "dir = Path.cwd()\n",
    "outdir = os.path.join(dir, 'output')\n",
    "gtfs_records_zip = os.path.join(dir, 'data', 'GtfsRRecords.zip')\n",
    "gtfs_csv_zip = os.path.join(outdir, 'gtfsr_csv.zip')\n",
    "gtfs_final_csv_path = os.path.join(outdir, 'gtfsr.csv')\n",
    "gtfs_processed_csv_path = os.path.join(outdir, \"gtfsr_processed.csv\")\n",
    "scats = os.path.join(dir, 'output', 'scats_model.json')"
   ]
  },
  {
   "cell_type": "code",
   "execution_count": 3,
   "metadata": {},
   "outputs": [
    {
     "output_type": "execute_result",
     "data": {
      "text/html": "<table>\n<thead>\n<tr><th>#                                    </th><th>trip_id                   </th><th>start_date  </th><th>start_time  </th><th>stop_sequence  </th><th>departure  </th><th>arrival  </th><th>timestamp          </th><th>stop_id     </th><th>arrival_time  </th><th>departure_time  </th><th>shape_dist_traveled  </th><th>lat             </th><th>lon              </th><th>direction_angle    </th><th>shape_dist_between  </th><th>hour  </th><th>dow  </th><th>p_avg_vol        </th></tr>\n</thead>\n<tbody>\n<tr><td><i style='opacity: 0.6'>0</i>        </td><td>14181.3.60-79-b12-1.331.I </td><td>20210131    </td><td>15:20:00    </td><td>27             </td><td>0          </td><td>0        </td><td>2021-01-31 15:38:23</td><td>8220DB007453</td><td>15:43:53      </td><td>15:43:53        </td><td>9236.25              </td><td>53.3463358924194</td><td>-6.27838250402172</td><td>86.7035700423138   </td><td>425.4500000000007   </td><td>15    </td><td>6    </td><td>96.25931192252952</td></tr>\n<tr><td><i style='opacity: 0.6'>1</i>        </td><td>8746.2.60-16-b12-1.129.I  </td><td>20210130    </td><td>10:48:00    </td><td>52             </td><td>-240       </td><td>-240     </td><td>2021-01-30 11:24:56</td><td>8220DB000021</td><td>11:38:01      </td><td>11:38:01        </td><td>14109.77             </td><td>53.3701011992972</td><td>-6.25431059904437</td><td>2.2863971656259885 </td><td>327.3000000000011   </td><td>11    </td><td>5    </td><td>39.43149146620169</td></tr>\n<tr><td><i style='opacity: 0.6'>2</i>        </td><td>8003.10455.2-17-gad-1.3.I </td><td>20210129    </td><td>12:20:00    </td><td>31             </td><td>300        </td><td>300      </td><td>2021-01-29 12:56:38</td><td>8250DB001035</td><td>12:54:00      </td><td>12:54:00        </td><td>11129.83             </td><td>53.2951037415434</td><td>-6.25612557753287</td><td>-74.30741720193481 </td><td>428.09000000000015  </td><td>12    </td><td>4    </td><td>91.5310097916111 </td></tr>\n<tr><td><i style='opacity: 0.6'>3</i>        </td><td>20600.4.60-15-b12-1.32.O  </td><td>20210122    </td><td>16:45:00    </td><td>35             </td><td>-60        </td><td>-60      </td><td>2021-01-22 17:19:30</td><td>8220DB007581</td><td>17:22:09      </td><td>17:22:09        </td><td>11537.96             </td><td>53.3441585614977</td><td>-6.26334590761396</td><td>-126.28881488258796</td><td>483.4599999999991   </td><td>17    </td><td>4    </td><td>86.68459828990551</td></tr>\n<tr><td><i style='opacity: 0.6'>4</i>        </td><td>17261.4.60-44-b12-1.246.O </td><td>20210128    </td><td>08:30:00    </td><td>38             </td><td>420        </td><td>420      </td><td>2021-01-28 09:14:29</td><td>8220DB002815</td><td>09:12:32      </td><td>09:12:32        </td><td>12194.89             </td><td>53.31585100315  </td><td>-6.24526859253124</td><td>155.4154238326518  </td><td>486.1299999999992   </td><td>9     </td><td>3    </td><td>103.8975076370368</td></tr>\n<tr><td>...                                  </td><td>...                       </td><td>...         </td><td>...         </td><td>...            </td><td>...        </td><td>...      </td><td>...                </td><td>...         </td><td>...           </td><td>...             </td><td>...                  </td><td>...             </td><td>...              </td><td>...                </td><td>...                 </td><td>...   </td><td>...  </td><td>...              </td></tr>\n<tr><td><i style='opacity: 0.6'>1,025,849</i></td><td>20546.4.60-15-b12-1.31.I  </td><td>20210122    </td><td>16:30:00    </td><td>61             </td><td>480        </td><td>480      </td><td>2021-01-22 17:37:04</td><td>8220DB001202</td><td>17:30:28      </td><td>17:30:28        </td><td>18606.24             </td><td>53.3925013826657</td><td>-6.1934290504328 </td><td>53.530212757221655 </td><td>260.4800000000032   </td><td>17    </td><td>4    </td><td>98.48893553284805</td></tr>\n<tr><td><i style='opacity: 0.6'>1,025,850</i></td><td>18482.4.60-4-b12-1.5.O    </td><td>20210125    </td><td>16:30:00    </td><td>29             </td><td>300        </td><td>300      </td><td>2021-01-25 16:57:28</td><td>8220DB004725</td><td>16:55:36      </td><td>16:55:36        </td><td>10308.95             </td><td>53.352115616113 </td><td>-6.26105453403103</td><td>135.97323997287558 </td><td>696.5600000000013   </td><td>16    </td><td>0    </td><td>43.25699451487691</td></tr>\n<tr><td><i style='opacity: 0.6'>1,025,851</i></td><td>19796.4.60-46A-b12-1.258.O</td><td>20210128    </td><td>16:10:00    </td><td>27             </td><td>120        </td><td>120      </td><td>2021-01-28 16:32:27</td><td>8220DB000759</td><td>16:42:30      </td><td>16:42:30        </td><td>8172.56              </td><td>53.3203488508448</td><td>-6.23334551683728</td><td>109.19283828441368 </td><td>396.4500000000007   </td><td>16    </td><td>3    </td><td>44.58032089316716</td></tr>\n<tr><td><i style='opacity: 0.6'>1,025,852</i></td><td>16708.4.60-31-b12-1.159.O </td><td>20210122    </td><td>11:20:00    </td><td>26             </td><td>-60        </td><td>-60      </td><td>2021-01-22 11:44:30</td><td>8220DB000537</td><td>11:44:46      </td><td>11:44:46        </td><td>7683.29              </td><td>53.3799012003082</td><td>-6.16815263497718</td><td>83.68808488620553  </td><td>361.75              </td><td>11    </td><td>4    </td><td>69.81196590113757</td></tr>\n<tr><td><i style='opacity: 0.6'>1,025,853</i></td><td>17663.4.60-27-b12-1.151.O </td><td>20210126    </td><td>15:00:00    </td><td>75             </td><td>180        </td><td>180      </td><td>2021-01-26 16:07:08</td><td>8230DB002603</td><td>16:15:04      </td><td>16:15:04        </td><td>22984.14             </td><td>53.2892551750168</td><td>-6.35759773018953</td><td>-118.2101957090697 </td><td>565.8099999999977   </td><td>16    </td><td>1    </td><td>238.854370944923 </td></tr>\n</tbody>\n</table>",
      "text/plain": [
       "#          trip_id                     start_date    start_time    stop_sequence    departure    arrival    timestamp            stop_id       arrival_time    departure_time    shape_dist_traveled    lat               lon                direction_angle      shape_dist_between    hour    dow    p_avg_vol\n",
       "0          14181.3.60-79-b12-1.331.I   20210131      15:20:00      27               0            0          2021-01-31 15:38:23  8220DB007453  15:43:53        15:43:53          9236.25                53.3463358924194  -6.27838250402172  86.7035700423138     425.4500000000007     15      6      96.25931192252952\n",
       "1          8746.2.60-16-b12-1.129.I    20210130      10:48:00      52               -240         -240       2021-01-30 11:24:56  8220DB000021  11:38:01        11:38:01          14109.77               53.3701011992972  -6.25431059904437  2.2863971656259885   327.3000000000011     11      5      39.43149146620169\n",
       "2          8003.10455.2-17-gad-1.3.I   20210129      12:20:00      31               300          300        2021-01-29 12:56:38  8250DB001035  12:54:00        12:54:00          11129.83               53.2951037415434  -6.25612557753287  -74.30741720193481   428.09000000000015    12      4      91.5310097916111\n",
       "3          20600.4.60-15-b12-1.32.O    20210122      16:45:00      35               -60          -60        2021-01-22 17:19:30  8220DB007581  17:22:09        17:22:09          11537.96               53.3441585614977  -6.26334590761396  -126.28881488258796  483.4599999999991     17      4      86.68459828990551\n",
       "4          17261.4.60-44-b12-1.246.O   20210128      08:30:00      38               420          420        2021-01-28 09:14:29  8220DB002815  09:12:32        09:12:32          12194.89               53.31585100315    -6.24526859253124  155.4154238326518    486.1299999999992     9       3      103.8975076370368\n",
       "...        ...                         ...           ...           ...              ...          ...        ...                  ...           ...             ...               ...                    ...               ...                ...                  ...                   ...     ...    ...\n",
       "1,025,849  20546.4.60-15-b12-1.31.I    20210122      16:30:00      61               480          480        2021-01-22 17:37:04  8220DB001202  17:30:28        17:30:28          18606.24               53.3925013826657  -6.1934290504328   53.530212757221655   260.4800000000032     17      4      98.48893553284805\n",
       "1,025,850  18482.4.60-4-b12-1.5.O      20210125      16:30:00      29               300          300        2021-01-25 16:57:28  8220DB004725  16:55:36        16:55:36          10308.95               53.352115616113   -6.26105453403103  135.97323997287558   696.5600000000013     16      0      43.25699451487691\n",
       "1,025,851  19796.4.60-46A-b12-1.258.O  20210128      16:10:00      27               120          120        2021-01-28 16:32:27  8220DB000759  16:42:30        16:42:30          8172.56                53.3203488508448  -6.23334551683728  109.19283828441368   396.4500000000007     16      3      44.58032089316716\n",
       "1,025,852  16708.4.60-31-b12-1.159.O   20210122      11:20:00      26               -60          -60        2021-01-22 11:44:30  8220DB000537  11:44:46        11:44:46          7683.29                53.3799012003082  -6.16815263497718  83.68808488620553    361.75                11      4      69.81196590113757\n",
       "1,025,853  17663.4.60-27-b12-1.151.O   20210126      15:00:00      75               180          180        2021-01-26 16:07:08  8230DB002603  16:15:04        16:15:04          22984.14               53.2892551750168  -6.35759773018953  -118.2101957090697   565.8099999999977     16      1      238.854370944923"
      ]
     },
     "metadata": {},
     "execution_count": 3
    }
   ],
   "source": [
    "df = vaex.from_csv(gtfs_processed_csv_path, convert=True)\n",
    "df = df.sample(frac=1)\n",
    "df"
   ]
  },
  {
   "cell_type": "code",
   "execution_count": 70,
   "metadata": {},
   "outputs": [
    {
     "output_type": "execute_result",
     "data": {
      "text/plain": [
       "17254.4.60-44-b12-1.246.O       409\n",
       "18284.4.60-16-b12-1.128.O       399\n",
       "21076.4.60-33-b12-1.171.I       399\n",
       "19980.4.60-32X-b12-1.36.I       382\n",
       "17159.4.60-40-b12-1.209.I       370\n",
       "                               ... \n",
       "14889.3.60-68-b12-1.313.I         1\n",
       "6496.10451.2-451-gad-1.276.I      1\n",
       "7641.10466.2-270-gad-1.235.I      1\n",
       "6529.10454.2-451-gad-1.276.I      1\n",
       "6203.10451.2-451-gad-1.278.O      1\n",
       "Length: 18978, dtype: int64"
      ]
     },
     "metadata": {},
     "execution_count": 70
    }
   ],
   "source": [
    "# len(df)\n",
    "df.trip_id.value_counts()"
   ]
  },
  {
   "cell_type": "code",
   "execution_count": 5,
   "metadata": {},
   "outputs": [
    {
     "output_type": "execute_result",
     "data": {
      "text/plain": [
       "                       dtype    count NA                 mean          std  \\\n",
       "trip_id                  str  1025854  0                   --           --   \n",
       "start_date             int64  1025854  0   20210126.800474532    41.630067   \n",
       "start_time               str  1025854  0                   --           --   \n",
       "stop_sequence          int64  1025854  0    31.50653211860557     20.63737   \n",
       "departure              int64  1025854  0   145.26119701244036   241.596064   \n",
       "arrival                int64  1025854  0   139.45832447892195   233.956756   \n",
       "timestamp                str  1025854  0                   --           --   \n",
       "stop_id                  str  1025854  0                   --           --   \n",
       "arrival_time             str  1025854  0                   --           --   \n",
       "departure_time           str  1025854  0                   --           --   \n",
       "shape_dist_traveled  float64  1025854  0    10928.34461680123  7366.746738   \n",
       "lat                  float64  1025854  0    53.33932833589719     0.063916   \n",
       "lon                  float64  1025854  0   -6.256277844013761     0.079942   \n",
       "direction_angle      float64  1025854  0  -13.309389181948582   101.526953   \n",
       "shape_dist_between   float64  1025854  0   428.95448786071495   344.187768   \n",
       "hour                   int64  1025854  0   14.479035028376357     4.424387   \n",
       "dow                    int64  1025854  0    3.303069442630238     1.952571   \n",
       "p_avg_vol            float64  1025854  0    75.46619473561076    56.185017   \n",
       "\n",
       "                            min         max  \n",
       "trip_id                      --          --  \n",
       "start_date             20210122    20210131  \n",
       "start_time                   --          --  \n",
       "stop_sequence                 1         104  \n",
       "departure                 -9000        5700  \n",
       "arrival                   -7200        5400  \n",
       "timestamp                    --          --  \n",
       "stop_id                      --          --  \n",
       "arrival_time                 --          --  \n",
       "departure_time               --          --  \n",
       "shape_dist_traveled         0.0    45035.45  \n",
       "lat                   53.070678   53.606196  \n",
       "lon                   -6.614865   -6.053311  \n",
       "direction_angle     -179.555067  179.744998  \n",
       "shape_dist_between          0.0     26134.4  \n",
       "hour                          0          23  \n",
       "dow                           0           6  \n",
       "p_avg_vol                   0.0   2188.4734  "
      ],
      "text/html": "<div>\n<style scoped>\n    .dataframe tbody tr th:only-of-type {\n        vertical-align: middle;\n    }\n\n    .dataframe tbody tr th {\n        vertical-align: top;\n    }\n\n    .dataframe thead th {\n        text-align: right;\n    }\n</style>\n<table border=\"1\" class=\"dataframe\">\n  <thead>\n    <tr style=\"text-align: right;\">\n      <th></th>\n      <th>dtype</th>\n      <th>count</th>\n      <th>NA</th>\n      <th>mean</th>\n      <th>std</th>\n      <th>min</th>\n      <th>max</th>\n    </tr>\n  </thead>\n  <tbody>\n    <tr>\n      <th>trip_id</th>\n      <td>str</td>\n      <td>1025854</td>\n      <td>0</td>\n      <td>--</td>\n      <td>--</td>\n      <td>--</td>\n      <td>--</td>\n    </tr>\n    <tr>\n      <th>start_date</th>\n      <td>int64</td>\n      <td>1025854</td>\n      <td>0</td>\n      <td>20210126.800474532</td>\n      <td>41.630067</td>\n      <td>20210122</td>\n      <td>20210131</td>\n    </tr>\n    <tr>\n      <th>start_time</th>\n      <td>str</td>\n      <td>1025854</td>\n      <td>0</td>\n      <td>--</td>\n      <td>--</td>\n      <td>--</td>\n      <td>--</td>\n    </tr>\n    <tr>\n      <th>stop_sequence</th>\n      <td>int64</td>\n      <td>1025854</td>\n      <td>0</td>\n      <td>31.50653211860557</td>\n      <td>20.63737</td>\n      <td>1</td>\n      <td>104</td>\n    </tr>\n    <tr>\n      <th>departure</th>\n      <td>int64</td>\n      <td>1025854</td>\n      <td>0</td>\n      <td>145.26119701244036</td>\n      <td>241.596064</td>\n      <td>-9000</td>\n      <td>5700</td>\n    </tr>\n    <tr>\n      <th>arrival</th>\n      <td>int64</td>\n      <td>1025854</td>\n      <td>0</td>\n      <td>139.45832447892195</td>\n      <td>233.956756</td>\n      <td>-7200</td>\n      <td>5400</td>\n    </tr>\n    <tr>\n      <th>timestamp</th>\n      <td>str</td>\n      <td>1025854</td>\n      <td>0</td>\n      <td>--</td>\n      <td>--</td>\n      <td>--</td>\n      <td>--</td>\n    </tr>\n    <tr>\n      <th>stop_id</th>\n      <td>str</td>\n      <td>1025854</td>\n      <td>0</td>\n      <td>--</td>\n      <td>--</td>\n      <td>--</td>\n      <td>--</td>\n    </tr>\n    <tr>\n      <th>arrival_time</th>\n      <td>str</td>\n      <td>1025854</td>\n      <td>0</td>\n      <td>--</td>\n      <td>--</td>\n      <td>--</td>\n      <td>--</td>\n    </tr>\n    <tr>\n      <th>departure_time</th>\n      <td>str</td>\n      <td>1025854</td>\n      <td>0</td>\n      <td>--</td>\n      <td>--</td>\n      <td>--</td>\n      <td>--</td>\n    </tr>\n    <tr>\n      <th>shape_dist_traveled</th>\n      <td>float64</td>\n      <td>1025854</td>\n      <td>0</td>\n      <td>10928.34461680123</td>\n      <td>7366.746738</td>\n      <td>0.0</td>\n      <td>45035.45</td>\n    </tr>\n    <tr>\n      <th>lat</th>\n      <td>float64</td>\n      <td>1025854</td>\n      <td>0</td>\n      <td>53.33932833589719</td>\n      <td>0.063916</td>\n      <td>53.070678</td>\n      <td>53.606196</td>\n    </tr>\n    <tr>\n      <th>lon</th>\n      <td>float64</td>\n      <td>1025854</td>\n      <td>0</td>\n      <td>-6.256277844013761</td>\n      <td>0.079942</td>\n      <td>-6.614865</td>\n      <td>-6.053311</td>\n    </tr>\n    <tr>\n      <th>direction_angle</th>\n      <td>float64</td>\n      <td>1025854</td>\n      <td>0</td>\n      <td>-13.309389181948582</td>\n      <td>101.526953</td>\n      <td>-179.555067</td>\n      <td>179.744998</td>\n    </tr>\n    <tr>\n      <th>shape_dist_between</th>\n      <td>float64</td>\n      <td>1025854</td>\n      <td>0</td>\n      <td>428.95448786071495</td>\n      <td>344.187768</td>\n      <td>0.0</td>\n      <td>26134.4</td>\n    </tr>\n    <tr>\n      <th>hour</th>\n      <td>int64</td>\n      <td>1025854</td>\n      <td>0</td>\n      <td>14.479035028376357</td>\n      <td>4.424387</td>\n      <td>0</td>\n      <td>23</td>\n    </tr>\n    <tr>\n      <th>dow</th>\n      <td>int64</td>\n      <td>1025854</td>\n      <td>0</td>\n      <td>3.303069442630238</td>\n      <td>1.952571</td>\n      <td>0</td>\n      <td>6</td>\n    </tr>\n    <tr>\n      <th>p_avg_vol</th>\n      <td>float64</td>\n      <td>1025854</td>\n      <td>0</td>\n      <td>75.46619473561076</td>\n      <td>56.185017</td>\n      <td>0.0</td>\n      <td>2188.4734</td>\n    </tr>\n  </tbody>\n</table>\n</div>"
     },
     "metadata": {},
     "execution_count": 5
    }
   ],
   "source": [
    "df.describe().T"
   ]
  },
  {
   "cell_type": "code",
   "execution_count": 6,
   "metadata": {},
   "outputs": [],
   "source": [
    "# df[df.stop_sequence == 1]"
   ]
  },
  {
   "cell_type": "code",
   "execution_count": 7,
   "metadata": {},
   "outputs": [],
   "source": [
    "# df[(df['hour'] == 0) & (df['dow'] == 0)]"
   ]
  },
  {
   "cell_type": "code",
   "execution_count": 72,
   "metadata": {},
   "outputs": [
    {
     "output_type": "execute_result",
     "data": {
      "text/html": "<table>\n<thead>\n<tr><th>#                              </th><th>trip_id                  </th><th>start_date  </th><th>start_time  </th><th>stop_sequence  </th><th>departure  </th><th>arrival  </th><th>timestamp          </th><th>stop_id     </th><th>arrival_time  </th><th>departure_time  </th><th>shape_dist_traveled  </th><th>lat             </th><th>lon              </th><th>direction_angle  </th><th>shape_dist_between  </th><th>hour  </th><th>dow  </th><th>p_avg_vol         </th></tr>\n</thead>\n<tbody>\n<tr><td><i style='opacity: 0.6'>0</i>  </td><td>17254.4.60-44-b12-1.246.O</td><td>20210126    </td><td>14:30:00    </td><td>51             </td><td>180        </td><td>180      </td><td>2021-01-26 15:20:22</td><td>8250DB002829</td><td>15:23:35      </td><td>15:23:35        </td><td>16370.46             </td><td>53.2843852487127</td><td>-6.2368693911913 </td><td>155.4154238326518</td><td>422.5599999999995   </td><td>15    </td><td>1    </td><td>134.26521523870264</td></tr>\n<tr><td><i style='opacity: 0.6'>1</i>  </td><td>17254.4.60-44-b12-1.246.O</td><td>20210127    </td><td>14:30:00    </td><td>68             </td><td>-180       </td><td>-180     </td><td>2021-01-27 15:46:05</td><td>8250DB003478</td><td>15:38:31      </td><td>15:38:31        </td><td>22858.06             </td><td>53.2390505484196</td><td>-6.19616830395543</td><td>155.4154238326518</td><td>487.3900000000031   </td><td>15    </td><td>2    </td><td>46.032404798293385</td></tr>\n<tr><td><i style='opacity: 0.6'>2</i>  </td><td>17254.4.60-44-b12-1.246.O</td><td>20210128    </td><td>14:30:00    </td><td>21             </td><td>0          </td><td>0        </td><td>2021-01-28 14:34:05</td><td>8220DB000265</td><td>14:48:14      </td><td>14:48:14        </td><td>6140.71              </td><td>53.3533615685169</td><td>-6.26205538070456</td><td>155.4154238326518</td><td>568.5799999999999   </td><td>14    </td><td>3    </td><td>69.36955095945075 </td></tr>\n<tr><td><i style='opacity: 0.6'>3</i>  </td><td>17254.4.60-44-b12-1.246.O</td><td>20210129    </td><td>14:30:00    </td><td>74             </td><td>-360       </td><td>-360     </td><td>2021-01-29 15:38:59</td><td>8250DB004088</td><td>15:41:55      </td><td>15:41:55        </td><td>25207.9              </td><td>53.2203949175122</td><td>-6.18166193356728</td><td>155.4154238326518</td><td>333.7300000000032   </td><td>15    </td><td>4    </td><td>48.74178690612492 </td></tr>\n<tr><td><i style='opacity: 0.6'>4</i>  </td><td>17254.4.60-44-b12-1.246.O</td><td>20210122    </td><td>14:30:00    </td><td>63             </td><td>240        </td><td>240      </td><td>2021-01-22 15:32:57</td><td>8250DB003473</td><td>15:34:20      </td><td>15:34:20        </td><td>20655.89             </td><td>53.254120160543 </td><td>-6.21441883615046</td><td>155.4154238326518</td><td>671.1499999999978   </td><td>15    </td><td>4    </td><td>73.92295609760234 </td></tr>\n<tr><td>...                            </td><td>...                      </td><td>...         </td><td>...         </td><td>...            </td><td>...        </td><td>...      </td><td>...                </td><td>...         </td><td>...           </td><td>...             </td><td>...                  </td><td>...             </td><td>...              </td><td>...              </td><td>...                 </td><td>...   </td><td>...  </td><td>...               </td></tr>\n<tr><td><i style='opacity: 0.6'>404</i></td><td>17254.4.60-44-b12-1.246.O</td><td>20210126    </td><td>14:30:00    </td><td>68             </td><td>-480       </td><td>-480     </td><td>2021-01-26 15:41:09</td><td>8250DB003478</td><td>15:38:31      </td><td>15:38:31        </td><td>22858.06             </td><td>53.2390505484196</td><td>-6.19616830395543</td><td>155.4154238326518</td><td>487.3900000000031   </td><td>15    </td><td>1    </td><td>43.76902421209255 </td></tr>\n<tr><td><i style='opacity: 0.6'>405</i></td><td>17254.4.60-44-b12-1.246.O</td><td>20210128    </td><td>14:30:00    </td><td>29             </td><td>540        </td><td>540      </td><td>2021-01-28 15:04:01</td><td>8220DB001013</td><td>15:02:40      </td><td>15:02:40        </td><td>9039.17              </td><td>53.335481505514 </td><td>-6.25755688072012</td><td>155.4154238326518</td><td>191.1800000000003   </td><td>15    </td><td>3    </td><td>79.11236079328911 </td></tr>\n<tr><td><i style='opacity: 0.6'>406</i></td><td>17254.4.60-44-b12-1.246.O</td><td>20210128    </td><td>14:30:00    </td><td>20             </td><td>180        </td><td>180      </td><td>2021-01-28 14:44:18</td><td>8220DB000052</td><td>14:45:11      </td><td>14:45:11        </td><td>5572.13              </td><td>53.3566607792373</td><td>-6.26456528204094</td><td>155.4154238326518</td><td>156.76000000000022  </td><td>14    </td><td>3    </td><td>55.71405186191136 </td></tr>\n<tr><td><i style='opacity: 0.6'>407</i></td><td>17254.4.60-44-b12-1.246.O</td><td>20210125    </td><td>14:30:00    </td><td>14             </td><td>0          </td><td>0        </td><td>2021-01-25 14:36:42</td><td>8220DB000045</td><td>14:39:47      </td><td>14:39:47        </td><td>3922.37              </td><td>53.3699364344031</td><td>-6.25410694084961</td><td>155.4154238326518</td><td>193.94000000000003  </td><td>14    </td><td>0    </td><td>33.103805778136696</td></tr>\n<tr><td><i style='opacity: 0.6'>408</i></td><td>17254.4.60-44-b12-1.246.O</td><td>20210122    </td><td>14:30:00    </td><td>48             </td><td>180        </td><td>180      </td><td>2021-01-22 15:20:36</td><td>8250DB002825</td><td>15:17:27      </td><td>15:17:27        </td><td>14975.51             </td><td>53.2924166488309</td><td>-6.24573429188541</td><td>155.4154238326518</td><td>185.9799999999996   </td><td>15    </td><td>4    </td><td>82.01022929464186 </td></tr>\n</tbody>\n</table>",
      "text/plain": [
       "#    trip_id                    start_date    start_time    stop_sequence    departure    arrival    timestamp            stop_id       arrival_time    departure_time    shape_dist_traveled    lat               lon                direction_angle    shape_dist_between    hour    dow    p_avg_vol\n",
       "0    17254.4.60-44-b12-1.246.O  20210126      14:30:00      51               180          180        2021-01-26 15:20:22  8250DB002829  15:23:35        15:23:35          16370.46               53.2843852487127  -6.2368693911913   155.4154238326518  422.5599999999995     15      1      134.26521523870264\n",
       "1    17254.4.60-44-b12-1.246.O  20210127      14:30:00      68               -180         -180       2021-01-27 15:46:05  8250DB003478  15:38:31        15:38:31          22858.06               53.2390505484196  -6.19616830395543  155.4154238326518  487.3900000000031     15      2      46.032404798293385\n",
       "2    17254.4.60-44-b12-1.246.O  20210128      14:30:00      21               0            0          2021-01-28 14:34:05  8220DB000265  14:48:14        14:48:14          6140.71                53.3533615685169  -6.26205538070456  155.4154238326518  568.5799999999999     14      3      69.36955095945075\n",
       "3    17254.4.60-44-b12-1.246.O  20210129      14:30:00      74               -360         -360       2021-01-29 15:38:59  8250DB004088  15:41:55        15:41:55          25207.9                53.2203949175122  -6.18166193356728  155.4154238326518  333.7300000000032     15      4      48.74178690612492\n",
       "4    17254.4.60-44-b12-1.246.O  20210122      14:30:00      63               240          240        2021-01-22 15:32:57  8250DB003473  15:34:20        15:34:20          20655.89               53.254120160543   -6.21441883615046  155.4154238326518  671.1499999999978     15      4      73.92295609760234\n",
       "...  ...                        ...           ...           ...              ...          ...        ...                  ...           ...             ...               ...                    ...               ...                ...                ...                   ...     ...    ...\n",
       "404  17254.4.60-44-b12-1.246.O  20210126      14:30:00      68               -480         -480       2021-01-26 15:41:09  8250DB003478  15:38:31        15:38:31          22858.06               53.2390505484196  -6.19616830395543  155.4154238326518  487.3900000000031     15      1      43.76902421209255\n",
       "405  17254.4.60-44-b12-1.246.O  20210128      14:30:00      29               540          540        2021-01-28 15:04:01  8220DB001013  15:02:40        15:02:40          9039.17                53.335481505514   -6.25755688072012  155.4154238326518  191.1800000000003     15      3      79.11236079328911\n",
       "406  17254.4.60-44-b12-1.246.O  20210128      14:30:00      20               180          180        2021-01-28 14:44:18  8220DB000052  14:45:11        14:45:11          5572.13                53.3566607792373  -6.26456528204094  155.4154238326518  156.76000000000022    14      3      55.71405186191136\n",
       "407  17254.4.60-44-b12-1.246.O  20210125      14:30:00      14               0            0          2021-01-25 14:36:42  8220DB000045  14:39:47        14:39:47          3922.37                53.3699364344031  -6.25410694084961  155.4154238326518  193.94000000000003    14      0      33.103805778136696\n",
       "408  17254.4.60-44-b12-1.246.O  20210122      14:30:00      48               180          180        2021-01-22 15:20:36  8250DB002825  15:17:27        15:17:27          14975.51               53.2924166488309  -6.24573429188541  155.4154238326518  185.9799999999996     15      4      82.01022929464186"
      ]
     },
     "metadata": {},
     "execution_count": 72
    }
   ],
   "source": [
    "one_trip = df[df['trip_id'] == '17254.4.60-44-b12-1.246.O']\n",
    "one_trip.export_hdf5('./output/one_trip.hdf5')\n",
    "one_trip\n"
   ]
  },
  {
   "cell_type": "code",
   "execution_count": 73,
   "metadata": {},
   "outputs": [],
   "source": [
    "df_train, df_test = vaex.open('./output/one_trip.hdf5').ml.train_test_split(test_size=0.2, verbose=False)"
   ]
  },
  {
   "cell_type": "code",
   "execution_count": 74,
   "metadata": {},
   "outputs": [
    {
     "output_type": "stream",
     "name": "stdout",
     "text": [
      "dataWrangling done, ready to create model, time: 0s\n"
     ]
    },
    {
     "output_type": "display_data",
     "data": {
      "text/plain": "HBox(children=(FloatProgress(value=0.0, max=1.0), Label(value='In progress...')))",
      "application/vnd.jupyter.widget-view+json": {
       "version_major": 2,
       "version_minor": 0,
       "model_id": "03e8c1c793134440ad108f8309b45905"
      }
     },
     "metadata": {}
    },
    {
     "output_type": "stream",
     "name": "stdout",
     "text": [
      "\n\nmodel created, time: 41s\n"
     ]
    },
    {
     "output_type": "execute_result",
     "data": {
      "text/html": "<table>\n<thead>\n<tr><th>#                              </th><th>arrival  </th><th>p_arrival          </th><th>trip_id                  </th><th>start_date  </th><th>start_time  </th><th>stop_sequence  </th><th>timestamp          </th><th>stop_id     </th><th>arrival_time  </th><th>departure_time  </th><th>p_avg_vol         </th></tr>\n</thead>\n<tbody>\n<tr><td><i style='opacity: 0.6'>0</i>  </td><td>-120     </td><td>-230.75786095247312</td><td>17254.4.60-44-b12-1.246.O</td><td>20210126    </td><td>14:30:00    </td><td>69             </td><td>2021-01-26 15:37:03</td><td>8250DB003280</td><td>15:38:46      </td><td>15:38:46        </td><td>43.76902421209255 </td></tr>\n<tr><td><i style='opacity: 0.6'>1</i>  </td><td>60       </td><td>-134.90010969592765</td><td>17254.4.60-44-b12-1.246.O</td><td>20210128    </td><td>14:30:00    </td><td>66             </td><td>2021-01-28 15:36:16</td><td>8250DB003476</td><td>15:36:27      </td><td>15:36:27        </td><td>71.81210925216853 </td></tr>\n<tr><td><i style='opacity: 0.6'>2</i>  </td><td>120      </td><td>191.56137833878384 </td><td>17254.4.60-44-b12-1.246.O</td><td>20210126    </td><td>14:30:00    </td><td>21             </td><td>2021-01-26 14:34:59</td><td>8220DB000265</td><td>14:48:14      </td><td>14:48:14        </td><td>71.87005014879405 </td></tr>\n<tr><td><i style='opacity: 0.6'>3</i>  </td><td>180      </td><td>125.33502906807601 </td><td>17254.4.60-44-b12-1.246.O</td><td>20210122    </td><td>14:30:00    </td><td>55             </td><td>2021-01-22 15:20:36</td><td>8250DB002833</td><td>15:26:27      </td><td>15:26:27        </td><td>106.95620082164946</td></tr>\n<tr><td><i style='opacity: 0.6'>4</i>  </td><td>300      </td><td>269.2917981285822  </td><td>17254.4.60-44-b12-1.246.O</td><td>20210122    </td><td>14:30:00    </td><td>50             </td><td>2021-01-22 15:25:44</td><td>8250DB007717</td><td>15:21:31      </td><td>15:21:31        </td><td>158.34839235095944</td></tr>\n<tr><td>...                            </td><td>...      </td><td>...                </td><td>...                      </td><td>...         </td><td>...         </td><td>...            </td><td>...                </td><td>...         </td><td>...           </td><td>...             </td><td>...               </td></tr>\n<tr><td><i style='opacity: 0.6'>322</i></td><td>-480     </td><td>-344.40459652744687</td><td>17254.4.60-44-b12-1.246.O</td><td>20210126    </td><td>14:30:00    </td><td>68             </td><td>2021-01-26 15:41:09</td><td>8250DB003478</td><td>15:38:31      </td><td>15:38:31        </td><td>43.76902421209255 </td></tr>\n<tr><td><i style='opacity: 0.6'>323</i></td><td>540      </td><td>573.113766589181   </td><td>17254.4.60-44-b12-1.246.O</td><td>20210128    </td><td>14:30:00    </td><td>29             </td><td>2021-01-28 15:04:01</td><td>8220DB001013</td><td>15:02:40      </td><td>15:02:40        </td><td>79.11236079328911 </td></tr>\n<tr><td><i style='opacity: 0.6'>324</i></td><td>180      </td><td>134.4987000860859  </td><td>17254.4.60-44-b12-1.246.O</td><td>20210128    </td><td>14:30:00    </td><td>20             </td><td>2021-01-28 14:44:18</td><td>8220DB000052</td><td>14:45:11      </td><td>14:45:11        </td><td>55.71405186191136 </td></tr>\n<tr><td><i style='opacity: 0.6'>325</i></td><td>0        </td><td>-48.37578796256773 </td><td>17254.4.60-44-b12-1.246.O</td><td>20210125    </td><td>14:30:00    </td><td>14             </td><td>2021-01-25 14:36:42</td><td>8220DB000045</td><td>14:39:47      </td><td>14:39:47        </td><td>33.103805778136696</td></tr>\n<tr><td><i style='opacity: 0.6'>326</i></td><td>180      </td><td>332.28730698581    </td><td>17254.4.60-44-b12-1.246.O</td><td>20210122    </td><td>14:30:00    </td><td>48             </td><td>2021-01-22 15:20:36</td><td>8250DB002825</td><td>15:17:27      </td><td>15:17:27        </td><td>82.01022929464186 </td></tr>\n</tbody>\n</table>",
      "text/plain": [
       "#    arrival    p_arrival            trip_id                    start_date    start_time    stop_sequence    timestamp            stop_id       arrival_time    departure_time    p_avg_vol\n",
       "0    -120       -230.75786095247312  17254.4.60-44-b12-1.246.O  20210126      14:30:00      69               2021-01-26 15:37:03  8250DB003280  15:38:46        15:38:46          43.76902421209255\n",
       "1    60         -134.90010969592765  17254.4.60-44-b12-1.246.O  20210128      14:30:00      66               2021-01-28 15:36:16  8250DB003476  15:36:27        15:36:27          71.81210925216853\n",
       "2    120        191.56137833878384   17254.4.60-44-b12-1.246.O  20210126      14:30:00      21               2021-01-26 14:34:59  8220DB000265  14:48:14        14:48:14          71.87005014879405\n",
       "3    180        125.33502906807601   17254.4.60-44-b12-1.246.O  20210122      14:30:00      55               2021-01-22 15:20:36  8250DB002833  15:26:27        15:26:27          106.95620082164946\n",
       "4    300        269.2917981285822    17254.4.60-44-b12-1.246.O  20210122      14:30:00      50               2021-01-22 15:25:44  8250DB007717  15:21:31        15:21:31          158.34839235095944\n",
       "...  ...        ...                  ...                        ...           ...           ...              ...                  ...           ...             ...               ...\n",
       "322  -480       -344.40459652744687  17254.4.60-44-b12-1.246.O  20210126      14:30:00      68               2021-01-26 15:41:09  8250DB003478  15:38:31        15:38:31          43.76902421209255\n",
       "323  540        573.113766589181     17254.4.60-44-b12-1.246.O  20210128      14:30:00      29               2021-01-28 15:04:01  8220DB001013  15:02:40        15:02:40          79.11236079328911\n",
       "324  180        134.4987000860859    17254.4.60-44-b12-1.246.O  20210128      14:30:00      20               2021-01-28 14:44:18  8220DB000052  14:45:11        14:45:11          55.71405186191136\n",
       "325  0          -48.37578796256773   17254.4.60-44-b12-1.246.O  20210125      14:30:00      14               2021-01-25 14:36:42  8220DB000045  14:39:47        14:39:47          33.103805778136696\n",
       "326  180        332.28730698581      17254.4.60-44-b12-1.246.O  20210122      14:30:00      48               2021-01-22 15:20:36  8250DB002825  15:17:27        15:17:27          82.01022929464186"
      ]
     },
     "metadata": {},
     "execution_count": 74
    }
   ],
   "source": [
    "from sklearn.linear_model import SGDRegressor\n",
    "from vaex.ml.sklearn import IncrementalPredictor\n",
    "\n",
    "model_out = os.path.join(outdir, \"gtfsr_model.json\")\n",
    "start = time.time()\n",
    "\n",
    "def train_gtfsr(df):\n",
    "\n",
    "    # transform the features into more machine learning friendly vars\n",
    "    pca_coord = vaex.ml.PCA(features=[\"lat\", \"lon\"], n_components=2, prefix=\"pca\")\n",
    "    df = pca_coord.fit_transform(df)\n",
    "\n",
    "\n",
    "    cycl_transform_angle = vaex.ml.CycleTransformer(features=[\"direction_angle\"], n=360)\n",
    "    df = cycl_transform_angle.fit_transform(df)\n",
    "\n",
    "    df['t_dow'] = df['timestamp'].apply(lambda t: datetime.strptime(t, \"%Y-%m-%d %H:%M:%S\").weekday())\n",
    "    df['t_hour'] = df['timestamp'].apply(lambda t: datetime.strptime(t, \"%Y-%m-%d %H:%M:%S\").hour)\n",
    "    df['t_minute'] = df['timestamp'].apply(lambda t: datetime.strptime(t, \"%Y-%m-%d %H:%M:%S\").minute)\n",
    "    df['t_second'] = df['timestamp'].apply(lambda t: datetime.strptime(t, \"%Y-%m-%d %H:%M:%S\").second)\n",
    "\n",
    "    df['arr_dow'] = df['start_date'].apply(lambda t: datetime.strptime(str(t), \"%Y%m%d\").weekday())\n",
    "    df['arr_hour'] = df['arrival_time'].apply(lambda t: datetime.strptime(t, \"%H:%M:%S\").hour)\n",
    "    df['arr_minute'] = df['arrival_time'].apply(lambda t: datetime.strptime(t, \"%H:%M:%S\").minute)\n",
    "    df['arr_second'] = df['arrival_time'].apply(lambda t: datetime.strptime(t, \"%H:%M:%S\").second)\n",
    "\n",
    "    cycl_transform_dow = vaex.ml.CycleTransformer(features=[\"t_dow\", 'arr_dow'], n=7)\n",
    "    df = cycl_transform_dow.fit_transform(df)\n",
    "\n",
    "    cycl_transform_hour = vaex.ml.CycleTransformer(features=[\"t_hour\", 'arr_hour'], n=24)\n",
    "    df = cycl_transform_hour.fit_transform(df)\n",
    "\n",
    "    cycl_transform_minute = vaex.ml.CycleTransformer(features=[\"t_minute\", 't_second', 'arr_minute', 'arr_second'], n=60)\n",
    "    df = cycl_transform_minute.fit_transform(df)\n",
    "\n",
    "    # one_hot_encode = vaex.ml.OneHotEncoder(features=['trip_id'])\n",
    "    # df = one_hot_encode.fit_transform(df)\n",
    "\n",
    "    standard_scaler = vaex.ml.StandardScaler(features=['shape_dist_traveled', 'shape_dist_between', \"p_avg_vol\"])\n",
    "    df = standard_scaler.fit_transform(df)\n",
    "\n",
    "    feats = df.get_column_names(regex=\"pca\") + \\\n",
    "        df.get_column_names(regex=\".*_x\") + \\\n",
    "        df.get_column_names(regex=\".*_y\") + \\\n",
    "        df.get_column_names(regex=\"standard_scaled_*\") + \\\n",
    "        [\"stop_sequence\"]\n",
    "        # df.get_column_names(regex=\"trip_id_*\") + \\\n",
    "        \n",
    "    target = \"arrival\"\n",
    "\n",
    "    print(\"dataWrangling done, ready to create model, time: {}s\".format(round(time.time() - start)))\n",
    "\n",
    "    # create a randomForestRegression model\n",
    "    model = SGDRegressor(learning_rate='constant', eta0=0.0001)\n",
    "    vaex_model = IncrementalPredictor(\n",
    "        features=feats, \n",
    "        target=target,\n",
    "        model=model, \n",
    "        prediction_name='p_arrival',\n",
    "        batch_size=11_000_000, \n",
    "        num_epochs=1000,\n",
    "    )\n",
    "\n",
    "    # here we fit and train the model\n",
    "    with parallel_backend(\"threading\", n_jobs=8):\n",
    "        vaex_model.fit(df=df, progress='widget')\n",
    "        print(\"\\n\\nmodel created, time: {}s\".format(round(time.time() - start)))\n",
    "\n",
    "        # dump(value=vaex_model, filename=model_out, compress=3)\n",
    "        # print(\"model written to output, time: {}s\".format(round(time.time() - start)))\n",
    "\n",
    "        trained = vaex_model.transform(df)\n",
    "    return trained[[\n",
    "            'arrival', \n",
    "            'p_arrival', \n",
    "            'trip_id',\n",
    "            'start_date',\n",
    "            'start_time',\n",
    "            'stop_sequence',\n",
    "            'timestamp',\n",
    "            'stop_id',\n",
    "            'arrival_time',\n",
    "            'departure_time',\n",
    "            'p_avg_vol' ]]\n",
    "\n",
    "train_gtfsr(df_train)\n"
   ]
  },
  {
   "cell_type": "code",
   "execution_count": null,
   "metadata": {},
   "outputs": [],
   "source": []
  },
  {
   "cell_type": "code",
   "execution_count": null,
   "metadata": {},
   "outputs": [],
   "source": []
  },
  {
   "cell_type": "code",
   "execution_count": null,
   "metadata": {},
   "outputs": [],
   "source": []
  },
  {
   "cell_type": "code",
   "execution_count": null,
   "metadata": {},
   "outputs": [],
   "source": []
  },
  {
   "cell_type": "code",
   "execution_count": null,
   "metadata": {},
   "outputs": [],
   "source": []
  },
  {
   "cell_type": "code",
   "execution_count": null,
   "metadata": {},
   "outputs": [],
   "source": []
  },
  {
   "cell_type": "code",
   "execution_count": null,
   "metadata": {},
   "outputs": [],
   "source": []
  },
  {
   "cell_type": "code",
   "execution_count": 24,
   "metadata": {},
   "outputs": [
    {
     "output_type": "display_data",
     "data": {
      "text/plain": "Heatmap(children=[ToolsToolbar(interact_value=None, supports_normalize=False, template='<template>\\n  <v-toolb…",
      "application/vnd.jupyter.widget-view+json": {
       "version_major": 2,
       "version_minor": 0,
       "model_id": "7f96055e7ff94fb587a962ccceb6da44"
      }
     },
     "metadata": {}
    }
   ],
   "source": [
    "df.plot_widget(df.lon, df.lat, shape=512, colormap='plasma', f='log1p', limits='minmax')"
   ]
  }
 ]
}