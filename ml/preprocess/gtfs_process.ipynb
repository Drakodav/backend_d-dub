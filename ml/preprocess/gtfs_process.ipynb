{
 "metadata": {
  "language_info": {
   "codemirror_mode": {
    "name": "ipython",
    "version": 3
   },
   "file_extension": ".py",
   "mimetype": "text/x-python",
   "name": "python",
   "nbconvert_exporter": "python",
   "pygments_lexer": "ipython3",
   "version": "3.8.0-final"
  },
  "orig_nbformat": 2,
  "kernelspec": {
   "name": "denv",
   "display_name": "denv",
   "language": "python"
  }
 },
 "nbformat": 4,
 "nbformat_minor": 2,
 "cells": [
  {
   "cell_type": "code",
   "execution_count": 82,
   "metadata": {},
   "outputs": [],
   "source": [
    "%matplotlib inline\n",
    "\n",
    "import os\n",
    "import numpy as np\n",
    "import pandas as pd\n",
    "from pathlib import Path\n",
    "import matplotlib.pyplot as plt\n",
    "import seaborn as sns\n",
    "import zipfile\n",
    "from google.transit import gtfs_realtime_pb2\n",
    "from google.protobuf.json_format import Parse, MessageToJson\n",
    "from datetime import datetime\n",
    "import json\n",
    "import psycopg2"
   ]
  },
  {
   "cell_type": "code",
   "execution_count": 98,
   "metadata": {},
   "outputs": [],
   "source": [
    "def run_query(query: str = ''):\n",
    "    \"\"\" Connect to the PostgreSQL database server \"\"\"\n",
    "    conn = None\n",
    "    try:\n",
    "        # connect to the PostgreSQL server\n",
    "        conn = psycopg2.connect(\n",
    "            host=\"localhost\",\n",
    "            port='25432',\n",
    "            database=\"gis\",\n",
    "            user=\"docker\",\n",
    "            password=\"docker\"\n",
    "        )\n",
    "\t\t\n",
    "        # create a cursor\n",
    "        cur = conn.cursor()\n",
    "        \n",
    "\t    # execute a statement\n",
    "        cur.execute(query)\n",
    "        data = cur.fetchall()\n",
    "       \n",
    "\t    # close the communication with the PostgreSQL\n",
    "        cur.close()\n",
    "        return data\n",
    "    except (Exception, psycopg2.DatabaseError) as error:\n",
    "        print(error)\n",
    "    finally:\n",
    "        if conn is not None:\n",
    "            conn.close()\n",
    "\n",
    "# print(run_query())"
   ]
  },
  {
   "cell_type": "code",
   "execution_count": 106,
   "metadata": {},
   "outputs": [
    {
     "output_type": "execute_result",
     "data": {
      "text/plain": [
       "43374"
      ]
     },
     "metadata": {},
     "execution_count": 106
    }
   ],
   "source": [
    "query = \"\"\"select trip_id from trip;\"\"\"\n",
    "trip_id_list = [id[0] for id in run_query(query)]\n",
    "len(trip_id_list)"
   ]
  },
  {
   "cell_type": "code",
   "execution_count": 108,
   "metadata": {},
   "outputs": [
    {
     "output_type": "stream",
     "name": "stdout",
     "text": [
      "finished processing\n"
     ]
    }
   ],
   "source": [
    "# here we split the data into smaller chunks by getting rid\n",
    "# of what we dont need\n",
    "def process_gtfsr():\n",
    "    __file__ = Path().cwd()\n",
    "\n",
    "    gtfsRecords = os.path.join(__file__, 'GtfsRRecords.zip')\n",
    "\n",
    "    query = \"\"\"select trip_id from trip;\"\"\"\n",
    "    trip_id_list = [id[0] for id in run_query(query)]\n",
    "\n",
    "    # write to a new records file which we can then use to process data faster\n",
    "    with zipfile.ZipFile(os.path.join(__file__, 'trimmed_gtfsr.zip'), 'w') as zf:\n",
    "\n",
    "        # read from the gtfs records\n",
    "        with zipfile.ZipFile(gtfsRecords, 'r') as zip:\n",
    "            dirs = zip.namelist()\n",
    "            dirs_len = len(dirs)\n",
    "\n",
    "            for i in range(15,16):\n",
    "                realtime_data = zip.read(dirs[i])\n",
    "\n",
    "                feed = gtfs_realtime_pb2.FeedMessage()\n",
    "                Parse(realtime_data, feed)\n",
    "\n",
    "                timestamp = datetime.fromtimestamp(feed.header.timestamp)\n",
    "\n",
    "                entity_list = []\n",
    "                for entity in feed.entity:\n",
    "                    if entity.HasField('trip_update'):\n",
    "                        # print(entity.trip_update)\n",
    "                        trip_id = str(entity.trip_update.trip.trip_id).replace(\n",
    "                            '-b12-', '-d12-', 1)\n",
    "\n",
    "                        if trip_id in trip_id_list:\n",
    "                            entity_list.append(entity)\n",
    "\n",
    "                if i % 10 == 0:\n",
    "                    print(i, '/', dirs_len, ', ', timestamp)\n",
    "\n",
    "                if len(entity_list) > 0:\n",
    "                    del feed.entity[:]\n",
    "                    feed.entity.extend(entity_list)\n",
    "\n",
    "                    zf.writestr(\"{}.json\".format(i), MessageToJson(feed),\n",
    "                                compress_type=zipfile.ZIP_DEFLATED)\n",
    "\n",
    "    print('finished processing')\n",
    "    return\n",
    "\n",
    "process_gtfsr()"
   ]
  }
 ]
}