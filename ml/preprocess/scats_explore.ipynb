{
 "metadata": {
  "language_info": {
   "codemirror_mode": {
    "name": "ipython",
    "version": 3
   },
   "file_extension": ".py",
   "mimetype": "text/x-python",
   "name": "python",
   "nbconvert_exporter": "python",
   "pygments_lexer": "ipython3",
   "version": "3.8.0-final"
  },
  "orig_nbformat": 2,
  "kernelspec": {
   "name": "denv",
   "display_name": "denv",
   "language": "python"
  }
 },
 "nbformat": 4,
 "nbformat_minor": 2,
 "cells": [
  {
   "cell_type": "code",
   "execution_count": 12,
   "metadata": {},
   "outputs": [],
   "source": [
    "import os\n",
    "from pathlib import Path\n",
    "import pandas as pd\n",
    "import vaex\n",
    "import vaex.ml\n",
    "import vaex.ml.cluster\n",
    "import matplotlib.pyplot as plt\n",
    "import seaborn as sns\n",
    "\n",
    "dir = Path().cwd()\n",
    "csv = os.path.join(dir, 'output', 'processed_scats.csv')"
   ]
  },
  {
   "cell_type": "code",
   "execution_count": 13,
   "metadata": {},
   "outputs": [
    {
     "output_type": "execute_result",
     "data": {
      "text/html": "<table>\n<thead>\n<tr><th>#                            </th><th style=\"text-align: right;\">  site</th><th style=\"text-align: right;\">  sum_volume</th><th style=\"text-align: right;\">  avg_volume</th><th style=\"text-align: right;\">     lat</th><th style=\"text-align: right;\">      lon</th><th>site_desc                       </th><th>region  </th><th style=\"text-align: right;\">  dow</th><th style=\"text-align: right;\">  hour</th><th style=\"text-align: right;\">  month</th><th style=\"text-align: right;\">  day</th></tr>\n</thead>\n<tbody>\n<tr><td><i style='opacity: 0.6'>0</i></td><td style=\"text-align: right;\">     1</td><td style=\"text-align: right;\">         310</td><td style=\"text-align: right;\">          21</td><td style=\"text-align: right;\">0.931111</td><td style=\"text-align: right;\">-0.109216</td><td>abbey st @ marlborough st (luas)</td><td>CCITY   </td><td style=\"text-align: right;\">    2</td><td style=\"text-align: right;\">     1</td><td style=\"text-align: right;\">      1</td><td style=\"text-align: right;\">    1</td></tr>\n<tr><td><i style='opacity: 0.6'>1</i></td><td style=\"text-align: right;\">     2</td><td style=\"text-align: right;\">        1574</td><td style=\"text-align: right;\">         126</td><td style=\"text-align: right;\">0.931215</td><td style=\"text-align: right;\">-0.109025</td><td>amiens st @ seville pl          </td><td>CCITY   </td><td style=\"text-align: right;\">    2</td><td style=\"text-align: right;\">     1</td><td style=\"text-align: right;\">      1</td><td style=\"text-align: right;\">    1</td></tr>\n<tr><td><i style='opacity: 0.6'>2</i></td><td style=\"text-align: right;\">     3</td><td style=\"text-align: right;\">         939</td><td style=\"text-align: right;\">          76</td><td style=\"text-align: right;\">0.931157</td><td style=\"text-align: right;\">-0.109084</td><td>amiens st @ talbot st           </td><td>CCITY   </td><td style=\"text-align: right;\">    2</td><td style=\"text-align: right;\">     1</td><td style=\"text-align: right;\">      1</td><td style=\"text-align: right;\">    1</td></tr>\n<tr><td><i style='opacity: 0.6'>3</i></td><td style=\"text-align: right;\">     5</td><td style=\"text-align: right;\">         271</td><td style=\"text-align: right;\">          20</td><td style=\"text-align: right;\">0.931234</td><td style=\"text-align: right;\">-0.109823</td><td>ncr @ aughrim st                </td><td>WCITY1  </td><td style=\"text-align: right;\">    2</td><td style=\"text-align: right;\">     1</td><td style=\"text-align: right;\">      1</td><td style=\"text-align: right;\">    1</td></tr>\n<tr><td><i style='opacity: 0.6'>4</i></td><td style=\"text-align: right;\">     6</td><td style=\"text-align: right;\">         888</td><td style=\"text-align: right;\">          73</td><td style=\"text-align: right;\">0.930855</td><td style=\"text-align: right;\">-0.108999</td><td>baggot st bridge                </td><td>SCITY   </td><td style=\"text-align: right;\">    2</td><td style=\"text-align: right;\">     1</td><td style=\"text-align: right;\">      1</td><td style=\"text-align: right;\">    1</td></tr>\n<tr><td><i style='opacity: 0.6'>5</i></td><td style=\"text-align: right;\">     7</td><td style=\"text-align: right;\">         743</td><td style=\"text-align: right;\">          58</td><td style=\"text-align: right;\">0.930903</td><td style=\"text-align: right;\">-0.109068</td><td>baggot st @ fitzwilliam st      </td><td>SCITY   </td><td style=\"text-align: right;\">    2</td><td style=\"text-align: right;\">     1</td><td style=\"text-align: right;\">      1</td><td style=\"text-align: right;\">    1</td></tr>\n<tr><td><i style='opacity: 0.6'>6</i></td><td style=\"text-align: right;\">     8</td><td style=\"text-align: right;\">         839</td><td style=\"text-align: right;\">          65</td><td style=\"text-align: right;\">0.930839</td><td style=\"text-align: right;\">-0.108966</td><td>baggot st @ waterloo rd         </td><td>SCITY   </td><td style=\"text-align: right;\">    2</td><td style=\"text-align: right;\">     1</td><td style=\"text-align: right;\">      1</td><td style=\"text-align: right;\">    1</td></tr>\n<tr><td><i style='opacity: 0.6'>7</i></td><td style=\"text-align: right;\">    14</td><td style=\"text-align: right;\">         410</td><td style=\"text-align: right;\">          30</td><td style=\"text-align: right;\">0.930925</td><td style=\"text-align: right;\">-0.108572</td><td>bath st @ beach rd / dock rd    </td><td>SCITY   </td><td style=\"text-align: right;\">    2</td><td style=\"text-align: right;\">     1</td><td style=\"text-align: right;\">      1</td><td style=\"text-align: right;\">    1</td></tr>\n<tr><td><i style='opacity: 0.6'>8</i></td><td style=\"text-align: right;\">    17</td><td style=\"text-align: right;\">         117</td><td style=\"text-align: right;\">           6</td><td style=\"text-align: right;\">0.931105</td><td style=\"text-align: right;\">-0.109173</td><td>beresford pl @ eden quay        </td><td>CCITY   </td><td style=\"text-align: right;\">    2</td><td style=\"text-align: right;\">     1</td><td style=\"text-align: right;\">      1</td><td style=\"text-align: right;\">    1</td></tr>\n<tr><td><i style='opacity: 0.6'>9</i></td><td style=\"text-align: right;\">    19</td><td style=\"text-align: right;\">         523</td><td style=\"text-align: right;\">          39</td><td style=\"text-align: right;\">0.931087</td><td style=\"text-align: right;\">-0.109648</td><td>blackhall pl @ benburb st (luas)</td><td>CCITY   </td><td style=\"text-align: right;\">    2</td><td style=\"text-align: right;\">     1</td><td style=\"text-align: right;\">      1</td><td style=\"text-align: right;\">    1</td></tr>\n</tbody>\n</table>",
      "text/plain": [
       "  #    site    sum_volume    avg_volume       lat        lon  site_desc                         region      dow    hour    month    day\n",
       "  0       1           310            21  0.931111  -0.109216  abbey st @ marlborough st (luas)  CCITY         2       1        1      1\n",
       "  1       2          1574           126  0.931215  -0.109025  amiens st @ seville pl            CCITY         2       1        1      1\n",
       "  2       3           939            76  0.931157  -0.109084  amiens st @ talbot st             CCITY         2       1        1      1\n",
       "  3       5           271            20  0.931234  -0.109823  ncr @ aughrim st                  WCITY1        2       1        1      1\n",
       "  4       6           888            73  0.930855  -0.108999  baggot st bridge                  SCITY         2       1        1      1\n",
       "  5       7           743            58  0.930903  -0.109068  baggot st @ fitzwilliam st        SCITY         2       1        1      1\n",
       "  6       8           839            65  0.930839  -0.108966  baggot st @ waterloo rd           SCITY         2       1        1      1\n",
       "  7      14           410            30  0.930925  -0.108572  bath st @ beach rd / dock rd      SCITY         2       1        1      1\n",
       "  8      17           117             6  0.931105  -0.109173  beresford pl @ eden quay          CCITY         2       1        1      1\n",
       "  9      19           523            39  0.931087  -0.109648  blackhall pl @ benburb st (luas)  CCITY         2       1        1      1"
      ]
     },
     "metadata": {},
     "execution_count": 13
    }
   ],
   "source": [
    "if not os.path.exists(csv+'.hdf5'):\n",
    "    df = vaex.from_csv(csv, convert=True, copy_index=False, chunk_size=1000000)\n",
    "df = vaex.open(csv+'.hdf5')\n",
    "df.head()"
   ]
  },
  {
   "cell_type": "code",
   "execution_count": 28,
   "metadata": {},
   "outputs": [
    {
     "output_type": "stream",
     "name": "stdout",
     "text": [
      "Iteration    0, inertia  41605226.0\n",
      "Iteration    1, inertia  24705001.532629114\n",
      "Iteration    2, inertia  23070844.93718579\n",
      "Iteration    3, inertia  22490016.42156265\n",
      "Iteration    4, inertia  21440606.322950073\n",
      "Iteration    5, inertia  21349871.87386031\n",
      "Iteration    6, inertia  21349871.873860307\n"
     ]
    },
    {
     "output_type": "execute_result",
     "data": {
      "text/html": "<table>\n<thead>\n<tr><th>#                                    </th><th>site  </th><th>sum_volume  </th><th>avg_volume  </th><th>lat               </th><th>lon                </th><th>site_desc                                         </th><th>region  </th><th>dow  </th><th>hour  </th><th>month  </th><th>day  </th><th>prediction_kmeans  </th><th>predicted_kmean_map  </th></tr>\n</thead>\n<tbody>\n<tr><td><i style='opacity: 0.6'>0</i>        </td><td>1     </td><td>310         </td><td>21          </td><td>0.93111144404308  </td><td>-0.1092158628991373</td><td>abbey st @ marlborough st (luas)                  </td><td>CCITY   </td><td>2    </td><td>1     </td><td>1      </td><td>1    </td><td>2                  </td><td>0                    </td></tr>\n<tr><td><i style='opacity: 0.6'>1</i>        </td><td>2     </td><td>1574        </td><td>126         </td><td>0.9312153784000364</td><td>-0.1090251158651868</td><td>amiens st @ seville pl                            </td><td>CCITY   </td><td>2    </td><td>1     </td><td>1      </td><td>1    </td><td>2                  </td><td>0                    </td></tr>\n<tr><td><i style='opacity: 0.6'>2</i>        </td><td>3     </td><td>939         </td><td>76          </td><td>0.9311571367628972</td><td>-0.1090843523399995</td><td>amiens st @ talbot st                             </td><td>CCITY   </td><td>2    </td><td>1     </td><td>1      </td><td>1    </td><td>2                  </td><td>0                    </td></tr>\n<tr><td><i style='opacity: 0.6'>3</i>        </td><td>5     </td><td>271         </td><td>20          </td><td>0.9312343326757128</td><td>-0.1098232025722463</td><td>ncr @ aughrim st                                  </td><td>WCITY1  </td><td>2    </td><td>1     </td><td>1      </td><td>1    </td><td>2                  </td><td>0                    </td></tr>\n<tr><td><i style='opacity: 0.6'>4</i>        </td><td>6     </td><td>888         </td><td>73          </td><td>0.9308548631897444</td><td>-0.1089992849922573</td><td>baggot st bridge                                  </td><td>SCITY   </td><td>2    </td><td>1     </td><td>1      </td><td>1    </td><td>2                  </td><td>0                    </td></tr>\n<tr><td>...                                  </td><td>...   </td><td>...         </td><td>...         </td><td>...               </td><td>...                </td><td>...                                               </td><td>...     </td><td>...  </td><td>...   </td><td>...    </td><td>...  </td><td>...                </td><td>...                  </td></tr>\n<tr><td><i style='opacity: 0.6'>2,280,051</i></td><td>6373  </td><td>54          </td><td>4           </td><td>0.9295175919168662</td><td>-0.1085857990391673</td><td>enniskerry rd @ fernhill park (belarmine)         </td><td>IRE     </td><td>3    </td><td>23    </td><td>4      </td><td>30   </td><td>0                  </td><td>1                    </td></tr>\n<tr><td><i style='opacity: 0.6'>2,280,052</i></td><td>6374  </td><td>2           </td><td>0           </td><td>0.9286808985267526</td><td>-0.1066622542172519</td><td>bray new schools pedestrian crossing              </td><td>IRE     </td><td>3    </td><td>23    </td><td>4      </td><td>30   </td><td>0                  </td><td>1                    </td></tr>\n<tr><td><i style='opacity: 0.6'>2,280,053</i></td><td>6375  </td><td>72          </td><td>5           </td><td>0.9300663775389   </td><td>-0.1083082323469056</td><td>kilmacud road @ the childrens house primary school</td><td>IRE     </td><td>3    </td><td>23    </td><td>4      </td><td>30   </td><td>0                  </td><td>1                    </td></tr>\n<tr><td><i style='opacity: 0.6'>2,280,054</i></td><td>6376  </td><td>59          </td><td>2           </td><td>0.9292803842182276</td><td>-0.1071810707906997</td><td>cherrywood ave / cherrywood business park         </td><td>IRE     </td><td>3    </td><td>23    </td><td>4      </td><td>30   </td><td>0                  </td><td>1                    </td></tr>\n<tr><td><i style='opacity: 0.6'>2,280,055</i></td><td>6377  </td><td>103         </td><td>7           </td><td>0.9292727222228117</td><td>-0.1071719950785893</td><td>cherrywood ave ped                                </td><td>IRE     </td><td>3    </td><td>23    </td><td>4      </td><td>30   </td><td>0                  </td><td>1                    </td></tr>\n</tbody>\n</table>",
      "text/plain": [
       "#          site    sum_volume    avg_volume    lat                 lon                  site_desc                                           region    dow    hour    month    day    prediction_kmeans    predicted_kmean_map\n",
       "0          1       310           21            0.93111144404308    -0.1092158628991373  abbey st @ marlborough st (luas)                    CCITY     2      1       1        1      2                    0\n",
       "1          2       1574          126           0.9312153784000364  -0.1090251158651868  amiens st @ seville pl                              CCITY     2      1       1        1      2                    0\n",
       "2          3       939           76            0.9311571367628972  -0.1090843523399995  amiens st @ talbot st                               CCITY     2      1       1        1      2                    0\n",
       "3          5       271           20            0.9312343326757128  -0.1098232025722463  ncr @ aughrim st                                    WCITY1    2      1       1        1      2                    0\n",
       "4          6       888           73            0.9308548631897444  -0.1089992849922573  baggot st bridge                                    SCITY     2      1       1        1      2                    0\n",
       "...        ...     ...           ...           ...                 ...                  ...                                                 ...       ...    ...     ...      ...    ...                  ...\n",
       "2,280,051  6373    54            4             0.9295175919168662  -0.1085857990391673  enniskerry rd @ fernhill park (belarmine)           IRE       3      23      4        30     0                    1\n",
       "2,280,052  6374    2             0             0.9286808985267526  -0.1066622542172519  bray new schools pedestrian crossing                IRE       3      23      4        30     0                    1\n",
       "2,280,053  6375    72            5             0.9300663775389     -0.1083082323469056  kilmacud road @ the childrens house primary school  IRE       3      23      4        30     0                    1\n",
       "2,280,054  6376    59            2             0.9292803842182276  -0.1071810707906997  cherrywood ave / cherrywood business park           IRE       3      23      4        30     0                    1\n",
       "2,280,055  6377    103           7             0.9292727222228117  -0.1071719950785893  cherrywood ave ped                                  IRE       3      23      4        30     0                    1"
      ]
     },
     "metadata": {},
     "execution_count": 28
    }
   ],
   "source": [
    "features = ['dow', 'hour']\n",
    "kmeans = vaex.ml.cluster.KMeans(features=features, n_clusters=3, max_iter=100, verbose=True, random_state=42)\n",
    "kmeans.fit(df)\n",
    "\n",
    "df_trans = kmeans.transform(df)\n",
    "\n",
    "df_trans['predicted_kmean_map'] = df_trans.prediction_kmeans.map(mapper={0: 1, 1: 2, 2: 0})\n",
    "df_trans"
   ]
  }
 ]
}